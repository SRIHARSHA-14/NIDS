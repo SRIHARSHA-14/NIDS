{
  "nbformat": 4,
  "nbformat_minor": 0,
  "metadata": {
    "colab": {
      "provenance": [],
      "gpuType": "T4"
    },
    "kernelspec": {
      "name": "python3",
      "display_name": "Python 3"
    },
    "language_info": {
      "name": "python"
    },
    "accelerator": "GPU"
  },
  "cells": [
    {
      "cell_type": "code",
      "execution_count": null,
      "metadata": {
        "colab": {
          "base_uri": "https://localhost:8080/"
        },
        "id": "2gxsfS6fv38x",
        "outputId": "32f5b856-f019-4cd3-cd13-493ee8cd9d42"
      },
      "outputs": [
        {
          "output_type": "stream",
          "name": "stdout",
          "text": [
            "Mounted at /content/drive\n"
          ]
        }
      ],
      "source": [
        "from google.colab import drive\n",
        "drive.mount('/content/drive')"
      ]
    },
    {
      "cell_type": "code",
      "source": [
        "import os\n",
        "for dirname, _, filenames in os.walk('/content/drive/MyDrive/CSE-CIC-IDS.csv'):\n",
        "    for filename in filenames:\n",
        "        print(os.path.join(dirname, filename))"
      ],
      "metadata": {
        "id": "3abImYCgwJ_A"
      },
      "execution_count": null,
      "outputs": []
    },
    {
      "cell_type": "code",
      "source": [
        "import pandas as pd\n",
        "data_train = pd.read_csv(\"/content/drive/MyDrive/CSE-CIC-IDS.csv\")  # Loading the dataset"
      ],
      "metadata": {
        "id": "AEFXvq2uwcqD"
      },
      "execution_count": null,
      "outputs": []
    },
    {
      "cell_type": "code",
      "source": [
        "data_train.head()"
      ],
      "metadata": {
        "colab": {
          "base_uri": "https://localhost:8080/",
          "height": 374
        },
        "id": "cC3V8pYNwkfM",
        "outputId": "c0815caa-b2a9-4609-d00d-5398a05c725c"
      },
      "execution_count": null,
      "outputs": [
        {
          "output_type": "execute_result",
          "data": {
            "text/plain": [
              "   Dst Port  Protocol            Timestamp  Flow Duration  Tot Fwd Pkts  \\\n",
              "0         0         0  14/02/2018 08:31:01      112641719             3   \n",
              "1         0         0  14/02/2018 08:33:50      112641466             3   \n",
              "2         0         0  14/02/2018 08:36:39      112638623             3   \n",
              "3        22         6  14/02/2018 08:40:13        6453966            15   \n",
              "4        22         6  14/02/2018 08:40:23        8804066            14   \n",
              "\n",
              "   Tot Bwd Pkts  TotLen Fwd Pkts  TotLen Bwd Pkts  Fwd Pkt Len Max  \\\n",
              "0             0                0                0                0   \n",
              "1             0                0                0                0   \n",
              "2             0                0                0                0   \n",
              "3            10             1239             2273              744   \n",
              "4            11             1143             2209              744   \n",
              "\n",
              "   Fwd Pkt Len Min  ...  Fwd Seg Size Min  Active Mean  Active Std  \\\n",
              "0                0  ...                 0          0.0         0.0   \n",
              "1                0  ...                 0          0.0         0.0   \n",
              "2                0  ...                 0          0.0         0.0   \n",
              "3                0  ...                32          0.0         0.0   \n",
              "4                0  ...                32          0.0         0.0   \n",
              "\n",
              "   Active Max  Active Min   Idle Mean    Idle Std  Idle Max  Idle Min   Label  \n",
              "0           0           0  56320859.5  139.300036  56320958  56320761  Benign  \n",
              "1           0           0  56320733.0  114.551299  56320814  56320652  Benign  \n",
              "2           0           0  56319311.5  301.934596  56319525  56319098  Benign  \n",
              "3           0           0         0.0    0.000000         0         0  Benign  \n",
              "4           0           0         0.0    0.000000         0         0  Benign  \n",
              "\n",
              "[5 rows x 80 columns]"
            ],
            "text/html": [
              "\n",
              "  <div id=\"df-e02769a0-0cd9-40d9-81e0-d9cd998c462e\" class=\"colab-df-container\">\n",
              "    <div>\n",
              "<style scoped>\n",
              "    .dataframe tbody tr th:only-of-type {\n",
              "        vertical-align: middle;\n",
              "    }\n",
              "\n",
              "    .dataframe tbody tr th {\n",
              "        vertical-align: top;\n",
              "    }\n",
              "\n",
              "    .dataframe thead th {\n",
              "        text-align: right;\n",
              "    }\n",
              "</style>\n",
              "<table border=\"1\" class=\"dataframe\">\n",
              "  <thead>\n",
              "    <tr style=\"text-align: right;\">\n",
              "      <th></th>\n",
              "      <th>Dst Port</th>\n",
              "      <th>Protocol</th>\n",
              "      <th>Timestamp</th>\n",
              "      <th>Flow Duration</th>\n",
              "      <th>Tot Fwd Pkts</th>\n",
              "      <th>Tot Bwd Pkts</th>\n",
              "      <th>TotLen Fwd Pkts</th>\n",
              "      <th>TotLen Bwd Pkts</th>\n",
              "      <th>Fwd Pkt Len Max</th>\n",
              "      <th>Fwd Pkt Len Min</th>\n",
              "      <th>...</th>\n",
              "      <th>Fwd Seg Size Min</th>\n",
              "      <th>Active Mean</th>\n",
              "      <th>Active Std</th>\n",
              "      <th>Active Max</th>\n",
              "      <th>Active Min</th>\n",
              "      <th>Idle Mean</th>\n",
              "      <th>Idle Std</th>\n",
              "      <th>Idle Max</th>\n",
              "      <th>Idle Min</th>\n",
              "      <th>Label</th>\n",
              "    </tr>\n",
              "  </thead>\n",
              "  <tbody>\n",
              "    <tr>\n",
              "      <th>0</th>\n",
              "      <td>0</td>\n",
              "      <td>0</td>\n",
              "      <td>14/02/2018 08:31:01</td>\n",
              "      <td>112641719</td>\n",
              "      <td>3</td>\n",
              "      <td>0</td>\n",
              "      <td>0</td>\n",
              "      <td>0</td>\n",
              "      <td>0</td>\n",
              "      <td>0</td>\n",
              "      <td>...</td>\n",
              "      <td>0</td>\n",
              "      <td>0.0</td>\n",
              "      <td>0.0</td>\n",
              "      <td>0</td>\n",
              "      <td>0</td>\n",
              "      <td>56320859.5</td>\n",
              "      <td>139.300036</td>\n",
              "      <td>56320958</td>\n",
              "      <td>56320761</td>\n",
              "      <td>Benign</td>\n",
              "    </tr>\n",
              "    <tr>\n",
              "      <th>1</th>\n",
              "      <td>0</td>\n",
              "      <td>0</td>\n",
              "      <td>14/02/2018 08:33:50</td>\n",
              "      <td>112641466</td>\n",
              "      <td>3</td>\n",
              "      <td>0</td>\n",
              "      <td>0</td>\n",
              "      <td>0</td>\n",
              "      <td>0</td>\n",
              "      <td>0</td>\n",
              "      <td>...</td>\n",
              "      <td>0</td>\n",
              "      <td>0.0</td>\n",
              "      <td>0.0</td>\n",
              "      <td>0</td>\n",
              "      <td>0</td>\n",
              "      <td>56320733.0</td>\n",
              "      <td>114.551299</td>\n",
              "      <td>56320814</td>\n",
              "      <td>56320652</td>\n",
              "      <td>Benign</td>\n",
              "    </tr>\n",
              "    <tr>\n",
              "      <th>2</th>\n",
              "      <td>0</td>\n",
              "      <td>0</td>\n",
              "      <td>14/02/2018 08:36:39</td>\n",
              "      <td>112638623</td>\n",
              "      <td>3</td>\n",
              "      <td>0</td>\n",
              "      <td>0</td>\n",
              "      <td>0</td>\n",
              "      <td>0</td>\n",
              "      <td>0</td>\n",
              "      <td>...</td>\n",
              "      <td>0</td>\n",
              "      <td>0.0</td>\n",
              "      <td>0.0</td>\n",
              "      <td>0</td>\n",
              "      <td>0</td>\n",
              "      <td>56319311.5</td>\n",
              "      <td>301.934596</td>\n",
              "      <td>56319525</td>\n",
              "      <td>56319098</td>\n",
              "      <td>Benign</td>\n",
              "    </tr>\n",
              "    <tr>\n",
              "      <th>3</th>\n",
              "      <td>22</td>\n",
              "      <td>6</td>\n",
              "      <td>14/02/2018 08:40:13</td>\n",
              "      <td>6453966</td>\n",
              "      <td>15</td>\n",
              "      <td>10</td>\n",
              "      <td>1239</td>\n",
              "      <td>2273</td>\n",
              "      <td>744</td>\n",
              "      <td>0</td>\n",
              "      <td>...</td>\n",
              "      <td>32</td>\n",
              "      <td>0.0</td>\n",
              "      <td>0.0</td>\n",
              "      <td>0</td>\n",
              "      <td>0</td>\n",
              "      <td>0.0</td>\n",
              "      <td>0.000000</td>\n",
              "      <td>0</td>\n",
              "      <td>0</td>\n",
              "      <td>Benign</td>\n",
              "    </tr>\n",
              "    <tr>\n",
              "      <th>4</th>\n",
              "      <td>22</td>\n",
              "      <td>6</td>\n",
              "      <td>14/02/2018 08:40:23</td>\n",
              "      <td>8804066</td>\n",
              "      <td>14</td>\n",
              "      <td>11</td>\n",
              "      <td>1143</td>\n",
              "      <td>2209</td>\n",
              "      <td>744</td>\n",
              "      <td>0</td>\n",
              "      <td>...</td>\n",
              "      <td>32</td>\n",
              "      <td>0.0</td>\n",
              "      <td>0.0</td>\n",
              "      <td>0</td>\n",
              "      <td>0</td>\n",
              "      <td>0.0</td>\n",
              "      <td>0.000000</td>\n",
              "      <td>0</td>\n",
              "      <td>0</td>\n",
              "      <td>Benign</td>\n",
              "    </tr>\n",
              "  </tbody>\n",
              "</table>\n",
              "<p>5 rows × 80 columns</p>\n",
              "</div>\n",
              "    <div class=\"colab-df-buttons\">\n",
              "\n",
              "  <div class=\"colab-df-container\">\n",
              "    <button class=\"colab-df-convert\" onclick=\"convertToInteractive('df-e02769a0-0cd9-40d9-81e0-d9cd998c462e')\"\n",
              "            title=\"Convert this dataframe to an interactive table.\"\n",
              "            style=\"display:none;\">\n",
              "\n",
              "  <svg xmlns=\"http://www.w3.org/2000/svg\" height=\"24px\" viewBox=\"0 -960 960 960\">\n",
              "    <path d=\"M120-120v-720h720v720H120Zm60-500h600v-160H180v160Zm220 220h160v-160H400v160Zm0 220h160v-160H400v160ZM180-400h160v-160H180v160Zm440 0h160v-160H620v160ZM180-180h160v-160H180v160Zm440 0h160v-160H620v160Z\"/>\n",
              "  </svg>\n",
              "    </button>\n",
              "\n",
              "  <style>\n",
              "    .colab-df-container {\n",
              "      display:flex;\n",
              "      gap: 12px;\n",
              "    }\n",
              "\n",
              "    .colab-df-convert {\n",
              "      background-color: #E8F0FE;\n",
              "      border: none;\n",
              "      border-radius: 50%;\n",
              "      cursor: pointer;\n",
              "      display: none;\n",
              "      fill: #1967D2;\n",
              "      height: 32px;\n",
              "      padding: 0 0 0 0;\n",
              "      width: 32px;\n",
              "    }\n",
              "\n",
              "    .colab-df-convert:hover {\n",
              "      background-color: #E2EBFA;\n",
              "      box-shadow: 0px 1px 2px rgba(60, 64, 67, 0.3), 0px 1px 3px 1px rgba(60, 64, 67, 0.15);\n",
              "      fill: #174EA6;\n",
              "    }\n",
              "\n",
              "    .colab-df-buttons div {\n",
              "      margin-bottom: 4px;\n",
              "    }\n",
              "\n",
              "    [theme=dark] .colab-df-convert {\n",
              "      background-color: #3B4455;\n",
              "      fill: #D2E3FC;\n",
              "    }\n",
              "\n",
              "    [theme=dark] .colab-df-convert:hover {\n",
              "      background-color: #434B5C;\n",
              "      box-shadow: 0px 1px 3px 1px rgba(0, 0, 0, 0.15);\n",
              "      filter: drop-shadow(0px 1px 2px rgba(0, 0, 0, 0.3));\n",
              "      fill: #FFFFFF;\n",
              "    }\n",
              "  </style>\n",
              "\n",
              "    <script>\n",
              "      const buttonEl =\n",
              "        document.querySelector('#df-e02769a0-0cd9-40d9-81e0-d9cd998c462e button.colab-df-convert');\n",
              "      buttonEl.style.display =\n",
              "        google.colab.kernel.accessAllowed ? 'block' : 'none';\n",
              "\n",
              "      async function convertToInteractive(key) {\n",
              "        const element = document.querySelector('#df-e02769a0-0cd9-40d9-81e0-d9cd998c462e');\n",
              "        const dataTable =\n",
              "          await google.colab.kernel.invokeFunction('convertToInteractive',\n",
              "                                                    [key], {});\n",
              "        if (!dataTable) return;\n",
              "\n",
              "        const docLinkHtml = 'Like what you see? Visit the ' +\n",
              "          '<a target=\"_blank\" href=https://colab.research.google.com/notebooks/data_table.ipynb>data table notebook</a>'\n",
              "          + ' to learn more about interactive tables.';\n",
              "        element.innerHTML = '';\n",
              "        dataTable['output_type'] = 'display_data';\n",
              "        await google.colab.output.renderOutput(dataTable, element);\n",
              "        const docLink = document.createElement('div');\n",
              "        docLink.innerHTML = docLinkHtml;\n",
              "        element.appendChild(docLink);\n",
              "      }\n",
              "    </script>\n",
              "  </div>\n",
              "\n",
              "\n",
              "<div id=\"df-b4a934a7-c4ee-4511-8db8-a3c0d9080cd3\">\n",
              "  <button class=\"colab-df-quickchart\" onclick=\"quickchart('df-b4a934a7-c4ee-4511-8db8-a3c0d9080cd3')\"\n",
              "            title=\"Suggest charts.\"\n",
              "            style=\"display:none;\">\n",
              "\n",
              "<svg xmlns=\"http://www.w3.org/2000/svg\" height=\"24px\"viewBox=\"0 0 24 24\"\n",
              "     width=\"24px\">\n",
              "    <g>\n",
              "        <path d=\"M19 3H5c-1.1 0-2 .9-2 2v14c0 1.1.9 2 2 2h14c1.1 0 2-.9 2-2V5c0-1.1-.9-2-2-2zM9 17H7v-7h2v7zm4 0h-2V7h2v10zm4 0h-2v-4h2v4z\"/>\n",
              "    </g>\n",
              "</svg>\n",
              "  </button>\n",
              "\n",
              "<style>\n",
              "  .colab-df-quickchart {\n",
              "      --bg-color: #E8F0FE;\n",
              "      --fill-color: #1967D2;\n",
              "      --hover-bg-color: #E2EBFA;\n",
              "      --hover-fill-color: #174EA6;\n",
              "      --disabled-fill-color: #AAA;\n",
              "      --disabled-bg-color: #DDD;\n",
              "  }\n",
              "\n",
              "  [theme=dark] .colab-df-quickchart {\n",
              "      --bg-color: #3B4455;\n",
              "      --fill-color: #D2E3FC;\n",
              "      --hover-bg-color: #434B5C;\n",
              "      --hover-fill-color: #FFFFFF;\n",
              "      --disabled-bg-color: #3B4455;\n",
              "      --disabled-fill-color: #666;\n",
              "  }\n",
              "\n",
              "  .colab-df-quickchart {\n",
              "    background-color: var(--bg-color);\n",
              "    border: none;\n",
              "    border-radius: 50%;\n",
              "    cursor: pointer;\n",
              "    display: none;\n",
              "    fill: var(--fill-color);\n",
              "    height: 32px;\n",
              "    padding: 0;\n",
              "    width: 32px;\n",
              "  }\n",
              "\n",
              "  .colab-df-quickchart:hover {\n",
              "    background-color: var(--hover-bg-color);\n",
              "    box-shadow: 0 1px 2px rgba(60, 64, 67, 0.3), 0 1px 3px 1px rgba(60, 64, 67, 0.15);\n",
              "    fill: var(--button-hover-fill-color);\n",
              "  }\n",
              "\n",
              "  .colab-df-quickchart-complete:disabled,\n",
              "  .colab-df-quickchart-complete:disabled:hover {\n",
              "    background-color: var(--disabled-bg-color);\n",
              "    fill: var(--disabled-fill-color);\n",
              "    box-shadow: none;\n",
              "  }\n",
              "\n",
              "  .colab-df-spinner {\n",
              "    border: 2px solid var(--fill-color);\n",
              "    border-color: transparent;\n",
              "    border-bottom-color: var(--fill-color);\n",
              "    animation:\n",
              "      spin 1s steps(1) infinite;\n",
              "  }\n",
              "\n",
              "  @keyframes spin {\n",
              "    0% {\n",
              "      border-color: transparent;\n",
              "      border-bottom-color: var(--fill-color);\n",
              "      border-left-color: var(--fill-color);\n",
              "    }\n",
              "    20% {\n",
              "      border-color: transparent;\n",
              "      border-left-color: var(--fill-color);\n",
              "      border-top-color: var(--fill-color);\n",
              "    }\n",
              "    30% {\n",
              "      border-color: transparent;\n",
              "      border-left-color: var(--fill-color);\n",
              "      border-top-color: var(--fill-color);\n",
              "      border-right-color: var(--fill-color);\n",
              "    }\n",
              "    40% {\n",
              "      border-color: transparent;\n",
              "      border-right-color: var(--fill-color);\n",
              "      border-top-color: var(--fill-color);\n",
              "    }\n",
              "    60% {\n",
              "      border-color: transparent;\n",
              "      border-right-color: var(--fill-color);\n",
              "    }\n",
              "    80% {\n",
              "      border-color: transparent;\n",
              "      border-right-color: var(--fill-color);\n",
              "      border-bottom-color: var(--fill-color);\n",
              "    }\n",
              "    90% {\n",
              "      border-color: transparent;\n",
              "      border-bottom-color: var(--fill-color);\n",
              "    }\n",
              "  }\n",
              "</style>\n",
              "\n",
              "  <script>\n",
              "    async function quickchart(key) {\n",
              "      const quickchartButtonEl =\n",
              "        document.querySelector('#' + key + ' button');\n",
              "      quickchartButtonEl.disabled = true;  // To prevent multiple clicks.\n",
              "      quickchartButtonEl.classList.add('colab-df-spinner');\n",
              "      try {\n",
              "        const charts = await google.colab.kernel.invokeFunction(\n",
              "            'suggestCharts', [key], {});\n",
              "      } catch (error) {\n",
              "        console.error('Error during call to suggestCharts:', error);\n",
              "      }\n",
              "      quickchartButtonEl.classList.remove('colab-df-spinner');\n",
              "      quickchartButtonEl.classList.add('colab-df-quickchart-complete');\n",
              "    }\n",
              "    (() => {\n",
              "      let quickchartButtonEl =\n",
              "        document.querySelector('#df-b4a934a7-c4ee-4511-8db8-a3c0d9080cd3 button');\n",
              "      quickchartButtonEl.style.display =\n",
              "        google.colab.kernel.accessAllowed ? 'block' : 'none';\n",
              "    })();\n",
              "  </script>\n",
              "</div>\n",
              "    </div>\n",
              "  </div>\n"
            ]
          },
          "metadata": {},
          "execution_count": 4
        }
      ]
    },
    {
      "cell_type": "code",
      "source": [
        "data_train.shape"
      ],
      "metadata": {
        "colab": {
          "base_uri": "https://localhost:8080/"
        },
        "id": "dhktjSspwquA",
        "outputId": "f40494b6-68fb-4618-bb36-005cb868dca8"
      },
      "execution_count": null,
      "outputs": [
        {
          "output_type": "execute_result",
          "data": {
            "text/plain": [
              "(1048575, 80)"
            ]
          },
          "metadata": {},
          "execution_count": 5
        }
      ]
    },
    {
      "cell_type": "code",
      "source": [
        "data_train.info()"
      ],
      "metadata": {
        "colab": {
          "base_uri": "https://localhost:8080/"
        },
        "id": "aHu-_NN8wt-N",
        "outputId": "8dd1c08f-c6d6-417b-cb50-bbc45bdc5cbc"
      },
      "execution_count": null,
      "outputs": [
        {
          "output_type": "stream",
          "name": "stdout",
          "text": [
            "<class 'pandas.core.frame.DataFrame'>\n",
            "RangeIndex: 1048575 entries, 0 to 1048574\n",
            "Data columns (total 80 columns):\n",
            " #   Column             Non-Null Count    Dtype  \n",
            "---  ------             --------------    -----  \n",
            " 0   Dst Port           1048575 non-null  int64  \n",
            " 1   Protocol           1048575 non-null  int64  \n",
            " 2   Timestamp          1048575 non-null  object \n",
            " 3   Flow Duration      1048575 non-null  int64  \n",
            " 4   Tot Fwd Pkts       1048575 non-null  int64  \n",
            " 5   Tot Bwd Pkts       1048575 non-null  int64  \n",
            " 6   TotLen Fwd Pkts    1048575 non-null  int64  \n",
            " 7   TotLen Bwd Pkts    1048575 non-null  int64  \n",
            " 8   Fwd Pkt Len Max    1048575 non-null  int64  \n",
            " 9   Fwd Pkt Len Min    1048575 non-null  int64  \n",
            " 10  Fwd Pkt Len Mean   1048575 non-null  float64\n",
            " 11  Fwd Pkt Len Std    1048575 non-null  float64\n",
            " 12  Bwd Pkt Len Max    1048575 non-null  int64  \n",
            " 13  Bwd Pkt Len Min    1048575 non-null  int64  \n",
            " 14  Bwd Pkt Len Mean   1048575 non-null  float64\n",
            " 15  Bwd Pkt Len Std    1048575 non-null  float64\n",
            " 16  Flow Byts/s        1046298 non-null  float64\n",
            " 17  Flow Pkts/s        1048575 non-null  float64\n",
            " 18  Flow IAT Mean      1048575 non-null  float64\n",
            " 19  Flow IAT Std       1048575 non-null  float64\n",
            " 20  Flow IAT Max       1048575 non-null  int64  \n",
            " 21  Flow IAT Min       1048575 non-null  int64  \n",
            " 22  Fwd IAT Tot        1048575 non-null  int64  \n",
            " 23  Fwd IAT Mean       1048575 non-null  float64\n",
            " 24  Fwd IAT Std        1048575 non-null  float64\n",
            " 25  Fwd IAT Max        1048575 non-null  int64  \n",
            " 26  Fwd IAT Min        1048575 non-null  int64  \n",
            " 27  Bwd IAT Tot        1048575 non-null  int64  \n",
            " 28  Bwd IAT Mean       1048575 non-null  float64\n",
            " 29  Bwd IAT Std        1048575 non-null  float64\n",
            " 30  Bwd IAT Max        1048575 non-null  int64  \n",
            " 31  Bwd IAT Min        1048575 non-null  int64  \n",
            " 32  Fwd PSH Flags      1048575 non-null  int64  \n",
            " 33  Bwd PSH Flags      1048575 non-null  int64  \n",
            " 34  Fwd URG Flags      1048575 non-null  int64  \n",
            " 35  Bwd URG Flags      1048575 non-null  int64  \n",
            " 36  Fwd Header Len     1048575 non-null  int64  \n",
            " 37  Bwd Header Len     1048575 non-null  int64  \n",
            " 38  Fwd Pkts/s         1048575 non-null  float64\n",
            " 39  Bwd Pkts/s         1048575 non-null  float64\n",
            " 40  Pkt Len Min        1048575 non-null  int64  \n",
            " 41  Pkt Len Max        1048575 non-null  int64  \n",
            " 42  Pkt Len Mean       1048575 non-null  float64\n",
            " 43  Pkt Len Std        1048575 non-null  float64\n",
            " 44  Pkt Len Var        1048575 non-null  float64\n",
            " 45  FIN Flag Cnt       1048575 non-null  int64  \n",
            " 46  SYN Flag Cnt       1048575 non-null  int64  \n",
            " 47  RST Flag Cnt       1048575 non-null  int64  \n",
            " 48  PSH Flag Cnt       1048575 non-null  int64  \n",
            " 49  ACK Flag Cnt       1048575 non-null  int64  \n",
            " 50  URG Flag Cnt       1048575 non-null  int64  \n",
            " 51  CWE Flag Count     1048575 non-null  int64  \n",
            " 52  ECE Flag Cnt       1048575 non-null  int64  \n",
            " 53  Down/Up Ratio      1048575 non-null  int64  \n",
            " 54  Pkt Size Avg       1048575 non-null  float64\n",
            " 55  Fwd Seg Size Avg   1048575 non-null  float64\n",
            " 56  Bwd Seg Size Avg   1048575 non-null  float64\n",
            " 57  Fwd Byts/b Avg     1048575 non-null  int64  \n",
            " 58  Fwd Pkts/b Avg     1048575 non-null  int64  \n",
            " 59  Fwd Blk Rate Avg   1048575 non-null  int64  \n",
            " 60  Bwd Byts/b Avg     1048575 non-null  int64  \n",
            " 61  Bwd Pkts/b Avg     1048575 non-null  int64  \n",
            " 62  Bwd Blk Rate Avg   1048575 non-null  int64  \n",
            " 63  Subflow Fwd Pkts   1048575 non-null  int64  \n",
            " 64  Subflow Fwd Byts   1048575 non-null  int64  \n",
            " 65  Subflow Bwd Pkts   1048575 non-null  int64  \n",
            " 66  Subflow Bwd Byts   1048575 non-null  int64  \n",
            " 67  Init Fwd Win Byts  1048575 non-null  int64  \n",
            " 68  Init Bwd Win Byts  1048575 non-null  int64  \n",
            " 69  Fwd Act Data Pkts  1048575 non-null  int64  \n",
            " 70  Fwd Seg Size Min   1048575 non-null  int64  \n",
            " 71  Active Mean        1048575 non-null  float64\n",
            " 72  Active Std         1048575 non-null  float64\n",
            " 73  Active Max         1048575 non-null  int64  \n",
            " 74  Active Min         1048575 non-null  int64  \n",
            " 75  Idle Mean          1048575 non-null  float64\n",
            " 76  Idle Std           1048575 non-null  float64\n",
            " 77  Idle Max           1048575 non-null  int64  \n",
            " 78  Idle Min           1048575 non-null  int64  \n",
            " 79  Label              1048575 non-null  object \n",
            "dtypes: float64(24), int64(54), object(2)\n",
            "memory usage: 640.0+ MB\n"
          ]
        }
      ]
    },
    {
      "cell_type": "code",
      "source": [
        "data_train.describe()"
      ],
      "metadata": {
        "colab": {
          "base_uri": "https://localhost:8080/",
          "height": 367
        },
        "id": "vJAn9zDfwxXG",
        "outputId": "d6b2e8df-4fae-42bc-b823-e9331ab0d23a"
      },
      "execution_count": null,
      "outputs": [
        {
          "output_type": "execute_result",
          "data": {
            "text/plain": [
              "           Dst Port      Protocol  Flow Duration  Tot Fwd Pkts  Tot Bwd Pkts  \\\n",
              "count  1.048575e+06  1.048575e+06   1.048575e+06  1.048575e+06  1.048575e+06   \n",
              "mean   4.876262e+03  8.107557e+00   6.255555e+06  6.206622e+00  7.211191e+00   \n",
              "std    1.444344e+04  4.460625e+00   1.260291e+09  4.447851e+01  1.048682e+02   \n",
              "min    0.000000e+00  0.000000e+00  -9.190110e+11  1.000000e+00  0.000000e+00   \n",
              "25%    2.200000e+01  6.000000e+00   7.000000e+00  1.000000e+00  1.000000e+00   \n",
              "50%    5.300000e+01  6.000000e+00   1.023000e+03  2.000000e+00  1.000000e+00   \n",
              "75%    4.430000e+02  6.000000e+00   4.066690e+05  7.000000e+00  6.000000e+00   \n",
              "max    6.553300e+04  1.700000e+01   1.200000e+08  5.115000e+03  9.198000e+03   \n",
              "\n",
              "       TotLen Fwd Pkts  TotLen Bwd Pkts  Fwd Pkt Len Max  Fwd Pkt Len Min  \\\n",
              "count     1.048575e+06     1.048575e+06     1.048575e+06     1.048575e+06   \n",
              "mean      4.479936e+02     4.521803e+03     1.745736e+02     8.389535e+00   \n",
              "std       1.573541e+04     1.515021e+05     2.876713e+02     1.948279e+01   \n",
              "min       0.000000e+00     0.000000e+00     0.000000e+00     0.000000e+00   \n",
              "25%       0.000000e+00     0.000000e+00     0.000000e+00     0.000000e+00   \n",
              "50%       3.600000e+01     5.500000e+01     3.400000e+01     0.000000e+00   \n",
              "75%       4.550000e+02     7.680000e+02     1.990000e+02     0.000000e+00   \n",
              "max       8.591554e+06     1.339773e+07     6.444000e+04     1.460000e+03   \n",
              "\n",
              "       Fwd Pkt Len Mean  ...  Fwd Act Data Pkts  Fwd Seg Size Min  \\\n",
              "count      1.048575e+06  ...       1.048575e+06      1.048575e+06   \n",
              "mean       3.879579e+01  ...       2.793536e+00      2.327970e+01   \n",
              "std        5.331882e+01  ...       5.557106e+00      1.106185e+01   \n",
              "min        0.000000e+00  ...       0.000000e+00      0.000000e+00   \n",
              "25%        0.000000e+00  ...       0.000000e+00      2.000000e+01   \n",
              "50%        2.566667e+01  ...       0.000000e+00      2.000000e+01   \n",
              "75%        5.550000e+01  ...       4.000000e+00      3.200000e+01   \n",
              "max        1.121703e+04  ...       1.031000e+03      4.800000e+01   \n",
              "\n",
              "        Active Mean    Active Std    Active Max    Active Min     Idle Mean  \\\n",
              "count  1.048575e+06  1.048575e+06  1.048575e+06  1.048575e+06  1.048575e+06   \n",
              "mean   5.152449e+04  2.136151e+04  8.789157e+04  3.995477e+04  3.101206e+06   \n",
              "std    5.815586e+05  2.186405e+05  7.395725e+05  5.602693e+05  5.414780e+08   \n",
              "min    0.000000e+00  0.000000e+00  0.000000e+00  0.000000e+00  0.000000e+00   \n",
              "25%    0.000000e+00  0.000000e+00  0.000000e+00  0.000000e+00  0.000000e+00   \n",
              "50%    0.000000e+00  0.000000e+00  0.000000e+00  0.000000e+00  0.000000e+00   \n",
              "75%    0.000000e+00  0.000000e+00  0.000000e+00  0.000000e+00  0.000000e+00   \n",
              "max    1.102401e+08  5.723446e+07  1.102401e+08  1.102401e+08  3.394503e+11   \n",
              "\n",
              "           Idle Std      Idle Max      Idle Min  \n",
              "count  1.048575e+06  1.048575e+06  1.048575e+06  \n",
              "mean   7.297218e+05  4.812391e+06  2.126920e+06  \n",
              "std    3.820031e+08  1.522117e+09  1.817013e+07  \n",
              "min    0.000000e+00  0.000000e+00  0.000000e+00  \n",
              "25%    0.000000e+00  0.000000e+00  0.000000e+00  \n",
              "50%    0.000000e+00  0.000000e+00  0.000000e+00  \n",
              "75%    0.000000e+00  0.000000e+00  0.000000e+00  \n",
              "max    2.432682e+11  9.797810e+11  1.260300e+10  \n",
              "\n",
              "[8 rows x 78 columns]"
            ],
            "text/html": [
              "\n",
              "  <div id=\"df-d9f2948f-1a92-43a7-9fdf-1a63a86dc909\" class=\"colab-df-container\">\n",
              "    <div>\n",
              "<style scoped>\n",
              "    .dataframe tbody tr th:only-of-type {\n",
              "        vertical-align: middle;\n",
              "    }\n",
              "\n",
              "    .dataframe tbody tr th {\n",
              "        vertical-align: top;\n",
              "    }\n",
              "\n",
              "    .dataframe thead th {\n",
              "        text-align: right;\n",
              "    }\n",
              "</style>\n",
              "<table border=\"1\" class=\"dataframe\">\n",
              "  <thead>\n",
              "    <tr style=\"text-align: right;\">\n",
              "      <th></th>\n",
              "      <th>Dst Port</th>\n",
              "      <th>Protocol</th>\n",
              "      <th>Flow Duration</th>\n",
              "      <th>Tot Fwd Pkts</th>\n",
              "      <th>Tot Bwd Pkts</th>\n",
              "      <th>TotLen Fwd Pkts</th>\n",
              "      <th>TotLen Bwd Pkts</th>\n",
              "      <th>Fwd Pkt Len Max</th>\n",
              "      <th>Fwd Pkt Len Min</th>\n",
              "      <th>Fwd Pkt Len Mean</th>\n",
              "      <th>...</th>\n",
              "      <th>Fwd Act Data Pkts</th>\n",
              "      <th>Fwd Seg Size Min</th>\n",
              "      <th>Active Mean</th>\n",
              "      <th>Active Std</th>\n",
              "      <th>Active Max</th>\n",
              "      <th>Active Min</th>\n",
              "      <th>Idle Mean</th>\n",
              "      <th>Idle Std</th>\n",
              "      <th>Idle Max</th>\n",
              "      <th>Idle Min</th>\n",
              "    </tr>\n",
              "  </thead>\n",
              "  <tbody>\n",
              "    <tr>\n",
              "      <th>count</th>\n",
              "      <td>1.048575e+06</td>\n",
              "      <td>1.048575e+06</td>\n",
              "      <td>1.048575e+06</td>\n",
              "      <td>1.048575e+06</td>\n",
              "      <td>1.048575e+06</td>\n",
              "      <td>1.048575e+06</td>\n",
              "      <td>1.048575e+06</td>\n",
              "      <td>1.048575e+06</td>\n",
              "      <td>1.048575e+06</td>\n",
              "      <td>1.048575e+06</td>\n",
              "      <td>...</td>\n",
              "      <td>1.048575e+06</td>\n",
              "      <td>1.048575e+06</td>\n",
              "      <td>1.048575e+06</td>\n",
              "      <td>1.048575e+06</td>\n",
              "      <td>1.048575e+06</td>\n",
              "      <td>1.048575e+06</td>\n",
              "      <td>1.048575e+06</td>\n",
              "      <td>1.048575e+06</td>\n",
              "      <td>1.048575e+06</td>\n",
              "      <td>1.048575e+06</td>\n",
              "    </tr>\n",
              "    <tr>\n",
              "      <th>mean</th>\n",
              "      <td>4.876262e+03</td>\n",
              "      <td>8.107557e+00</td>\n",
              "      <td>6.255555e+06</td>\n",
              "      <td>6.206622e+00</td>\n",
              "      <td>7.211191e+00</td>\n",
              "      <td>4.479936e+02</td>\n",
              "      <td>4.521803e+03</td>\n",
              "      <td>1.745736e+02</td>\n",
              "      <td>8.389535e+00</td>\n",
              "      <td>3.879579e+01</td>\n",
              "      <td>...</td>\n",
              "      <td>2.793536e+00</td>\n",
              "      <td>2.327970e+01</td>\n",
              "      <td>5.152449e+04</td>\n",
              "      <td>2.136151e+04</td>\n",
              "      <td>8.789157e+04</td>\n",
              "      <td>3.995477e+04</td>\n",
              "      <td>3.101206e+06</td>\n",
              "      <td>7.297218e+05</td>\n",
              "      <td>4.812391e+06</td>\n",
              "      <td>2.126920e+06</td>\n",
              "    </tr>\n",
              "    <tr>\n",
              "      <th>std</th>\n",
              "      <td>1.444344e+04</td>\n",
              "      <td>4.460625e+00</td>\n",
              "      <td>1.260291e+09</td>\n",
              "      <td>4.447851e+01</td>\n",
              "      <td>1.048682e+02</td>\n",
              "      <td>1.573541e+04</td>\n",
              "      <td>1.515021e+05</td>\n",
              "      <td>2.876713e+02</td>\n",
              "      <td>1.948279e+01</td>\n",
              "      <td>5.331882e+01</td>\n",
              "      <td>...</td>\n",
              "      <td>5.557106e+00</td>\n",
              "      <td>1.106185e+01</td>\n",
              "      <td>5.815586e+05</td>\n",
              "      <td>2.186405e+05</td>\n",
              "      <td>7.395725e+05</td>\n",
              "      <td>5.602693e+05</td>\n",
              "      <td>5.414780e+08</td>\n",
              "      <td>3.820031e+08</td>\n",
              "      <td>1.522117e+09</td>\n",
              "      <td>1.817013e+07</td>\n",
              "    </tr>\n",
              "    <tr>\n",
              "      <th>min</th>\n",
              "      <td>0.000000e+00</td>\n",
              "      <td>0.000000e+00</td>\n",
              "      <td>-9.190110e+11</td>\n",
              "      <td>1.000000e+00</td>\n",
              "      <td>0.000000e+00</td>\n",
              "      <td>0.000000e+00</td>\n",
              "      <td>0.000000e+00</td>\n",
              "      <td>0.000000e+00</td>\n",
              "      <td>0.000000e+00</td>\n",
              "      <td>0.000000e+00</td>\n",
              "      <td>...</td>\n",
              "      <td>0.000000e+00</td>\n",
              "      <td>0.000000e+00</td>\n",
              "      <td>0.000000e+00</td>\n",
              "      <td>0.000000e+00</td>\n",
              "      <td>0.000000e+00</td>\n",
              "      <td>0.000000e+00</td>\n",
              "      <td>0.000000e+00</td>\n",
              "      <td>0.000000e+00</td>\n",
              "      <td>0.000000e+00</td>\n",
              "      <td>0.000000e+00</td>\n",
              "    </tr>\n",
              "    <tr>\n",
              "      <th>25%</th>\n",
              "      <td>2.200000e+01</td>\n",
              "      <td>6.000000e+00</td>\n",
              "      <td>7.000000e+00</td>\n",
              "      <td>1.000000e+00</td>\n",
              "      <td>1.000000e+00</td>\n",
              "      <td>0.000000e+00</td>\n",
              "      <td>0.000000e+00</td>\n",
              "      <td>0.000000e+00</td>\n",
              "      <td>0.000000e+00</td>\n",
              "      <td>0.000000e+00</td>\n",
              "      <td>...</td>\n",
              "      <td>0.000000e+00</td>\n",
              "      <td>2.000000e+01</td>\n",
              "      <td>0.000000e+00</td>\n",
              "      <td>0.000000e+00</td>\n",
              "      <td>0.000000e+00</td>\n",
              "      <td>0.000000e+00</td>\n",
              "      <td>0.000000e+00</td>\n",
              "      <td>0.000000e+00</td>\n",
              "      <td>0.000000e+00</td>\n",
              "      <td>0.000000e+00</td>\n",
              "    </tr>\n",
              "    <tr>\n",
              "      <th>50%</th>\n",
              "      <td>5.300000e+01</td>\n",
              "      <td>6.000000e+00</td>\n",
              "      <td>1.023000e+03</td>\n",
              "      <td>2.000000e+00</td>\n",
              "      <td>1.000000e+00</td>\n",
              "      <td>3.600000e+01</td>\n",
              "      <td>5.500000e+01</td>\n",
              "      <td>3.400000e+01</td>\n",
              "      <td>0.000000e+00</td>\n",
              "      <td>2.566667e+01</td>\n",
              "      <td>...</td>\n",
              "      <td>0.000000e+00</td>\n",
              "      <td>2.000000e+01</td>\n",
              "      <td>0.000000e+00</td>\n",
              "      <td>0.000000e+00</td>\n",
              "      <td>0.000000e+00</td>\n",
              "      <td>0.000000e+00</td>\n",
              "      <td>0.000000e+00</td>\n",
              "      <td>0.000000e+00</td>\n",
              "      <td>0.000000e+00</td>\n",
              "      <td>0.000000e+00</td>\n",
              "    </tr>\n",
              "    <tr>\n",
              "      <th>75%</th>\n",
              "      <td>4.430000e+02</td>\n",
              "      <td>6.000000e+00</td>\n",
              "      <td>4.066690e+05</td>\n",
              "      <td>7.000000e+00</td>\n",
              "      <td>6.000000e+00</td>\n",
              "      <td>4.550000e+02</td>\n",
              "      <td>7.680000e+02</td>\n",
              "      <td>1.990000e+02</td>\n",
              "      <td>0.000000e+00</td>\n",
              "      <td>5.550000e+01</td>\n",
              "      <td>...</td>\n",
              "      <td>4.000000e+00</td>\n",
              "      <td>3.200000e+01</td>\n",
              "      <td>0.000000e+00</td>\n",
              "      <td>0.000000e+00</td>\n",
              "      <td>0.000000e+00</td>\n",
              "      <td>0.000000e+00</td>\n",
              "      <td>0.000000e+00</td>\n",
              "      <td>0.000000e+00</td>\n",
              "      <td>0.000000e+00</td>\n",
              "      <td>0.000000e+00</td>\n",
              "    </tr>\n",
              "    <tr>\n",
              "      <th>max</th>\n",
              "      <td>6.553300e+04</td>\n",
              "      <td>1.700000e+01</td>\n",
              "      <td>1.200000e+08</td>\n",
              "      <td>5.115000e+03</td>\n",
              "      <td>9.198000e+03</td>\n",
              "      <td>8.591554e+06</td>\n",
              "      <td>1.339773e+07</td>\n",
              "      <td>6.444000e+04</td>\n",
              "      <td>1.460000e+03</td>\n",
              "      <td>1.121703e+04</td>\n",
              "      <td>...</td>\n",
              "      <td>1.031000e+03</td>\n",
              "      <td>4.800000e+01</td>\n",
              "      <td>1.102401e+08</td>\n",
              "      <td>5.723446e+07</td>\n",
              "      <td>1.102401e+08</td>\n",
              "      <td>1.102401e+08</td>\n",
              "      <td>3.394503e+11</td>\n",
              "      <td>2.432682e+11</td>\n",
              "      <td>9.797810e+11</td>\n",
              "      <td>1.260300e+10</td>\n",
              "    </tr>\n",
              "  </tbody>\n",
              "</table>\n",
              "<p>8 rows × 78 columns</p>\n",
              "</div>\n",
              "    <div class=\"colab-df-buttons\">\n",
              "\n",
              "  <div class=\"colab-df-container\">\n",
              "    <button class=\"colab-df-convert\" onclick=\"convertToInteractive('df-d9f2948f-1a92-43a7-9fdf-1a63a86dc909')\"\n",
              "            title=\"Convert this dataframe to an interactive table.\"\n",
              "            style=\"display:none;\">\n",
              "\n",
              "  <svg xmlns=\"http://www.w3.org/2000/svg\" height=\"24px\" viewBox=\"0 -960 960 960\">\n",
              "    <path d=\"M120-120v-720h720v720H120Zm60-500h600v-160H180v160Zm220 220h160v-160H400v160Zm0 220h160v-160H400v160ZM180-400h160v-160H180v160Zm440 0h160v-160H620v160ZM180-180h160v-160H180v160Zm440 0h160v-160H620v160Z\"/>\n",
              "  </svg>\n",
              "    </button>\n",
              "\n",
              "  <style>\n",
              "    .colab-df-container {\n",
              "      display:flex;\n",
              "      gap: 12px;\n",
              "    }\n",
              "\n",
              "    .colab-df-convert {\n",
              "      background-color: #E8F0FE;\n",
              "      border: none;\n",
              "      border-radius: 50%;\n",
              "      cursor: pointer;\n",
              "      display: none;\n",
              "      fill: #1967D2;\n",
              "      height: 32px;\n",
              "      padding: 0 0 0 0;\n",
              "      width: 32px;\n",
              "    }\n",
              "\n",
              "    .colab-df-convert:hover {\n",
              "      background-color: #E2EBFA;\n",
              "      box-shadow: 0px 1px 2px rgba(60, 64, 67, 0.3), 0px 1px 3px 1px rgba(60, 64, 67, 0.15);\n",
              "      fill: #174EA6;\n",
              "    }\n",
              "\n",
              "    .colab-df-buttons div {\n",
              "      margin-bottom: 4px;\n",
              "    }\n",
              "\n",
              "    [theme=dark] .colab-df-convert {\n",
              "      background-color: #3B4455;\n",
              "      fill: #D2E3FC;\n",
              "    }\n",
              "\n",
              "    [theme=dark] .colab-df-convert:hover {\n",
              "      background-color: #434B5C;\n",
              "      box-shadow: 0px 1px 3px 1px rgba(0, 0, 0, 0.15);\n",
              "      filter: drop-shadow(0px 1px 2px rgba(0, 0, 0, 0.3));\n",
              "      fill: #FFFFFF;\n",
              "    }\n",
              "  </style>\n",
              "\n",
              "    <script>\n",
              "      const buttonEl =\n",
              "        document.querySelector('#df-d9f2948f-1a92-43a7-9fdf-1a63a86dc909 button.colab-df-convert');\n",
              "      buttonEl.style.display =\n",
              "        google.colab.kernel.accessAllowed ? 'block' : 'none';\n",
              "\n",
              "      async function convertToInteractive(key) {\n",
              "        const element = document.querySelector('#df-d9f2948f-1a92-43a7-9fdf-1a63a86dc909');\n",
              "        const dataTable =\n",
              "          await google.colab.kernel.invokeFunction('convertToInteractive',\n",
              "                                                    [key], {});\n",
              "        if (!dataTable) return;\n",
              "\n",
              "        const docLinkHtml = 'Like what you see? Visit the ' +\n",
              "          '<a target=\"_blank\" href=https://colab.research.google.com/notebooks/data_table.ipynb>data table notebook</a>'\n",
              "          + ' to learn more about interactive tables.';\n",
              "        element.innerHTML = '';\n",
              "        dataTable['output_type'] = 'display_data';\n",
              "        await google.colab.output.renderOutput(dataTable, element);\n",
              "        const docLink = document.createElement('div');\n",
              "        docLink.innerHTML = docLinkHtml;\n",
              "        element.appendChild(docLink);\n",
              "      }\n",
              "    </script>\n",
              "  </div>\n",
              "\n",
              "\n",
              "<div id=\"df-04736e68-b038-4347-90d1-18b01290cf48\">\n",
              "  <button class=\"colab-df-quickchart\" onclick=\"quickchart('df-04736e68-b038-4347-90d1-18b01290cf48')\"\n",
              "            title=\"Suggest charts.\"\n",
              "            style=\"display:none;\">\n",
              "\n",
              "<svg xmlns=\"http://www.w3.org/2000/svg\" height=\"24px\"viewBox=\"0 0 24 24\"\n",
              "     width=\"24px\">\n",
              "    <g>\n",
              "        <path d=\"M19 3H5c-1.1 0-2 .9-2 2v14c0 1.1.9 2 2 2h14c1.1 0 2-.9 2-2V5c0-1.1-.9-2-2-2zM9 17H7v-7h2v7zm4 0h-2V7h2v10zm4 0h-2v-4h2v4z\"/>\n",
              "    </g>\n",
              "</svg>\n",
              "  </button>\n",
              "\n",
              "<style>\n",
              "  .colab-df-quickchart {\n",
              "      --bg-color: #E8F0FE;\n",
              "      --fill-color: #1967D2;\n",
              "      --hover-bg-color: #E2EBFA;\n",
              "      --hover-fill-color: #174EA6;\n",
              "      --disabled-fill-color: #AAA;\n",
              "      --disabled-bg-color: #DDD;\n",
              "  }\n",
              "\n",
              "  [theme=dark] .colab-df-quickchart {\n",
              "      --bg-color: #3B4455;\n",
              "      --fill-color: #D2E3FC;\n",
              "      --hover-bg-color: #434B5C;\n",
              "      --hover-fill-color: #FFFFFF;\n",
              "      --disabled-bg-color: #3B4455;\n",
              "      --disabled-fill-color: #666;\n",
              "  }\n",
              "\n",
              "  .colab-df-quickchart {\n",
              "    background-color: var(--bg-color);\n",
              "    border: none;\n",
              "    border-radius: 50%;\n",
              "    cursor: pointer;\n",
              "    display: none;\n",
              "    fill: var(--fill-color);\n",
              "    height: 32px;\n",
              "    padding: 0;\n",
              "    width: 32px;\n",
              "  }\n",
              "\n",
              "  .colab-df-quickchart:hover {\n",
              "    background-color: var(--hover-bg-color);\n",
              "    box-shadow: 0 1px 2px rgba(60, 64, 67, 0.3), 0 1px 3px 1px rgba(60, 64, 67, 0.15);\n",
              "    fill: var(--button-hover-fill-color);\n",
              "  }\n",
              "\n",
              "  .colab-df-quickchart-complete:disabled,\n",
              "  .colab-df-quickchart-complete:disabled:hover {\n",
              "    background-color: var(--disabled-bg-color);\n",
              "    fill: var(--disabled-fill-color);\n",
              "    box-shadow: none;\n",
              "  }\n",
              "\n",
              "  .colab-df-spinner {\n",
              "    border: 2px solid var(--fill-color);\n",
              "    border-color: transparent;\n",
              "    border-bottom-color: var(--fill-color);\n",
              "    animation:\n",
              "      spin 1s steps(1) infinite;\n",
              "  }\n",
              "\n",
              "  @keyframes spin {\n",
              "    0% {\n",
              "      border-color: transparent;\n",
              "      border-bottom-color: var(--fill-color);\n",
              "      border-left-color: var(--fill-color);\n",
              "    }\n",
              "    20% {\n",
              "      border-color: transparent;\n",
              "      border-left-color: var(--fill-color);\n",
              "      border-top-color: var(--fill-color);\n",
              "    }\n",
              "    30% {\n",
              "      border-color: transparent;\n",
              "      border-left-color: var(--fill-color);\n",
              "      border-top-color: var(--fill-color);\n",
              "      border-right-color: var(--fill-color);\n",
              "    }\n",
              "    40% {\n",
              "      border-color: transparent;\n",
              "      border-right-color: var(--fill-color);\n",
              "      border-top-color: var(--fill-color);\n",
              "    }\n",
              "    60% {\n",
              "      border-color: transparent;\n",
              "      border-right-color: var(--fill-color);\n",
              "    }\n",
              "    80% {\n",
              "      border-color: transparent;\n",
              "      border-right-color: var(--fill-color);\n",
              "      border-bottom-color: var(--fill-color);\n",
              "    }\n",
              "    90% {\n",
              "      border-color: transparent;\n",
              "      border-bottom-color: var(--fill-color);\n",
              "    }\n",
              "  }\n",
              "</style>\n",
              "\n",
              "  <script>\n",
              "    async function quickchart(key) {\n",
              "      const quickchartButtonEl =\n",
              "        document.querySelector('#' + key + ' button');\n",
              "      quickchartButtonEl.disabled = true;  // To prevent multiple clicks.\n",
              "      quickchartButtonEl.classList.add('colab-df-spinner');\n",
              "      try {\n",
              "        const charts = await google.colab.kernel.invokeFunction(\n",
              "            'suggestCharts', [key], {});\n",
              "      } catch (error) {\n",
              "        console.error('Error during call to suggestCharts:', error);\n",
              "      }\n",
              "      quickchartButtonEl.classList.remove('colab-df-spinner');\n",
              "      quickchartButtonEl.classList.add('colab-df-quickchart-complete');\n",
              "    }\n",
              "    (() => {\n",
              "      let quickchartButtonEl =\n",
              "        document.querySelector('#df-04736e68-b038-4347-90d1-18b01290cf48 button');\n",
              "      quickchartButtonEl.style.display =\n",
              "        google.colab.kernel.accessAllowed ? 'block' : 'none';\n",
              "    })();\n",
              "  </script>\n",
              "</div>\n",
              "    </div>\n",
              "  </div>\n"
            ]
          },
          "metadata": {},
          "execution_count": 7
        }
      ]
    },
    {
      "cell_type": "markdown",
      "source": [
        "Datapreprocessing"
      ],
      "metadata": {
        "id": "4bflk9G4w1QH"
      }
    },
    {
      "cell_type": "code",
      "source": [
        "from sklearn.preprocessing import StandardScaler"
      ],
      "metadata": {
        "id": "0xHyV0Ctw4JP"
      },
      "execution_count": null,
      "outputs": []
    },
    {
      "cell_type": "code",
      "source": [
        "import pandas as pd\n",
        "\n",
        "# Assuming you have a DataFrame named 'data' containing the data\n",
        "# Replace 'data' below with the actual DataFrame name if different.\n",
        "\n",
        "cols_to_norm = ['Dst Port', 'Protocol', 'Flow Duration', 'Tot Fwd Pkts', 'Tot Bwd Pkts', 'TotLen Fwd Pkts', 'TotLen Bwd Pkts', 'Fwd Pkt Len Max', 'Fwd Pkt Len Min', 'Fwd Pkt Len Mean', 'Fwd Pkt Len Std', 'Bwd Pkt Len Max', 'Bwd Pkt Len Min', 'Bwd Pkt Len Mean', 'Bwd Pkt Len Std', 'Flow Byts/s', 'Flow Pkts/s', 'Flow IAT Mean', 'Flow IAT Std', 'Flow IAT Max', 'Flow IAT Min', 'Fwd IAT Tot', 'Fwd IAT Mean', 'Fwd IAT Std', 'Fwd IAT Max', 'Fwd IAT Min', 'Bwd IAT Tot', 'Bwd IAT Mean', 'Bwd IAT Std', 'Bwd IAT Max', 'Bwd IAT Min', 'Fwd PSH Flags', 'Bwd PSH Flags', 'Fwd URG Flags', 'Bwd URG Flags', 'Fwd Header Len', 'Bwd Header Len', 'Fwd Pkts/s', 'Bwd Pkts/s', 'Pkt Len Min', 'Pkt Len Max', 'Pkt Len Mean', 'Pkt Len Std', 'Pkt Len Var', 'FIN Flag Cnt', 'SYN Flag Cnt', 'RST Flag Cnt', 'PSH Flag Cnt', 'ACK Flag Cnt', 'URG Flag Cnt', 'CWE Flag Count', 'ECE Flag Cnt', 'Down/Up Ratio', 'Pkt Size Avg', 'Fwd Seg Size Avg', 'Bwd Seg Size Avg', 'Fwd Byts/b Avg', 'Fwd Pkts/b Avg', 'Fwd Blk Rate Avg', 'Bwd Byts/b Avg', 'Bwd Pkts/b Avg', 'Bwd Blk Rate Avg', 'Subflow Fwd Pkts', 'Subflow Fwd Byts', 'Subflow Bwd Pkts', 'Subflow Bwd Byts', 'Init Fwd Win Byts', 'Init Bwd Win Byts', 'Fwd Act Data Pkts', 'Fwd Seg Size Min', 'Active Mean', 'Active Std', 'Active Max', 'Active Min', 'Idle Mean', 'Idle Std', 'Idle Max', 'Idle Min']\n",
        "\n",
        "\n"
      ],
      "metadata": {
        "id": "-q9psqvmxI3D"
      },
      "execution_count": null,
      "outputs": []
    },
    {
      "cell_type": "code",
      "source": [
        "import numpy as np\n",
        "def dropInfinateNull(data_train):\n",
        "    print (data_train.shape)\n",
        "\n",
        "    # replace infinity value as null value\n",
        "    data_train = data_train.replace([\"Infinity\", \"infinity\"], np.inf)\n",
        "    data_train = data_train.replace([np.inf,-np.inf], np.nan)\n",
        "\n",
        "    # drop all null values\n",
        "    data_train.dropna(inplace=True)\n",
        "\n",
        "    print(data_train.shape)\n",
        "\n",
        "    return data_train\n"
      ],
      "metadata": {
        "id": "srfxmNeOxM-W"
      },
      "execution_count": null,
      "outputs": []
    },
    {
      "cell_type": "code",
      "source": [
        "data_train = dropInfinateNull(data_train)"
      ],
      "metadata": {
        "colab": {
          "base_uri": "https://localhost:8080/"
        },
        "id": "sGqW9KMf5_cA",
        "outputId": "2c003dde-58df-4268-940d-12282a899443"
      },
      "execution_count": null,
      "outputs": [
        {
          "output_type": "stream",
          "name": "stdout",
          "text": [
            "(1048575, 80)\n",
            "(1044751, 80)\n"
          ]
        }
      ]
    },
    {
      "cell_type": "code",
      "source": [
        "import seaborn as sns\n",
        "import matplotlib.pyplot as plt\n",
        "corr_df = data_train[cols_to_norm].corr(method='pearson')\n",
        "fig, ax = plt.subplots(figsize=(12,12))\n",
        "sns.heatmap(corr_df)"
      ],
      "metadata": {
        "colab": {
          "base_uri": "https://localhost:8080/",
          "height": 1000
        },
        "id": "xkJWfFc3xSFg",
        "outputId": "dcf73367-23fd-403e-f4ad-fd75c6ed174b"
      },
      "execution_count": null,
      "outputs": [
        {
          "output_type": "execute_result",
          "data": {
            "text/plain": [
              "<Axes: >"
            ]
          },
          "metadata": {},
          "execution_count": 12
        },
        {
          "output_type": "display_data",
          "data": {
            "text/plain": [
              "<Figure size 1200x1200 with 2 Axes>"
            ],
            "image/png": "[encoded data removed]"
          },
          "metadata": {}
        }
      ]
    },
    {
      "cell_type": "code",
      "source": [
        "pd.set_option('display.max_column',None)\n",
        "corr_df"
      ],
      "metadata": {
        "colab": {
          "base_uri": "https://localhost:8080/",
          "height": 582
        },
        "id": "Z1fBfsoexcKg",
        "outputId": "d8086617-2125-435d-d5cc-0cfbc01453a9"
      },
      "execution_count": null,
      "outputs": [
        {
          "output_type": "execute_result",
          "data": {
            "text/plain": [
              "               Dst Port  Protocol  Flow Duration  Tot Fwd Pkts  Tot Bwd Pkts  \\\n",
              "Dst Port       1.000000 -0.147153      -0.001178     -0.027352     -0.018615   \n",
              "Protocol      -0.147153  1.000000      -0.000744     -0.054119     -0.027316   \n",
              "Flow Duration -0.001178 -0.000744       1.000000     -0.004349      0.002154   \n",
              "Tot Fwd Pkts  -0.027352 -0.054119      -0.004349      1.000000      0.884433   \n",
              "Tot Bwd Pkts  -0.018615 -0.027316       0.002154      0.884433      1.000000   \n",
              "...                 ...       ...            ...           ...           ...   \n",
              "Active Min     0.002241 -0.030976       0.002391      0.072072      0.081156   \n",
              "Idle Mean     -0.001351 -0.005858      -0.741625      0.012643      0.001243   \n",
              "Idle Std      -0.000574 -0.003159      -0.733106      0.011366     -0.000005   \n",
              "Idle Max      -0.000838 -0.004070      -0.727972      0.011824      0.000388   \n",
              "Idle Min      -0.023484 -0.083430      -0.670786      0.048498      0.038120   \n",
              "\n",
              "               TotLen Fwd Pkts  TotLen Bwd Pkts  Fwd Pkt Len Max  \\\n",
              "Dst Port             -0.006654        -0.008990        -0.132134   \n",
              "Protocol             -0.011885        -0.013764        -0.216499   \n",
              "Flow Duration         0.000314         0.001708         0.005049   \n",
              "Tot Fwd Pkts          0.059285         0.876126         0.157517   \n",
              "Tot Bwd Pkts          0.061197         0.996833         0.091050   \n",
              "...                        ...              ...              ...   \n",
              "Active Min            0.007010         0.074960         0.059642   \n",
              "Idle Mean             0.000074         0.001126         0.000436   \n",
              "Idle Std             -0.000032         0.000040        -0.000862   \n",
              "Idle Max             -0.000002         0.000384        -0.000476   \n",
              "Idle Min              0.003276         0.033158         0.038956   \n",
              "\n",
              "               Fwd Pkt Len Min  Fwd Pkt Len Mean  Fwd Pkt Len Std  \\\n",
              "Dst Port             -0.127880         -0.147796        -0.111705   \n",
              "Protocol              0.848327          0.040015        -0.279175   \n",
              "Flow Duration        -0.001784          0.003066         0.005201   \n",
              "Tot Fwd Pkts         -0.048002          0.087231         0.114659   \n",
              "Tot Bwd Pkts         -0.025041          0.041740         0.058432   \n",
              "...                        ...               ...              ...   \n",
              "Active Min           -0.024162          0.061510         0.067382   \n",
              "Idle Mean            -0.001795         -0.000537         0.000449   \n",
              "Idle Std             -0.000793         -0.001082        -0.000834   \n",
              "Idle Max             -0.001117         -0.000953        -0.000452   \n",
              "Idle Min             -0.030847          0.017066         0.038648   \n",
              "\n",
              "               Bwd Pkt Len Max  Bwd Pkt Len Min  Bwd Pkt Len Mean  \\\n",
              "Dst Port             -0.167294        -0.142283         -0.158094   \n",
              "Protocol             -0.219126         0.858121          0.035163   \n",
              "Flow Duration         0.008038        -0.002026          0.008342   \n",
              "Tot Fwd Pkts          0.172684        -0.035085          0.251980   \n",
              "Tot Bwd Pkts          0.108193        -0.012144          0.232536   \n",
              "...                        ...              ...               ...   \n",
              "Active Min            0.071315        -0.030153          0.093212   \n",
              "Idle Mean             0.002893        -0.002280          0.004019   \n",
              "Idle Std             -0.000809        -0.000830         -0.000579   \n",
              "Idle Max              0.000355        -0.001300          0.000865   \n",
              "Idle Min              0.112365        -0.044645          0.140328   \n",
              "\n",
              "               Bwd Pkt Len Std  Flow Byts/s  Flow Pkts/s  Flow IAT Mean  \\\n",
              "Dst Port             -0.144763     0.114621    -0.049313      -0.000722   \n",
              "Protocol             -0.283800    -0.004753    -0.227602      -0.002297   \n",
              "Flow Duration         0.008256    -0.000309    -0.002414       0.553626   \n",
              "Tot Fwd Pkts          0.114639    -0.004113    -0.056042      -0.000364   \n",
              "Tot Bwd Pkts          0.055443    -0.002433    -0.029059      -0.000231   \n",
              "...                        ...          ...          ...            ...   \n",
              "Active Min            0.062649    -0.004400    -0.034681       0.000259   \n",
              "Idle Mean             0.003253    -0.000358    -0.002785      -0.020641   \n",
              "Idle Std             -0.000671    -0.000120    -0.000929      -0.020277   \n",
              "Idle Max              0.000566    -0.000198    -0.001538      -0.019903   \n",
              "Idle Min              0.119176    -0.007303    -0.056928      -0.018335   \n",
              "\n",
              "               Flow IAT Std  Flow IAT Max  Flow IAT Min  Fwd IAT Tot  \\\n",
              "Dst Port          -0.000882     -0.001098      0.000465    -0.001111   \n",
              "Protocol          -0.003917     -0.004355      0.002719    -0.000631   \n",
              "Flow Duration     -0.889704     -0.670327      0.886281     0.999997   \n",
              "Tot Fwd Pkts       0.010417      0.011744     -0.010458    -0.004509   \n",
              "Tot Bwd Pkts      -0.000059      0.000373      0.000064     0.001918   \n",
              "...                     ...           ...           ...          ...   \n",
              "Active Min         0.000327      0.000904      0.000079     0.001815   \n",
              "Idle Mean          0.939192      0.994143     -0.949267    -0.741637   \n",
              "Idle Std           0.938359      0.994675     -0.948280    -0.733109   \n",
              "Idle Max           0.937714      0.994764     -0.947459    -0.727978   \n",
              "Idle Min           0.727901      0.750042     -0.735499    -0.671062   \n",
              "\n",
              "               Fwd IAT Mean  Fwd IAT Std  Fwd IAT Max  Fwd IAT Min  \\\n",
              "Dst Port          -0.000896    -0.000903    -0.001056     0.000457   \n",
              "Protocol          -0.002539    -0.003954    -0.004288     0.002712   \n",
              "Flow Duration      0.553662    -0.889694    -0.670331     0.886282   \n",
              "Tot Fwd Pkts      -0.000225     0.010484     0.011626    -0.010459   \n",
              "Tot Bwd Pkts      -0.000163    -0.000015     0.000194     0.000063   \n",
              "...                     ...          ...          ...          ...   \n",
              "Active Min         0.000234     0.000286     0.000640     0.000086   \n",
              "Idle Mean         -0.020625     0.939193     0.994137    -0.949266   \n",
              "Idle Std          -0.020277     0.938358     0.994676    -0.948280   \n",
              "Idle Max          -0.019897     0.937714     0.994762    -0.947459   \n",
              "Idle Min          -0.017853     0.727994     0.749839    -0.735452   \n",
              "\n",
              "               Bwd IAT Tot  Bwd IAT Mean  Bwd IAT Std  Bwd IAT Max  \\\n",
              "Dst Port         -0.074949     -0.058206    -0.065948    -0.062462   \n",
              "Protocol         -0.120558     -0.091971    -0.106256    -0.102253   \n",
              "Flow Duration     0.018274      0.012165     0.013859     0.013760   \n",
              "Tot Fwd Pkts      0.146117      0.030479     0.051717     0.115313   \n",
              "Tot Bwd Pkts      0.117607      0.011496     0.028366     0.103980   \n",
              "...                    ...           ...          ...          ...   \n",
              "Active Min        0.096705      0.065753     0.107050     0.163447   \n",
              "Idle Mean         0.010006      0.007975     0.012053     0.013252   \n",
              "Idle Std          0.000164      0.000105     0.000443     0.000735   \n",
              "Idle Max          0.003388      0.002691     0.004192     0.004684   \n",
              "Idle Min          0.296305      0.237504     0.356148     0.387653   \n",
              "\n",
              "               Bwd IAT Min  Fwd PSH Flags  Bwd PSH Flags  Fwd URG Flags  \\\n",
              "Dst Port         -0.011928       0.167757            NaN            NaN   \n",
              "Protocol         -0.018838      -0.076166            NaN            NaN   \n",
              "Flow Duration     0.002289       0.000418            NaN            NaN   \n",
              "Tot Fwd Pkts     -0.001671       0.032684            NaN            NaN   \n",
              "Tot Bwd Pkts     -0.001570       0.032779            NaN            NaN   \n",
              "...                    ...            ...            ...            ...   \n",
              "Active Min        0.013085       0.004681            NaN            NaN   \n",
              "Idle Mean         0.002785       0.000567            NaN            NaN   \n",
              "Idle Std          0.000024      -0.000225            NaN            NaN   \n",
              "Idle Max          0.000952       0.000036            NaN            NaN   \n",
              "Idle Min          0.082718       0.023617            NaN            NaN   \n",
              "\n",
              "               Bwd URG Flags  Fwd Header Len  Bwd Header Len  Fwd Pkts/s  \\\n",
              "Dst Port                 NaN       -0.031745       -0.022680    0.033464   \n",
              "Protocol                 NaN       -0.064065       -0.036821   -0.215236   \n",
              "Flow Duration            NaN        0.002376        0.002236   -0.002284   \n",
              "Tot Fwd Pkts             NaN        0.986772        0.886948   -0.052356   \n",
              "Tot Bwd Pkts             NaN        0.885061        0.999282   -0.027729   \n",
              "...                      ...             ...             ...         ...   \n",
              "Active Min               NaN        0.066798        0.080570   -0.032813   \n",
              "Idle Mean                NaN        0.000990        0.001203   -0.002635   \n",
              "Idle Std                 NaN       -0.000132       -0.000029   -0.000879   \n",
              "Idle Max                 NaN        0.000215        0.000358   -0.001455   \n",
              "Idle Min                 NaN        0.034215        0.037548   -0.053862   \n",
              "\n",
              "               Bwd Pkts/s  Pkt Len Min  Pkt Len Max  Pkt Len Mean  \\\n",
              "Dst Port        -0.140560    -0.136282    -0.159510     -0.150158   \n",
              "Protocol        -0.221602     0.874613    -0.218333      0.009995   \n",
              "Flow Duration   -0.002349    -0.001837     0.008089      0.008270   \n",
              "Tot Fwd Pkts    -0.055305    -0.049284     0.176734      0.275540   \n",
              "Tot Bwd Pkts    -0.028006    -0.025637     0.114017      0.268406   \n",
              "...                   ...          ...          ...           ...   \n",
              "Active Min      -0.033748    -0.024944     0.072004      0.110532   \n",
              "Idle Mean       -0.002710    -0.001838     0.002905      0.003861   \n",
              "Idle Std        -0.000904    -0.000811    -0.000806     -0.000624   \n",
              "Idle Max        -0.001496    -0.001143     0.000362      0.000772   \n",
              "Idle Min        -0.055397    -0.031611     0.112615      0.137261   \n",
              "\n",
              "               Pkt Len Std  Pkt Len Var  FIN Flag Cnt  SYN Flag Cnt  \\\n",
              "Dst Port         -0.151384    -0.063680      0.094204      0.167757   \n",
              "Protocol         -0.191832    -0.117324     -0.027030     -0.076166   \n",
              "Flow Duration     0.009050     0.005850     -0.000277      0.000418   \n",
              "Tot Fwd Pkts      0.192890     0.151100     -0.005881      0.032684   \n",
              "Tot Bwd Pkts      0.136677     0.129135     -0.003515      0.032779   \n",
              "...                    ...          ...           ...           ...   \n",
              "Active Min        0.083566     0.056284     -0.003895      0.004681   \n",
              "Idle Mean         0.003694     0.003032     -0.000321      0.000567   \n",
              "Idle Std         -0.000701    -0.000166     -0.000109     -0.000225   \n",
              "Idle Max          0.000679     0.000842     -0.000178      0.000036   \n",
              "Idle Min          0.133675     0.097561     -0.006501      0.023617   \n",
              "\n",
              "               RST Flag Cnt  PSH Flag Cnt  ACK Flag Cnt  URG Flag Cnt  \\\n",
              "Dst Port          -0.018872     -0.296872      0.474245      0.205694   \n",
              "Protocol          -0.096344     -0.500187     -0.281504     -0.176174   \n",
              "Flow Duration     -0.000399      0.003950      0.000259     -0.001787   \n",
              "Tot Fwd Pkts       0.013779      0.080984     -0.040473     -0.043357   \n",
              "Tot Bwd Pkts       0.000887      0.041345     -0.018745     -0.022109   \n",
              "...                     ...           ...           ...           ...   \n",
              "Active Min         0.031750      0.042767     -0.026863     -0.019277   \n",
              "Idle Mean         -0.001030     -0.000979     -0.002101     -0.002100   \n",
              "Idle Std          -0.000360     -0.001644     -0.001084     -0.000687   \n",
              "Idle Max          -0.000590     -0.001469     -0.001405     -0.001158   \n",
              "Idle Min          -0.020223      0.019809     -0.031972     -0.043051   \n",
              "\n",
              "               CWE Flag Count  ECE Flag Cnt  Down/Up Ratio  Pkt Size Avg  \\\n",
              "Dst Port                  NaN     -0.018880      -0.191899     -0.163309   \n",
              "Protocol                  NaN     -0.096343       0.270818      0.103687   \n",
              "Flow Duration             NaN     -0.000399      -0.000568      0.007839   \n",
              "Tot Fwd Pkts              NaN      0.013780       0.009220      0.259670   \n",
              "Tot Bwd Pkts              NaN      0.000887       0.119622      0.254545   \n",
              "...                       ...           ...            ...           ...   \n",
              "Active Min                NaN      0.031751       0.078259      0.103742   \n",
              "Idle Mean                 NaN     -0.001030      -0.003057      0.003471   \n",
              "Idle Std                  NaN     -0.000360      -0.001882     -0.000736   \n",
              "Idle Max                  NaN     -0.000590      -0.002345      0.000572   \n",
              "Idle Min                  NaN     -0.020222      -0.034633      0.128711   \n",
              "\n",
              "               Fwd Seg Size Avg  Bwd Seg Size Avg  Fwd Byts/b Avg  \\\n",
              "Dst Port              -0.147796         -0.158094             NaN   \n",
              "Protocol               0.040015          0.035163             NaN   \n",
              "Flow Duration          0.003066          0.008342             NaN   \n",
              "Tot Fwd Pkts           0.087231          0.251980             NaN   \n",
              "Tot Bwd Pkts           0.041740          0.232536             NaN   \n",
              "...                         ...               ...             ...   \n",
              "Active Min             0.061510          0.093212             NaN   \n",
              "Idle Mean             -0.000537          0.004019             NaN   \n",
              "Idle Std              -0.001082         -0.000579             NaN   \n",
              "Idle Max              -0.000953          0.000865             NaN   \n",
              "Idle Min               0.017066          0.140328             NaN   \n",
              "\n",
              "               Fwd Pkts/b Avg  Fwd Blk Rate Avg  Bwd Byts/b Avg  \\\n",
              "Dst Port                  NaN               NaN             NaN   \n",
              "Protocol                  NaN               NaN             NaN   \n",
              "Flow Duration             NaN               NaN             NaN   \n",
              "Tot Fwd Pkts              NaN               NaN             NaN   \n",
              "Tot Bwd Pkts              NaN               NaN             NaN   \n",
              "...                       ...               ...             ...   \n",
              "Active Min                NaN               NaN             NaN   \n",
              "Idle Mean                 NaN               NaN             NaN   \n",
              "Idle Std                  NaN               NaN             NaN   \n",
              "Idle Max                  NaN               NaN             NaN   \n",
              "Idle Min                  NaN               NaN             NaN   \n",
              "\n",
              "               Bwd Pkts/b Avg  Bwd Blk Rate Avg  Subflow Fwd Pkts  \\\n",
              "Dst Port                  NaN               NaN         -0.027352   \n",
              "Protocol                  NaN               NaN         -0.054119   \n",
              "Flow Duration             NaN               NaN         -0.004349   \n",
              "Tot Fwd Pkts              NaN               NaN          1.000000   \n",
              "Tot Bwd Pkts              NaN               NaN          0.884433   \n",
              "...                       ...               ...               ...   \n",
              "Active Min                NaN               NaN          0.072072   \n",
              "Idle Mean                 NaN               NaN          0.012643   \n",
              "Idle Std                  NaN               NaN          0.011366   \n",
              "Idle Max                  NaN               NaN          0.011824   \n",
              "Idle Min                  NaN               NaN          0.048498   \n",
              "\n",
              "               Subflow Fwd Byts  Subflow Bwd Pkts  Subflow Bwd Byts  \\\n",
              "Dst Port              -0.006654         -0.018615         -0.008990   \n",
              "Protocol              -0.011885         -0.027316         -0.013764   \n",
              "Flow Duration          0.000314          0.002154          0.001708   \n",
              "Tot Fwd Pkts           0.059285          0.884433          0.876126   \n",
              "Tot Bwd Pkts           0.061197          1.000000          0.996833   \n",
              "...                         ...               ...               ...   \n",
              "Active Min             0.007010          0.081156          0.074960   \n",
              "Idle Mean              0.000074          0.001243          0.001126   \n",
              "Idle Std              -0.000032         -0.000005          0.000040   \n",
              "Idle Max              -0.000002          0.000388          0.000384   \n",
              "Idle Min               0.003276          0.038120          0.033158   \n",
              "\n",
              "               Init Fwd Win Byts  Init Bwd Win Byts  Fwd Act Data Pkts  \\\n",
              "Dst Port               -0.141578          -0.006818          -0.129102   \n",
              "Protocol               -0.385374          -0.160606          -0.216760   \n",
              "Flow Duration          -0.000285          -0.000209           0.006735   \n",
              "Tot Fwd Pkts            0.041112           0.022371           0.254295   \n",
              "Tot Bwd Pkts            0.014554           0.004314           0.174973   \n",
              "...                          ...                ...                ...   \n",
              "Active Min             -0.009208           0.031186           0.069104   \n",
              "Idle Mean              -0.002100          -0.001506           0.001703   \n",
              "Idle Std               -0.001427          -0.000616          -0.000591   \n",
              "Idle Max               -0.001640          -0.000912           0.000107   \n",
              "Idle Min               -0.021560          -0.027380           0.069216   \n",
              "\n",
              "               Fwd Seg Size Min  Active Mean  Active Std  Active Max  \\\n",
              "Dst Port              -0.098390    -0.003521   -0.028517   -0.017615   \n",
              "Protocol              -0.642491    -0.040180   -0.050076   -0.056304   \n",
              "Flow Duration          0.000478     0.003738    0.007166    0.006717   \n",
              "Tot Fwd Pkts           0.009306     0.090417    0.097486    0.122775   \n",
              "Tot Bwd Pkts           0.001160     0.096731    0.084772    0.120667   \n",
              "...                         ...          ...         ...         ...   \n",
              "Active Min            -0.021223     0.972357    0.034525    0.774537   \n",
              "Idle Mean             -0.006354     0.003386    0.004001    0.003868   \n",
              "Idle Std              -0.003626     0.000501    0.000623    0.000511   \n",
              "Idle Max              -0.004554     0.001260    0.001478    0.001407   \n",
              "Idle Min              -0.084678     0.094552    0.110511    0.108390   \n",
              "\n",
              "               Active Min  Idle Mean  Idle Std  Idle Max  Idle Min  \n",
              "Dst Port         0.002241  -0.001351 -0.000574 -0.000838 -0.023484  \n",
              "Protocol        -0.030976  -0.005858 -0.003159 -0.004070 -0.083430  \n",
              "Flow Duration    0.002391  -0.741625 -0.733106 -0.727972 -0.670786  \n",
              "Tot Fwd Pkts     0.072072   0.012643  0.011366  0.011824  0.048498  \n",
              "Tot Bwd Pkts     0.081156   0.001243 -0.000005  0.000388  0.038120  \n",
              "...                   ...        ...       ...       ...       ...  \n",
              "Active Min       1.000000   0.002492  0.000341  0.000922  0.070142  \n",
              "Idle Mean        0.002492   1.000000  0.999595  0.999379  0.771021  \n",
              "Idle Std         0.000341   0.999595  1.000000  0.999910  0.754064  \n",
              "Idle Max         0.000922   0.999379  0.999910  1.000000  0.754090  \n",
              "Idle Min         0.070142   0.771021  0.754064  0.754090  1.000000  \n",
              "\n",
              "[78 rows x 78 columns]"
            ],
            "text/html": [
              "\n",
              "  <div id=\"df-25886890-c84f-45e9-a218-2a2af31c1838\" class=\"colab-df-container\">\n",
              "    <div>\n",
              "<style scoped>\n",
              "    .dataframe tbody tr th:only-of-type {\n",
              "        vertical-align: middle;\n",
              "    }\n",
              "\n",
              "    .dataframe tbody tr th {\n",
              "        vertical-align: top;\n",
              "    }\n",
              "\n",
              "    .dataframe thead th {\n",
              "        text-align: right;\n",
              "    }\n",
              "</style>\n",
              "<table border=\"1\" class=\"dataframe\">\n",
              "  <thead>\n",
              "    <tr style=\"text-align: right;\">\n",
              "      <th></th>\n",
              "      <th>Dst Port</th>\n",
              "      <th>Protocol</th>\n",
              "      <th>Flow Duration</th>\n",
              "      <th>Tot Fwd Pkts</th>\n",
              "      <th>Tot Bwd Pkts</th>\n",
              "      <th>TotLen Fwd Pkts</th>\n",
              "      <th>TotLen Bwd Pkts</th>\n",
              "      <th>Fwd Pkt Len Max</th>\n",
              "      <th>Fwd Pkt Len Min</th>\n",
              "      <th>Fwd Pkt Len Mean</th>\n",
              "      <th>Fwd Pkt Len Std</th>\n",
              "      <th>Bwd Pkt Len Max</th>\n",
              "      <th>Bwd Pkt Len Min</th>\n",
              "      <th>Bwd Pkt Len Mean</th>\n",
              "      <th>Bwd Pkt Len Std</th>\n",
              "      <th>Flow Byts/s</th>\n",
              "      <th>Flow Pkts/s</th>\n",
              "      <th>Flow IAT Mean</th>\n",
              "      <th>Flow IAT Std</th>\n",
              "      <th>Flow IAT Max</th>\n",
              "      <th>Flow IAT Min</th>\n",
              "      <th>Fwd IAT Tot</th>\n",
              "      <th>Fwd IAT Mean</th>\n",
              "      <th>Fwd IAT Std</th>\n",
              "      <th>Fwd IAT Max</th>\n",
              "      <th>Fwd IAT Min</th>\n",
              "      <th>Bwd IAT Tot</th>\n",
              "      <th>Bwd IAT Mean</th>\n",
              "      <th>Bwd IAT Std</th>\n",
              "      <th>Bwd IAT Max</th>\n",
              "      <th>Bwd IAT Min</th>\n",
              "      <th>Fwd PSH Flags</th>\n",
              "      <th>Bwd PSH Flags</th>\n",
              "      <th>Fwd URG Flags</th>\n",
              "      <th>Bwd URG Flags</th>\n",
              "      <th>Fwd Header Len</th>\n",
              "      <th>Bwd Header Len</th>\n",
              "      <th>Fwd Pkts/s</th>\n",
              "      <th>Bwd Pkts/s</th>\n",
              "      <th>Pkt Len Min</th>\n",
              "      <th>Pkt Len Max</th>\n",
              "      <th>Pkt Len Mean</th>\n",
              "      <th>Pkt Len Std</th>\n",
              "      <th>Pkt Len Var</th>\n",
              "      <th>FIN Flag Cnt</th>\n",
              "      <th>SYN Flag Cnt</th>\n",
              "      <th>RST Flag Cnt</th>\n",
              "      <th>PSH Flag Cnt</th>\n",
              "      <th>ACK Flag Cnt</th>\n",
              "      <th>URG Flag Cnt</th>\n",
              "      <th>CWE Flag Count</th>\n",
              "      <th>ECE Flag Cnt</th>\n",
              "      <th>Down/Up Ratio</th>\n",
              "      <th>Pkt Size Avg</th>\n",
              "      <th>Fwd Seg Size Avg</th>\n",
              "      <th>Bwd Seg Size Avg</th>\n",
              "      <th>Fwd Byts/b Avg</th>\n",
              "      <th>Fwd Pkts/b Avg</th>\n",
              "      <th>Fwd Blk Rate Avg</th>\n",
              "      <th>Bwd Byts/b Avg</th>\n",
              "      <th>Bwd Pkts/b Avg</th>\n",
              "      <th>Bwd Blk Rate Avg</th>\n",
              "      <th>Subflow Fwd Pkts</th>\n",
              "      <th>Subflow Fwd Byts</th>\n",
              "      <th>Subflow Bwd Pkts</th>\n",
              "      <th>Subflow Bwd Byts</th>\n",
              "      <th>Init Fwd Win Byts</th>\n",
              "      <th>Init Bwd Win Byts</th>\n",
              "      <th>Fwd Act Data Pkts</th>\n",
              "      <th>Fwd Seg Size Min</th>\n",
              "      <th>Active Mean</th>\n",
              "      <th>Active Std</th>\n",
              "      <th>Active Max</th>\n",
              "      <th>Active Min</th>\n",
              "      <th>Idle Mean</th>\n",
              "      <th>Idle Std</th>\n",
              "      <th>Idle Max</th>\n",
              "      <th>Idle Min</th>\n",
              "    </tr>\n",
              "  </thead>\n",
              "  <tbody>\n",
              "    <tr>\n",
              "      <th>Dst Port</th>\n",
              "      <td>1.000000</td>\n",
              "      <td>-0.147153</td>\n",
              "      <td>-0.001178</td>\n",
              "      <td>-0.027352</td>\n",
              "      <td>-0.018615</td>\n",
              "      <td>-0.006654</td>\n",
              "      <td>-0.008990</td>\n",
              "      <td>-0.132134</td>\n",
              "      <td>-0.127880</td>\n",
              "      <td>-0.147796</td>\n",
              "      <td>-0.111705</td>\n",
              "      <td>-0.167294</td>\n",
              "      <td>-0.142283</td>\n",
              "      <td>-0.158094</td>\n",
              "      <td>-0.144763</td>\n",
              "      <td>0.114621</td>\n",
              "      <td>-0.049313</td>\n",
              "      <td>-0.000722</td>\n",
              "      <td>-0.000882</td>\n",
              "      <td>-0.001098</td>\n",
              "      <td>0.000465</td>\n",
              "      <td>-0.001111</td>\n",
              "      <td>-0.000896</td>\n",
              "      <td>-0.000903</td>\n",
              "      <td>-0.001056</td>\n",
              "      <td>0.000457</td>\n",
              "      <td>-0.074949</td>\n",
              "      <td>-0.058206</td>\n",
              "      <td>-0.065948</td>\n",
              "      <td>-0.062462</td>\n",
              "      <td>-0.011928</td>\n",
              "      <td>0.167757</td>\n",
              "      <td>NaN</td>\n",
              "      <td>NaN</td>\n",
              "      <td>NaN</td>\n",
              "      <td>-0.031745</td>\n",
              "      <td>-0.022680</td>\n",
              "      <td>0.033464</td>\n",
              "      <td>-0.140560</td>\n",
              "      <td>-0.136282</td>\n",
              "      <td>-0.159510</td>\n",
              "      <td>-0.150158</td>\n",
              "      <td>-0.151384</td>\n",
              "      <td>-0.063680</td>\n",
              "      <td>0.094204</td>\n",
              "      <td>0.167757</td>\n",
              "      <td>-0.018872</td>\n",
              "      <td>-0.296872</td>\n",
              "      <td>0.474245</td>\n",
              "      <td>0.205694</td>\n",
              "      <td>NaN</td>\n",
              "      <td>-0.018880</td>\n",
              "      <td>-0.191899</td>\n",
              "      <td>-0.163309</td>\n",
              "      <td>-0.147796</td>\n",
              "      <td>-0.158094</td>\n",
              "      <td>NaN</td>\n",
              "      <td>NaN</td>\n",
              "      <td>NaN</td>\n",
              "      <td>NaN</td>\n",
              "      <td>NaN</td>\n",
              "      <td>NaN</td>\n",
              "      <td>-0.027352</td>\n",
              "      <td>-0.006654</td>\n",
              "      <td>-0.018615</td>\n",
              "      <td>-0.008990</td>\n",
              "      <td>-0.141578</td>\n",
              "      <td>-0.006818</td>\n",
              "      <td>-0.129102</td>\n",
              "      <td>-0.098390</td>\n",
              "      <td>-0.003521</td>\n",
              "      <td>-0.028517</td>\n",
              "      <td>-0.017615</td>\n",
              "      <td>0.002241</td>\n",
              "      <td>-0.001351</td>\n",
              "      <td>-0.000574</td>\n",
              "      <td>-0.000838</td>\n",
              "      <td>-0.023484</td>\n",
              "    </tr>\n",
              "    <tr>\n",
              "      <th>Protocol</th>\n",
              "      <td>-0.147153</td>\n",
              "      <td>1.000000</td>\n",
              "      <td>-0.000744</td>\n",
              "      <td>-0.054119</td>\n",
              "      <td>-0.027316</td>\n",
              "      <td>-0.011885</td>\n",
              "      <td>-0.013764</td>\n",
              "      <td>-0.216499</td>\n",
              "      <td>0.848327</td>\n",
              "      <td>0.040015</td>\n",
              "      <td>-0.279175</td>\n",
              "      <td>-0.219126</td>\n",
              "      <td>0.858121</td>\n",
              "      <td>0.035163</td>\n",
              "      <td>-0.283800</td>\n",
              "      <td>-0.004753</td>\n",
              "      <td>-0.227602</td>\n",
              "      <td>-0.002297</td>\n",
              "      <td>-0.003917</td>\n",
              "      <td>-0.004355</td>\n",
              "      <td>0.002719</td>\n",
              "      <td>-0.000631</td>\n",
              "      <td>-0.002539</td>\n",
              "      <td>-0.003954</td>\n",
              "      <td>-0.004288</td>\n",
              "      <td>0.002712</td>\n",
              "      <td>-0.120558</td>\n",
              "      <td>-0.091971</td>\n",
              "      <td>-0.106256</td>\n",
              "      <td>-0.102253</td>\n",
              "      <td>-0.018838</td>\n",
              "      <td>-0.076166</td>\n",
              "      <td>NaN</td>\n",
              "      <td>NaN</td>\n",
              "      <td>NaN</td>\n",
              "      <td>-0.064065</td>\n",
              "      <td>-0.036821</td>\n",
              "      <td>-0.215236</td>\n",
              "      <td>-0.221602</td>\n",
              "      <td>0.874613</td>\n",
              "      <td>-0.218333</td>\n",
              "      <td>0.009995</td>\n",
              "      <td>-0.191832</td>\n",
              "      <td>-0.117324</td>\n",
              "      <td>-0.027030</td>\n",
              "      <td>-0.076166</td>\n",
              "      <td>-0.096344</td>\n",
              "      <td>-0.500187</td>\n",
              "      <td>-0.281504</td>\n",
              "      <td>-0.176174</td>\n",
              "      <td>NaN</td>\n",
              "      <td>-0.096343</td>\n",
              "      <td>0.270818</td>\n",
              "      <td>0.103687</td>\n",
              "      <td>0.040015</td>\n",
              "      <td>0.035163</td>\n",
              "      <td>NaN</td>\n",
              "      <td>NaN</td>\n",
              "      <td>NaN</td>\n",
              "      <td>NaN</td>\n",
              "      <td>NaN</td>\n",
              "      <td>NaN</td>\n",
              "      <td>-0.054119</td>\n",
              "      <td>-0.011885</td>\n",
              "      <td>-0.027316</td>\n",
              "      <td>-0.013764</td>\n",
              "      <td>-0.385374</td>\n",
              "      <td>-0.160606</td>\n",
              "      <td>-0.216760</td>\n",
              "      <td>-0.642491</td>\n",
              "      <td>-0.040180</td>\n",
              "      <td>-0.050076</td>\n",
              "      <td>-0.056304</td>\n",
              "      <td>-0.030976</td>\n",
              "      <td>-0.005858</td>\n",
              "      <td>-0.003159</td>\n",
              "      <td>-0.004070</td>\n",
              "      <td>-0.083430</td>\n",
              "    </tr>\n",
              "    <tr>\n",
              "      <th>Flow Duration</th>\n",
              "      <td>-0.001178</td>\n",
              "      <td>-0.000744</td>\n",
              "      <td>1.000000</td>\n",
              "      <td>-0.004349</td>\n",
              "      <td>0.002154</td>\n",
              "      <td>0.000314</td>\n",
              "      <td>0.001708</td>\n",
              "      <td>0.005049</td>\n",
              "      <td>-0.001784</td>\n",
              "      <td>0.003066</td>\n",
              "      <td>0.005201</td>\n",
              "      <td>0.008038</td>\n",
              "      <td>-0.002026</td>\n",
              "      <td>0.008342</td>\n",
              "      <td>0.008256</td>\n",
              "      <td>-0.000309</td>\n",
              "      <td>-0.002414</td>\n",
              "      <td>0.553626</td>\n",
              "      <td>-0.889704</td>\n",
              "      <td>-0.670327</td>\n",
              "      <td>0.886281</td>\n",
              "      <td>0.999997</td>\n",
              "      <td>0.553662</td>\n",
              "      <td>-0.889694</td>\n",
              "      <td>-0.670331</td>\n",
              "      <td>0.886282</td>\n",
              "      <td>0.018274</td>\n",
              "      <td>0.012165</td>\n",
              "      <td>0.013859</td>\n",
              "      <td>0.013760</td>\n",
              "      <td>0.002289</td>\n",
              "      <td>0.000418</td>\n",
              "      <td>NaN</td>\n",
              "      <td>NaN</td>\n",
              "      <td>NaN</td>\n",
              "      <td>0.002376</td>\n",
              "      <td>0.002236</td>\n",
              "      <td>-0.002284</td>\n",
              "      <td>-0.002349</td>\n",
              "      <td>-0.001837</td>\n",
              "      <td>0.008089</td>\n",
              "      <td>0.008270</td>\n",
              "      <td>0.009050</td>\n",
              "      <td>0.005850</td>\n",
              "      <td>-0.000277</td>\n",
              "      <td>0.000418</td>\n",
              "      <td>-0.000399</td>\n",
              "      <td>0.003950</td>\n",
              "      <td>0.000259</td>\n",
              "      <td>-0.001787</td>\n",
              "      <td>NaN</td>\n",
              "      <td>-0.000399</td>\n",
              "      <td>-0.000568</td>\n",
              "      <td>0.007839</td>\n",
              "      <td>0.003066</td>\n",
              "      <td>0.008342</td>\n",
              "      <td>NaN</td>\n",
              "      <td>NaN</td>\n",
              "      <td>NaN</td>\n",
              "      <td>NaN</td>\n",
              "      <td>NaN</td>\n",
              "      <td>NaN</td>\n",
              "      <td>-0.004349</td>\n",
              "      <td>0.000314</td>\n",
              "      <td>0.002154</td>\n",
              "      <td>0.001708</td>\n",
              "      <td>-0.000285</td>\n",
              "      <td>-0.000209</td>\n",
              "      <td>0.006735</td>\n",
              "      <td>0.000478</td>\n",
              "      <td>0.003738</td>\n",
              "      <td>0.007166</td>\n",
              "      <td>0.006717</td>\n",
              "      <td>0.002391</td>\n",
              "      <td>-0.741625</td>\n",
              "      <td>-0.733106</td>\n",
              "      <td>-0.727972</td>\n",
              "      <td>-0.670786</td>\n",
              "    </tr>\n",
              "    <tr>\n",
              "      <th>Tot Fwd Pkts</th>\n",
              "      <td>-0.027352</td>\n",
              "      <td>-0.054119</td>\n",
              "      <td>-0.004349</td>\n",
              "      <td>1.000000</td>\n",
              "      <td>0.884433</td>\n",
              "      <td>0.059285</td>\n",
              "      <td>0.876126</td>\n",
              "      <td>0.157517</td>\n",
              "      <td>-0.048002</td>\n",
              "      <td>0.087231</td>\n",
              "      <td>0.114659</td>\n",
              "      <td>0.172684</td>\n",
              "      <td>-0.035085</td>\n",
              "      <td>0.251980</td>\n",
              "      <td>0.114639</td>\n",
              "      <td>-0.004113</td>\n",
              "      <td>-0.056042</td>\n",
              "      <td>-0.000364</td>\n",
              "      <td>0.010417</td>\n",
              "      <td>0.011744</td>\n",
              "      <td>-0.010458</td>\n",
              "      <td>-0.004509</td>\n",
              "      <td>-0.000225</td>\n",
              "      <td>0.010484</td>\n",
              "      <td>0.011626</td>\n",
              "      <td>-0.010459</td>\n",
              "      <td>0.146117</td>\n",
              "      <td>0.030479</td>\n",
              "      <td>0.051717</td>\n",
              "      <td>0.115313</td>\n",
              "      <td>-0.001671</td>\n",
              "      <td>0.032684</td>\n",
              "      <td>NaN</td>\n",
              "      <td>NaN</td>\n",
              "      <td>NaN</td>\n",
              "      <td>0.986772</td>\n",
              "      <td>0.886948</td>\n",
              "      <td>-0.052356</td>\n",
              "      <td>-0.055305</td>\n",
              "      <td>-0.049284</td>\n",
              "      <td>0.176734</td>\n",
              "      <td>0.275540</td>\n",
              "      <td>0.192890</td>\n",
              "      <td>0.151100</td>\n",
              "      <td>-0.005881</td>\n",
              "      <td>0.032684</td>\n",
              "      <td>0.013779</td>\n",
              "      <td>0.080984</td>\n",
              "      <td>-0.040473</td>\n",
              "      <td>-0.043357</td>\n",
              "      <td>NaN</td>\n",
              "      <td>0.013780</td>\n",
              "      <td>0.009220</td>\n",
              "      <td>0.259670</td>\n",
              "      <td>0.087231</td>\n",
              "      <td>0.251980</td>\n",
              "      <td>NaN</td>\n",
              "      <td>NaN</td>\n",
              "      <td>NaN</td>\n",
              "      <td>NaN</td>\n",
              "      <td>NaN</td>\n",
              "      <td>NaN</td>\n",
              "      <td>1.000000</td>\n",
              "      <td>0.059285</td>\n",
              "      <td>0.884433</td>\n",
              "      <td>0.876126</td>\n",
              "      <td>0.041112</td>\n",
              "      <td>0.022371</td>\n",
              "      <td>0.254295</td>\n",
              "      <td>0.009306</td>\n",
              "      <td>0.090417</td>\n",
              "      <td>0.097486</td>\n",
              "      <td>0.122775</td>\n",
              "      <td>0.072072</td>\n",
              "      <td>0.012643</td>\n",
              "      <td>0.011366</td>\n",
              "      <td>0.011824</td>\n",
              "      <td>0.048498</td>\n",
              "    </tr>\n",
              "    <tr>\n",
              "      <th>Tot Bwd Pkts</th>\n",
              "      <td>-0.018615</td>\n",
              "      <td>-0.027316</td>\n",
              "      <td>0.002154</td>\n",
              "      <td>0.884433</td>\n",
              "      <td>1.000000</td>\n",
              "      <td>0.061197</td>\n",
              "      <td>0.996833</td>\n",
              "      <td>0.091050</td>\n",
              "      <td>-0.025041</td>\n",
              "      <td>0.041740</td>\n",
              "      <td>0.058432</td>\n",
              "      <td>0.108193</td>\n",
              "      <td>-0.012144</td>\n",
              "      <td>0.232536</td>\n",
              "      <td>0.055443</td>\n",
              "      <td>-0.002433</td>\n",
              "      <td>-0.029059</td>\n",
              "      <td>-0.000231</td>\n",
              "      <td>-0.000059</td>\n",
              "      <td>0.000373</td>\n",
              "      <td>0.000064</td>\n",
              "      <td>0.001918</td>\n",
              "      <td>-0.000163</td>\n",
              "      <td>-0.000015</td>\n",
              "      <td>0.000194</td>\n",
              "      <td>0.000063</td>\n",
              "      <td>0.117607</td>\n",
              "      <td>0.011496</td>\n",
              "      <td>0.028366</td>\n",
              "      <td>0.103980</td>\n",
              "      <td>-0.001570</td>\n",
              "      <td>0.032779</td>\n",
              "      <td>NaN</td>\n",
              "      <td>NaN</td>\n",
              "      <td>NaN</td>\n",
              "      <td>0.885061</td>\n",
              "      <td>0.999282</td>\n",
              "      <td>-0.027729</td>\n",
              "      <td>-0.028006</td>\n",
              "      <td>-0.025637</td>\n",
              "      <td>0.114017</td>\n",
              "      <td>0.268406</td>\n",
              "      <td>0.136677</td>\n",
              "      <td>0.129135</td>\n",
              "      <td>-0.003515</td>\n",
              "      <td>0.032779</td>\n",
              "      <td>0.000887</td>\n",
              "      <td>0.041345</td>\n",
              "      <td>-0.018745</td>\n",
              "      <td>-0.022109</td>\n",
              "      <td>NaN</td>\n",
              "      <td>0.000887</td>\n",
              "      <td>0.119622</td>\n",
              "      <td>0.254545</td>\n",
              "      <td>0.041740</td>\n",
              "      <td>0.232536</td>\n",
              "      <td>NaN</td>\n",
              "      <td>NaN</td>\n",
              "      <td>NaN</td>\n",
              "      <td>NaN</td>\n",
              "      <td>NaN</td>\n",
              "      <td>NaN</td>\n",
              "      <td>0.884433</td>\n",
              "      <td>0.061197</td>\n",
              "      <td>1.000000</td>\n",
              "      <td>0.996833</td>\n",
              "      <td>0.014554</td>\n",
              "      <td>0.004314</td>\n",
              "      <td>0.174973</td>\n",
              "      <td>0.001160</td>\n",
              "      <td>0.096731</td>\n",
              "      <td>0.084772</td>\n",
              "      <td>0.120667</td>\n",
              "      <td>0.081156</td>\n",
              "      <td>0.001243</td>\n",
              "      <td>-0.000005</td>\n",
              "      <td>0.000388</td>\n",
              "      <td>0.038120</td>\n",
              "    </tr>\n",
              "    <tr>\n",
              "      <th>...</th>\n",
              "      <td>...</td>\n",
              "      <td>...</td>\n",
              "      <td>...</td>\n",
              "      <td>...</td>\n",
              "      <td>...</td>\n",
              "      <td>...</td>\n",
              "      <td>...</td>\n",
              "      <td>...</td>\n",
              "      <td>...</td>\n",
              "      <td>...</td>\n",
              "      <td>...</td>\n",
              "      <td>...</td>\n",
              "      <td>...</td>\n",
              "      <td>...</td>\n",
              "      <td>...</td>\n",
              "      <td>...</td>\n",
              "      <td>...</td>\n",
              "      <td>...</td>\n",
              "      <td>...</td>\n",
              "      <td>...</td>\n",
              "      <td>...</td>\n",
              "      <td>...</td>\n",
              "      <td>...</td>\n",
              "      <td>...</td>\n",
              "      <td>...</td>\n",
              "      <td>...</td>\n",
              "      <td>...</td>\n",
              "      <td>...</td>\n",
              "      <td>...</td>\n",
              "      <td>...</td>\n",
              "      <td>...</td>\n",
              "      <td>...</td>\n",
              "      <td>...</td>\n",
              "      <td>...</td>\n",
              "      <td>...</td>\n",
              "      <td>...</td>\n",
              "      <td>...</td>\n",
              "      <td>...</td>\n",
              "      <td>...</td>\n",
              "      <td>...</td>\n",
              "      <td>...</td>\n",
              "      <td>...</td>\n",
              "      <td>...</td>\n",
              "      <td>...</td>\n",
              "      <td>...</td>\n",
              "      <td>...</td>\n",
              "      <td>...</td>\n",
              "      <td>...</td>\n",
              "      <td>...</td>\n",
              "      <td>...</td>\n",
              "      <td>...</td>\n",
              "      <td>...</td>\n",
              "      <td>...</td>\n",
              "      <td>...</td>\n",
              "      <td>...</td>\n",
              "      <td>...</td>\n",
              "      <td>...</td>\n",
              "      <td>...</td>\n",
              "      <td>...</td>\n",
              "      <td>...</td>\n",
              "      <td>...</td>\n",
              "      <td>...</td>\n",
              "      <td>...</td>\n",
              "      <td>...</td>\n",
              "      <td>...</td>\n",
              "      <td>...</td>\n",
              "      <td>...</td>\n",
              "      <td>...</td>\n",
              "      <td>...</td>\n",
              "      <td>...</td>\n",
              "      <td>...</td>\n",
              "      <td>...</td>\n",
              "      <td>...</td>\n",
              "      <td>...</td>\n",
              "      <td>...</td>\n",
              "      <td>...</td>\n",
              "      <td>...</td>\n",
              "      <td>...</td>\n",
              "    </tr>\n",
              "    <tr>\n",
              "      <th>Active Min</th>\n",
              "      <td>0.002241</td>\n",
              "      <td>-0.030976</td>\n",
              "      <td>0.002391</td>\n",
              "      <td>0.072072</td>\n",
              "      <td>0.081156</td>\n",
              "      <td>0.007010</td>\n",
              "      <td>0.074960</td>\n",
              "      <td>0.059642</td>\n",
              "      <td>-0.024162</td>\n",
              "      <td>0.061510</td>\n",
              "      <td>0.067382</td>\n",
              "      <td>0.071315</td>\n",
              "      <td>-0.030153</td>\n",
              "      <td>0.093212</td>\n",
              "      <td>0.062649</td>\n",
              "      <td>-0.004400</td>\n",
              "      <td>-0.034681</td>\n",
              "      <td>0.000259</td>\n",
              "      <td>0.000327</td>\n",
              "      <td>0.000904</td>\n",
              "      <td>0.000079</td>\n",
              "      <td>0.001815</td>\n",
              "      <td>0.000234</td>\n",
              "      <td>0.000286</td>\n",
              "      <td>0.000640</td>\n",
              "      <td>0.000086</td>\n",
              "      <td>0.096705</td>\n",
              "      <td>0.065753</td>\n",
              "      <td>0.107050</td>\n",
              "      <td>0.163447</td>\n",
              "      <td>0.013085</td>\n",
              "      <td>0.004681</td>\n",
              "      <td>NaN</td>\n",
              "      <td>NaN</td>\n",
              "      <td>NaN</td>\n",
              "      <td>0.066798</td>\n",
              "      <td>0.080570</td>\n",
              "      <td>-0.032813</td>\n",
              "      <td>-0.033748</td>\n",
              "      <td>-0.024944</td>\n",
              "      <td>0.072004</td>\n",
              "      <td>0.110532</td>\n",
              "      <td>0.083566</td>\n",
              "      <td>0.056284</td>\n",
              "      <td>-0.003895</td>\n",
              "      <td>0.004681</td>\n",
              "      <td>0.031750</td>\n",
              "      <td>0.042767</td>\n",
              "      <td>-0.026863</td>\n",
              "      <td>-0.019277</td>\n",
              "      <td>NaN</td>\n",
              "      <td>0.031751</td>\n",
              "      <td>0.078259</td>\n",
              "      <td>0.103742</td>\n",
              "      <td>0.061510</td>\n",
              "      <td>0.093212</td>\n",
              "      <td>NaN</td>\n",
              "      <td>NaN</td>\n",
              "      <td>NaN</td>\n",
              "      <td>NaN</td>\n",
              "      <td>NaN</td>\n",
              "      <td>NaN</td>\n",
              "      <td>0.072072</td>\n",
              "      <td>0.007010</td>\n",
              "      <td>0.081156</td>\n",
              "      <td>0.074960</td>\n",
              "      <td>-0.009208</td>\n",
              "      <td>0.031186</td>\n",
              "      <td>0.069104</td>\n",
              "      <td>-0.021223</td>\n",
              "      <td>0.972357</td>\n",
              "      <td>0.034525</td>\n",
              "      <td>0.774537</td>\n",
              "      <td>1.000000</td>\n",
              "      <td>0.002492</td>\n",
              "      <td>0.000341</td>\n",
              "      <td>0.000922</td>\n",
              "      <td>0.070142</td>\n",
              "    </tr>\n",
              "    <tr>\n",
              "      <th>Idle Mean</th>\n",
              "      <td>-0.001351</td>\n",
              "      <td>-0.005858</td>\n",
              "      <td>-0.741625</td>\n",
              "      <td>0.012643</td>\n",
              "      <td>0.001243</td>\n",
              "      <td>0.000074</td>\n",
              "      <td>0.001126</td>\n",
              "      <td>0.000436</td>\n",
              "      <td>-0.001795</td>\n",
              "      <td>-0.000537</td>\n",
              "      <td>0.000449</td>\n",
              "      <td>0.002893</td>\n",
              "      <td>-0.002280</td>\n",
              "      <td>0.004019</td>\n",
              "      <td>0.003253</td>\n",
              "      <td>-0.000358</td>\n",
              "      <td>-0.002785</td>\n",
              "      <td>-0.020641</td>\n",
              "      <td>0.939192</td>\n",
              "      <td>0.994143</td>\n",
              "      <td>-0.949267</td>\n",
              "      <td>-0.741637</td>\n",
              "      <td>-0.020625</td>\n",
              "      <td>0.939193</td>\n",
              "      <td>0.994137</td>\n",
              "      <td>-0.949266</td>\n",
              "      <td>0.010006</td>\n",
              "      <td>0.007975</td>\n",
              "      <td>0.012053</td>\n",
              "      <td>0.013252</td>\n",
              "      <td>0.002785</td>\n",
              "      <td>0.000567</td>\n",
              "      <td>NaN</td>\n",
              "      <td>NaN</td>\n",
              "      <td>NaN</td>\n",
              "      <td>0.000990</td>\n",
              "      <td>0.001203</td>\n",
              "      <td>-0.002635</td>\n",
              "      <td>-0.002710</td>\n",
              "      <td>-0.001838</td>\n",
              "      <td>0.002905</td>\n",
              "      <td>0.003861</td>\n",
              "      <td>0.003694</td>\n",
              "      <td>0.003032</td>\n",
              "      <td>-0.000321</td>\n",
              "      <td>0.000567</td>\n",
              "      <td>-0.001030</td>\n",
              "      <td>-0.000979</td>\n",
              "      <td>-0.002101</td>\n",
              "      <td>-0.002100</td>\n",
              "      <td>NaN</td>\n",
              "      <td>-0.001030</td>\n",
              "      <td>-0.003057</td>\n",
              "      <td>0.003471</td>\n",
              "      <td>-0.000537</td>\n",
              "      <td>0.004019</td>\n",
              "      <td>NaN</td>\n",
              "      <td>NaN</td>\n",
              "      <td>NaN</td>\n",
              "      <td>NaN</td>\n",
              "      <td>NaN</td>\n",
              "      <td>NaN</td>\n",
              "      <td>0.012643</td>\n",
              "      <td>0.000074</td>\n",
              "      <td>0.001243</td>\n",
              "      <td>0.001126</td>\n",
              "      <td>-0.002100</td>\n",
              "      <td>-0.001506</td>\n",
              "      <td>0.001703</td>\n",
              "      <td>-0.006354</td>\n",
              "      <td>0.003386</td>\n",
              "      <td>0.004001</td>\n",
              "      <td>0.003868</td>\n",
              "      <td>0.002492</td>\n",
              "      <td>1.000000</td>\n",
              "      <td>0.999595</td>\n",
              "      <td>0.999379</td>\n",
              "      <td>0.771021</td>\n",
              "    </tr>\n",
              "    <tr>\n",
              "      <th>Idle Std</th>\n",
              "      <td>-0.000574</td>\n",
              "      <td>-0.003159</td>\n",
              "      <td>-0.733106</td>\n",
              "      <td>0.011366</td>\n",
              "      <td>-0.000005</td>\n",
              "      <td>-0.000032</td>\n",
              "      <td>0.000040</td>\n",
              "      <td>-0.000862</td>\n",
              "      <td>-0.000793</td>\n",
              "      <td>-0.001082</td>\n",
              "      <td>-0.000834</td>\n",
              "      <td>-0.000809</td>\n",
              "      <td>-0.000830</td>\n",
              "      <td>-0.000579</td>\n",
              "      <td>-0.000671</td>\n",
              "      <td>-0.000120</td>\n",
              "      <td>-0.000929</td>\n",
              "      <td>-0.020277</td>\n",
              "      <td>0.938359</td>\n",
              "      <td>0.994675</td>\n",
              "      <td>-0.948280</td>\n",
              "      <td>-0.733109</td>\n",
              "      <td>-0.020277</td>\n",
              "      <td>0.938358</td>\n",
              "      <td>0.994676</td>\n",
              "      <td>-0.948280</td>\n",
              "      <td>0.000164</td>\n",
              "      <td>0.000105</td>\n",
              "      <td>0.000443</td>\n",
              "      <td>0.000735</td>\n",
              "      <td>0.000024</td>\n",
              "      <td>-0.000225</td>\n",
              "      <td>NaN</td>\n",
              "      <td>NaN</td>\n",
              "      <td>NaN</td>\n",
              "      <td>-0.000132</td>\n",
              "      <td>-0.000029</td>\n",
              "      <td>-0.000879</td>\n",
              "      <td>-0.000904</td>\n",
              "      <td>-0.000811</td>\n",
              "      <td>-0.000806</td>\n",
              "      <td>-0.000624</td>\n",
              "      <td>-0.000701</td>\n",
              "      <td>-0.000166</td>\n",
              "      <td>-0.000109</td>\n",
              "      <td>-0.000225</td>\n",
              "      <td>-0.000360</td>\n",
              "      <td>-0.001644</td>\n",
              "      <td>-0.001084</td>\n",
              "      <td>-0.000687</td>\n",
              "      <td>NaN</td>\n",
              "      <td>-0.000360</td>\n",
              "      <td>-0.001882</td>\n",
              "      <td>-0.000736</td>\n",
              "      <td>-0.001082</td>\n",
              "      <td>-0.000579</td>\n",
              "      <td>NaN</td>\n",
              "      <td>NaN</td>\n",
              "      <td>NaN</td>\n",
              "      <td>NaN</td>\n",
              "      <td>NaN</td>\n",
              "      <td>NaN</td>\n",
              "      <td>0.011366</td>\n",
              "      <td>-0.000032</td>\n",
              "      <td>-0.000005</td>\n",
              "      <td>0.000040</td>\n",
              "      <td>-0.001427</td>\n",
              "      <td>-0.000616</td>\n",
              "      <td>-0.000591</td>\n",
              "      <td>-0.003626</td>\n",
              "      <td>0.000501</td>\n",
              "      <td>0.000623</td>\n",
              "      <td>0.000511</td>\n",
              "      <td>0.000341</td>\n",
              "      <td>0.999595</td>\n",
              "      <td>1.000000</td>\n",
              "      <td>0.999910</td>\n",
              "      <td>0.754064</td>\n",
              "    </tr>\n",
              "    <tr>\n",
              "      <th>Idle Max</th>\n",
              "      <td>-0.000838</td>\n",
              "      <td>-0.004070</td>\n",
              "      <td>-0.727972</td>\n",
              "      <td>0.011824</td>\n",
              "      <td>0.000388</td>\n",
              "      <td>-0.000002</td>\n",
              "      <td>0.000384</td>\n",
              "      <td>-0.000476</td>\n",
              "      <td>-0.001117</td>\n",
              "      <td>-0.000953</td>\n",
              "      <td>-0.000452</td>\n",
              "      <td>0.000355</td>\n",
              "      <td>-0.001300</td>\n",
              "      <td>0.000865</td>\n",
              "      <td>0.000566</td>\n",
              "      <td>-0.000198</td>\n",
              "      <td>-0.001538</td>\n",
              "      <td>-0.019903</td>\n",
              "      <td>0.937714</td>\n",
              "      <td>0.994764</td>\n",
              "      <td>-0.947459</td>\n",
              "      <td>-0.727978</td>\n",
              "      <td>-0.019897</td>\n",
              "      <td>0.937714</td>\n",
              "      <td>0.994762</td>\n",
              "      <td>-0.947459</td>\n",
              "      <td>0.003388</td>\n",
              "      <td>0.002691</td>\n",
              "      <td>0.004192</td>\n",
              "      <td>0.004684</td>\n",
              "      <td>0.000952</td>\n",
              "      <td>0.000036</td>\n",
              "      <td>NaN</td>\n",
              "      <td>NaN</td>\n",
              "      <td>NaN</td>\n",
              "      <td>0.000215</td>\n",
              "      <td>0.000358</td>\n",
              "      <td>-0.001455</td>\n",
              "      <td>-0.001496</td>\n",
              "      <td>-0.001143</td>\n",
              "      <td>0.000362</td>\n",
              "      <td>0.000772</td>\n",
              "      <td>0.000679</td>\n",
              "      <td>0.000842</td>\n",
              "      <td>-0.000178</td>\n",
              "      <td>0.000036</td>\n",
              "      <td>-0.000590</td>\n",
              "      <td>-0.001469</td>\n",
              "      <td>-0.001405</td>\n",
              "      <td>-0.001158</td>\n",
              "      <td>NaN</td>\n",
              "      <td>-0.000590</td>\n",
              "      <td>-0.002345</td>\n",
              "      <td>0.000572</td>\n",
              "      <td>-0.000953</td>\n",
              "      <td>0.000865</td>\n",
              "      <td>NaN</td>\n",
              "      <td>NaN</td>\n",
              "      <td>NaN</td>\n",
              "      <td>NaN</td>\n",
              "      <td>NaN</td>\n",
              "      <td>NaN</td>\n",
              "      <td>0.011824</td>\n",
              "      <td>-0.000002</td>\n",
              "      <td>0.000388</td>\n",
              "      <td>0.000384</td>\n",
              "      <td>-0.001640</td>\n",
              "      <td>-0.000912</td>\n",
              "      <td>0.000107</td>\n",
              "      <td>-0.004554</td>\n",
              "      <td>0.001260</td>\n",
              "      <td>0.001478</td>\n",
              "      <td>0.001407</td>\n",
              "      <td>0.000922</td>\n",
              "      <td>0.999379</td>\n",
              "      <td>0.999910</td>\n",
              "      <td>1.000000</td>\n",
              "      <td>0.754090</td>\n",
              "    </tr>\n",
              "    <tr>\n",
              "      <th>Idle Min</th>\n",
              "      <td>-0.023484</td>\n",
              "      <td>-0.083430</td>\n",
              "      <td>-0.670786</td>\n",
              "      <td>0.048498</td>\n",
              "      <td>0.038120</td>\n",
              "      <td>0.003276</td>\n",
              "      <td>0.033158</td>\n",
              "      <td>0.038956</td>\n",
              "      <td>-0.030847</td>\n",
              "      <td>0.017066</td>\n",
              "      <td>0.038648</td>\n",
              "      <td>0.112365</td>\n",
              "      <td>-0.044645</td>\n",
              "      <td>0.140328</td>\n",
              "      <td>0.119176</td>\n",
              "      <td>-0.007303</td>\n",
              "      <td>-0.056928</td>\n",
              "      <td>-0.018335</td>\n",
              "      <td>0.727901</td>\n",
              "      <td>0.750042</td>\n",
              "      <td>-0.735499</td>\n",
              "      <td>-0.671062</td>\n",
              "      <td>-0.017853</td>\n",
              "      <td>0.727994</td>\n",
              "      <td>0.749839</td>\n",
              "      <td>-0.735452</td>\n",
              "      <td>0.296305</td>\n",
              "      <td>0.237504</td>\n",
              "      <td>0.356148</td>\n",
              "      <td>0.387653</td>\n",
              "      <td>0.082718</td>\n",
              "      <td>0.023617</td>\n",
              "      <td>NaN</td>\n",
              "      <td>NaN</td>\n",
              "      <td>NaN</td>\n",
              "      <td>0.034215</td>\n",
              "      <td>0.037548</td>\n",
              "      <td>-0.053862</td>\n",
              "      <td>-0.055397</td>\n",
              "      <td>-0.031611</td>\n",
              "      <td>0.112615</td>\n",
              "      <td>0.137261</td>\n",
              "      <td>0.133675</td>\n",
              "      <td>0.097561</td>\n",
              "      <td>-0.006501</td>\n",
              "      <td>0.023617</td>\n",
              "      <td>-0.020223</td>\n",
              "      <td>0.019809</td>\n",
              "      <td>-0.031972</td>\n",
              "      <td>-0.043051</td>\n",
              "      <td>NaN</td>\n",
              "      <td>-0.020222</td>\n",
              "      <td>-0.034633</td>\n",
              "      <td>0.128711</td>\n",
              "      <td>0.017066</td>\n",
              "      <td>0.140328</td>\n",
              "      <td>NaN</td>\n",
              "      <td>NaN</td>\n",
              "      <td>NaN</td>\n",
              "      <td>NaN</td>\n",
              "      <td>NaN</td>\n",
              "      <td>NaN</td>\n",
              "      <td>0.048498</td>\n",
              "      <td>0.003276</td>\n",
              "      <td>0.038120</td>\n",
              "      <td>0.033158</td>\n",
              "      <td>-0.021560</td>\n",
              "      <td>-0.027380</td>\n",
              "      <td>0.069216</td>\n",
              "      <td>-0.084678</td>\n",
              "      <td>0.094552</td>\n",
              "      <td>0.110511</td>\n",
              "      <td>0.108390</td>\n",
              "      <td>0.070142</td>\n",
              "      <td>0.771021</td>\n",
              "      <td>0.754064</td>\n",
              "      <td>0.754090</td>\n",
              "      <td>1.000000</td>\n",
              "    </tr>\n",
              "  </tbody>\n",
              "</table>\n",
              "<p>78 rows × 78 columns</p>\n",
              "</div>\n",
              "    <div class=\"colab-df-buttons\">\n",
              "\n",
              "  <div class=\"colab-df-container\">\n",
              "    <button class=\"colab-df-convert\" onclick=\"convertToInteractive('df-25886890-c84f-45e9-a218-2a2af31c1838')\"\n",
              "            title=\"Convert this dataframe to an interactive table.\"\n",
              "            style=\"display:none;\">\n",
              "\n",
              "  <svg xmlns=\"http://www.w3.org/2000/svg\" height=\"24px\" viewBox=\"0 -960 960 960\">\n",
              "    <path d=\"M120-120v-720h720v720H120Zm60-500h600v-160H180v160Zm220 220h160v-160H400v160Zm0 220h160v-160H400v160ZM180-400h160v-160H180v160Zm440 0h160v-160H620v160ZM180-180h160v-160H180v160Zm440 0h160v-160H620v160Z\"/>\n",
              "  </svg>\n",
              "    </button>\n",
              "\n",
              "  <style>\n",
              "    .colab-df-container {\n",
              "      display:flex;\n",
              "      gap: 12px;\n",
              "    }\n",
              "\n",
              "    .colab-df-convert {\n",
              "      background-color: #E8F0FE;\n",
              "      border: none;\n",
              "      border-radius: 50%;\n",
              "      cursor: pointer;\n",
              "      display: none;\n",
              "      fill: #1967D2;\n",
              "      height: 32px;\n",
              "      padding: 0 0 0 0;\n",
              "      width: 32px;\n",
              "    }\n",
              "\n",
              "    .colab-df-convert:hover {\n",
              "      background-color: #E2EBFA;\n",
              "      box-shadow: 0px 1px 2px rgba(60, 64, 67, 0.3), 0px 1px 3px 1px rgba(60, 64, 67, 0.15);\n",
              "      fill: #174EA6;\n",
              "    }\n",
              "\n",
              "    .colab-df-buttons div {\n",
              "      margin-bottom: 4px;\n",
              "    }\n",
              "\n",
              "    [theme=dark] .colab-df-convert {\n",
              "      background-color: #3B4455;\n",
              "      fill: #D2E3FC;\n",
              "    }\n",
              "\n",
              "    [theme=dark] .colab-df-convert:hover {\n",
              "      background-color: #434B5C;\n",
              "      box-shadow: 0px 1px 3px 1px rgba(0, 0, 0, 0.15);\n",
              "      filter: drop-shadow(0px 1px 2px rgba(0, 0, 0, 0.3));\n",
              "      fill: #FFFFFF;\n",
              "    }\n",
              "  </style>\n",
              "\n",
              "    <script>\n",
              "      const buttonEl =\n",
              "        document.querySelector('#df-25886890-c84f-45e9-a218-2a2af31c1838 button.colab-df-convert');\n",
              "      buttonEl.style.display =\n",
              "        google.colab.kernel.accessAllowed ? 'block' : 'none';\n",
              "\n",
              "      async function convertToInteractive(key) {\n",
              "        const element = document.querySelector('#df-25886890-c84f-45e9-a218-2a2af31c1838');\n",
              "        const dataTable =\n",
              "          await google.colab.kernel.invokeFunction('convertToInteractive',\n",
              "                                                    [key], {});\n",
              "        if (!dataTable) return;\n",
              "\n",
              "        const docLinkHtml = 'Like what you see? Visit the ' +\n",
              "          '<a target=\"_blank\" href=https://colab.research.google.com/notebooks/data_table.ipynb>data table notebook</a>'\n",
              "          + ' to learn more about interactive tables.';\n",
              "        element.innerHTML = '';\n",
              "        dataTable['output_type'] = 'display_data';\n",
              "        await google.colab.output.renderOutput(dataTable, element);\n",
              "        const docLink = document.createElement('div');\n",
              "        docLink.innerHTML = docLinkHtml;\n",
              "        element.appendChild(docLink);\n",
              "      }\n",
              "    </script>\n",
              "  </div>\n",
              "\n",
              "\n",
              "<div id=\"df-0647b976-3972-4001-a06c-3763f5f69966\">\n",
              "  <button class=\"colab-df-quickchart\" onclick=\"quickchart('df-0647b976-3972-4001-a06c-3763f5f69966')\"\n",
              "            title=\"Suggest charts.\"\n",
              "            style=\"display:none;\">\n",
              "\n",
              "<svg xmlns=\"http://www.w3.org/2000/svg\" height=\"24px\"viewBox=\"0 0 24 24\"\n",
              "     width=\"24px\">\n",
              "    <g>\n",
              "        <path d=\"M19 3H5c-1.1 0-2 .9-2 2v14c0 1.1.9 2 2 2h14c1.1 0 2-.9 2-2V5c0-1.1-.9-2-2-2zM9 17H7v-7h2v7zm4 0h-2V7h2v10zm4 0h-2v-4h2v4z\"/>\n",
              "    </g>\n",
              "</svg>\n",
              "  </button>\n",
              "\n",
              "<style>\n",
              "  .colab-df-quickchart {\n",
              "      --bg-color: #E8F0FE;\n",
              "      --fill-color: #1967D2;\n",
              "      --hover-bg-color: #E2EBFA;\n",
              "      --hover-fill-color: #174EA6;\n",
              "      --disabled-fill-color: #AAA;\n",
              "      --disabled-bg-color: #DDD;\n",
              "  }\n",
              "\n",
              "  [theme=dark] .colab-df-quickchart {\n",
              "      --bg-color: #3B4455;\n",
              "      --fill-color: #D2E3FC;\n",
              "      --hover-bg-color: #434B5C;\n",
              "      --hover-fill-color: #FFFFFF;\n",
              "      --disabled-bg-color: #3B4455;\n",
              "      --disabled-fill-color: #666;\n",
              "  }\n",
              "\n",
              "  .colab-df-quickchart {\n",
              "    background-color: var(--bg-color);\n",
              "    border: none;\n",
              "    border-radius: 50%;\n",
              "    cursor: pointer;\n",
              "    display: none;\n",
              "    fill: var(--fill-color);\n",
              "    height: 32px;\n",
              "    padding: 0;\n",
              "    width: 32px;\n",
              "  }\n",
              "\n",
              "  .colab-df-quickchart:hover {\n",
              "    background-color: var(--hover-bg-color);\n",
              "    box-shadow: 0 1px 2px rgba(60, 64, 67, 0.3), 0 1px 3px 1px rgba(60, 64, 67, 0.15);\n",
              "    fill: var(--button-hover-fill-color);\n",
              "  }\n",
              "\n",
              "  .colab-df-quickchart-complete:disabled,\n",
              "  .colab-df-quickchart-complete:disabled:hover {\n",
              "    background-color: var(--disabled-bg-color);\n",
              "    fill: var(--disabled-fill-color);\n",
              "    box-shadow: none;\n",
              "  }\n",
              "\n",
              "  .colab-df-spinner {\n",
              "    border: 2px solid var(--fill-color);\n",
              "    border-color: transparent;\n",
              "    border-bottom-color: var(--fill-color);\n",
              "    animation:\n",
              "      spin 1s steps(1) infinite;\n",
              "  }\n",
              "\n",
              "  @keyframes spin {\n",
              "    0% {\n",
              "      border-color: transparent;\n",
              "      border-bottom-color: var(--fill-color);\n",
              "      border-left-color: var(--fill-color);\n",
              "    }\n",
              "    20% {\n",
              "      border-color: transparent;\n",
              "      border-left-color: var(--fill-color);\n",
              "      border-top-color: var(--fill-color);\n",
              "    }\n",
              "    30% {\n",
              "      border-color: transparent;\n",
              "      border-left-color: var(--fill-color);\n",
              "      border-top-color: var(--fill-color);\n",
              "      border-right-color: var(--fill-color);\n",
              "    }\n",
              "    40% {\n",
              "      border-color: transparent;\n",
              "      border-right-color: var(--fill-color);\n",
              "      border-top-color: var(--fill-color);\n",
              "    }\n",
              "    60% {\n",
              "      border-color: transparent;\n",
              "      border-right-color: var(--fill-color);\n",
              "    }\n",
              "    80% {\n",
              "      border-color: transparent;\n",
              "      border-right-color: var(--fill-color);\n",
              "      border-bottom-color: var(--fill-color);\n",
              "    }\n",
              "    90% {\n",
              "      border-color: transparent;\n",
              "      border-bottom-color: var(--fill-color);\n",
              "    }\n",
              "  }\n",
              "</style>\n",
              "\n",
              "  <script>\n",
              "    async function quickchart(key) {\n",
              "      const quickchartButtonEl =\n",
              "        document.querySelector('#' + key + ' button');\n",
              "      quickchartButtonEl.disabled = true;  // To prevent multiple clicks.\n",
              "      quickchartButtonEl.classList.add('colab-df-spinner');\n",
              "      try {\n",
              "        const charts = await google.colab.kernel.invokeFunction(\n",
              "            'suggestCharts', [key], {});\n",
              "      } catch (error) {\n",
              "        console.error('Error during call to suggestCharts:', error);\n",
              "      }\n",
              "      quickchartButtonEl.classList.remove('colab-df-spinner');\n",
              "      quickchartButtonEl.classList.add('colab-df-quickchart-complete');\n",
              "    }\n",
              "    (() => {\n",
              "      let quickchartButtonEl =\n",
              "        document.querySelector('#df-0647b976-3972-4001-a06c-3763f5f69966 button');\n",
              "      quickchartButtonEl.style.display =\n",
              "        google.colab.kernel.accessAllowed ? 'block' : 'none';\n",
              "    })();\n",
              "  </script>\n",
              "</div>\n",
              "    </div>\n",
              "  </div>\n"
            ]
          },
          "metadata": {},
          "execution_count": 13
        }
      ]
    },
    {
      "cell_type": "code",
      "source": [
        "corr_df.shape"
      ],
      "metadata": {
        "colab": {
          "base_uri": "https://localhost:8080/"
        },
        "id": "F02P-lmSxsvL",
        "outputId": "258887f0-aa3a-4a96-b0d7-b835b2aae6ac"
      },
      "execution_count": null,
      "outputs": [
        {
          "output_type": "execute_result",
          "data": {
            "text/plain": [
              "(78, 78)"
            ]
          },
          "metadata": {},
          "execution_count": 14
        }
      ]
    },
    {
      "cell_type": "code",
      "source": [
        "col_corr = set() # Set of all the names of deleted columns\n",
        "for i in range(len(corr_df.columns)):\n",
        "    for j in range(i):\n",
        "        if (corr_df.iloc[i, j] >= 0.7) and (corr_df.columns[j] not in col_corr):\n",
        "            colname = corr_df.columns[i] # getting the name of column\n",
        "            col_corr.add(colname)\n",
        "col_corr = list(col_corr)\n",
        "print(col_corr) # resulting the positive corre"
      ],
      "metadata": {
        "colab": {
          "base_uri": "https://localhost:8080/"
        },
        "id": "b4ojB3Upx47f",
        "outputId": "f45f5443-f798-4ddd-988a-28804d6856e2"
      },
      "execution_count": null,
      "outputs": [
        {
          "output_type": "stream",
          "name": "stdout",
          "text": [
            "['Fwd Pkt Len Mean', 'Idle Max', 'Bwd IAT Max', 'Subflow Fwd Pkts', 'Active Max', 'Idle Std', 'Fwd IAT Mean', 'Tot Bwd Pkts', 'TotLen Bwd Pkts', 'Bwd IAT Std', 'Flow IAT Max', 'Pkt Len Max', 'Bwd IAT Min', 'Subflow Fwd Byts', 'Subflow Bwd Byts', 'Fwd Seg Size Avg', 'Pkt Size Avg', 'Pkt Len Mean', 'Bwd Header Len', 'Bwd Pkt Len Std', 'Idle Min', 'Pkt Len Min', 'SYN Flag Cnt', 'Pkt Len Std', 'Fwd IAT Std', 'Fwd IAT Min', 'Fwd IAT Tot', 'Bwd Pkt Len Max', 'Fwd Header Len', 'Fwd IAT Max', 'Fwd Pkt Len Std', 'Bwd Pkt Len Min', 'ECE Flag Cnt', 'Subflow Bwd Pkts', 'Fwd Act Data Pkts', 'Active Min', 'Fwd Pkt Len Min', 'Bwd Seg Size Avg', 'Flow IAT Min', 'Idle Mean', 'Fwd Pkts/s', 'Bwd Pkts/s']\n"
          ]
        }
      ]
    },
    {
      "cell_type": "code",
      "source": [
        "def dropUnnecessaryColumn(data_train):\n",
        "    data_train.drop(columns=\"Timestamp\", inplace=True)\n",
        "    print (data_train.shape)\n",
        "    return data_train"
      ],
      "metadata": {
        "id": "1HESRu5A6t4C"
      },
      "execution_count": null,
      "outputs": []
    },
    {
      "cell_type": "code",
      "source": [
        "data_train = dropUnnecessaryColumn(data_train)"
      ],
      "metadata": {
        "colab": {
          "base_uri": "https://localhost:8080/"
        },
        "id": "bGGliNUj66sH",
        "outputId": "974afd8e-6f0f-47a3-970b-8614c7a60d0b"
      },
      "execution_count": null,
      "outputs": [
        {
          "output_type": "stream",
          "name": "stdout",
          "text": [
            "(1044751, 79)\n"
          ]
        }
      ]
    },
    {
      "cell_type": "code",
      "source": [
        "def transformTargetLabelToBinary(data_train):\n",
        "    # encode the target feature\n",
        "    data_train['Label'] = data_train['Label'].apply(lambda x: \"Benign\" if x == 'Benign' else \"Malicious\")\n",
        "    print(data_train['Label'].unique())\n",
        "    print(data_train['Label'].value_counts())\n",
        "    return data_train"
      ],
      "metadata": {
        "id": "MoSe-65L7Enc"
      },
      "execution_count": null,
      "outputs": []
    },
    {
      "cell_type": "code",
      "source": [
        "data_train = transformTargetLabelToBinary(data_train)"
      ],
      "metadata": {
        "colab": {
          "base_uri": "https://localhost:8080/"
        },
        "id": "Z2oP9tKQ7XxE",
        "outputId": "b696b1a9-c857-4ce7-e7e0-c3a3ef471ea7"
      },
      "execution_count": null,
      "outputs": [
        {
          "output_type": "stream",
          "name": "stdout",
          "text": [
            "['Benign' 'Malicious']\n",
            "Benign       663808\n",
            "Malicious    380943\n",
            "Name: Label, dtype: int64\n"
          ]
        }
      ]
    },
    {
      "cell_type": "code",
      "source": [
        "from imblearn.under_sampling import RandomUnderSampler\n",
        "def balanceData(data_train):\n",
        "    # split data into features and target\n",
        "    X=data_train.drop([\"Label\"], axis=1)\n",
        "    y=data_train[\"Label\"]\n",
        "\n",
        "    # applying oversampling\n",
        "    rus = RandomUnderSampler()\n",
        "    X_balanced, y_balanced = rus.fit_resample(X, y) # insted of X, y use the direct syntex\n",
        "\n",
        "    data_train = pd.concat([X_balanced, y_balanced], axis=1)\n",
        "    del X, y, X_balanced, y_balanced\n",
        "    print (data_train.shape)\n",
        "    print(data_train['Label'].value_counts())\n",
        "\n",
        "    return data_train"
      ],
      "metadata": {
        "id": "ip_YSs1a7niy"
      },
      "execution_count": null,
      "outputs": []
    },
    {
      "cell_type": "code",
      "source": [
        "data_train = balanceData(data_train)"
      ],
      "metadata": {
        "colab": {
          "base_uri": "https://localhost:8080/"
        },
        "id": "Dv9GEhi68aDb",
        "outputId": "12eefd21-e08e-4595-bef5-2f736053f4d3"
      },
      "execution_count": null,
      "outputs": [
        {
          "output_type": "stream",
          "name": "stdout",
          "text": [
            "(761886, 79)\n",
            "Benign       380943\n",
            "Malicious    380943\n",
            "Name: Label, dtype: int64\n"
          ]
        }
      ]
    },
    {
      "cell_type": "code",
      "source": [
        "data_train.head()"
      ],
      "metadata": {
        "colab": {
          "base_uri": "https://localhost:8080/",
          "height": 278
        },
        "id": "n8djibREie57",
        "outputId": "c496d67f-54ee-486e-e85f-2f2947050542"
      },
      "execution_count": null,
      "outputs": [
        {
          "output_type": "execute_result",
          "data": {
            "text/plain": [
              "   Dst Port  Protocol  Flow Duration  Tot Fwd Pkts  Tot Bwd Pkts  \\\n",
              "0        53        17          31622             2             2   \n",
              "1      3389         6        1477706             8             7   \n",
              "2        53        17           1418             1             1   \n",
              "3     51531         6             39             1             1   \n",
              "4       443         6            732             3             0   \n",
              "\n",
              "   TotLen Fwd Pkts  TotLen Bwd Pkts  Fwd Pkt Len Max  Fwd Pkt Len Min  \\\n",
              "0               98              328               49               49   \n",
              "1             1138             1581              677                0   \n",
              "2               58               74               58               58   \n",
              "3                0                0                0                0   \n",
              "4               77                0               46                0   \n",
              "\n",
              "   Fwd Pkt Len Mean  Fwd Pkt Len Std  Bwd Pkt Len Max  Bwd Pkt Len Min  \\\n",
              "0         49.000000         0.000000              164              164   \n",
              "1        142.250000       227.746570             1173                0   \n",
              "2         58.000000         0.000000               74               74   \n",
              "3          0.000000         0.000000                0                0   \n",
              "4         25.666667        23.459184                0                0   \n",
              "\n",
              "   Bwd Pkt Len Mean  Bwd Pkt Len Std    Flow Byts/s   Flow Pkts/s  \\\n",
              "0        164.000000         0.000000   13471.633673    126.494213   \n",
              "1        225.857143       430.098604    1840.014184     10.150869   \n",
              "2         74.000000         0.000000   93088.857546   1410.437236   \n",
              "3          0.000000         0.000000       0.000000  51282.051282   \n",
              "4          0.000000         0.000000  105191.256831   4098.360656   \n",
              "\n",
              "   Flow IAT Mean   Flow IAT Std  Flow IAT Max  Flow IAT Min  Fwd IAT Tot  \\\n",
              "0   10540.666667   14896.292704         27653           476        31146   \n",
              "1  105550.428571  251083.697501        968775             4      1477706   \n",
              "2    1418.000000       0.000000          1418          1418            0   \n",
              "3      39.000000       0.000000            39            39            0   \n",
              "4     366.000000     489.317893           712            20          732   \n",
              "\n",
              "    Fwd IAT Mean    Fwd IAT Std  Fwd IAT Max  Fwd IAT Min  Bwd IAT Tot  \\\n",
              "0   31146.000000       0.000000        31146        31146        28129   \n",
              "1  211100.857143  388946.752059      1090719            4      1401826   \n",
              "2       0.000000       0.000000            0            0            0   \n",
              "3       0.000000       0.000000            0            0            0   \n",
              "4     366.000000     489.317893          712           20            0   \n",
              "\n",
              "    Bwd IAT Mean    Bwd IAT Std  Bwd IAT Max  Bwd IAT Min  Fwd PSH Flags  \\\n",
              "0   28129.000000       0.000000        28129        28129              0   \n",
              "1  233637.666667  360582.748115       968775        76236              0   \n",
              "2       0.000000       0.000000            0            0              0   \n",
              "3       0.000000       0.000000            0            0              0   \n",
              "4       0.000000       0.000000            0            0              1   \n",
              "\n",
              "   Bwd PSH Flags  Fwd URG Flags  Bwd URG Flags  Fwd Header Len  \\\n",
              "0              0              0              0              16   \n",
              "1              0              0              0             172   \n",
              "2              0              0              0               8   \n",
              "3              0              0              0              20   \n",
              "4              0              0              0              60   \n",
              "\n",
              "   Bwd Header Len    Fwd Pkts/s    Bwd Pkts/s  Pkt Len Min  Pkt Len Max  \\\n",
              "0              16     63.247106     63.247106           49          164   \n",
              "1             152      5.413797      4.737072            0         1173   \n",
              "2               8    705.218618    705.218618           58           74   \n",
              "3              20  25641.025641  25641.025641            0            0   \n",
              "4               0   4098.360656      0.000000            0           46   \n",
              "\n",
              "   Pkt Len Mean  Pkt Len Std    Pkt Len Var  FIN Flag Cnt  SYN Flag Cnt  \\\n",
              "0     95.000000    62.988094    3967.500000             0             0   \n",
              "1    169.937500   319.362797  101992.595833             0             0   \n",
              "2     63.333333     9.237604      85.333333             0             0   \n",
              "3      0.000000     0.000000       0.000000             0             0   \n",
              "4     30.750000    21.685248     470.250000             0             1   \n",
              "\n",
              "   RST Flag Cnt  PSH Flag Cnt  ACK Flag Cnt  URG Flag Cnt  CWE Flag Count  \\\n",
              "0             0             0             0             0               0   \n",
              "1             0             1             0             0               0   \n",
              "2             0             0             0             0               0   \n",
              "3             0             0             1             1               0   \n",
              "4             0             0             1             0               0   \n",
              "\n",
              "   ECE Flag Cnt  Down/Up Ratio  Pkt Size Avg  Fwd Seg Size Avg  \\\n",
              "0             0              1    118.750000         49.000000   \n",
              "1             0              0    181.266667        142.250000   \n",
              "2             0              1     95.000000         58.000000   \n",
              "3             0              1      0.000000          0.000000   \n",
              "4             0              0     41.000000         25.666667   \n",
              "\n",
              "   Bwd Seg Size Avg  Fwd Byts/b Avg  Fwd Pkts/b Avg  Fwd Blk Rate Avg  \\\n",
              "0        164.000000               0               0                 0   \n",
              "1        225.857143               0               0                 0   \n",
              "2         74.000000               0               0                 0   \n",
              "3          0.000000               0               0                 0   \n",
              "4          0.000000               0               0                 0   \n",
              "\n",
              "   Bwd Byts/b Avg  Bwd Pkts/b Avg  Bwd Blk Rate Avg  Subflow Fwd Pkts  \\\n",
              "0               0               0                 0                 2   \n",
              "1               0               0                 0                 8   \n",
              "2               0               0                 0                 1   \n",
              "3               0               0                 0                 1   \n",
              "4               0               0                 0                 3   \n",
              "\n",
              "   Subflow Fwd Byts  Subflow Bwd Pkts  Subflow Bwd Byts  Init Fwd Win Byts  \\\n",
              "0                98                 2               328                 -1   \n",
              "1              1138                 7              1581               8192   \n",
              "2                58                 1                74                 -1   \n",
              "3                 0                 1                 0                131   \n",
              "4                77                 0                 0                254   \n",
              "\n",
              "   Init Bwd Win Byts  Fwd Act Data Pkts  Fwd Seg Size Min  Active Mean  \\\n",
              "0                 -1                  1                 8          0.0   \n",
              "1              62862                  5                20          0.0   \n",
              "2                 -1                  0                 8          0.0   \n",
              "3                253                  0                20          0.0   \n",
              "4                 -1                  1                20          0.0   \n",
              "\n",
              "   Active Std  Active Max  Active Min  Idle Mean  Idle Std  Idle Max  \\\n",
              "0         0.0           0           0        0.0       0.0         0   \n",
              "1         0.0           0           0        0.0       0.0         0   \n",
              "2         0.0           0           0        0.0       0.0         0   \n",
              "3         0.0           0           0        0.0       0.0         0   \n",
              "4         0.0           0           0        0.0       0.0         0   \n",
              "\n",
              "   Idle Min   Label  \n",
              "0         0  Benign  \n",
              "1         0  Benign  \n",
              "2         0  Benign  \n",
              "3         0  Benign  \n",
              "4         0  Benign  "
            ],
            "text/html": [
              "\n",
              "  <div id=\"df-67c7e4c2-6ee4-4d7c-99ee-d8447d9839a8\" class=\"colab-df-container\">\n",
              "    <div>\n",
              "<style scoped>\n",
              "    .dataframe tbody tr th:only-of-type {\n",
              "        vertical-align: middle;\n",
              "    }\n",
              "\n",
              "    .dataframe tbody tr th {\n",
              "        vertical-align: top;\n",
              "    }\n",
              "\n",
              "    .dataframe thead th {\n",
              "        text-align: right;\n",
              "    }\n",
              "</style>\n",
              "<table border=\"1\" class=\"dataframe\">\n",
              "  <thead>\n",
              "    <tr style=\"text-align: right;\">\n",
              "      <th></th>\n",
              "      <th>Dst Port</th>\n",
              "      <th>Protocol</th>\n",
              "      <th>Flow Duration</th>\n",
              "      <th>Tot Fwd Pkts</th>\n",
              "      <th>Tot Bwd Pkts</th>\n",
              "      <th>TotLen Fwd Pkts</th>\n",
              "      <th>TotLen Bwd Pkts</th>\n",
              "      <th>Fwd Pkt Len Max</th>\n",
              "      <th>Fwd Pkt Len Min</th>\n",
              "      <th>Fwd Pkt Len Mean</th>\n",
              "      <th>Fwd Pkt Len Std</th>\n",
              "      <th>Bwd Pkt Len Max</th>\n",
              "      <th>Bwd Pkt Len Min</th>\n",
              "      <th>Bwd Pkt Len Mean</th>\n",
              "      <th>Bwd Pkt Len Std</th>\n",
              "      <th>Flow Byts/s</th>\n",
              "      <th>Flow Pkts/s</th>\n",
              "      <th>Flow IAT Mean</th>\n",
              "      <th>Flow IAT Std</th>\n",
              "      <th>Flow IAT Max</th>\n",
              "      <th>Flow IAT Min</th>\n",
              "      <th>Fwd IAT Tot</th>\n",
              "      <th>Fwd IAT Mean</th>\n",
              "      <th>Fwd IAT Std</th>\n",
              "      <th>Fwd IAT Max</th>\n",
              "      <th>Fwd IAT Min</th>\n",
              "      <th>Bwd IAT Tot</th>\n",
              "      <th>Bwd IAT Mean</th>\n",
              "      <th>Bwd IAT Std</th>\n",
              "      <th>Bwd IAT Max</th>\n",
              "      <th>Bwd IAT Min</th>\n",
              "      <th>Fwd PSH Flags</th>\n",
              "      <th>Bwd PSH Flags</th>\n",
              "      <th>Fwd URG Flags</th>\n",
              "      <th>Bwd URG Flags</th>\n",
              "      <th>Fwd Header Len</th>\n",
              "      <th>Bwd Header Len</th>\n",
              "      <th>Fwd Pkts/s</th>\n",
              "      <th>Bwd Pkts/s</th>\n",
              "      <th>Pkt Len Min</th>\n",
              "      <th>Pkt Len Max</th>\n",
              "      <th>Pkt Len Mean</th>\n",
              "      <th>Pkt Len Std</th>\n",
              "      <th>Pkt Len Var</th>\n",
              "      <th>FIN Flag Cnt</th>\n",
              "      <th>SYN Flag Cnt</th>\n",
              "      <th>RST Flag Cnt</th>\n",
              "      <th>PSH Flag Cnt</th>\n",
              "      <th>ACK Flag Cnt</th>\n",
              "      <th>URG Flag Cnt</th>\n",
              "      <th>CWE Flag Count</th>\n",
              "      <th>ECE Flag Cnt</th>\n",
              "      <th>Down/Up Ratio</th>\n",
              "      <th>Pkt Size Avg</th>\n",
              "      <th>Fwd Seg Size Avg</th>\n",
              "      <th>Bwd Seg Size Avg</th>\n",
              "      <th>Fwd Byts/b Avg</th>\n",
              "      <th>Fwd Pkts/b Avg</th>\n",
              "      <th>Fwd Blk Rate Avg</th>\n",
              "      <th>Bwd Byts/b Avg</th>\n",
              "      <th>Bwd Pkts/b Avg</th>\n",
              "      <th>Bwd Blk Rate Avg</th>\n",
              "      <th>Subflow Fwd Pkts</th>\n",
              "      <th>Subflow Fwd Byts</th>\n",
              "      <th>Subflow Bwd Pkts</th>\n",
              "      <th>Subflow Bwd Byts</th>\n",
              "      <th>Init Fwd Win Byts</th>\n",
              "      <th>Init Bwd Win Byts</th>\n",
              "      <th>Fwd Act Data Pkts</th>\n",
              "      <th>Fwd Seg Size Min</th>\n",
              "      <th>Active Mean</th>\n",
              "      <th>Active Std</th>\n",
              "      <th>Active Max</th>\n",
              "      <th>Active Min</th>\n",
              "      <th>Idle Mean</th>\n",
              "      <th>Idle Std</th>\n",
              "      <th>Idle Max</th>\n",
              "      <th>Idle Min</th>\n",
              "      <th>Label</th>\n",
              "    </tr>\n",
              "  </thead>\n",
              "  <tbody>\n",
              "    <tr>\n",
              "      <th>0</th>\n",
              "      <td>53</td>\n",
              "      <td>17</td>\n",
              "      <td>31622</td>\n",
              "      <td>2</td>\n",
              "      <td>2</td>\n",
              "      <td>98</td>\n",
              "      <td>328</td>\n",
              "      <td>49</td>\n",
              "      <td>49</td>\n",
              "      <td>49.000000</td>\n",
              "      <td>0.000000</td>\n",
              "      <td>164</td>\n",
              "      <td>164</td>\n",
              "      <td>164.000000</td>\n",
              "      <td>0.000000</td>\n",
              "      <td>13471.633673</td>\n",
              "      <td>126.494213</td>\n",
              "      <td>10540.666667</td>\n",
              "      <td>14896.292704</td>\n",
              "      <td>27653</td>\n",
              "      <td>476</td>\n",
              "      <td>31146</td>\n",
              "      <td>31146.000000</td>\n",
              "      <td>0.000000</td>\n",
              "      <td>31146</td>\n",
              "      <td>31146</td>\n",
              "      <td>28129</td>\n",
              "      <td>28129.000000</td>\n",
              "      <td>0.000000</td>\n",
              "      <td>28129</td>\n",
              "      <td>28129</td>\n",
              "      <td>0</td>\n",
              "      <td>0</td>\n",
              "      <td>0</td>\n",
              "      <td>0</td>\n",
              "      <td>16</td>\n",
              "      <td>16</td>\n",
              "      <td>63.247106</td>\n",
              "      <td>63.247106</td>\n",
              "      <td>49</td>\n",
              "      <td>164</td>\n",
              "      <td>95.000000</td>\n",
              "      <td>62.988094</td>\n",
              "      <td>3967.500000</td>\n",
              "      <td>0</td>\n",
              "      <td>0</td>\n",
              "      <td>0</td>\n",
              "      <td>0</td>\n",
              "      <td>0</td>\n",
              "      <td>0</td>\n",
              "      <td>0</td>\n",
              "      <td>0</td>\n",
              "      <td>1</td>\n",
              "      <td>118.750000</td>\n",
              "      <td>49.000000</td>\n",
              "      <td>164.000000</td>\n",
              "      <td>0</td>\n",
              "      <td>0</td>\n",
              "      <td>0</td>\n",
              "      <td>0</td>\n",
              "      <td>0</td>\n",
              "      <td>0</td>\n",
              "      <td>2</td>\n",
              "      <td>98</td>\n",
              "      <td>2</td>\n",
              "      <td>328</td>\n",
              "      <td>-1</td>\n",
              "      <td>-1</td>\n",
              "      <td>1</td>\n",
              "      <td>8</td>\n",
              "      <td>0.0</td>\n",
              "      <td>0.0</td>\n",
              "      <td>0</td>\n",
              "      <td>0</td>\n",
              "      <td>0.0</td>\n",
              "      <td>0.0</td>\n",
              "      <td>0</td>\n",
              "      <td>0</td>\n",
              "      <td>Benign</td>\n",
              "    </tr>\n",
              "    <tr>\n",
              "      <th>1</th>\n",
              "      <td>3389</td>\n",
              "      <td>6</td>\n",
              "      <td>1477706</td>\n",
              "      <td>8</td>\n",
              "      <td>7</td>\n",
              "      <td>1138</td>\n",
              "      <td>1581</td>\n",
              "      <td>677</td>\n",
              "      <td>0</td>\n",
              "      <td>142.250000</td>\n",
              "      <td>227.746570</td>\n",
              "      <td>1173</td>\n",
              "      <td>0</td>\n",
              "      <td>225.857143</td>\n",
              "      <td>430.098604</td>\n",
              "      <td>1840.014184</td>\n",
              "      <td>10.150869</td>\n",
              "      <td>105550.428571</td>\n",
              "      <td>251083.697501</td>\n",
              "      <td>968775</td>\n",
              "      <td>4</td>\n",
              "      <td>1477706</td>\n",
              "      <td>211100.857143</td>\n",
              "      <td>388946.752059</td>\n",
              "      <td>1090719</td>\n",
              "      <td>4</td>\n",
              "      <td>1401826</td>\n",
              "      <td>233637.666667</td>\n",
              "      <td>360582.748115</td>\n",
              "      <td>968775</td>\n",
              "      <td>76236</td>\n",
              "      <td>0</td>\n",
              "      <td>0</td>\n",
              "      <td>0</td>\n",
              "      <td>0</td>\n",
              "      <td>172</td>\n",
              "      <td>152</td>\n",
              "      <td>5.413797</td>\n",
              "      <td>4.737072</td>\n",
              "      <td>0</td>\n",
              "      <td>1173</td>\n",
              "      <td>169.937500</td>\n",
              "      <td>319.362797</td>\n",
              "      <td>101992.595833</td>\n",
              "      <td>0</td>\n",
              "      <td>0</td>\n",
              "      <td>0</td>\n",
              "      <td>1</td>\n",
              "      <td>0</td>\n",
              "      <td>0</td>\n",
              "      <td>0</td>\n",
              "      <td>0</td>\n",
              "      <td>0</td>\n",
              "      <td>181.266667</td>\n",
              "      <td>142.250000</td>\n",
              "      <td>225.857143</td>\n",
              "      <td>0</td>\n",
              "      <td>0</td>\n",
              "      <td>0</td>\n",
              "      <td>0</td>\n",
              "      <td>0</td>\n",
              "      <td>0</td>\n",
              "      <td>8</td>\n",
              "      <td>1138</td>\n",
              "      <td>7</td>\n",
              "      <td>1581</td>\n",
              "      <td>8192</td>\n",
              "      <td>62862</td>\n",
              "      <td>5</td>\n",
              "      <td>20</td>\n",
              "      <td>0.0</td>\n",
              "      <td>0.0</td>\n",
              "      <td>0</td>\n",
              "      <td>0</td>\n",
              "      <td>0.0</td>\n",
              "      <td>0.0</td>\n",
              "      <td>0</td>\n",
              "      <td>0</td>\n",
              "      <td>Benign</td>\n",
              "    </tr>\n",
              "    <tr>\n",
              "      <th>2</th>\n",
              "      <td>53</td>\n",
              "      <td>17</td>\n",
              "      <td>1418</td>\n",
              "      <td>1</td>\n",
              "      <td>1</td>\n",
              "      <td>58</td>\n",
              "      <td>74</td>\n",
              "      <td>58</td>\n",
              "      <td>58</td>\n",
              "      <td>58.000000</td>\n",
              "      <td>0.000000</td>\n",
              "      <td>74</td>\n",
              "      <td>74</td>\n",
              "      <td>74.000000</td>\n",
              "      <td>0.000000</td>\n",
              "      <td>93088.857546</td>\n",
              "      <td>1410.437236</td>\n",
              "      <td>1418.000000</td>\n",
              "      <td>0.000000</td>\n",
              "      <td>1418</td>\n",
              "      <td>1418</td>\n",
              "      <td>0</td>\n",
              "      <td>0.000000</td>\n",
              "      <td>0.000000</td>\n",
              "      <td>0</td>\n",
              "      <td>0</td>\n",
              "      <td>0</td>\n",
              "      <td>0.000000</td>\n",
              "      <td>0.000000</td>\n",
              "      <td>0</td>\n",
              "      <td>0</td>\n",
              "      <td>0</td>\n",
              "      <td>0</td>\n",
              "      <td>0</td>\n",
              "      <td>0</td>\n",
              "      <td>8</td>\n",
              "      <td>8</td>\n",
              "      <td>705.218618</td>\n",
              "      <td>705.218618</td>\n",
              "      <td>58</td>\n",
              "      <td>74</td>\n",
              "      <td>63.333333</td>\n",
              "      <td>9.237604</td>\n",
              "      <td>85.333333</td>\n",
              "      <td>0</td>\n",
              "      <td>0</td>\n",
              "      <td>0</td>\n",
              "      <td>0</td>\n",
              "      <td>0</td>\n",
              "      <td>0</td>\n",
              "      <td>0</td>\n",
              "      <td>0</td>\n",
              "      <td>1</td>\n",
              "      <td>95.000000</td>\n",
              "      <td>58.000000</td>\n",
              "      <td>74.000000</td>\n",
              "      <td>0</td>\n",
              "      <td>0</td>\n",
              "      <td>0</td>\n",
              "      <td>0</td>\n",
              "      <td>0</td>\n",
              "      <td>0</td>\n",
              "      <td>1</td>\n",
              "      <td>58</td>\n",
              "      <td>1</td>\n",
              "      <td>74</td>\n",
              "      <td>-1</td>\n",
              "      <td>-1</td>\n",
              "      <td>0</td>\n",
              "      <td>8</td>\n",
              "      <td>0.0</td>\n",
              "      <td>0.0</td>\n",
              "      <td>0</td>\n",
              "      <td>0</td>\n",
              "      <td>0.0</td>\n",
              "      <td>0.0</td>\n",
              "      <td>0</td>\n",
              "      <td>0</td>\n",
              "      <td>Benign</td>\n",
              "    </tr>\n",
              "    <tr>\n",
              "      <th>3</th>\n",
              "      <td>51531</td>\n",
              "      <td>6</td>\n",
              "      <td>39</td>\n",
              "      <td>1</td>\n",
              "      <td>1</td>\n",
              "      <td>0</td>\n",
              "      <td>0</td>\n",
              "      <td>0</td>\n",
              "      <td>0</td>\n",
              "      <td>0.000000</td>\n",
              "      <td>0.000000</td>\n",
              "      <td>0</td>\n",
              "      <td>0</td>\n",
              "      <td>0.000000</td>\n",
              "      <td>0.000000</td>\n",
              "      <td>0.000000</td>\n",
              "      <td>51282.051282</td>\n",
              "      <td>39.000000</td>\n",
              "      <td>0.000000</td>\n",
              "      <td>39</td>\n",
              "      <td>39</td>\n",
              "      <td>0</td>\n",
              "      <td>0.000000</td>\n",
              "      <td>0.000000</td>\n",
              "      <td>0</td>\n",
              "      <td>0</td>\n",
              "      <td>0</td>\n",
              "      <td>0.000000</td>\n",
              "      <td>0.000000</td>\n",
              "      <td>0</td>\n",
              "      <td>0</td>\n",
              "      <td>0</td>\n",
              "      <td>0</td>\n",
              "      <td>0</td>\n",
              "      <td>0</td>\n",
              "      <td>20</td>\n",
              "      <td>20</td>\n",
              "      <td>25641.025641</td>\n",
              "      <td>25641.025641</td>\n",
              "      <td>0</td>\n",
              "      <td>0</td>\n",
              "      <td>0.000000</td>\n",
              "      <td>0.000000</td>\n",
              "      <td>0.000000</td>\n",
              "      <td>0</td>\n",
              "      <td>0</td>\n",
              "      <td>0</td>\n",
              "      <td>0</td>\n",
              "      <td>1</td>\n",
              "      <td>1</td>\n",
              "      <td>0</td>\n",
              "      <td>0</td>\n",
              "      <td>1</td>\n",
              "      <td>0.000000</td>\n",
              "      <td>0.000000</td>\n",
              "      <td>0.000000</td>\n",
              "      <td>0</td>\n",
              "      <td>0</td>\n",
              "      <td>0</td>\n",
              "      <td>0</td>\n",
              "      <td>0</td>\n",
              "      <td>0</td>\n",
              "      <td>1</td>\n",
              "      <td>0</td>\n",
              "      <td>1</td>\n",
              "      <td>0</td>\n",
              "      <td>131</td>\n",
              "      <td>253</td>\n",
              "      <td>0</td>\n",
              "      <td>20</td>\n",
              "      <td>0.0</td>\n",
              "      <td>0.0</td>\n",
              "      <td>0</td>\n",
              "      <td>0</td>\n",
              "      <td>0.0</td>\n",
              "      <td>0.0</td>\n",
              "      <td>0</td>\n",
              "      <td>0</td>\n",
              "      <td>Benign</td>\n",
              "    </tr>\n",
              "    <tr>\n",
              "      <th>4</th>\n",
              "      <td>443</td>\n",
              "      <td>6</td>\n",
              "      <td>732</td>\n",
              "      <td>3</td>\n",
              "      <td>0</td>\n",
              "      <td>77</td>\n",
              "      <td>0</td>\n",
              "      <td>46</td>\n",
              "      <td>0</td>\n",
              "      <td>25.666667</td>\n",
              "      <td>23.459184</td>\n",
              "      <td>0</td>\n",
              "      <td>0</td>\n",
              "      <td>0.000000</td>\n",
              "      <td>0.000000</td>\n",
              "      <td>105191.256831</td>\n",
              "      <td>4098.360656</td>\n",
              "      <td>366.000000</td>\n",
              "      <td>489.317893</td>\n",
              "      <td>712</td>\n",
              "      <td>20</td>\n",
              "      <td>732</td>\n",
              "      <td>366.000000</td>\n",
              "      <td>489.317893</td>\n",
              "      <td>712</td>\n",
              "      <td>20</td>\n",
              "      <td>0</td>\n",
              "      <td>0.000000</td>\n",
              "      <td>0.000000</td>\n",
              "      <td>0</td>\n",
              "      <td>0</td>\n",
              "      <td>1</td>\n",
              "      <td>0</td>\n",
              "      <td>0</td>\n",
              "      <td>0</td>\n",
              "      <td>60</td>\n",
              "      <td>0</td>\n",
              "      <td>4098.360656</td>\n",
              "      <td>0.000000</td>\n",
              "      <td>0</td>\n",
              "      <td>46</td>\n",
              "      <td>30.750000</td>\n",
              "      <td>21.685248</td>\n",
              "      <td>470.250000</td>\n",
              "      <td>0</td>\n",
              "      <td>1</td>\n",
              "      <td>0</td>\n",
              "      <td>0</td>\n",
              "      <td>1</td>\n",
              "      <td>0</td>\n",
              "      <td>0</td>\n",
              "      <td>0</td>\n",
              "      <td>0</td>\n",
              "      <td>41.000000</td>\n",
              "      <td>25.666667</td>\n",
              "      <td>0.000000</td>\n",
              "      <td>0</td>\n",
              "      <td>0</td>\n",
              "      <td>0</td>\n",
              "      <td>0</td>\n",
              "      <td>0</td>\n",
              "      <td>0</td>\n",
              "      <td>3</td>\n",
              "      <td>77</td>\n",
              "      <td>0</td>\n",
              "      <td>0</td>\n",
              "      <td>254</td>\n",
              "      <td>-1</td>\n",
              "      <td>1</td>\n",
              "      <td>20</td>\n",
              "      <td>0.0</td>\n",
              "      <td>0.0</td>\n",
              "      <td>0</td>\n",
              "      <td>0</td>\n",
              "      <td>0.0</td>\n",
              "      <td>0.0</td>\n",
              "      <td>0</td>\n",
              "      <td>0</td>\n",
              "      <td>Benign</td>\n",
              "    </tr>\n",
              "  </tbody>\n",
              "</table>\n",
              "</div>\n",
              "    <div class=\"colab-df-buttons\">\n",
              "\n",
              "  <div class=\"colab-df-container\">\n",
              "    <button class=\"colab-df-convert\" onclick=\"convertToInteractive('df-67c7e4c2-6ee4-4d7c-99ee-d8447d9839a8')\"\n",
              "            title=\"Convert this dataframe to an interactive table.\"\n",
              "            style=\"display:none;\">\n",
              "\n",
              "  <svg xmlns=\"http://www.w3.org/2000/svg\" height=\"24px\" viewBox=\"0 -960 960 960\">\n",
              "    <path d=\"M120-120v-720h720v720H120Zm60-500h600v-160H180v160Zm220 220h160v-160H400v160Zm0 220h160v-160H400v160ZM180-400h160v-160H180v160Zm440 0h160v-160H620v160ZM180-180h160v-160H180v160Zm440 0h160v-160H620v160Z\"/>\n",
              "  </svg>\n",
              "    </button>\n",
              "\n",
              "  <style>\n",
              "    .colab-df-container {\n",
              "      display:flex;\n",
              "      gap: 12px;\n",
              "    }\n",
              "\n",
              "    .colab-df-convert {\n",
              "      background-color: #E8F0FE;\n",
              "      border: none;\n",
              "      border-radius: 50%;\n",
              "      cursor: pointer;\n",
              "      display: none;\n",
              "      fill: #1967D2;\n",
              "      height: 32px;\n",
              "      padding: 0 0 0 0;\n",
              "      width: 32px;\n",
              "    }\n",
              "\n",
              "    .colab-df-convert:hover {\n",
              "      background-color: #E2EBFA;\n",
              "      box-shadow: 0px 1px 2px rgba(60, 64, 67, 0.3), 0px 1px 3px 1px rgba(60, 64, 67, 0.15);\n",
              "      fill: #174EA6;\n",
              "    }\n",
              "\n",
              "    .colab-df-buttons div {\n",
              "      margin-bottom: 4px;\n",
              "    }\n",
              "\n",
              "    [theme=dark] .colab-df-convert {\n",
              "      background-color: #3B4455;\n",
              "      fill: #D2E3FC;\n",
              "    }\n",
              "\n",
              "    [theme=dark] .colab-df-convert:hover {\n",
              "      background-color: #434B5C;\n",
              "      box-shadow: 0px 1px 3px 1px rgba(0, 0, 0, 0.15);\n",
              "      filter: drop-shadow(0px 1px 2px rgba(0, 0, 0, 0.3));\n",
              "      fill: #FFFFFF;\n",
              "    }\n",
              "  </style>\n",
              "\n",
              "    <script>\n",
              "      const buttonEl =\n",
              "        document.querySelector('#df-67c7e4c2-6ee4-4d7c-99ee-d8447d9839a8 button.colab-df-convert');\n",
              "      buttonEl.style.display =\n",
              "        google.colab.kernel.accessAllowed ? 'block' : 'none';\n",
              "\n",
              "      async function convertToInteractive(key) {\n",
              "        const element = document.querySelector('#df-67c7e4c2-6ee4-4d7c-99ee-d8447d9839a8');\n",
              "        const dataTable =\n",
              "          await google.colab.kernel.invokeFunction('convertToInteractive',\n",
              "                                                    [key], {});\n",
              "        if (!dataTable) return;\n",
              "\n",
              "        const docLinkHtml = 'Like what you see? Visit the ' +\n",
              "          '<a target=\"_blank\" href=https://colab.research.google.com/notebooks/data_table.ipynb>data table notebook</a>'\n",
              "          + ' to learn more about interactive tables.';\n",
              "        element.innerHTML = '';\n",
              "        dataTable['output_type'] = 'display_data';\n",
              "        await google.colab.output.renderOutput(dataTable, element);\n",
              "        const docLink = document.createElement('div');\n",
              "        docLink.innerHTML = docLinkHtml;\n",
              "        element.appendChild(docLink);\n",
              "      }\n",
              "    </script>\n",
              "  </div>\n",
              "\n",
              "\n",
              "<div id=\"df-3e298e10-74e5-4919-8773-9238e5095327\">\n",
              "  <button class=\"colab-df-quickchart\" onclick=\"quickchart('df-3e298e10-74e5-4919-8773-9238e5095327')\"\n",
              "            title=\"Suggest charts.\"\n",
              "            style=\"display:none;\">\n",
              "\n",
              "<svg xmlns=\"http://www.w3.org/2000/svg\" height=\"24px\"viewBox=\"0 0 24 24\"\n",
              "     width=\"24px\">\n",
              "    <g>\n",
              "        <path d=\"M19 3H5c-1.1 0-2 .9-2 2v14c0 1.1.9 2 2 2h14c1.1 0 2-.9 2-2V5c0-1.1-.9-2-2-2zM9 17H7v-7h2v7zm4 0h-2V7h2v10zm4 0h-2v-4h2v4z\"/>\n",
              "    </g>\n",
              "</svg>\n",
              "  </button>\n",
              "\n",
              "<style>\n",
              "  .colab-df-quickchart {\n",
              "      --bg-color: #E8F0FE;\n",
              "      --fill-color: #1967D2;\n",
              "      --hover-bg-color: #E2EBFA;\n",
              "      --hover-fill-color: #174EA6;\n",
              "      --disabled-fill-color: #AAA;\n",
              "      --disabled-bg-color: #DDD;\n",
              "  }\n",
              "\n",
              "  [theme=dark] .colab-df-quickchart {\n",
              "      --bg-color: #3B4455;\n",
              "      --fill-color: #D2E3FC;\n",
              "      --hover-bg-color: #434B5C;\n",
              "      --hover-fill-color: #FFFFFF;\n",
              "      --disabled-bg-color: #3B4455;\n",
              "      --disabled-fill-color: #666;\n",
              "  }\n",
              "\n",
              "  .colab-df-quickchart {\n",
              "    background-color: var(--bg-color);\n",
              "    border: none;\n",
              "    border-radius: 50%;\n",
              "    cursor: pointer;\n",
              "    display: none;\n",
              "    fill: var(--fill-color);\n",
              "    height: 32px;\n",
              "    padding: 0;\n",
              "    width: 32px;\n",
              "  }\n",
              "\n",
              "  .colab-df-quickchart:hover {\n",
              "    background-color: var(--hover-bg-color);\n",
              "    box-shadow: 0 1px 2px rgba(60, 64, 67, 0.3), 0 1px 3px 1px rgba(60, 64, 67, 0.15);\n",
              "    fill: var(--button-hover-fill-color);\n",
              "  }\n",
              "\n",
              "  .colab-df-quickchart-complete:disabled,\n",
              "  .colab-df-quickchart-complete:disabled:hover {\n",
              "    background-color: var(--disabled-bg-color);\n",
              "    fill: var(--disabled-fill-color);\n",
              "    box-shadow: none;\n",
              "  }\n",
              "\n",
              "  .colab-df-spinner {\n",
              "    border: 2px solid var(--fill-color);\n",
              "    border-color: transparent;\n",
              "    border-bottom-color: var(--fill-color);\n",
              "    animation:\n",
              "      spin 1s steps(1) infinite;\n",
              "  }\n",
              "\n",
              "  @keyframes spin {\n",
              "    0% {\n",
              "      border-color: transparent;\n",
              "      border-bottom-color: var(--fill-color);\n",
              "      border-left-color: var(--fill-color);\n",
              "    }\n",
              "    20% {\n",
              "      border-color: transparent;\n",
              "      border-left-color: var(--fill-color);\n",
              "      border-top-color: var(--fill-color);\n",
              "    }\n",
              "    30% {\n",
              "      border-color: transparent;\n",
              "      border-left-color: var(--fill-color);\n",
              "      border-top-color: var(--fill-color);\n",
              "      border-right-color: var(--fill-color);\n",
              "    }\n",
              "    40% {\n",
              "      border-color: transparent;\n",
              "      border-right-color: var(--fill-color);\n",
              "      border-top-color: var(--fill-color);\n",
              "    }\n",
              "    60% {\n",
              "      border-color: transparent;\n",
              "      border-right-color: var(--fill-color);\n",
              "    }\n",
              "    80% {\n",
              "      border-color: transparent;\n",
              "      border-right-color: var(--fill-color);\n",
              "      border-bottom-color: var(--fill-color);\n",
              "    }\n",
              "    90% {\n",
              "      border-color: transparent;\n",
              "      border-bottom-color: var(--fill-color);\n",
              "    }\n",
              "  }\n",
              "</style>\n",
              "\n",
              "  <script>\n",
              "    async function quickchart(key) {\n",
              "      const quickchartButtonEl =\n",
              "        document.querySelector('#' + key + ' button');\n",
              "      quickchartButtonEl.disabled = true;  // To prevent multiple clicks.\n",
              "      quickchartButtonEl.classList.add('colab-df-spinner');\n",
              "      try {\n",
              "        const charts = await google.colab.kernel.invokeFunction(\n",
              "            'suggestCharts', [key], {});\n",
              "      } catch (error) {\n",
              "        console.error('Error during call to suggestCharts:', error);\n",
              "      }\n",
              "      quickchartButtonEl.classList.remove('colab-df-spinner');\n",
              "      quickchartButtonEl.classList.add('colab-df-quickchart-complete');\n",
              "    }\n",
              "    (() => {\n",
              "      let quickchartButtonEl =\n",
              "        document.querySelector('#df-3e298e10-74e5-4919-8773-9238e5095327 button');\n",
              "      quickchartButtonEl.style.display =\n",
              "        google.colab.kernel.accessAllowed ? 'block' : 'none';\n",
              "    })();\n",
              "  </script>\n",
              "</div>\n",
              "    </div>\n",
              "  </div>\n"
            ]
          },
          "metadata": {},
          "execution_count": 22
        }
      ]
    },
    {
      "cell_type": "code",
      "source": [],
      "metadata": {
        "id": "yONDdS4giGfC"
      },
      "execution_count": null,
      "outputs": []
    },
    {
      "cell_type": "code",
      "source": [
        "duplicates = set()\n",
        "for i in range(0, len(data_train.columns)):\n",
        "    col1 = data_train.columns[i]\n",
        "    for j in range(i+1, len(data_train.columns)):\n",
        "        col2 = data_train.columns[j]\n",
        "        if(data_train[col1].equals(data_train[col2])):\n",
        "            duplicates.add(col2)\n",
        "\n",
        "print (duplicates)\n",
        "data_train.drop(duplicates, axis=1, inplace=True)\n",
        "print (data_train.shape)"
      ],
      "metadata": {
        "colab": {
          "base_uri": "https://localhost:8080/"
        },
        "id": "UeA5GBuw8vnp",
        "outputId": "5f0bef99-9660-4ebc-db8a-99e9bb88c898"
      },
      "execution_count": null,
      "outputs": [
        {
          "output_type": "stream",
          "name": "stdout",
          "text": [
            "{'SYN Flag Cnt', 'Bwd URG Flags', 'Subflow Bwd Pkts', 'CWE Flag Count', 'Fwd URG Flags', 'Subflow Fwd Pkts', 'Bwd Pkts/b Avg', 'Bwd Blk Rate Avg', 'Bwd Byts/b Avg', 'Fwd Blk Rate Avg', 'Subflow Fwd Byts', 'Subflow Bwd Byts', 'Fwd Seg Size Avg', 'Fwd Byts/b Avg', 'Fwd Pkts/b Avg'}\n",
            "(761886, 64)\n"
          ]
        }
      ]
    },
    {
      "cell_type": "code",
      "source": [
        "y = data_train['Label']\n",
        "y.shape\n"
      ],
      "metadata": {
        "colab": {
          "base_uri": "https://localhost:8080/"
        },
        "id": "QeguKx89yIKR",
        "outputId": "9f118002-ac0d-4945-a610-b6054214e663"
      },
      "execution_count": null,
      "outputs": [
        {
          "output_type": "execute_result",
          "data": {
            "text/plain": [
              "(761886,)"
            ]
          },
          "metadata": {},
          "execution_count": 24
        }
      ]
    },
    {
      "cell_type": "code",
      "source": [
        "X =data_train.drop('Label', axis=1)\n",
        "X.shape"
      ],
      "metadata": {
        "colab": {
          "base_uri": "https://localhost:8080/"
        },
        "id": "V3NvpuGwyMz8",
        "outputId": "cb61dc0f-6353-431b-bfd8-3ce466bae800"
      },
      "execution_count": null,
      "outputs": [
        {
          "output_type": "execute_result",
          "data": {
            "text/plain": [
              "(761886, 63)"
            ]
          },
          "metadata": {},
          "execution_count": 25
        }
      ]
    },
    {
      "cell_type": "code",
      "source": [
        "X = pd.get_dummies(X)\n",
        "X.shape"
      ],
      "metadata": {
        "colab": {
          "base_uri": "https://localhost:8080/"
        },
        "id": "Nl1ahQLgyTop",
        "outputId": "0ec5fa2b-f80b-4360-e0b8-80eb46f6333d"
      },
      "execution_count": null,
      "outputs": [
        {
          "output_type": "execute_result",
          "data": {
            "text/plain": [
              "(761886, 63)"
            ]
          },
          "metadata": {},
          "execution_count": 26
        }
      ]
    },
    {
      "cell_type": "code",
      "source": [
        "import numpy as np\n",
        "import matplotlib.pyplot as plt\n",
        "import seaborn as sns\n",
        "from sklearn.metrics import confusion_matrix\n",
        "from sklearn.tree import DecisionTreeClassifier\n",
        "from sklearn.model_selection import train_test_split\n",
        "X_train,X_test,y_train,y_test=train_test_split(X,y,test_size=0.3)\n",
        "# Assuming you have y_true (true labels) and y_pred (predicted labels) defined\n",
        "model=DecisionTreeClassifier()\n",
        "model.fit(X_train,y_train)\n",
        "y_pred=model.predict(X_test)\n",
        "# Compute the confusion matrix\n",
        "cm = confusion_matrix(y_test, y_pred)\n",
        "\n",
        "# Display the confusion matrix using a heatmap\n",
        "plt.figure(figsize=(8, 6))\n",
        "sns.heatmap(cm, annot=True, fmt='d', cmap='Blues', cbar=False)\n",
        "plt.xlabel('Predicted')\n",
        "plt.ylabel('Actual')\n",
        "plt.title('Confusion Matrix')\n",
        "plt.show()\n"
      ],
      "metadata": {
        "colab": {
          "base_uri": "https://localhost:8080/",
          "height": 564
        },
        "id": "ckQWi3aej0tV",
        "outputId": "14221fa1-6f73-4e11-985d-9fa4b0003089"
      },
      "execution_count": null,
      "outputs": [
        {
          "output_type": "display_data",
          "data": {
            "text/plain": [
              "<Figure size 800x600 with 1 Axes>"
            ],
            "image/png": "[encoded data removed]"
          },
          "metadata": {}
        }
      ]
    },
    {
      "cell_type": "code",
      "source": [
        "from sklearn.tree import DecisionTreeClassifier"
      ],
      "metadata": {
        "id": "qo0F1DyeS4hB"
      },
      "execution_count": null,
      "outputs": []
    },
    {
      "cell_type": "code",
      "source": [
        "data_train['Label'].unique()"
      ],
      "metadata": {
        "colab": {
          "base_uri": "https://localhost:8080/"
        },
        "id": "MQapOtssTqAS",
        "outputId": "14b524e9-8c74-4fd2-8a50-e7f21cc54dd4"
      },
      "execution_count": null,
      "outputs": [
        {
          "output_type": "execute_result",
          "data": {
            "text/plain": [
              "array([0, 1])"
            ]
          },
          "metadata": {},
          "execution_count": 53
        }
      ]
    },
    {
      "cell_type": "code",
      "source": [
        "data_train['Label']=data_train['Label'].replace('Benign',0)\n",
        "data_train['Label']=data_train['Label'].replace('Malicious',1)\n"
      ],
      "metadata": {
        "id": "IZbiof8BUSNj"
      },
      "execution_count": null,
      "outputs": []
    },
    {
      "cell_type": "code",
      "source": [
        "X_train,X_test,y_train,y_test=train_test_split(X,y,test_size=0.3,random_state=42)"
      ],
      "metadata": {
        "id": "3X1y6kjXU6dX"
      },
      "execution_count": null,
      "outputs": []
    },
    {
      "cell_type": "code",
      "source": [
        "y = data_train['Label']\n",
        "y.shape\n"
      ],
      "metadata": {
        "colab": {
          "base_uri": "https://localhost:8080/"
        },
        "id": "AaJcEYkNVAuq",
        "outputId": "53d63f3a-91cc-4f5d-f62b-23c33585b840"
      },
      "execution_count": null,
      "outputs": [
        {
          "output_type": "execute_result",
          "data": {
            "text/plain": [
              "(761886,)"
            ]
          },
          "metadata": {},
          "execution_count": 56
        }
      ]
    },
    {
      "cell_type": "code",
      "source": [
        "X =data_train.drop('Label', axis=1)\n",
        "X.shape"
      ],
      "metadata": {
        "colab": {
          "base_uri": "https://localhost:8080/"
        },
        "id": "GmZJDmyJVIB3",
        "outputId": "da314d9f-dcc0-4d5c-e7a3-d6182260d6a1"
      },
      "execution_count": null,
      "outputs": [
        {
          "output_type": "execute_result",
          "data": {
            "text/plain": [
              "(761886, 63)"
            ]
          },
          "metadata": {},
          "execution_count": 57
        }
      ]
    },
    {
      "cell_type": "code",
      "source": [
        "X_train,X_test,y_train,y_test=train_test_split(X,y,test_size=0.3,random_state=42)"
      ],
      "metadata": {
        "id": "Wih8BEXpVJbZ"
      },
      "execution_count": null,
      "outputs": []
    },
    {
      "cell_type": "code",
      "source": [
        "import numpy as np\n",
        "import pandas as pd\n",
        "from sklearn.preprocessing import StandardScaler\n",
        "\n",
        "# Assuming 'data_train' is a DataFrame with a column you want to reshape\n",
        "data = data_train.values  # Extract the column as a NumPy array\n",
        "\n",
        "# Reshape the 1D array into a 2D array\n",
        "data_2d = data.reshape(-1, 1)\n",
        "\n",
        "# Now, you can use the data_2d in scikit-learn functions\n",
        "scaler = StandardScaler()\n",
        "scaled_data = scaler.fit_transform(data_2d)\n"
      ],
      "metadata": {
        "id": "YSZFttJUViXB"
      },
      "execution_count": null,
      "outputs": []
    },
    {
      "cell_type": "code",
      "source": [
        "model= DecisionTreeClassifier ()\n",
        "model.fit(X_train,y_train)\n",
        "y_pred=model.predict(y_test)"
      ],
      "metadata": {
        "colab": {
          "base_uri": "https://localhost:8080/",
          "height": 442
        },
        "id": "3mNpIeEmS4eZ",
        "outputId": "c37fdfd9-d0c6-42eb-8304-74083962aa11"
      },
      "execution_count": null,
      "outputs": [
        {
          "output_type": "stream",
          "name": "stderr",
          "text": [
            "/usr/local/lib/python3.10/dist-packages/sklearn/base.py:439: UserWarning: X does not have valid feature names, but DecisionTreeClassifier was fitted with feature names\n",
            "  warnings.warn(\n"
          ]
        },
        {
          "output_type": "error",
          "ename": "ValueError",
          "evalue": "ignored",
          "traceback": [
            "\u001b[0;31m---------------------------------------------------------------------------\u001b[0m",
            "\u001b[0;31mValueError\u001b[0m                                Traceback (most recent call last)",
            "\u001b[0;32m<ipython-input-60-0b9974a9dfa7>\u001b[0m in \u001b[0;36m<cell line: 3>\u001b[0;34m()\u001b[0m\n\u001b[1;32m      1\u001b[0m \u001b[0mmodel\u001b[0m\u001b[0;34m=\u001b[0m \u001b[0mDecisionTreeClassifier\u001b[0m \u001b[0;34m(\u001b[0m\u001b[0;34m)\u001b[0m\u001b[0;34m\u001b[0m\u001b[0;34m\u001b[0m\u001b[0m\n\u001b[1;32m      2\u001b[0m \u001b[0mmodel\u001b[0m\u001b[0;34m.\u001b[0m\u001b[0mfit\u001b[0m\u001b[0;34m(\u001b[0m\u001b[0mX_train\u001b[0m\u001b[0;34m,\u001b[0m\u001b[0my_train\u001b[0m\u001b[0;34m)\u001b[0m\u001b[0;34m\u001b[0m\u001b[0;34m\u001b[0m\u001b[0m\n\u001b[0;32m----> 3\u001b[0;31m \u001b[0my_pred\u001b[0m\u001b[0;34m=\u001b[0m\u001b[0mmodel\u001b[0m\u001b[0;34m.\u001b[0m\u001b[0mpredict\u001b[0m\u001b[0;34m(\u001b[0m\u001b[0my_test\u001b[0m\u001b[0;34m)\u001b[0m\u001b[0;34m\u001b[0m\u001b[0;34m\u001b[0m\u001b[0m\n\u001b[0m",
            "\u001b[0;32m/usr/local/lib/python3.10/dist-packages/sklearn/tree/_classes.py\u001b[0m in \u001b[0;36mpredict\u001b[0;34m(self, X, check_input)\u001b[0m\n\u001b[1;32m    424\u001b[0m         \"\"\"\n\u001b[1;32m    425\u001b[0m         \u001b[0mcheck_is_fitted\u001b[0m\u001b[0;34m(\u001b[0m\u001b[0mself\u001b[0m\u001b[0;34m)\u001b[0m\u001b[0;34m\u001b[0m\u001b[0;34m\u001b[0m\u001b[0m\n\u001b[0;32m--> 426\u001b[0;31m         \u001b[0mX\u001b[0m \u001b[0;34m=\u001b[0m \u001b[0mself\u001b[0m\u001b[0;34m.\u001b[0m\u001b[0m_validate_X_predict\u001b[0m\u001b[0;34m(\u001b[0m\u001b[0mX\u001b[0m\u001b[0;34m,\u001b[0m \u001b[0mcheck_input\u001b[0m\u001b[0;34m)\u001b[0m\u001b[0;34m\u001b[0m\u001b[0;34m\u001b[0m\u001b[0m\n\u001b[0m\u001b[1;32m    427\u001b[0m         \u001b[0mproba\u001b[0m \u001b[0;34m=\u001b[0m \u001b[0mself\u001b[0m\u001b[0;34m.\u001b[0m\u001b[0mtree_\u001b[0m\u001b[0;34m.\u001b[0m\u001b[0mpredict\u001b[0m\u001b[0;34m(\u001b[0m\u001b[0mX\u001b[0m\u001b[0;34m)\u001b[0m\u001b[0;34m\u001b[0m\u001b[0;34m\u001b[0m\u001b[0m\n\u001b[1;32m    428\u001b[0m         \u001b[0mn_samples\u001b[0m \u001b[0;34m=\u001b[0m \u001b[0mX\u001b[0m\u001b[0;34m.\u001b[0m\u001b[0mshape\u001b[0m\u001b[0;34m[\u001b[0m\u001b[0;36m0\u001b[0m\u001b[0;34m]\u001b[0m\u001b[0;34m\u001b[0m\u001b[0;34m\u001b[0m\u001b[0m\n",
            "\u001b[0;32m/usr/local/lib/python3.10/dist-packages/sklearn/tree/_classes.py\u001b[0m in \u001b[0;36m_validate_X_predict\u001b[0;34m(self, X, check_input)\u001b[0m\n\u001b[1;32m    390\u001b[0m         \u001b[0;34m\"\"\"Validate the training data on predict (probabilities).\"\"\"\u001b[0m\u001b[0;34m\u001b[0m\u001b[0;34m\u001b[0m\u001b[0m\n\u001b[1;32m    391\u001b[0m         \u001b[0;32mif\u001b[0m \u001b[0mcheck_input\u001b[0m\u001b[0;34m:\u001b[0m\u001b[0;34m\u001b[0m\u001b[0;34m\u001b[0m\u001b[0m\n\u001b[0;32m--> 392\u001b[0;31m             \u001b[0mX\u001b[0m \u001b[0;34m=\u001b[0m \u001b[0mself\u001b[0m\u001b[0;34m.\u001b[0m\u001b[0m_validate_data\u001b[0m\u001b[0;34m(\u001b[0m\u001b[0mX\u001b[0m\u001b[0;34m,\u001b[0m \u001b[0mdtype\u001b[0m\u001b[0;34m=\u001b[0m\u001b[0mDTYPE\u001b[0m\u001b[0;34m,\u001b[0m \u001b[0maccept_sparse\u001b[0m\u001b[0;34m=\u001b[0m\u001b[0;34m\"csr\"\u001b[0m\u001b[0;34m,\u001b[0m \u001b[0mreset\u001b[0m\u001b[0;34m=\u001b[0m\u001b[0;32mFalse\u001b[0m\u001b[0;34m)\u001b[0m\u001b[0;34m\u001b[0m\u001b[0;34m\u001b[0m\u001b[0m\n\u001b[0m\u001b[1;32m    393\u001b[0m             if issparse(X) and (\n\u001b[1;32m    394\u001b[0m                 \u001b[0mX\u001b[0m\u001b[0;34m.\u001b[0m\u001b[0mindices\u001b[0m\u001b[0;34m.\u001b[0m\u001b[0mdtype\u001b[0m \u001b[0;34m!=\u001b[0m \u001b[0mnp\u001b[0m\u001b[0;34m.\u001b[0m\u001b[0mintc\u001b[0m \u001b[0;32mor\u001b[0m \u001b[0mX\u001b[0m\u001b[0;34m.\u001b[0m\u001b[0mindptr\u001b[0m\u001b[0;34m.\u001b[0m\u001b[0mdtype\u001b[0m \u001b[0;34m!=\u001b[0m \u001b[0mnp\u001b[0m\u001b[0;34m.\u001b[0m\u001b[0mintc\u001b[0m\u001b[0;34m\u001b[0m\u001b[0;34m\u001b[0m\u001b[0m\n",
            "\u001b[0;32m/usr/local/lib/python3.10/dist-packages/sklearn/base.py\u001b[0m in \u001b[0;36m_validate_data\u001b[0;34m(self, X, y, reset, validate_separately, **check_params)\u001b[0m\n\u001b[1;32m    563\u001b[0m             \u001b[0;32mraise\u001b[0m \u001b[0mValueError\u001b[0m\u001b[0;34m(\u001b[0m\u001b[0;34m\"Validation should be done on X, y or both.\"\u001b[0m\u001b[0;34m)\u001b[0m\u001b[0;34m\u001b[0m\u001b[0;34m\u001b[0m\u001b[0m\n\u001b[1;32m    564\u001b[0m         \u001b[0;32melif\u001b[0m \u001b[0;32mnot\u001b[0m \u001b[0mno_val_X\u001b[0m \u001b[0;32mand\u001b[0m \u001b[0mno_val_y\u001b[0m\u001b[0;34m:\u001b[0m\u001b[0;34m\u001b[0m\u001b[0;34m\u001b[0m\u001b[0m\n\u001b[0;32m--> 565\u001b[0;31m             \u001b[0mX\u001b[0m \u001b[0;34m=\u001b[0m \u001b[0mcheck_array\u001b[0m\u001b[0;34m(\u001b[0m\u001b[0mX\u001b[0m\u001b[0;34m,\u001b[0m \u001b[0minput_name\u001b[0m\u001b[0;34m=\u001b[0m\u001b[0;34m\"X\"\u001b[0m\u001b[0;34m,\u001b[0m \u001b[0;34m**\u001b[0m\u001b[0mcheck_params\u001b[0m\u001b[0;34m)\u001b[0m\u001b[0;34m\u001b[0m\u001b[0;34m\u001b[0m\u001b[0m\n\u001b[0m\u001b[1;32m    566\u001b[0m             \u001b[0mout\u001b[0m \u001b[0;34m=\u001b[0m \u001b[0mX\u001b[0m\u001b[0;34m\u001b[0m\u001b[0;34m\u001b[0m\u001b[0m\n\u001b[1;32m    567\u001b[0m         \u001b[0;32melif\u001b[0m \u001b[0mno_val_X\u001b[0m \u001b[0;32mand\u001b[0m \u001b[0;32mnot\u001b[0m \u001b[0mno_val_y\u001b[0m\u001b[0;34m:\u001b[0m\u001b[0;34m\u001b[0m\u001b[0;34m\u001b[0m\u001b[0m\n",
            "\u001b[0;32m/usr/local/lib/python3.10/dist-packages/sklearn/utils/validation.py\u001b[0m in \u001b[0;36mcheck_array\u001b[0;34m(array, accept_sparse, accept_large_sparse, dtype, order, copy, force_all_finite, ensure_2d, allow_nd, ensure_min_samples, ensure_min_features, estimator, input_name)\u001b[0m\n\u001b[1;32m    900\u001b[0m             \u001b[0;31m# If input is 1D raise error\u001b[0m\u001b[0;34m\u001b[0m\u001b[0;34m\u001b[0m\u001b[0m\n\u001b[1;32m    901\u001b[0m             \u001b[0;32mif\u001b[0m \u001b[0marray\u001b[0m\u001b[0;34m.\u001b[0m\u001b[0mndim\u001b[0m \u001b[0;34m==\u001b[0m \u001b[0;36m1\u001b[0m\u001b[0;34m:\u001b[0m\u001b[0;34m\u001b[0m\u001b[0;34m\u001b[0m\u001b[0m\n\u001b[0;32m--> 902\u001b[0;31m                 raise ValueError(\n\u001b[0m\u001b[1;32m    903\u001b[0m                     \u001b[0;34m\"Expected 2D array, got 1D array instead:\\narray={}.\\n\"\u001b[0m\u001b[0;34m\u001b[0m\u001b[0;34m\u001b[0m\u001b[0m\n\u001b[1;32m    904\u001b[0m                     \u001b[0;34m\"Reshape your data either using array.reshape(-1, 1) if \"\u001b[0m\u001b[0;34m\u001b[0m\u001b[0;34m\u001b[0m\u001b[0m\n",
            "\u001b[0;31mValueError\u001b[0m: Expected 2D array, got 1D array instead:\narray=[0. 0. 1. ... 0. 1. 1.].\nReshape your data either using array.reshape(-1, 1) if your data has a single feature or array.reshape(1, -1) if it contains a single sample."
          ]
        }
      ]
    },
    {
      "cell_type": "code",
      "source": [],
      "metadata": {
        "id": "5fkmuJHqS4UU"
      },
      "execution_count": null,
      "outputs": []
    },
    {
      "cell_type": "code",
      "source": [
        "from scipy.stats import chi2_contingency\n",
        "alpha = 0.05\n",
        "stat, p, dof, expected = chi2_contingency(pd.crosstab(data_train['Dst Port'],data_train['Label']))\n",
        "print(\"p =\", p)\n",
        "\n",
        "if p<=alpha:\n",
        "    print(\"\\nDst Port and Label columns are dependent\")\n",
        "else:\n",
        "    print(\"\\nDst Port and  label columns are independent\")\n"
      ],
      "metadata": {
        "colab": {
          "base_uri": "https://localhost:8080/"
        },
        "id": "BS3tN7zGy9AN",
        "outputId": "a29aba99-fb4e-4282-896a-ec9849680efc"
      },
      "execution_count": null,
      "outputs": [
        {
          "output_type": "stream",
          "name": "stdout",
          "text": [
            "p = 0.0\n",
            "\n",
            "Dst Port and Label columns are dependent\n"
          ]
        }
      ]
    },
    {
      "cell_type": "code",
      "source": [
        "from scipy.stats import chi2_contingency\n",
        "alpha = 0.05\n",
        "stat, p, dof, expected = chi2_contingency(pd.crosstab(data_train['Protocol'],data_train['Label']))\n",
        "print(\"p =\", p)\n",
        "\n",
        "if p<=alpha:\n",
        "    print(\"\\nProtocol and Label columns are dependent\")\n",
        "else:\n",
        "    print(\"\\nProtocol and  label columns are independent\")\n"
      ],
      "metadata": {
        "colab": {
          "base_uri": "https://localhost:8080/"
        },
        "id": "NN3-Rd3pzWZH",
        "outputId": "6cde5f07-b360-42e6-da4c-f6ac6ebc3342"
      },
      "execution_count": null,
      "outputs": [
        {
          "output_type": "stream",
          "name": "stdout",
          "text": [
            "p = 0.0\n",
            "\n",
            "Protocol and Label columns are dependent\n"
          ]
        }
      ]
    },
    {
      "cell_type": "code",
      "source": [
        "from scipy.stats import chi2_contingency\n",
        "alpha = 0.05\n",
        "stat, p, dof, expected = chi2_contingency(pd.crosstab(data_train['Flow Duration'],data_train['Label']))\n",
        "print(\"p =\", p)\n",
        "\n",
        "if p<=alpha:\n",
        "    print(\"\\nFlow Duration and Label columns are dependent\")\n",
        "else:\n",
        "    print(\"\\nFlow Duration and  label columns are independent\")"
      ],
      "metadata": {
        "colab": {
          "base_uri": "https://localhost:8080/"
        },
        "id": "vA4H6N17zdFz",
        "outputId": "f6a12b58-e50f-4845-f6a8-f9f6676a6254"
      },
      "execution_count": null,
      "outputs": [
        {
          "output_type": "stream",
          "name": "stdout",
          "text": [
            "p = 0.0\n",
            "\n",
            "Flow Duration and Label columns are dependent\n"
          ]
        }
      ]
    },
    {
      "cell_type": "code",
      "source": [
        "from scipy.stats import chi2_contingency\n",
        "alpha = 0.05\n",
        "stat, p, dof, expected = chi2_contingency(pd.crosstab(data_train['Tot Fwd Pkts'],data_train['Label']))\n",
        "print(\"p =\", p)\n",
        "\n",
        "if p<=alpha:\n",
        "    print(\"\\nTot Fwd Pkts and Label columns are dependent\")\n",
        "else:\n",
        "    print(\"\\nTot Fwd Pktsand  label columns are independent\")"
      ],
      "metadata": {
        "colab": {
          "base_uri": "https://localhost:8080/"
        },
        "id": "Im-D28A9zmLM",
        "outputId": "20c19630-566a-4dfb-aec0-5dbd005055dd"
      },
      "execution_count": null,
      "outputs": [
        {
          "output_type": "stream",
          "name": "stdout",
          "text": [
            "p = 0.0\n",
            "\n",
            "Tot Fwd Pkts and Label columns are dependent\n"
          ]
        }
      ]
    },
    {
      "cell_type": "code",
      "source": [
        "from scipy.stats import chi2_contingency\n",
        "alpha = 0.05\n",
        "stat, p, dof, expected = chi2_contingency(pd.crosstab(data_train['Tot Bwd Pkts'],data_train['Label']))\n",
        "print(\"p =\", p)\n",
        "\n",
        "if p<=alpha:\n",
        "    print(\"\\nTot Bwd Pkts and Label columns are dependent\")\n",
        "else:\n",
        "    print(\"\\nTot Bwd Pktsand  label columns are independent\")"
      ],
      "metadata": {
        "colab": {
          "base_uri": "https://localhost:8080/"
        },
        "id": "QtdC2bymzuk0",
        "outputId": "fabd3e1f-a0b9-4527-ebe5-d5c4eb82f069"
      },
      "execution_count": null,
      "outputs": [
        {
          "output_type": "stream",
          "name": "stdout",
          "text": [
            "p = 0.0\n",
            "\n",
            "Tot Bwd Pkts and Label columns are dependent\n"
          ]
        }
      ]
    },
    {
      "cell_type": "code",
      "source": [
        "from scipy.stats import chi2_contingency\n",
        "alpha = 0.05\n",
        "stat, p, dof, expected = chi2_contingency(pd.crosstab(data_train['TotLen Fwd Pkts'],data_train['Label']))\n",
        "print(\"p =\", p)\n",
        "\n",
        "if p<=alpha:\n",
        "    print(\"\\nTotLen Fwd Pkts and Label columns are dependent\")\n",
        "else:\n",
        "    print(\"\\nTotLen Fwd Pkts and  label columns are independent\")"
      ],
      "metadata": {
        "colab": {
          "base_uri": "https://localhost:8080/"
        },
        "id": "ovNJS4hXz1at",
        "outputId": "a725545f-2680-4d55-8d97-d05b6941f8f5"
      },
      "execution_count": null,
      "outputs": [
        {
          "output_type": "stream",
          "name": "stdout",
          "text": [
            "p = 0.0\n",
            "\n",
            "TotLen Fwd Pkts and Label columns are dependent\n"
          ]
        }
      ]
    },
    {
      "cell_type": "code",
      "source": [
        "from scipy.stats import chi2_contingency\n",
        "alpha = 0.05\n",
        "stat, p, dof, expected = chi2_contingency(pd.crosstab(data_train['TotLen Bwd Pkts'],data_train['Label']))\n",
        "print(\"p =\", p)\n",
        "\n",
        "if p<=alpha:\n",
        "    print(\"\\nTotLen Bwd Pkts and Label columns are dependent\")\n",
        "else:\n",
        "    print(\"\\nTotLen Bwd Pkts and  label columns are independent\")"
      ],
      "metadata": {
        "colab": {
          "base_uri": "https://localhost:8080/"
        },
        "id": "hSy9c3X2z8uw",
        "outputId": "4ed17d63-7c30-462c-b49f-0498c8cb9b6c"
      },
      "execution_count": null,
      "outputs": [
        {
          "output_type": "stream",
          "name": "stdout",
          "text": [
            "p = 0.0\n",
            "\n",
            "TotLen Bwd Pkts and Label columns are dependent\n"
          ]
        }
      ]
    },
    {
      "cell_type": "code",
      "source": [
        "from scipy.stats import chi2_contingency\n",
        "alpha = 0.05\n",
        "stat, p, dof, expected = chi2_contingency(pd.crosstab(data_train['Fwd Pkt Len Max'],data_train['Label']))\n",
        "print(\"p =\", p)\n",
        "\n",
        "if p<=alpha:\n",
        "    print(\"\\nFwd Pkt Len Max and Label columns are dependent\")\n",
        "else:\n",
        "    print(\"\\nFwd Pkt Len Max and  label columns are independent\")"
      ],
      "metadata": {
        "colab": {
          "base_uri": "https://localhost:8080/"
        },
        "id": "d8lMxZXB0E8L",
        "outputId": "a14b35cd-ab1a-429a-8e70-b131e3cf372f"
      },
      "execution_count": null,
      "outputs": [
        {
          "output_type": "stream",
          "name": "stdout",
          "text": [
            "p = 0.0\n",
            "\n",
            "Fwd Pkt Len Max and Label columns are dependent\n"
          ]
        }
      ]
    },
    {
      "cell_type": "code",
      "source": [
        "from scipy.stats import chi2_contingency\n",
        "alpha = 0.05\n",
        "stat, p, dof, expected = chi2_contingency(pd.crosstab(data_train['Fwd Pkt Len Mean'],data_train['Label']))\n",
        "print(\"p =\", p)\n",
        "\n",
        "if p<=alpha:\n",
        "    print(\"\\nFwd Pkt Len Mean and Label columns are dependent\")\n",
        "else:\n",
        "    print(\"\\n Fwd Pkt Len Mean and  label columns are independent\")"
      ],
      "metadata": {
        "colab": {
          "base_uri": "https://localhost:8080/"
        },
        "id": "3fjocu0P0RH5",
        "outputId": "42138415-ec2e-495c-8d84-6530965cce82"
      },
      "execution_count": null,
      "outputs": [
        {
          "output_type": "stream",
          "name": "stdout",
          "text": [
            "p = 0.0\n",
            "\n",
            "Fwd Pkt Len Mean and Label columns are dependent\n"
          ]
        }
      ]
    },
    {
      "cell_type": "code",
      "source": [
        "from scipy.stats import chi2_contingency\n",
        "alpha = 0.05\n",
        "stat, p, dof, expected = chi2_contingency(pd.crosstab(data_train['Fwd Pkt Len Std'],data_train['Label']))\n",
        "print(\"p =\", p)\n",
        "\n",
        "if p<=alpha:\n",
        "    print(\"\\nFwd Pkt Len Std  and Label columns are dependent\")\n",
        "else:\n",
        "    print(\"\\nFwd Pkt Len Std  and  label columns are independent\")"
      ],
      "metadata": {
        "colab": {
          "base_uri": "https://localhost:8080/"
        },
        "id": "p-GF01U00i57",
        "outputId": "9b5c80f0-b1f7-4927-b390-64a48f6b9b23"
      },
      "execution_count": null,
      "outputs": [
        {
          "output_type": "stream",
          "name": "stdout",
          "text": [
            "p = 0.0\n",
            "\n",
            "Fwd Pkt Len Std  and Label columns are dependent\n"
          ]
        }
      ]
    },
    {
      "cell_type": "code",
      "source": [
        "from scipy.stats import chi2_contingency\n",
        "alpha = 0.05\n",
        "stat, p, dof, expected = chi2_contingency(pd.crosstab(data_train['Bwd Pkt Len Max'],data_train['Label']))\n",
        "print(\"p =\", p)\n",
        "\n",
        "if p<=alpha:\n",
        "    print(\"\\nBwd Pkt Len Max and Label columns are dependent\")\n",
        "else:\n",
        "    print(\"\\nBwd Pkt Len Max  and  label columns are independent\")"
      ],
      "metadata": {
        "colab": {
          "base_uri": "https://localhost:8080/"
        },
        "id": "h2LQn3F70zTz",
        "outputId": "622172b3-5f59-44b9-9e35-5189f36cb471"
      },
      "execution_count": null,
      "outputs": [
        {
          "output_type": "stream",
          "name": "stdout",
          "text": [
            "p = 0.0\n",
            "\n",
            "Bwd Pkt Len Max and Label columns are dependent\n"
          ]
        }
      ]
    },
    {
      "cell_type": "code",
      "source": [
        "from scipy.stats import chi2_contingency\n",
        "alpha = 0.05\n",
        "stat, p, dof, expected = chi2_contingency(pd.crosstab(data_train['Bwd Pkt Len Min'],data_train['Label']))\n",
        "print(\"p =\", p)\n",
        "\n",
        "if p<=alpha:\n",
        "    print(\"\\nBwd Pkt Len Minand Label columns are dependent\")\n",
        "else:\n",
        "    print(\"\\nBwd Pkt Len MIn  and  label columns are independent\")"
      ],
      "metadata": {
        "colab": {
          "base_uri": "https://localhost:8080/"
        },
        "id": "xlIbyOzL0_xf",
        "outputId": "7a371052-76bc-4bb4-b1f4-3f90ba6609d6"
      },
      "execution_count": null,
      "outputs": [
        {
          "output_type": "stream",
          "name": "stdout",
          "text": [
            "p = 0.0\n",
            "\n",
            "Bwd Pkt Len Minand Label columns are dependent\n"
          ]
        }
      ]
    },
    {
      "cell_type": "code",
      "source": [
        "from scipy.stats import chi2_contingency\n",
        "alpha = 0.05\n",
        "stat, p, dof, expected = chi2_contingency(pd.crosstab(data_train['Bwd Pkt Len Mean'],data_train['Label']))\n",
        "print(\"p =\", p)\n",
        "\n",
        "if p<=alpha:\n",
        "    print(\"\\nBwd Pkt Len Mean and Label columns are dependent\")\n",
        "else:\n",
        "    print(\"\\nBwd Pkt Len Mean  and  label columns are independent\")"
      ],
      "metadata": {
        "colab": {
          "base_uri": "https://localhost:8080/"
        },
        "id": "A4w6KRDj1JuY",
        "outputId": "c4d72bb0-fed7-4e45-eee8-96623dc88f19"
      },
      "execution_count": null,
      "outputs": [
        {
          "output_type": "stream",
          "name": "stdout",
          "text": [
            "p = 0.0\n",
            "\n",
            "Bwd Pkt Len Mean and Label columns are dependent\n"
          ]
        }
      ]
    },
    {
      "cell_type": "code",
      "source": [
        "from scipy.stats import chi2_contingency\n",
        "alpha = 0.05\n",
        "stat, p, dof, expected = chi2_contingency(pd.crosstab(data_train['Bwd Pkt Len Std'],data_train['Label']))\n",
        "print(\"p =\", p)\n",
        "\n",
        "if p<=alpha:\n",
        "    print(\"\\nBwd Pkt Len Stdand Label columns are dependent\")\n",
        "else:\n",
        "    print(\"\\nBwd Pkt Len Std  and  label columns are independent\")"
      ],
      "metadata": {
        "colab": {
          "base_uri": "https://localhost:8080/"
        },
        "id": "JgJg0I2b1QCx",
        "outputId": "ddc5ea1f-7a98-40b3-bb57-0c9a1bdcf658"
      },
      "execution_count": null,
      "outputs": [
        {
          "output_type": "stream",
          "name": "stdout",
          "text": [
            "p = 0.0\n",
            "\n",
            "Bwd Pkt Len Stdand Label columns are dependent\n"
          ]
        }
      ]
    },
    {
      "cell_type": "code",
      "source": [
        "from scipy.stats import chi2_contingency\n",
        "alpha = 0.05\n",
        "stat, p, dof, expected = chi2_contingency(pd.crosstab(data_train['Flow Byts/s'],data_train['Label']))\n",
        "print(\"p =\", p)\n",
        "\n",
        "if p<=alpha:\n",
        "    print(\"\\nFlow Byts/s and Label columns are dependent\")\n",
        "else:\n",
        "    print(\"\\nFlow Byts/s and  label columns are independent\")"
      ],
      "metadata": {
        "colab": {
          "base_uri": "https://localhost:8080/"
        },
        "id": "mC9zXc2V1WIV",
        "outputId": "49c6a21e-8d61-4596-e855-5b7ad495f997"
      },
      "execution_count": null,
      "outputs": [
        {
          "output_type": "stream",
          "name": "stdout",
          "text": [
            "p = 0.0\n",
            "\n",
            "Flow Byts/s and Label columns are dependent\n"
          ]
        }
      ]
    },
    {
      "cell_type": "code",
      "source": [
        "from scipy.stats import chi2_contingency\n",
        "alpha = 0.05\n",
        "stat, p, dof, expected = chi2_contingency(pd.crosstab(data_train['Flow Pkts/s'],data_train['Label']))\n",
        "print(\"p =\", p)\n",
        "\n",
        "if p<=alpha:\n",
        "    print(\"\\nFlow pkts/s and Label columns are dependent\")\n",
        "else:\n",
        "    print(\"\\nFlow pkts/s and  label columns are independent\")"
      ],
      "metadata": {
        "colab": {
          "base_uri": "https://localhost:8080/"
        },
        "id": "d0Kn8hGl1gKI",
        "outputId": "eeb1544d-a6fd-4a23-ad20-ccc72d44da12"
      },
      "execution_count": null,
      "outputs": [
        {
          "output_type": "stream",
          "name": "stdout",
          "text": [
            "p = 0.0\n",
            "\n",
            "Flow pkts/s and Label columns are dependent\n"
          ]
        }
      ]
    },
    {
      "cell_type": "code",
      "source": [
        "from scipy.stats import chi2_contingency\n",
        "alpha = 0.05\n",
        "stat, p, dof, expected = chi2_contingency(pd.crosstab(data_train['Flow IAT Mean'],data_train['Label']))\n",
        "print(\"p =\", p)\n",
        "\n",
        "if p<=alpha:\n",
        "    print(\"\\nFlow IAT Mean  and Label columns are dependent\")\n",
        "else:\n",
        "    print(\"\\nFlow IAT Mean and  label columns are independent\")"
      ],
      "metadata": {
        "colab": {
          "base_uri": "https://localhost:8080/"
        },
        "id": "gC7EmUEq1kyM",
        "outputId": "fb625d25-3b4e-4fd5-a615-5bc2de39cbf4"
      },
      "execution_count": null,
      "outputs": [
        {
          "output_type": "stream",
          "name": "stdout",
          "text": [
            "p = 0.0\n",
            "\n",
            "Flow IAT Mean  and Label columns are dependent\n"
          ]
        }
      ]
    },
    {
      "cell_type": "code",
      "source": [
        "from scipy.stats import chi2_contingency\n",
        "alpha = 0.05\n",
        "stat, p, dof, expected = chi2_contingency(pd.crosstab(data_train['Flow IAT Std'],data_train['Label']))\n",
        "print(\"p =\", p)\n",
        "\n",
        "if p<=alpha:\n",
        "    print(\"\\nFlow IAT Std and Label columns are dependent\")\n",
        "else:\n",
        "    print(\"\\nFlow IAT Std and  label columns are independent\")"
      ],
      "metadata": {
        "colab": {
          "base_uri": "https://localhost:8080/"
        },
        "id": "uDjZjKZD1_eU",
        "outputId": "8938ae7c-2be2-44ea-95b5-61e19a855fbe"
      },
      "execution_count": null,
      "outputs": [
        {
          "output_type": "stream",
          "name": "stdout",
          "text": [
            "p = 0.0\n",
            "\n",
            "Flow IAT Std and Label columns are dependent\n"
          ]
        }
      ]
    },
    {
      "cell_type": "code",
      "source": [
        "from scipy.stats import chi2_contingency\n",
        "alpha = 0.05\n",
        "stat, p, dof, expected = chi2_contingency(pd.crosstab(data_train['Flow IAT Max'],data_train['Label']))\n",
        "print(\"p =\", p)\n",
        "\n",
        "if p<=alpha:\n",
        "    print(\"\\nFlow IATMax and Label columns are dependent\")\n",
        "else:\n",
        "    print(\"\\nFlow IAT Max and  label columns are independent\")"
      ],
      "metadata": {
        "colab": {
          "base_uri": "https://localhost:8080/"
        },
        "id": "DZxymadc2HGP",
        "outputId": "2ce24001-cea2-49a1-fc47-b1c429c0451c"
      },
      "execution_count": null,
      "outputs": [
        {
          "output_type": "stream",
          "name": "stdout",
          "text": [
            "p = 0.0\n",
            "\n",
            "Flow IATMax and Label columns are dependent\n"
          ]
        }
      ]
    },
    {
      "cell_type": "code",
      "source": [
        "from scipy.stats import chi2_contingency\n",
        "alpha = 0.05\n",
        "stat, p, dof, expected = chi2_contingency(pd.crosstab(data_train['Flow IAT Min'],data_train['Label']))\n",
        "print(\"p =\", p)\n",
        "\n",
        "if p<=alpha:\n",
        "    print(\"\\nFlow IAT Min and Label columns are dependent\")\n",
        "else:\n",
        "    print(\"\\nFlow IAT Min and  label columns are independent\")"
      ],
      "metadata": {
        "colab": {
          "base_uri": "https://localhost:8080/"
        },
        "id": "7BgAxQa12M4-",
        "outputId": "27d17ee4-3dfc-4007-c0c1-b36ed97823c8"
      },
      "execution_count": null,
      "outputs": [
        {
          "output_type": "stream",
          "name": "stdout",
          "text": [
            "p = 0.0\n",
            "\n",
            "Flow IAT Min and Label columns are dependent\n"
          ]
        }
      ]
    },
    {
      "cell_type": "code",
      "source": [
        "from scipy.stats import chi2_contingency\n",
        "alpha = 0.05\n",
        "stat, p, dof, expected = chi2_contingency(pd.crosstab(data_train['Fwd IAT Tot'],data_train['Label']))\n",
        "print(\"p =\", p)\n",
        "\n",
        "if p<=alpha:\n",
        "    print(\"\\nFwd IAT Tot and Label columns are dependent\")\n",
        "else:\n",
        "    print(\"\\nFwd IAT Tot and  label columns are independent\")"
      ],
      "metadata": {
        "colab": {
          "base_uri": "https://localhost:8080/"
        },
        "id": "0Vx4bWew2Sd-",
        "outputId": "31273640-7f3a-4ecd-a25e-40b937ff2589"
      },
      "execution_count": null,
      "outputs": [
        {
          "output_type": "stream",
          "name": "stdout",
          "text": [
            "p = 0.0\n",
            "\n",
            "Fwd IAT Tot and Label columns are dependent\n"
          ]
        }
      ]
    },
    {
      "cell_type": "code",
      "source": [
        "from scipy.stats import chi2_contingency\n",
        "alpha = 0.05\n",
        "stat, p, dof, expected = chi2_contingency(pd.crosstab(data_train['Fwd IAT Mean'],data_train['Label']))\n",
        "print(\"p =\", p)\n",
        "\n",
        "if p<=alpha:\n",
        "    print(\"\\nFwd IAT Mean and Label columns are dependent\")\n",
        "else:\n",
        "    print(\"\\nFwd IATMean and  label columns are independent\")"
      ],
      "metadata": {
        "colab": {
          "base_uri": "https://localhost:8080/"
        },
        "id": "tHPRzysB2Z-j",
        "outputId": "7b4a8ac8-ef56-44bf-edb0-e0a815a4f9d3"
      },
      "execution_count": null,
      "outputs": [
        {
          "output_type": "stream",
          "name": "stdout",
          "text": [
            "p = 0.0\n",
            "\n",
            "Fwd IAT Mean and Label columns are dependent\n"
          ]
        }
      ]
    },
    {
      "cell_type": "code",
      "source": [
        "from scipy.stats import chi2_contingency\n",
        "alpha = 0.05\n",
        "stat, p, dof, expected = chi2_contingency(pd.crosstab(data_train['Fwd IAT Std'],data_train['Label']))\n",
        "print(\"p =\", p)\n",
        "\n",
        "if p<=alpha:\n",
        "    print(\"\\nFwd IAT Std and Label columns are dependent\")\n",
        "else:\n",
        "    print(\"\\nFwd IAT Std and  label columns are independent\")"
      ],
      "metadata": {
        "colab": {
          "base_uri": "https://localhost:8080/"
        },
        "id": "IRRWajPD2hWY",
        "outputId": "a0a20a95-65fd-435a-b744-60d4d82505ff"
      },
      "execution_count": null,
      "outputs": [
        {
          "output_type": "stream",
          "name": "stdout",
          "text": [
            "p = 0.0\n",
            "\n",
            "Fwd IAT Std and Label columns are dependent\n"
          ]
        }
      ]
    },
    {
      "cell_type": "code",
      "source": [
        "from scipy.stats import chi2_contingency\n",
        "alpha = 0.05\n",
        "stat, p, dof, expected = chi2_contingency(pd.crosstab(data_train['Fwd IAT Max'],data_train['Label']))\n",
        "print(\"p =\", p)\n",
        "\n",
        "if p<=alpha:\n",
        "    print(\"\\nFwd IAT Max and Label columns are dependent\")\n",
        "else:\n",
        "    print(\"\\nFwd IAT Max and  label columns are independent\")"
      ],
      "metadata": {
        "colab": {
          "base_uri": "https://localhost:8080/"
        },
        "id": "6PpDCtd72pwr",
        "outputId": "2e4efc10-6685-4bd8-ebd0-f0449d2a8dd9"
      },
      "execution_count": null,
      "outputs": [
        {
          "output_type": "stream",
          "name": "stdout",
          "text": [
            "p = 0.0\n",
            "\n",
            "Fwd IAT Max and Label columns are dependent\n"
          ]
        }
      ]
    },
    {
      "cell_type": "code",
      "source": [
        "from scipy.stats import chi2_contingency\n",
        "alpha = 0.05\n",
        "stat, p, dof, expected = chi2_contingency(pd.crosstab(data_train['Fwd IAT Min'],data_train['Label']))\n",
        "print(\"p =\", p)\n",
        "\n",
        "if p<=alpha:\n",
        "    print(\"\\nFwd IAT Min and Label columns are dependent\")\n",
        "else:\n",
        "    print(\"\\nFwd IAT Min and  label columns are independent\")"
      ],
      "metadata": {
        "colab": {
          "base_uri": "https://localhost:8080/"
        },
        "id": "uMCBddkN2wlI",
        "outputId": "63c61748-f280-4df0-8778-03586b5ce2cb"
      },
      "execution_count": null,
      "outputs": [
        {
          "output_type": "stream",
          "name": "stdout",
          "text": [
            "p = 0.0\n",
            "\n",
            "Fwd IAT Min and Label columns are dependent\n"
          ]
        }
      ]
    },
    {
      "cell_type": "code",
      "source": [
        "from scipy.stats import chi2_contingency\n",
        "alpha = 0.05\n",
        "stat, p, dof, expected = chi2_contingency(pd.crosstab(data_train['Bwd IAT Tot'],data_train['Label']))\n",
        "print(\"p =\", p)\n",
        "\n",
        "if p<=alpha:\n",
        "    print(\"\\nBwd IAT Tot and Label columns are dependent\")\n",
        "else:\n",
        "    print(\"\\nBwd IAT Tot and  label columns are independent\")"
      ],
      "metadata": {
        "colab": {
          "base_uri": "https://localhost:8080/"
        },
        "id": "vPIP3ZNL24JK",
        "outputId": "ca552f1b-22a6-46ef-d0af-0ff0cc086b1e"
      },
      "execution_count": null,
      "outputs": [
        {
          "output_type": "stream",
          "name": "stdout",
          "text": [
            "p = 0.0\n",
            "\n",
            "Bwd IAT Tot and Label columns are dependent\n"
          ]
        }
      ]
    },
    {
      "cell_type": "code",
      "source": [
        "from scipy.stats import chi2_contingency\n",
        "alpha = 0.05\n",
        "stat, p, dof, expected = chi2_contingency(pd.crosstab(data_train['Bwd IAT Mean'],data_train['Label']))\n",
        "print(\"p =\", p)\n",
        "\n",
        "if p<=alpha:\n",
        "    print(\"\\nBwd IAT Mean and Label columns are dependent\")\n",
        "else:\n",
        "    print(\"\\nBwd IAT Mean and  label columns are independent\")"
      ],
      "metadata": {
        "colab": {
          "base_uri": "https://localhost:8080/"
        },
        "id": "xiCX7KsA2_79",
        "outputId": "e6cbe973-ab9c-4b8a-9399-f88c30fe4904"
      },
      "execution_count": null,
      "outputs": [
        {
          "output_type": "stream",
          "name": "stdout",
          "text": [
            "p = 0.0\n",
            "\n",
            "Bwd IAT Mean and Label columns are dependent\n"
          ]
        }
      ]
    },
    {
      "cell_type": "code",
      "source": [
        "from scipy.stats import chi2_contingency\n",
        "alpha = 0.05\n",
        "stat, p, dof, expected = chi2_contingency(pd.crosstab(data_train['Bwd IAT Std'],data_train['Label']))\n",
        "print(\"p =\", p)\n",
        "\n",
        "if p<=alpha:\n",
        "    print(\"\\nBwd IAT Std and Label columns are dependent\")\n",
        "else:\n",
        "    print(\"\\nBwd IATStd and  label columns are independent\")"
      ],
      "metadata": {
        "colab": {
          "base_uri": "https://localhost:8080/"
        },
        "id": "sMoD_0jq5KCi",
        "outputId": "45a0194e-6c7c-4bed-b244-bb7124fda583"
      },
      "execution_count": null,
      "outputs": [
        {
          "output_type": "stream",
          "name": "stdout",
          "text": [
            "p = 1.70377670174685e-56\n",
            "\n",
            "Bwd IAT Std and Label columns are dependent\n"
          ]
        }
      ]
    },
    {
      "cell_type": "code",
      "source": [
        "from scipy.stats import chi2_contingency\n",
        "alpha = 0.05\n",
        "stat, p, dof, expected = chi2_contingency(pd.crosstab(data_train['Bwd IAT Max'],data_train['Label']))\n",
        "print(\"p =\", p)\n",
        "\n",
        "if p<=alpha:\n",
        "    print(\"\\nBwd IAT Max and Label columns are dependent\")\n",
        "else:\n",
        "    print(\"\\nBwd IAT MAx and  label columns are independent\")"
      ],
      "metadata": {
        "colab": {
          "base_uri": "https://localhost:8080/"
        },
        "id": "NLA6_fur5VHH",
        "outputId": "6a3d1663-0b6b-45fa-e66a-e67eff02e8f2"
      },
      "execution_count": null,
      "outputs": [
        {
          "output_type": "stream",
          "name": "stdout",
          "text": [
            "p = 0.0\n",
            "\n",
            "Bwd IAT Max and Label columns are dependent\n"
          ]
        }
      ]
    },
    {
      "cell_type": "code",
      "source": [
        "from scipy.stats import chi2_contingency\n",
        "alpha = 0.05\n",
        "stat, p, dof, expected = chi2_contingency(pd.crosstab(data_train['Bwd IAT Min'],data_train['Label']))\n",
        "print(\"p =\", p)\n",
        "\n",
        "if p<=alpha:\n",
        "    print(\"\\nBwd IAT Min and Label columns are dependent\")\n",
        "else:\n",
        "    print(\"\\nBwd IAT Min and  label columns are independent\")"
      ],
      "metadata": {
        "colab": {
          "base_uri": "https://localhost:8080/"
        },
        "id": "NU1lwxO75gv5",
        "outputId": "04819348-acb1-4f21-8256-d932328a128f"
      },
      "execution_count": null,
      "outputs": [
        {
          "output_type": "stream",
          "name": "stdout",
          "text": [
            "p = 0.0\n",
            "\n",
            "Bwd IAT Min and Label columns are dependent\n"
          ]
        }
      ]
    },
    {
      "cell_type": "code",
      "source": [
        "from scipy.stats import chi2_contingency\n",
        "alpha = 0.05\n",
        "stat, p, dof, expected = chi2_contingency(pd.crosstab(data_train['Fwd PSH Flags'],data_train['Label']))\n",
        "print(\"p =\", p)\n",
        "\n",
        "if p<=alpha:\n",
        "    print(\"\\nFwd PSH Flags and Label columns are dependent\")\n",
        "else:\n",
        "    print(\"\\nFwd PSH Flags and  label columns are independent\")"
      ],
      "metadata": {
        "colab": {
          "base_uri": "https://localhost:8080/"
        },
        "id": "PW7A6pps5ppM",
        "outputId": "75f831af-9ab5-48eb-8871-a128850a2cd0"
      },
      "execution_count": null,
      "outputs": [
        {
          "output_type": "stream",
          "name": "stdout",
          "text": [
            "p = 0.0\n",
            "\n",
            "Fwd PSH Flags and Label columns are dependent\n"
          ]
        }
      ]
    },
    {
      "cell_type": "code",
      "source": [
        "from scipy.stats import chi2_contingency\n",
        "alpha = 0.05\n",
        "stat, p, dof, expected = chi2_contingency(pd.crosstab(data_train['Bwd PSH Flags'],data_train['Label']))\n",
        "print(\"p =\", p)\n",
        "\n",
        "if p<=alpha:\n",
        "    print(\"\\nBwd PSH Flags and Label columns are dependent\")\n",
        "else:\n",
        "    print(\"\\nBwd PSH Flags and  label columns are independent\")"
      ],
      "metadata": {
        "colab": {
          "base_uri": "https://localhost:8080/"
        },
        "id": "K1t1gRQH5vm2",
        "outputId": "345c41f4-c2e0-4605-e8f5-5d564539bfd3"
      },
      "execution_count": null,
      "outputs": [
        {
          "output_type": "stream",
          "name": "stdout",
          "text": [
            "p = 1.0\n",
            "\n",
            "Bwd PSH Flags and  label columns are independent\n"
          ]
        }
      ]
    },
    {
      "cell_type": "code",
      "source": [
        "from scipy.stats import chi2_contingency\n",
        "alpha = 0.05\n",
        "stat, p, dof, expected = chi2_contingency(pd.crosstab(data_train['Fwd Header Len'],data_train['Label']))\n",
        "print(\"p =\", p)\n",
        "\n",
        "if p<=alpha:\n",
        "    print(\"\\ Fwd Header Len and Label columns are dependent\")\n",
        "else:\n",
        "    print(\"\\nFwd Header Len and  label columns are independent\")"
      ],
      "metadata": {
        "colab": {
          "base_uri": "https://localhost:8080/"
        },
        "id": "FSl1y2Zg51P7",
        "outputId": "2db708d4-f6a5-41eb-a4d2-a82e09739e0a"
      },
      "execution_count": null,
      "outputs": [
        {
          "output_type": "stream",
          "name": "stdout",
          "text": [
            "p = 0.0\n",
            "\\ Fwd Header Len and Label columns are dependent\n"
          ]
        }
      ]
    },
    {
      "cell_type": "code",
      "source": [
        "from scipy.stats import chi2_contingency\n",
        "alpha = 0.05\n",
        "stat, p, dof, expected = chi2_contingency(pd.crosstab(data_train['Bwd Header Len'],data_train['Label']))\n",
        "print(\"p =\", p)\n",
        "\n",
        "if p<=alpha:\n",
        "    print(\"\\ Bwd Header Len and Label columns are dependent\")\n",
        "else:\n",
        "    print(\"\\nBwd Header Len and  label columns are independent\")"
      ],
      "metadata": {
        "colab": {
          "base_uri": "https://localhost:8080/"
        },
        "id": "5YQkf9mk6KWd",
        "outputId": "d7d35a00-6075-4ac3-eb73-e2c4c470c238"
      },
      "execution_count": null,
      "outputs": [
        {
          "output_type": "stream",
          "name": "stdout",
          "text": [
            "p = 0.0\n",
            "\\ Bwd Header Len and Label columns are dependent\n"
          ]
        }
      ]
    },
    {
      "cell_type": "code",
      "source": [
        "from scipy.stats import chi2_contingency\n",
        "alpha = 0.05\n",
        "stat, p, dof, expected = chi2_contingency(pd.crosstab(data_train['Fwd Pkts/s'],data_train['Label']))\n",
        "print(\"p =\", p)\n",
        "\n",
        "if p<=alpha:\n",
        "    print(\"\\ Fwd Pkts/s and Label columns are dependent\")\n",
        "else:\n",
        "    print(\"\\nFwd Pkts/s and  label columns are independent\")"
      ],
      "metadata": {
        "colab": {
          "base_uri": "https://localhost:8080/"
        },
        "id": "i7fqkEpL6O1J",
        "outputId": "9b30f8c1-68db-4201-fd76-ca97da61bfc8"
      },
      "execution_count": null,
      "outputs": [
        {
          "output_type": "stream",
          "name": "stdout",
          "text": [
            "p = 0.0\n",
            "\\ Fwd Pkts/s and Label columns are dependent\n"
          ]
        }
      ]
    },
    {
      "cell_type": "code",
      "source": [
        "from scipy.stats import chi2_contingency\n",
        "alpha = 0.05\n",
        "stat, p, dof, expected = chi2_contingency(pd.crosstab(data_train['Bwd Pkts/s'],data_train['Label']))\n",
        "print(\"p =\", p)\n",
        "\n",
        "if p<=alpha:\n",
        "    print(\"\\ Bwd Pkts/s and Label columns are dependent\")\n",
        "else:\n",
        "    print(\"\\nBwd Pkts/s and  label columns are independent\")"
      ],
      "metadata": {
        "colab": {
          "base_uri": "https://localhost:8080/"
        },
        "id": "FXUYJMlx6cdP",
        "outputId": "2b156a0c-4bac-461a-9302-24ea35c2556e"
      },
      "execution_count": null,
      "outputs": [
        {
          "output_type": "stream",
          "name": "stdout",
          "text": [
            "p = 0.0\n",
            "\\ Bwd Pkts/s and Label columns are dependent\n"
          ]
        }
      ]
    },
    {
      "cell_type": "code",
      "source": [
        "from scipy.stats import chi2_contingency\n",
        "alpha = 0.05\n",
        "stat, p, dof, expected = chi2_contingency(pd.crosstab(data_train['Pkt Len Min'],data_train['Label']))\n",
        "print(\"p =\", p)\n",
        "\n",
        "if p<=alpha:\n",
        "    print(\"\\ Pkt Len Min and Label columns are dependent\")\n",
        "else:\n",
        "    print(\"\\nPkt Len Minand  label columns are independent\")"
      ],
      "metadata": {
        "colab": {
          "base_uri": "https://localhost:8080/"
        },
        "id": "O1V4-VLV6nOP",
        "outputId": "f275d609-d4eb-47d4-fa88-6d7e547f9ba5"
      },
      "execution_count": null,
      "outputs": [
        {
          "output_type": "stream",
          "name": "stdout",
          "text": [
            "p = 0.0\n",
            "\\ Pkt Len Min and Label columns are dependent\n"
          ]
        }
      ]
    },
    {
      "cell_type": "code",
      "source": [
        "from scipy.stats import chi2_contingency\n",
        "alpha = 0.05\n",
        "stat, p, dof, expected = chi2_contingency(pd.crosstab(data_train['Pkt Len Max'],data_train['Label']))\n",
        "print(\"p =\", p)\n",
        "\n",
        "if p<=alpha:\n",
        "    print(\"\\ Pkt Len Max and Label columns are dependent\")\n",
        "else:\n",
        "    print(\"\\nPkt Len Max and  label columns are independent\")"
      ],
      "metadata": {
        "colab": {
          "base_uri": "https://localhost:8080/"
        },
        "id": "YkIOyhmu6tIs",
        "outputId": "ad5a6235-ddf9-48a1-aa1f-123bdbfb09b1"
      },
      "execution_count": null,
      "outputs": [
        {
          "output_type": "stream",
          "name": "stdout",
          "text": [
            "p = 0.0\n",
            "\\ Pkt Len Max and Label columns are dependent\n"
          ]
        }
      ]
    },
    {
      "cell_type": "code",
      "source": [
        "\n",
        "from scipy.stats import chi2_contingency\n",
        "alpha = 0.05\n",
        "stat, p, dof, expected = chi2_contingency(pd.crosstab(data_train['Pkt Len Mean'],data_train['Label']))\n",
        "print(\"p =\", p)\n",
        "\n",
        "if p<=alpha:\n",
        "    print(\"\\ Pkt Len Mean and Label columns are dependent\")\n",
        "else:\n",
        "    print(\"\\nPkt Len Mean and  label columns are independent\")"
      ],
      "metadata": {
        "colab": {
          "base_uri": "https://localhost:8080/"
        },
        "id": "uspx_qE560VG",
        "outputId": "61d269f0-590d-4e85-81f7-091451a55966"
      },
      "execution_count": null,
      "outputs": [
        {
          "output_type": "stream",
          "name": "stdout",
          "text": [
            "p = 0.0\n",
            "\\ Pkt Len Mean and Label columns are dependent\n"
          ]
        }
      ]
    },
    {
      "cell_type": "code",
      "source": [
        "from scipy.stats import chi2_contingency\n",
        "alpha = 0.05\n",
        "stat, p, dof, expected = chi2_contingency(pd.crosstab(data_train['Pkt Len Std'],data_train['Label']))\n",
        "print(\"p =\", p)\n",
        "\n",
        "if p<=alpha:\n",
        "    print(\"\\ Pkt Len Std and Label columns are dependent\")\n",
        "else:\n",
        "    print(\"\\nPkt Len Std and  label columns are independent\")"
      ],
      "metadata": {
        "colab": {
          "base_uri": "https://localhost:8080/"
        },
        "id": "sW0BuaAl65Yy",
        "outputId": "588944e1-5cc4-49cb-f876-fe9f90e79e42"
      },
      "execution_count": null,
      "outputs": [
        {
          "output_type": "stream",
          "name": "stdout",
          "text": [
            "p = 0.0\n",
            "\\ Pkt Len Std and Label columns are dependent\n"
          ]
        }
      ]
    },
    {
      "cell_type": "code",
      "source": [
        "from scipy.stats import chi2_contingency\n",
        "alpha = 0.05\n",
        "stat, p, dof, expected = chi2_contingency(pd.crosstab(data_train['Pkt Len Var'],data_train['Label']))\n",
        "print(\"p =\", p)\n",
        "\n",
        "if p<=alpha:\n",
        "    print(\"\\ Pkt Len Var and Label columns are dependent\")\n",
        "else:\n",
        "    print(\"\\nPkt Len Var and  label columns are independent\")"
      ],
      "metadata": {
        "colab": {
          "base_uri": "https://localhost:8080/"
        },
        "id": "HF_FDS1Y6-DR",
        "outputId": "2b585d9f-388d-46cc-9b41-160324e88e0f"
      },
      "execution_count": null,
      "outputs": [
        {
          "output_type": "stream",
          "name": "stdout",
          "text": [
            "p = 0.0\n",
            "\\ Pkt Len Var and Label columns are dependent\n"
          ]
        }
      ]
    },
    {
      "cell_type": "code",
      "source": [
        "from scipy.stats import chi2_contingency\n",
        "alpha = 0.05\n",
        "stat, p, dof, expected = chi2_contingency(pd.crosstab(data_train['FIN Flag Cnt'],data_train['Label']))\n",
        "print(\"p =\", p)\n",
        "\n",
        "if p<=alpha:\n",
        "    print(\"\\ FIN Flag Cnt and Label columns are dependent\")\n",
        "else:\n",
        "    print(\"\\nFIN Flag Cnt and  label columns are independent\")"
      ],
      "metadata": {
        "colab": {
          "base_uri": "https://localhost:8080/"
        },
        "id": "iFYfK3LQ7DRB",
        "outputId": "0a30fe49-8bfb-4e3f-b6a2-f7e166682028"
      },
      "execution_count": null,
      "outputs": [
        {
          "output_type": "stream",
          "name": "stdout",
          "text": [
            "p = 0.0\n",
            "\\ FIN Flag Cnt and Label columns are dependent\n"
          ]
        }
      ]
    },
    {
      "cell_type": "code",
      "source": [
        "from scipy.stats import chi2_contingency\n",
        "alpha = 0.05\n",
        "stat, p, dof, expected = chi2_contingency(pd.crosstab(data_train['RST Flag Cnt'],data_train['Label']))\n",
        "print(\"p =\", p)\n",
        "\n",
        "if p<=alpha:\n",
        "    print(\"\\ RST Flag Cnt and Label columns are dependent\")\n",
        "else:\n",
        "    print(\"\\nRST Flag Cnt and  label columns are independent\")"
      ],
      "metadata": {
        "colab": {
          "base_uri": "https://localhost:8080/"
        },
        "id": "73EzfDrI7Ohi",
        "outputId": "fdc1d29f-332f-43e8-9019-7554faefa1a1"
      },
      "execution_count": null,
      "outputs": [
        {
          "output_type": "stream",
          "name": "stdout",
          "text": [
            "p = 0.0\n",
            "\\ RST Flag Cnt and Label columns are dependent\n"
          ]
        }
      ]
    },
    {
      "cell_type": "code",
      "source": [
        "from scipy.stats import chi2_contingency\n",
        "alpha = 0.05\n",
        "stat, p, dof, expected = chi2_contingency(pd.crosstab(data_train['PSH Flag Cnt'],data_train['Label']))\n",
        "print(\"p =\", p)\n",
        "\n",
        "if p<=alpha:\n",
        "    print(\"\\ PSH Flag Cnt and Label columns are dependent\")\n",
        "else:\n",
        "    print(\"\\nPSH Flag Cnt and  label columns are independent\")"
      ],
      "metadata": {
        "colab": {
          "base_uri": "https://localhost:8080/"
        },
        "id": "yb-JhNXa7Uq1",
        "outputId": "c8201456-f78a-43dc-b27a-3e3181595624"
      },
      "execution_count": null,
      "outputs": [
        {
          "output_type": "stream",
          "name": "stdout",
          "text": [
            "p = 0.0\n",
            "\\ PSH Flag Cnt and Label columns are dependent\n"
          ]
        }
      ]
    },
    {
      "cell_type": "code",
      "source": [
        "from scipy.stats import chi2_contingency\n",
        "alpha = 0.05\n",
        "stat, p, dof, expected = chi2_contingency(pd.crosstab(data_train['ACK Flag Cnt'],data_train['Label']))\n",
        "print(\"p =\", p)\n",
        "\n",
        "if p<=alpha:\n",
        "    print(\"\\ ACK Flag Cnt and Label columns are dependent\")\n",
        "else:\n",
        "    print(\"\\nACK Flag Cnt and  label columns are independent\")"
      ],
      "metadata": {
        "colab": {
          "base_uri": "https://localhost:8080/"
        },
        "id": "H5yzx_1D7bXd",
        "outputId": "152f52c2-5354-4e3b-da43-1bbaf0bba505"
      },
      "execution_count": null,
      "outputs": [
        {
          "output_type": "stream",
          "name": "stdout",
          "text": [
            "p = 6.2099961353679245e-130\n",
            "\\ ACK Flag Cnt and Label columns are dependent\n"
          ]
        }
      ]
    },
    {
      "cell_type": "code",
      "source": [
        "from scipy.stats import chi2_contingency\n",
        "alpha = 0.05\n",
        "stat, p, dof, expected = chi2_contingency(pd.crosstab(data_train['URG Flag Cnt'],data_train['Label']))\n",
        "print(\"p =\", p)\n",
        "\n",
        "if p<=alpha:\n",
        "    print(\"\\ URG Flag Cnt and Label columns are dependent\")\n",
        "else:\n",
        "    print(\"\\nURG Flag Cnt and  label columns are independent\")"
      ],
      "metadata": {
        "colab": {
          "base_uri": "https://localhost:8080/"
        },
        "id": "wdcyL_YT7goF",
        "outputId": "eddd7ab0-0336-4d93-bfa0-71512a6d0fbf"
      },
      "execution_count": null,
      "outputs": [
        {
          "output_type": "stream",
          "name": "stdout",
          "text": [
            "p = 0.0\n",
            "\\ URG Flag Cnt and Label columns are dependent\n"
          ]
        }
      ]
    },
    {
      "cell_type": "code",
      "source": [
        "from scipy.stats import chi2_contingency\n",
        "alpha = 0.05\n",
        "stat, p, dof, expected = chi2_contingency(pd.crosstab(data_train['Pkt Size Avg'],data_train['Label']))\n",
        "print(\"p =\", p)\n",
        "\n",
        "if p<=alpha:\n",
        "    print(\"\\ Pkt Size Avg and Label columns are dependent\")\n",
        "else:\n",
        "    print(\"\\nPkt Size Avg and  label columns are independent\")"
      ],
      "metadata": {
        "colab": {
          "base_uri": "https://localhost:8080/"
        },
        "id": "Xug82qqN8DLL",
        "outputId": "bddf9015-6541-43be-e95c-e16fd729e8ab"
      },
      "execution_count": null,
      "outputs": [
        {
          "output_type": "stream",
          "name": "stdout",
          "text": [
            "p = 0.0\n",
            "\\ Pkt Size Avg and Label columns are dependent\n"
          ]
        }
      ]
    },
    {
      "cell_type": "code",
      "source": [
        "from scipy.stats import chi2_contingency\n",
        "alpha = 0.05\n",
        "stat, p, dof, expected = chi2_contingency(pd.crosstab(data_train['Bwd Seg Size Avg'],data_train['Label']))\n",
        "print(\"p =\", p)\n",
        "\n",
        "if p<=alpha:\n",
        "    print(\"\\ Bwd Seg Size Avg and Label columns are dependent\")\n",
        "else:\n",
        "    print(\"\\nBwd Seg Size Avg and  label columns are independent\")"
      ],
      "metadata": {
        "colab": {
          "base_uri": "https://localhost:8080/"
        },
        "id": "Oah8cvzx8P31",
        "outputId": "d2fcf434-d3e4-4817-80b2-af9361278099"
      },
      "execution_count": null,
      "outputs": [
        {
          "output_type": "stream",
          "name": "stdout",
          "text": [
            "p = 0.0\n",
            "\\ Bwd Seg Size Avg and Label columns are dependent\n"
          ]
        }
      ]
    },
    {
      "cell_type": "code",
      "source": [
        "from scipy.stats import chi2_contingency\n",
        "alpha = 0.05\n",
        "stat, p, dof, expected = chi2_contingency(pd.crosstab(data_train['Init Fwd Win Byts'],data_train['Label']))\n",
        "print(\"p =\", p)\n",
        "\n",
        "if p<=alpha:\n",
        "    print(\"\\ Init Fwd Win Byts and Label columns are dependent\")\n",
        "else:\n",
        "    print(\"\\nInit Fwd Win Byts and  label columns are independent\")"
      ],
      "metadata": {
        "colab": {
          "base_uri": "https://localhost:8080/"
        },
        "id": "Jw-SegIr91Df",
        "outputId": "0d00fc6a-7d81-4834-c366-1c218dbce496"
      },
      "execution_count": null,
      "outputs": [
        {
          "output_type": "stream",
          "name": "stdout",
          "text": [
            "p = 0.0\n",
            "\\ Init Fwd Win Byts and Label columns are dependent\n"
          ]
        }
      ]
    },
    {
      "cell_type": "code",
      "source": [
        "from scipy.stats import chi2_contingency\n",
        "alpha = 0.05\n",
        "stat, p, dof, expected = chi2_contingency(pd.crosstab(data_train['Init Bwd Win Byts'],data_train['Label']))\n",
        "print(\"p =\", p)\n",
        "\n",
        "if p<=alpha:\n",
        "    print(\"\\ Init Bwd Win Byts and Label columns are dependent\")\n",
        "else:\n",
        "    print(\"\\nInit Bwd Win Byts and  label columns are independent\")"
      ],
      "metadata": {
        "colab": {
          "base_uri": "https://localhost:8080/"
        },
        "id": "UDULUA9d-AFF",
        "outputId": "b1e58ea7-736d-4437-e170-12c199ee1f43"
      },
      "execution_count": null,
      "outputs": [
        {
          "output_type": "stream",
          "name": "stdout",
          "text": [
            "p = 0.0\n",
            "\\ Init Bwd Win Byts and Label columns are dependent\n"
          ]
        }
      ]
    },
    {
      "cell_type": "code",
      "source": [
        "\n",
        "from scipy.stats import chi2_contingency\n",
        "alpha = 0.05\n",
        "stat, p, dof, expected = chi2_contingency(pd.crosstab(data_train['Fwd Act Data Pkts'],data_train['Label']))\n",
        "print(\"p =\", p)\n",
        "\n",
        "if p<=alpha:\n",
        "    print(\"\\ Fwd Act Data Pkts and Label columns are dependent\")\n",
        "else:\n",
        "    print(\"\\nFwd Act Data Pkts and  label columns are independent\")"
      ],
      "metadata": {
        "colab": {
          "base_uri": "https://localhost:8080/"
        },
        "id": "fiJHNWly-Ii_",
        "outputId": "1f5fbdd3-2cd3-4669-aef6-1ab3eb372b9a"
      },
      "execution_count": null,
      "outputs": [
        {
          "output_type": "stream",
          "name": "stdout",
          "text": [
            "p = 0.0\n",
            "\\ Fwd Act Data Pkts and Label columns are dependent\n"
          ]
        }
      ]
    },
    {
      "cell_type": "code",
      "source": [
        "from scipy.stats import chi2_contingency\n",
        "alpha = 0.05\n",
        "stat, p, dof, expected = chi2_contingency(pd.crosstab(data_train['Fwd Seg Size Min'],data_train['Label']))\n",
        "print(\"p =\", p)\n",
        "\n",
        "if p<=alpha:\n",
        "    print(\"\\ Fwd Seg Size Min and Label columns are dependent\")\n",
        "else:\n",
        "    print(\"\\nFwd Seg Size Min and  label columns are independent\")"
      ],
      "metadata": {
        "colab": {
          "base_uri": "https://localhost:8080/"
        },
        "id": "rkNYNwaf-QF5",
        "outputId": "297d5d2a-cbd9-4c60-dd7a-c2a2a9dba8b4"
      },
      "execution_count": null,
      "outputs": [
        {
          "output_type": "stream",
          "name": "stdout",
          "text": [
            "p = 0.0\n",
            "\\ Fwd Seg Size Min and Label columns are dependent\n"
          ]
        }
      ]
    },
    {
      "cell_type": "code",
      "source": [
        "from scipy.stats import chi2_contingency\n",
        "alpha = 0.05\n",
        "stat, p, dof, expected = chi2_contingency(pd.crosstab(data_train['Active Mean'],data_train['Label']))\n",
        "print(\"p =\", p)\n",
        "\n",
        "if p<=alpha:\n",
        "    print(\"\\ Active Mean and Label columns are dependent\")\n",
        "else:\n",
        "    print(\"\\nActive Mean and  label columns are independent\")"
      ],
      "metadata": {
        "colab": {
          "base_uri": "https://localhost:8080/"
        },
        "id": "4LEuvPoY-Xyt",
        "outputId": "ecc9eba7-c636-4b0e-c014-5993331af59e"
      },
      "execution_count": null,
      "outputs": [
        {
          "output_type": "stream",
          "name": "stdout",
          "text": [
            "p = 1.6248175461926566e-25\n",
            "\\ Active Mean and Label columns are dependent\n"
          ]
        }
      ]
    },
    {
      "cell_type": "code",
      "source": [
        "from scipy.stats import chi2_contingency\n",
        "alpha = 0.05\n",
        "stat, p, dof, expected = chi2_contingency(pd.crosstab(data_train['Active Std'],data_train['Label']))\n",
        "print(\"p =\", p)\n",
        "\n",
        "if p<=alpha:\n",
        "    print(\"\\ Active Std and Label columns are dependent\")\n",
        "else:\n",
        "    print(\"\\nActive Std and  label columns are independent\")"
      ],
      "metadata": {
        "colab": {
          "base_uri": "https://localhost:8080/"
        },
        "id": "yfGFTK3k-fda",
        "outputId": "9054c7f8-b2a1-40eb-bf73-da96d6c6a550"
      },
      "execution_count": null,
      "outputs": [
        {
          "output_type": "stream",
          "name": "stdout",
          "text": [
            "p = 2.5162217480508464e-10\n",
            "\\ Active Std and Label columns are dependent\n"
          ]
        }
      ]
    },
    {
      "cell_type": "code",
      "source": [
        "from scipy.stats import chi2_contingency\n",
        "alpha = 0.05\n",
        "stat, p, dof, expected = chi2_contingency(pd.crosstab(data_train['Active Min'],data_train['Label']))\n",
        "print(\"p =\", p)\n",
        "\n",
        "if p<=alpha:\n",
        "    print(\"\\ Active Min and Label columns are dependent\")\n",
        "else:\n",
        "    print(\"\\nActive Min and  label columns are independent\")"
      ],
      "metadata": {
        "colab": {
          "base_uri": "https://localhost:8080/"
        },
        "id": "o0IS09Gh-kcX",
        "outputId": "ae19cf7b-8984-4693-aa10-8d2dd7b6e960"
      },
      "execution_count": null,
      "outputs": [
        {
          "output_type": "stream",
          "name": "stdout",
          "text": [
            "p = 0.0\n",
            "\\ Active Min and Label columns are dependent\n"
          ]
        }
      ]
    },
    {
      "cell_type": "code",
      "source": [
        "from scipy.stats import chi2_contingency\n",
        "alpha = 0.05\n",
        "stat, p, dof, expected = chi2_contingency(pd.crosstab(data_train['Active Max'],data_train['Label']))\n",
        "print(\"p =\", p)\n",
        "\n",
        "if p<=alpha:\n",
        "    print(\"\\ Active Max and Label columns are dependent\")\n",
        "else:\n",
        "    print(\"\\nActive Max and  label columns are independent\")"
      ],
      "metadata": {
        "colab": {
          "base_uri": "https://localhost:8080/"
        },
        "id": "ozrH9rUR-sB5",
        "outputId": "b537a2ee-30f7-45d0-952e-4fa4371d5589"
      },
      "execution_count": null,
      "outputs": [
        {
          "output_type": "stream",
          "name": "stdout",
          "text": [
            "p = 1.0333724453000207e-38\n",
            "\\ Active Max and Label columns are dependent\n"
          ]
        }
      ]
    },
    {
      "cell_type": "code",
      "source": [
        "from scipy.stats import chi2_contingency\n",
        "alpha = 0.05\n",
        "stat, p, dof, expected = chi2_contingency(pd.crosstab(data_train['Idle Mean'],data_train['Label']))\n",
        "print(\"p =\", p)\n",
        "\n",
        "if p<=alpha:\n",
        "    print(\"\\ Idle Mean and Label columns are dependent\")\n",
        "else:\n",
        "    print(\"\\nIdle Mean and  label columns are independent\")"
      ],
      "metadata": {
        "colab": {
          "base_uri": "https://localhost:8080/"
        },
        "id": "2OrCUrF7-1Ec",
        "outputId": "f0ec2665-e281-4236-ad6e-9c4aa8167f7f"
      },
      "execution_count": null,
      "outputs": [
        {
          "output_type": "stream",
          "name": "stdout",
          "text": [
            "p = 1.4862649285407445e-57\n",
            "\\ Idle Mean and Label columns are dependent\n"
          ]
        }
      ]
    },
    {
      "cell_type": "code",
      "source": [
        "from scipy.stats import chi2_contingency\n",
        "alpha = 0.05\n",
        "stat, p, dof, expected = chi2_contingency(pd.crosstab(data_train['Idle Std'],data_train['Label']))\n",
        "print(\"p =\", p)\n",
        "\n",
        "if p<=alpha:\n",
        "    print(\"\\ Idle Std and Label columns are dependent\")\n",
        "else:\n",
        "    print(\"\\nIdle Std and  label columns are independent\")"
      ],
      "metadata": {
        "colab": {
          "base_uri": "https://localhost:8080/"
        },
        "id": "-MCiBAZb-70K",
        "outputId": "dc3e33de-8cac-43a6-db32-88894d88010e"
      },
      "execution_count": null,
      "outputs": [
        {
          "output_type": "stream",
          "name": "stdout",
          "text": [
            "p = 2.4154561398471307e-102\n",
            "\\ Idle Std and Label columns are dependent\n"
          ]
        }
      ]
    },
    {
      "cell_type": "code",
      "source": [
        "from scipy.stats import chi2_contingency\n",
        "alpha = 0.05\n",
        "stat, p, dof, expected = chi2_contingency(pd.crosstab(data_train['Idle Max'],data_train['Label']))\n",
        "print(\"p =\", p)\n",
        "\n",
        "if p<=alpha:\n",
        "    print(\"\\ Idle Max and Label columns are dependent\")\n",
        "else:\n",
        "    print(\"\\nIdle Max and  label columns are independent\")"
      ],
      "metadata": {
        "colab": {
          "base_uri": "https://localhost:8080/"
        },
        "id": "rPAgXP2k_A0J",
        "outputId": "0c7e7e46-9fad-4332-b3b4-dda5048137fc"
      },
      "execution_count": null,
      "outputs": [
        {
          "output_type": "stream",
          "name": "stdout",
          "text": [
            "p = 0.0\n",
            "\\ Idle Max and Label columns are dependent\n"
          ]
        }
      ]
    },
    {
      "cell_type": "code",
      "source": [
        "from scipy.stats import chi2_contingency\n",
        "alpha = 0.05\n",
        "stat, p, dof, expected = chi2_contingency(pd.crosstab(data_train['Idle Min'],data_train['Label']))\n",
        "print(\"p =\", p)\n",
        "\n",
        "if p<=alpha:\n",
        "    print(\"\\ Idle Min and Label columns are dependent\")\n",
        "else:\n",
        "    print(\"\\nIdle Min and  label columns are independent\")"
      ],
      "metadata": {
        "colab": {
          "base_uri": "https://localhost:8080/"
        },
        "id": "7lo5FYKi_GPB",
        "outputId": "df42aeb0-c926-4466-d9db-8f08a25d4af0"
      },
      "execution_count": null,
      "outputs": [
        {
          "output_type": "stream",
          "name": "stdout",
          "text": [
            "p = 2.3325428982463737e-238\n",
            "\\ Idle Min and Label columns are dependent\n"
          ]
        }
      ]
    },
    {
      "cell_type": "code",
      "source": [
        "# Assuming you have a DataFrame called data_train and want to drop the specified columns\n",
        "columns_to_drop = ['Bwd PSH Flags', 'CWE Flag Count', 'Fwd Byts/b Avg', 'Fwd Pkts/b Avg',\n",
        "                   'Bwd Byts/b Avg', 'Bwd Pkts/b Avg', 'Bwd Blk Rate Avg', 'Active Std']\n",
        "\n",
        "# Check if all the columns exist in the DataFrame before dropping\n",
        "columns_present = all(col in data_train.columns for col in columns_to_drop)\n",
        "\n",
        "if columns_present:\n",
        "    data_train.drop(columns_to_drop, axis=1, inplace=True)\n",
        "\n"
      ],
      "metadata": {
        "id": "LfwTgeqd_Kzn"
      },
      "execution_count": null,
      "outputs": []
    },
    {
      "cell_type": "code",
      "source": [
        "data_train.shape"
      ],
      "metadata": {
        "colab": {
          "base_uri": "https://localhost:8080/"
        },
        "id": "2Tf0agRA_5Hz",
        "outputId": "1d426344-d1b0-4476-a08d-8f4a9bb9889a"
      },
      "execution_count": null,
      "outputs": [
        {
          "output_type": "execute_result",
          "data": {
            "text/plain": [
              "(761886, 63)"
            ]
          },
          "metadata": {},
          "execution_count": 96
        }
      ]
    },
    {
      "cell_type": "markdown",
      "source": [
        "DataSpliting"
      ],
      "metadata": {
        "id": "TlVNiA5s__hG"
      }
    },
    {
      "cell_type": "code",
      "source": [
        "from sklearn.model_selection import train_test_split\n",
        "X_train,X_test,y_train,y_test=train_test_split(X,y,test_size=0.25,random_state=42)"
      ],
      "metadata": {
        "id": "KbZxr83i_3KA"
      },
      "execution_count": null,
      "outputs": []
    },
    {
      "cell_type": "markdown",
      "source": [
        "SGB Classifier"
      ],
      "metadata": {
        "id": "4sHUktKm0Bbg"
      }
    },
    {
      "cell_type": "code",
      "source": [
        "from sklearn.linear_model import SGDClassifier\n",
        "from sklearn.metrics import accuracy_score, recall_score, precision_score, f1_score, confusion_matrix\n",
        "import matplotlib.pyplot as plt\n",
        "import seaborn as sns\n",
        "from sklearn.model_selection import train_test_split\n",
        "\n",
        "# Create an instance of the SGDClassifier\n",
        "sgd_classifier = SGDClassifier()\n",
        "\n",
        "# Train the classifier on the training data\n",
        "sgd_classifier.fit(X_train, y_train)\n",
        "\n",
        "# Make predictions on the test data\n",
        "y_pred = sgd_classifier.predict(X_test)\n",
        "\n",
        "# Calculate accuracy\n",
        "accuracy = accuracy_score(y_test, y_pred)\n",
        "print(\"Accuracy:\", accuracy)\n",
        "\n",
        "# Compute the confusion matrix\n",
        "cm = confusion_matrix(y_test, y_pred)\n",
        "\n",
        "# Display the confusion matrix using a heatmap\n",
        "plt.figure(figsize=(8, 6))\n",
        "sns.heatmap(cm, annot=True, fmt='d', cmap='Blues', cbar=False)\n",
        "plt.xlabel('Predicted')\n",
        "plt.ylabel('Actual')\n",
        "plt.title('Confusion Matrix')\n",
        "plt.show()\n",
        "\n",
        "# Calculate precision with 'micro' average\n",
        "precision = precision_score(y_test, y_pred, average='micro')\n",
        "print(\"Precision:\", precision)\n",
        "\n",
        "# Calculate recall\n",
        "recall = recall_score(y_test, y_pred, average='macro')\n",
        "print(\"Recall:\", recall)\n",
        "\n",
        "# Calculate the F1 score\n",
        "f1 = f1_score(y_test, y_pred, average='macro')\n",
        "print(\"F1 Score:\", f1)\n"
      ],
      "metadata": {
        "id": "hdiFovqGAWLd",
        "colab": {
          "base_uri": "https://localhost:8080/",
          "height": 633
        },
        "outputId": "bad265cc-96df-46b7-9db2-08fa6c0eebe9"
      },
      "execution_count": null,
      "outputs": [
        {
          "output_type": "stream",
          "name": "stdout",
          "text": [
            "Accuracy: 0.9189954014856738\n"
          ]
        },
        {
          "output_type": "display_data",
          "data": {
            "text/plain": [
              "<Figure size 800x600 with 1 Axes>"
            ],
            "image/png": "[encoded data removed]"
          },
          "metadata": {}
        },
        {
          "output_type": "stream",
          "name": "stdout",
          "text": [
            "Precision: 0.9189954014856738\n",
            "Recall: 0.9157244753070582\n",
            "F1 Score: 0.9165844415566331\n"
          ]
        }
      ]
    },
    {
      "cell_type": "markdown",
      "source": [
        "Naive_Bayes"
      ],
      "metadata": {
        "id": "HSoPIo5Q0_V_"
      }
    },
    {
      "cell_type": "code",
      "source": [
        "from sklearn.datasets import fetch_20newsgroups\n",
        "from sklearn.naive_bayes import BernoulliNB\n",
        "from sklearn.feature_extraction.text import TfidfVectorizer\n",
        "from sklearn.metrics import accuracy_score, confusion_matrix\n",
        "import matplotlib.pyplot as plt\n",
        "import seaborn as sns\n",
        "\n",
        "# Load the 20 Newsgroups dataset (a standard dataset in scikit-learn)\n",
        "newsgroups = fetch_20newsgroups(subset='all', shuffle=True, random_state=42)\n",
        "\n",
        "# Assuming 'data' contains the text data and 'target' contains the corresponding labels\n",
        "X = newsgroups.data\n",
        "y = newsgroups.target\n",
        "\n",
        "# Convert text data to TF-IDF feature vectors using TfidfVectorizer\n",
        "vectorizer = TfidfVectorizer()\n",
        "X = vectorizer.fit_transform(X)\n",
        "\n",
        "# Split the data into training and test sets\n",
        "X_train, X_test, y_train, y_test = train_test_split(X, y, test_size=0.3, random_state=42)\n",
        "\n",
        "# Create an instance of BernoulliNB\n",
        "naive_bayes_classifier = BernoulliNB()\n",
        "\n",
        "# Train the classifier on the training data\n",
        "naive_bayes_classifier.fit(X_train, y_train)\n",
        "\n",
        "# Make predictions on the test data\n",
        "y_pred = naive_bayes_classifier.predict(X_test)\n",
        "\n",
        "# Calculate accuracy\n",
        "accuracy = accuracy_score(y_test, y_pred)\n",
        "print(\"Accuracy:\", accuracy)\n",
        "\n",
        "# Compute the confusion matrix\n",
        "cm = confusion_matrix(y_test, y_pred)\n",
        "\n",
        "# Display the confusion matrix using a heatmap\n",
        "plt.figure(figsize=(8, 6))\n",
        "sns.heatmap(cm, annot=True, fmt='d', cmap='Blues', cbar=False)\n",
        "plt.xlabel('Predicted')\n",
        "plt.ylabel('Actual')\n",
        "plt.title('Confusion Matrix')\n",
        "plt.show()\n"
      ],
      "metadata": {
        "colab": {
          "base_uri": "https://localhost:8080/",
          "height": 581
        },
        "id": "Jcaz3RFx0aP3",
        "outputId": "064a7184-4131-4c43-b71b-989cad3f2568"
      },
      "execution_count": null,
      "outputs": [
        {
          "output_type": "stream",
          "name": "stdout",
          "text": [
            "Accuracy: 0.6660771135479306\n"
          ]
        },
        {
          "output_type": "display_data",
          "data": {
            "text/plain": [
              "<Figure size 800x600 with 1 Axes>"
            ],
            "image/png": "[encoded data removed]"
          },
          "metadata": {}
        }
      ]
    },
    {
      "cell_type": "code",
      "source": [
        "precision = precision_score(y_test, y_pred, average='micro') # Change 'micro' to 'macro' or 'weighted' if needed\n",
        "print(\"Precision Score:\", precision)\n",
        "recall = recall_score(y_test, y_pred, average='macro')\n",
        "print(\"Recall:\", recall)\n",
        "f1 = f1_score(y_test, y_pred, average='macro')\n",
        "print(\"F1 Score:\", f1)"
      ],
      "metadata": {
        "colab": {
          "base_uri": "https://localhost:8080/"
        },
        "id": "Qfgg5tYj1hH0",
        "outputId": "22c53d49-598e-4f99-acf3-7e0105946efa"
      },
      "execution_count": null,
      "outputs": [
        {
          "output_type": "stream",
          "name": "stdout",
          "text": [
            "Precision Score: 0.6660771135479306\n",
            "Recall: 0.6489100436189904\n",
            "F1 Score: 0.6484632680281861\n"
          ]
        }
      ]
    },
    {
      "cell_type": "code",
      "source": [],
      "metadata": {
        "id": "jKI42Fj32jQi"
      },
      "execution_count": null,
      "outputs": []
    },
    {
      "cell_type": "code",
      "source": [
        "from sklearn.datasets import fetch_20newsgroups\n",
        "from sklearn.ensemble import RandomForestClassifier\n",
        "from sklearn.feature_extraction.text import TfidfVectorizer\n",
        "from sklearn.metrics import accuracy_score, precision_score, recall_score, f1_score, confusion_matrix\n",
        "import matplotlib.pyplot as plt\n",
        "import seaborn as sns\n",
        "\n",
        "# Load the 20 Newsgroups dataset (a standard dataset in scikit-learn)\n",
        "newsgroups = fetch_20newsgroups(subset='all', shuffle=True, random_state=42)\n",
        "\n",
        "# Assuming 'data' contains the text data and 'target' contains the corresponding labels\n",
        "X = newsgroups.data\n",
        "y = newsgroups.target\n",
        "\n",
        "# Convert text data to TF-IDF feature vectors using TfidfVectorizer\n",
        "vectorizer = TfidfVectorizer()\n",
        "X = vectorizer.fit_transform(X)\n",
        "\n",
        "# Split the data into training and test sets\n",
        "X_train, X_test, y_train, y_test = train_test_split(X, y, test_size=0.3, random_state=42)\n",
        "\n",
        "# Create an instance of RandomForestClassifier\n",
        "random_forest_classifier = RandomForestClassifier(random_state=42)\n",
        "\n",
        "# Train the classifier on the training data\n",
        "random_forest_classifier.fit(X_train, y_train)\n",
        "\n",
        "# Make predictions on the test data\n",
        "y_pred = random_forest_classifier.predict(X_test)\n",
        "\n",
        "# Calculate accuracy\n",
        "accuracy = accuracy_score(y_test, y_pred)\n",
        "print(\"Accuracy:\", accuracy)\n",
        "\n",
        "# Compute the confusion matrix\n",
        "cm = confusion_matrix(y_test, y_pred)\n",
        "\n",
        "# Display the confusion matrix using a heatmap\n",
        "plt.figure(figsize=(8, 6))\n",
        "sns.heatmap(cm, annot=True, fmt='d', cmap='Blues', cbar=False)\n",
        "plt.xlabel('Predicted')\n",
        "plt.ylabel('Actual')\n",
        "plt.title('Confusion Matrix')\n",
        "plt.show()\n",
        "\n",
        "# Calculate precision, recall, and F1 score\n",
        "precision = precision_score(y_test, y_pred, average='micro')  # Change 'micro' to 'macro' or 'weighted' if needed\n",
        "print(\"Precision Score:\", precision)\n",
        "recall = recall_score(y_test, y_pred, average='macro')\n",
        "print(\"Recall:\", recall)\n",
        "f1 = f1_score(y_test, y_pred, average='macro')\n",
        "print(\"F1 Score:\", f1)\n"
      ],
      "metadata": {
        "id": "IO4_-QvfD9QE",
        "colab": {
          "base_uri": "https://localhost:8080/",
          "height": 633
        },
        "outputId": "ffc4ec7f-0f7c-42fd-988a-68d46efc0984"
      },
      "execution_count": null,
      "outputs": [
        {
          "output_type": "stream",
          "name": "stdout",
          "text": [
            "Accuracy: 0.8316236292889989\n"
          ]
        },
        {
          "output_type": "display_data",
          "data": {
            "text/plain": [
              "<Figure size 800x600 with 1 Axes>"
            ],
            "image/png": "[encoded data removed]"
          },
          "metadata": {}
        },
        {
          "output_type": "stream",
          "name": "stdout",
          "text": [
            "Precision Score: 0.8316236292889989\n",
            "Recall: 0.8244729922058152\n",
            "F1 Score: 0.8253191182439998\n"
          ]
        }
      ]
    },
    {
      "cell_type": "code",
      "source": [
        "from sklearn.datasets import fetch_20newsgroups\n",
        "from sklearn.svm import SVC\n",
        "from sklearn.feature_extraction.text import TfidfVectorizer\n",
        "from sklearn.metrics import accuracy_score, precision_score, recall_score, f1_score, confusion_matrix\n",
        "import matplotlib.pyplot as plt\n",
        "import seaborn as sns\n",
        "from sklearn.model_selection import train_test_split\n",
        "\n",
        "# Load the 20 Newsgroups dataset (a standard dataset in scikit-learn)\n",
        "newsgroups = fetch_20newsgroups(subset='all', shuffle=True, random_state=42)\n",
        "\n",
        "# Assuming 'data' contains the text data and 'target' contains the corresponding labels\n",
        "X = newsgroups.data\n",
        "y = newsgroups.target\n",
        "\n",
        "# Convert text data to TF-IDF feature vectors using TfidfVectorizer\n",
        "vectorizer = TfidfVectorizer()\n",
        "X = vectorizer.fit_transform(X)\n",
        "\n",
        "# Split the data into training and test sets\n",
        "X_train, X_test, y_train, y_test = train_test_split(X, y, test_size=0.3, random_state=42)\n",
        "\n",
        "# Create an instance of SVC\n",
        "svc_classifier = SVC(kernel='linear', random_state=42)  # You can choose different kernels (e.g., 'rbf') based on your data\n",
        "\n",
        "# Train the classifier on the training data\n",
        "svc_classifier.fit(X_train, y_train)\n",
        "\n",
        "# Make predictions on the test data\n",
        "y_pred = svc_classifier.predict(X_test)\n",
        "\n",
        "# Calculate accuracy\n",
        "accuracy = accuracy_score(y_test, y_pred)\n",
        "print(\"Accuracy:\", accuracy)\n",
        "\n",
        "# Compute the confusion matrix\n",
        "cm = confusion_matrix(y_test, y_pred)\n",
        "\n",
        "# Display the confusion matrix using a heatmap\n",
        "plt.figure(figsize=(8, 6))\n",
        "sns.heatmap(cm, annot=True, fmt='d', cmap='Blues', cbar=False)\n",
        "plt.xlabel('Predicted')\n",
        "plt.ylabel('Actual')\n",
        "plt.title('Confusion Matrix')\n",
        "plt.show()\n",
        "\n",
        "# Calculate precision, recall, and F1 score\n",
        "precision = precision_score(y_test, y_pred, average='micro')  # Change 'micro' to 'macro' or 'weighted' if needed\n",
        "print(\"Precision Score:\", precision)\n",
        "recall = recall_score(y_test, y_pred, average='macro')\n",
        "print(\"Recall:\", recall)\n",
        "f1 = f1_score(y_test, y_pred, average='macro')\n",
        "print(\"F1 Score:\", f1)\n"
      ],
      "metadata": {
        "colab": {
          "base_uri": "https://localhost:8080/",
          "height": 633
        },
        "id": "00ZfEsBuzRO0",
        "outputId": "c8ffebf3-ef30-43a2-dc44-f35737495924"
      },
      "execution_count": null,
      "outputs": [
        {
          "output_type": "stream",
          "name": "stdout",
          "text": [
            "Accuracy: 0.9112133003183587\n"
          ]
        },
        {
          "output_type": "display_data",
          "data": {
            "text/plain": [
              "<Figure size 800x600 with 1 Axes>"
            ],
            "image/png": "[encoded data removed]"
          },
          "metadata": {}
        },
        {
          "output_type": "stream",
          "name": "stdout",
          "text": [
            "Precision Score: 0.9112133003183587\n",
            "Recall: 0.9103032702596634\n",
            "F1 Score: 0.911849041819696\n"
          ]
        }
      ]
    },
    {
      "cell_type": "code",
      "source": [],
      "metadata": {
        "id": "maV9TaZyz4Un"
      },
      "execution_count": null,
      "outputs": []
    }
  ]
}