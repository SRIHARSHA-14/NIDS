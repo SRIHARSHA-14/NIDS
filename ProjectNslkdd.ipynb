{
  "cells": [
    {
      "cell_type": "code",
      "execution_count": null,
      "metadata": {
        "colab": {
          "base_uri": "https://localhost:8080/",
          "height": 338
        },
        "id": "-tXXUnJqPtHs",
        "outputId": "ba6ff4e4-8d75-433d-9f13-0e6f8e1dddaa"
      },
      "outputs": [
        {
          "output_type": "error",
          "ename": "MessageError",
          "evalue": "ignored",
          "traceback": [
            "\u001b[0;31m---------------------------------------------------------------------------\u001b[0m",
            "\u001b[0;31mMessageError\u001b[0m                              Traceback (most recent call last)",
            "\u001b[0;32m<ipython-input-1-d5df0069828e>\u001b[0m in \u001b[0;36m<cell line: 2>\u001b[0;34m()\u001b[0m\n\u001b[1;32m      1\u001b[0m \u001b[0;32mfrom\u001b[0m \u001b[0mgoogle\u001b[0m\u001b[0;34m.\u001b[0m\u001b[0mcolab\u001b[0m \u001b[0;32mimport\u001b[0m \u001b[0mdrive\u001b[0m\u001b[0;34m\u001b[0m\u001b[0;34m\u001b[0m\u001b[0m\n\u001b[0;32m----> 2\u001b[0;31m \u001b[0mdrive\u001b[0m\u001b[0;34m.\u001b[0m\u001b[0mmount\u001b[0m\u001b[0;34m(\u001b[0m\u001b[0;34m'/content/drive'\u001b[0m\u001b[0;34m)\u001b[0m\u001b[0;34m\u001b[0m\u001b[0;34m\u001b[0m\u001b[0m\n\u001b[0m",
            "\u001b[0;32m/usr/local/lib/python3.10/dist-packages/google/colab/drive.py\u001b[0m in \u001b[0;36mmount\u001b[0;34m(mountpoint, force_remount, timeout_ms, readonly)\u001b[0m\n\u001b[1;32m    101\u001b[0m \u001b[0;32mdef\u001b[0m \u001b[0mmount\u001b[0m\u001b[0;34m(\u001b[0m\u001b[0mmountpoint\u001b[0m\u001b[0;34m,\u001b[0m \u001b[0mforce_remount\u001b[0m\u001b[0;34m=\u001b[0m\u001b[0;32mFalse\u001b[0m\u001b[0;34m,\u001b[0m \u001b[0mtimeout_ms\u001b[0m\u001b[0;34m=\u001b[0m\u001b[0;36m120000\u001b[0m\u001b[0;34m,\u001b[0m \u001b[0mreadonly\u001b[0m\u001b[0;34m=\u001b[0m\u001b[0;32mFalse\u001b[0m\u001b[0;34m)\u001b[0m\u001b[0;34m:\u001b[0m\u001b[0;34m\u001b[0m\u001b[0;34m\u001b[0m\u001b[0m\n\u001b[1;32m    102\u001b[0m   \u001b[0;34m\"\"\"Mount your Google Drive at the specified mountpoint path.\"\"\"\u001b[0m\u001b[0;34m\u001b[0m\u001b[0;34m\u001b[0m\u001b[0m\n\u001b[0;32m--> 103\u001b[0;31m   return _mount(\n\u001b[0m\u001b[1;32m    104\u001b[0m       \u001b[0mmountpoint\u001b[0m\u001b[0;34m,\u001b[0m\u001b[0;34m\u001b[0m\u001b[0;34m\u001b[0m\u001b[0m\n\u001b[1;32m    105\u001b[0m       \u001b[0mforce_remount\u001b[0m\u001b[0;34m=\u001b[0m\u001b[0mforce_remount\u001b[0m\u001b[0;34m,\u001b[0m\u001b[0;34m\u001b[0m\u001b[0;34m\u001b[0m\u001b[0m\n",
            "\u001b[0;32m/usr/local/lib/python3.10/dist-packages/google/colab/drive.py\u001b[0m in \u001b[0;36m_mount\u001b[0;34m(mountpoint, force_remount, timeout_ms, ephemeral, readonly)\u001b[0m\n\u001b[1;32m    130\u001b[0m   )\n\u001b[1;32m    131\u001b[0m   \u001b[0;32mif\u001b[0m \u001b[0mephemeral\u001b[0m\u001b[0;34m:\u001b[0m\u001b[0;34m\u001b[0m\u001b[0;34m\u001b[0m\u001b[0m\n\u001b[0;32m--> 132\u001b[0;31m     _message.blocking_request(\n\u001b[0m\u001b[1;32m    133\u001b[0m         \u001b[0;34m'request_auth'\u001b[0m\u001b[0;34m,\u001b[0m \u001b[0mrequest\u001b[0m\u001b[0;34m=\u001b[0m\u001b[0;34m{\u001b[0m\u001b[0;34m'authType'\u001b[0m\u001b[0;34m:\u001b[0m \u001b[0;34m'dfs_ephemeral'\u001b[0m\u001b[0;34m}\u001b[0m\u001b[0;34m,\u001b[0m \u001b[0mtimeout_sec\u001b[0m\u001b[0;34m=\u001b[0m\u001b[0;32mNone\u001b[0m\u001b[0;34m\u001b[0m\u001b[0;34m\u001b[0m\u001b[0m\n\u001b[1;32m    134\u001b[0m     )\n",
            "\u001b[0;32m/usr/local/lib/python3.10/dist-packages/google/colab/_message.py\u001b[0m in \u001b[0;36mblocking_request\u001b[0;34m(request_type, request, timeout_sec, parent)\u001b[0m\n\u001b[1;32m    174\u001b[0m       \u001b[0mrequest_type\u001b[0m\u001b[0;34m,\u001b[0m \u001b[0mrequest\u001b[0m\u001b[0;34m,\u001b[0m \u001b[0mparent\u001b[0m\u001b[0;34m=\u001b[0m\u001b[0mparent\u001b[0m\u001b[0;34m,\u001b[0m \u001b[0mexpect_reply\u001b[0m\u001b[0;34m=\u001b[0m\u001b[0;32mTrue\u001b[0m\u001b[0;34m\u001b[0m\u001b[0;34m\u001b[0m\u001b[0m\n\u001b[1;32m    175\u001b[0m   )\n\u001b[0;32m--> 176\u001b[0;31m   \u001b[0;32mreturn\u001b[0m \u001b[0mread_reply_from_input\u001b[0m\u001b[0;34m(\u001b[0m\u001b[0mrequest_id\u001b[0m\u001b[0;34m,\u001b[0m \u001b[0mtimeout_sec\u001b[0m\u001b[0;34m)\u001b[0m\u001b[0;34m\u001b[0m\u001b[0;34m\u001b[0m\u001b[0m\n\u001b[0m",
            "\u001b[0;32m/usr/local/lib/python3.10/dist-packages/google/colab/_message.py\u001b[0m in \u001b[0;36mread_reply_from_input\u001b[0;34m(message_id, timeout_sec)\u001b[0m\n\u001b[1;32m    101\u001b[0m     ):\n\u001b[1;32m    102\u001b[0m       \u001b[0;32mif\u001b[0m \u001b[0;34m'error'\u001b[0m \u001b[0;32min\u001b[0m \u001b[0mreply\u001b[0m\u001b[0;34m:\u001b[0m\u001b[0;34m\u001b[0m\u001b[0;34m\u001b[0m\u001b[0m\n\u001b[0;32m--> 103\u001b[0;31m         \u001b[0;32mraise\u001b[0m \u001b[0mMessageError\u001b[0m\u001b[0;34m(\u001b[0m\u001b[0mreply\u001b[0m\u001b[0;34m[\u001b[0m\u001b[0;34m'error'\u001b[0m\u001b[0;34m]\u001b[0m\u001b[0;34m)\u001b[0m\u001b[0;34m\u001b[0m\u001b[0;34m\u001b[0m\u001b[0m\n\u001b[0m\u001b[1;32m    104\u001b[0m       \u001b[0;32mreturn\u001b[0m \u001b[0mreply\u001b[0m\u001b[0;34m.\u001b[0m\u001b[0mget\u001b[0m\u001b[0;34m(\u001b[0m\u001b[0;34m'data'\u001b[0m\u001b[0;34m,\u001b[0m \u001b[0;32mNone\u001b[0m\u001b[0;34m)\u001b[0m\u001b[0;34m\u001b[0m\u001b[0;34m\u001b[0m\u001b[0m\n\u001b[1;32m    105\u001b[0m \u001b[0;34m\u001b[0m\u001b[0m\n",
            "\u001b[0;31mMessageError\u001b[0m: Error: credential propagation was unsuccessful"
          ]
        }
      ],
      "source": [
        "from google.colab import drive\n",
        "drive.mount('/content/drive')"
      ]
    },
    {
      "cell_type": "code",
      "execution_count": null,
      "metadata": {
        "colab": {
          "base_uri": "https://localhost:8080/"
        },
        "id": "-wwdEhC4QAtH",
        "outputId": "7ce3c9c7-751f-44cf-c653-320e86fe55a7"
      },
      "outputs": [
        {
          "output_type": "stream",
          "name": "stdout",
          "text": [
            "Shapes of training and testing are: (125972, 43) (22543, 43)\n"
          ]
        }
      ],
      "source": [
        "import pandas as pd\n",
        "df_train = pd.read_csv('/content/drive/MyDrive/KDDTrain+.txt')\n",
        "df_test = pd.read_csv('/content/drive/MyDrive/KDDTest+.txt')\n",
        "\n",
        "print(\"Shapes of training and testing are:\",df_train.shape,df_test.shape)\n"
      ]
    },
    {
      "cell_type": "code",
      "execution_count": null,
      "metadata": {
        "id": "sYASEXK2QDks"
      },
      "outputs": [],
      "source": [
        "\n",
        "names = [\"duration\",\"protocol\",\"service\",\"flag\",\"src_bytes\",\n",
        "        \"dst_bytes\",\"land\",\"wrong_fragment\",\"urgent\",\"hot\",\n",
        "        \"num_failed_logins\",\"logged_in\",\"num_compromised\",\n",
        "        \"root_shell\",\"su_attempted\",\"num_root\",\"num_file_creations\",\n",
        "        \"num_shells\",\"num_access_files\",\"num_outbound_cmds\",\n",
        "        \"is_host_login\",\"is_guest_login\",\"count\",\"srv_count\",\n",
        "        \"serror_rate\",\"srv_serror_rate\",\"rerror_rate\",\"srv_rerror_rate\",\n",
        "        \"same_srv_rate\",\"diff_srv_rate\",\"srv_diff_host_rate\",\n",
        "        \"dst_host_count\",\"dst_host_srv_count\",\"dst_host_same_srv_rate\",\n",
        "        \"dst_host_diff_srv_rate\",\"dst_host_same_src_port_rate\",\"dst_host_srv_diff_host_rate\",\n",
        "        \"dst_host_serror_rate\",\"dst_host_srv_serr_rate\",\"dst_host_rerror_rate\",\"dst_host_srv_rerror_rate\",\n",
        "        \"attack_type\",\"other\"]"
      ]
    },
    {
      "cell_type": "code",
      "source": [
        "df_train.head()"
      ],
      "metadata": {
        "colab": {
          "base_uri": "https://localhost:8080/",
          "height": 235
        },
        "id": "UrbN92CDdsoc",
        "outputId": "79701d8b-139b-4011-f2bf-dc6bcbd1e2ba"
      },
      "execution_count": null,
      "outputs": [
        {
          "output_type": "execute_result",
          "data": {
            "text/plain": [
              "   0  tcp ftp_data   SF  491   0.1  0.2  0.3  0.4  0.5  ...  0.17  0.03  \\\n",
              "0  0  udp    other   SF  146     0    0    0    0    0  ...  0.00  0.60   \n",
              "1  0  tcp  private   S0    0     0    0    0    0    0  ...  0.10  0.05   \n",
              "2  0  tcp     http   SF  232  8153    0    0    0    0  ...  1.00  0.00   \n",
              "3  0  tcp     http   SF  199   420    0    0    0    0  ...  1.00  0.00   \n",
              "4  0  tcp  private  REJ    0     0    0    0    0    0  ...  0.07  0.07   \n",
              "\n",
              "   0.17.1  0.00.6  0.00.7  0.00.8  0.05  0.00.9   normal  20  \n",
              "0    0.88    0.00    0.00    0.00   0.0    0.00   normal  15  \n",
              "1    0.00    0.00    1.00    1.00   0.0    0.00  neptune  19  \n",
              "2    0.03    0.04    0.03    0.01   0.0    0.01   normal  21  \n",
              "3    0.00    0.00    0.00    0.00   0.0    0.00   normal  21  \n",
              "4    0.00    0.00    0.00    0.00   1.0    1.00  neptune  21  \n",
              "\n",
              "[5 rows x 43 columns]"
            ],
            "text/html": [
              "\n",
              "  <div id=\"df-bd39c3b0-39ea-4395-b2d7-804800533ea6\" class=\"colab-df-container\">\n",
              "    <div>\n",
              "<style scoped>\n",
              "    .dataframe tbody tr th:only-of-type {\n",
              "        vertical-align: middle;\n",
              "    }\n",
              "\n",
              "    .dataframe tbody tr th {\n",
              "        vertical-align: top;\n",
              "    }\n",
              "\n",
              "    .dataframe thead th {\n",
              "        text-align: right;\n",
              "    }\n",
              "</style>\n",
              "<table border=\"1\" class=\"dataframe\">\n",
              "  <thead>\n",
              "    <tr style=\"text-align: right;\">\n",
              "      <th></th>\n",
              "      <th>0</th>\n",
              "      <th>tcp</th>\n",
              "      <th>ftp_data</th>\n",
              "      <th>SF</th>\n",
              "      <th>491</th>\n",
              "      <th>0.1</th>\n",
              "      <th>0.2</th>\n",
              "      <th>0.3</th>\n",
              "      <th>0.4</th>\n",
              "      <th>0.5</th>\n",
              "      <th>...</th>\n",
              "      <th>0.17</th>\n",
              "      <th>0.03</th>\n",
              "      <th>0.17.1</th>\n",
              "      <th>0.00.6</th>\n",
              "      <th>0.00.7</th>\n",
              "      <th>0.00.8</th>\n",
              "      <th>0.05</th>\n",
              "      <th>0.00.9</th>\n",
              "      <th>normal</th>\n",
              "      <th>20</th>\n",
              "    </tr>\n",
              "  </thead>\n",
              "  <tbody>\n",
              "    <tr>\n",
              "      <th>0</th>\n",
              "      <td>0</td>\n",
              "      <td>udp</td>\n",
              "      <td>other</td>\n",
              "      <td>SF</td>\n",
              "      <td>146</td>\n",
              "      <td>0</td>\n",
              "      <td>0</td>\n",
              "      <td>0</td>\n",
              "      <td>0</td>\n",
              "      <td>0</td>\n",
              "      <td>...</td>\n",
              "      <td>0.00</td>\n",
              "      <td>0.60</td>\n",
              "      <td>0.88</td>\n",
              "      <td>0.00</td>\n",
              "      <td>0.00</td>\n",
              "      <td>0.00</td>\n",
              "      <td>0.0</td>\n",
              "      <td>0.00</td>\n",
              "      <td>normal</td>\n",
              "      <td>15</td>\n",
              "    </tr>\n",
              "    <tr>\n",
              "      <th>1</th>\n",
              "      <td>0</td>\n",
              "      <td>tcp</td>\n",
              "      <td>private</td>\n",
              "      <td>S0</td>\n",
              "      <td>0</td>\n",
              "      <td>0</td>\n",
              "      <td>0</td>\n",
              "      <td>0</td>\n",
              "      <td>0</td>\n",
              "      <td>0</td>\n",
              "      <td>...</td>\n",
              "      <td>0.10</td>\n",
              "      <td>0.05</td>\n",
              "      <td>0.00</td>\n",
              "      <td>0.00</td>\n",
              "      <td>1.00</td>\n",
              "      <td>1.00</td>\n",
              "      <td>0.0</td>\n",
              "      <td>0.00</td>\n",
              "      <td>neptune</td>\n",
              "      <td>19</td>\n",
              "    </tr>\n",
              "    <tr>\n",
              "      <th>2</th>\n",
              "      <td>0</td>\n",
              "      <td>tcp</td>\n",
              "      <td>http</td>\n",
              "      <td>SF</td>\n",
              "      <td>232</td>\n",
              "      <td>8153</td>\n",
              "      <td>0</td>\n",
              "      <td>0</td>\n",
              "      <td>0</td>\n",
              "      <td>0</td>\n",
              "      <td>...</td>\n",
              "      <td>1.00</td>\n",
              "      <td>0.00</td>\n",
              "      <td>0.03</td>\n",
              "      <td>0.04</td>\n",
              "      <td>0.03</td>\n",
              "      <td>0.01</td>\n",
              "      <td>0.0</td>\n",
              "      <td>0.01</td>\n",
              "      <td>normal</td>\n",
              "      <td>21</td>\n",
              "    </tr>\n",
              "    <tr>\n",
              "      <th>3</th>\n",
              "      <td>0</td>\n",
              "      <td>tcp</td>\n",
              "      <td>http</td>\n",
              "      <td>SF</td>\n",
              "      <td>199</td>\n",
              "      <td>420</td>\n",
              "      <td>0</td>\n",
              "      <td>0</td>\n",
              "      <td>0</td>\n",
              "      <td>0</td>\n",
              "      <td>...</td>\n",
              "      <td>1.00</td>\n",
              "      <td>0.00</td>\n",
              "      <td>0.00</td>\n",
              "      <td>0.00</td>\n",
              "      <td>0.00</td>\n",
              "      <td>0.00</td>\n",
              "      <td>0.0</td>\n",
              "      <td>0.00</td>\n",
              "      <td>normal</td>\n",
              "      <td>21</td>\n",
              "    </tr>\n",
              "    <tr>\n",
              "      <th>4</th>\n",
              "      <td>0</td>\n",
              "      <td>tcp</td>\n",
              "      <td>private</td>\n",
              "      <td>REJ</td>\n",
              "      <td>0</td>\n",
              "      <td>0</td>\n",
              "      <td>0</td>\n",
              "      <td>0</td>\n",
              "      <td>0</td>\n",
              "      <td>0</td>\n",
              "      <td>...</td>\n",
              "      <td>0.07</td>\n",
              "      <td>0.07</td>\n",
              "      <td>0.00</td>\n",
              "      <td>0.00</td>\n",
              "      <td>0.00</td>\n",
              "      <td>0.00</td>\n",
              "      <td>1.0</td>\n",
              "      <td>1.00</td>\n",
              "      <td>neptune</td>\n",
              "      <td>21</td>\n",
              "    </tr>\n",
              "  </tbody>\n",
              "</table>\n",
              "<p>5 rows × 43 columns</p>\n",
              "</div>\n",
              "    <div class=\"colab-df-buttons\">\n",
              "\n",
              "  <div class=\"colab-df-container\">\n",
              "    <button class=\"colab-df-convert\" onclick=\"convertToInteractive('df-bd39c3b0-39ea-4395-b2d7-804800533ea6')\"\n",
              "            title=\"Convert this dataframe to an interactive table.\"\n",
              "            style=\"display:none;\">\n",
              "\n",
              "  <svg xmlns=\"http://www.w3.org/2000/svg\" height=\"24px\" viewBox=\"0 -960 960 960\">\n",
              "    <path d=\"M120-120v-720h720v720H120Zm60-500h600v-160H180v160Zm220 220h160v-160H400v160Zm0 220h160v-160H400v160ZM180-400h160v-160H180v160Zm440 0h160v-160H620v160ZM180-180h160v-160H180v160Zm440 0h160v-160H620v160Z\"/>\n",
              "  </svg>\n",
              "    </button>\n",
              "\n",
              "  <style>\n",
              "    .colab-df-container {\n",
              "      display:flex;\n",
              "      gap: 12px;\n",
              "    }\n",
              "\n",
              "    .colab-df-convert {\n",
              "      background-color: #E8F0FE;\n",
              "      border: none;\n",
              "      border-radius: 50%;\n",
              "      cursor: pointer;\n",
              "      display: none;\n",
              "      fill: #1967D2;\n",
              "      height: 32px;\n",
              "      padding: 0 0 0 0;\n",
              "      width: 32px;\n",
              "    }\n",
              "\n",
              "    .colab-df-convert:hover {\n",
              "      background-color: #E2EBFA;\n",
              "      box-shadow: 0px 1px 2px rgba(60, 64, 67, 0.3), 0px 1px 3px 1px rgba(60, 64, 67, 0.15);\n",
              "      fill: #174EA6;\n",
              "    }\n",
              "\n",
              "    .colab-df-buttons div {\n",
              "      margin-bottom: 4px;\n",
              "    }\n",
              "\n",
              "    [theme=dark] .colab-df-convert {\n",
              "      background-color: #3B4455;\n",
              "      fill: #D2E3FC;\n",
              "    }\n",
              "\n",
              "    [theme=dark] .colab-df-convert:hover {\n",
              "      background-color: #434B5C;\n",
              "      box-shadow: 0px 1px 3px 1px rgba(0, 0, 0, 0.15);\n",
              "      filter: drop-shadow(0px 1px 2px rgba(0, 0, 0, 0.3));\n",
              "      fill: #FFFFFF;\n",
              "    }\n",
              "  </style>\n",
              "\n",
              "    <script>\n",
              "      const buttonEl =\n",
              "        document.querySelector('#df-bd39c3b0-39ea-4395-b2d7-804800533ea6 button.colab-df-convert');\n",
              "      buttonEl.style.display =\n",
              "        google.colab.kernel.accessAllowed ? 'block' : 'none';\n",
              "\n",
              "      async function convertToInteractive(key) {\n",
              "        const element = document.querySelector('#df-bd39c3b0-39ea-4395-b2d7-804800533ea6');\n",
              "        const dataTable =\n",
              "          await google.colab.kernel.invokeFunction('convertToInteractive',\n",
              "                                                    [key], {});\n",
              "        if (!dataTable) return;\n",
              "\n",
              "        const docLinkHtml = 'Like what you see? Visit the ' +\n",
              "          '<a target=\"_blank\" href=https://colab.research.google.com/notebooks/data_table.ipynb>data table notebook</a>'\n",
              "          + ' to learn more about interactive tables.';\n",
              "        element.innerHTML = '';\n",
              "        dataTable['output_type'] = 'display_data';\n",
              "        await google.colab.output.renderOutput(dataTable, element);\n",
              "        const docLink = document.createElement('div');\n",
              "        docLink.innerHTML = docLinkHtml;\n",
              "        element.appendChild(docLink);\n",
              "      }\n",
              "    </script>\n",
              "  </div>\n",
              "\n",
              "\n",
              "<div id=\"df-646e6950-b3fb-4ae2-a22f-19d5d1855ccc\">\n",
              "  <button class=\"colab-df-quickchart\" onclick=\"quickchart('df-646e6950-b3fb-4ae2-a22f-19d5d1855ccc')\"\n",
              "            title=\"Suggest charts.\"\n",
              "            style=\"display:none;\">\n",
              "\n",
              "<svg xmlns=\"http://www.w3.org/2000/svg\" height=\"24px\"viewBox=\"0 0 24 24\"\n",
              "     width=\"24px\">\n",
              "    <g>\n",
              "        <path d=\"M19 3H5c-1.1 0-2 .9-2 2v14c0 1.1.9 2 2 2h14c1.1 0 2-.9 2-2V5c0-1.1-.9-2-2-2zM9 17H7v-7h2v7zm4 0h-2V7h2v10zm4 0h-2v-4h2v4z\"/>\n",
              "    </g>\n",
              "</svg>\n",
              "  </button>\n",
              "\n",
              "<style>\n",
              "  .colab-df-quickchart {\n",
              "    background-color: #E8F0FE;\n",
              "    border: none;\n",
              "    border-radius: 50%;\n",
              "    cursor: pointer;\n",
              "    display: none;\n",
              "    fill: #1967D2;\n",
              "    height: 32px;\n",
              "    padding: 0 0 0 0;\n",
              "    width: 32px;\n",
              "  }\n",
              "\n",
              "  .colab-df-quickchart:hover {\n",
              "    background-color: #E2EBFA;\n",
              "    box-shadow: 0px 1px 2px rgba(60, 64, 67, 0.3), 0px 1px 3px 1px rgba(60, 64, 67, 0.15);\n",
              "    fill: #174EA6;\n",
              "  }\n",
              "\n",
              "  [theme=dark] .colab-df-quickchart {\n",
              "    background-color: #3B4455;\n",
              "    fill: #D2E3FC;\n",
              "  }\n",
              "\n",
              "  [theme=dark] .colab-df-quickchart:hover {\n",
              "    background-color: #434B5C;\n",
              "    box-shadow: 0px 1px 3px 1px rgba(0, 0, 0, 0.15);\n",
              "    filter: drop-shadow(0px 1px 2px rgba(0, 0, 0, 0.3));\n",
              "    fill: #FFFFFF;\n",
              "  }\n",
              "</style>\n",
              "\n",
              "  <script>\n",
              "    async function quickchart(key) {\n",
              "      const charts = await google.colab.kernel.invokeFunction(\n",
              "          'suggestCharts', [key], {});\n",
              "    }\n",
              "    (() => {\n",
              "      let quickchartButtonEl =\n",
              "        document.querySelector('#df-646e6950-b3fb-4ae2-a22f-19d5d1855ccc button');\n",
              "      quickchartButtonEl.style.display =\n",
              "        google.colab.kernel.accessAllowed ? 'block' : 'none';\n",
              "    })();\n",
              "  </script>\n",
              "</div>\n",
              "    </div>\n",
              "  </div>\n"
            ]
          },
          "metadata": {},
          "execution_count": 4
        }
      ]
    },
    {
      "cell_type": "code",
      "execution_count": null,
      "metadata": {
        "id": "nw6e7E2_QNQC"
      },
      "outputs": [],
      "source": [
        "df_train = pd.read_csv('/content/drive/MyDrive/KDDTrain+.txt',names=names,header=None)\n",
        "df_test = pd.read_csv('/content/drive/MyDrive/KDDTest+.txt',names=names,header=None)"
      ]
    },
    {
      "cell_type": "code",
      "source": [
        "df_train.head()"
      ],
      "metadata": {
        "id": "ky-nhDzR6lYv",
        "outputId": "7982c467-f0f7-42b7-cffd-a9e51f423d7e",
        "colab": {
          "base_uri": "https://localhost:8080/",
          "height": 255
        }
      },
      "execution_count": null,
      "outputs": [
        {
          "output_type": "execute_result",
          "data": {
            "text/plain": [
              "   duration protocol   service flag  src_bytes  dst_bytes  land  \\\n",
              "0         0      tcp  ftp_data   SF        491          0     0   \n",
              "1         0      udp     other   SF        146          0     0   \n",
              "2         0      tcp   private   S0          0          0     0   \n",
              "3         0      tcp      http   SF        232       8153     0   \n",
              "4         0      tcp      http   SF        199        420     0   \n",
              "\n",
              "   wrong_fragment  urgent  hot  ...  dst_host_same_srv_rate  \\\n",
              "0               0       0    0  ...                    0.17   \n",
              "1               0       0    0  ...                    0.00   \n",
              "2               0       0    0  ...                    0.10   \n",
              "3               0       0    0  ...                    1.00   \n",
              "4               0       0    0  ...                    1.00   \n",
              "\n",
              "   dst_host_diff_srv_rate  dst_host_same_src_port_rate  \\\n",
              "0                    0.03                         0.17   \n",
              "1                    0.60                         0.88   \n",
              "2                    0.05                         0.00   \n",
              "3                    0.00                         0.03   \n",
              "4                    0.00                         0.00   \n",
              "\n",
              "   dst_host_srv_diff_host_rate  dst_host_serror_rate  dst_host_srv_serr_rate  \\\n",
              "0                         0.00                  0.00                    0.00   \n",
              "1                         0.00                  0.00                    0.00   \n",
              "2                         0.00                  1.00                    1.00   \n",
              "3                         0.04                  0.03                    0.01   \n",
              "4                         0.00                  0.00                    0.00   \n",
              "\n",
              "   dst_host_rerror_rate  dst_host_srv_rerror_rate  attack_type  other  \n",
              "0                  0.05                      0.00       normal     20  \n",
              "1                  0.00                      0.00       normal     15  \n",
              "2                  0.00                      0.00      neptune     19  \n",
              "3                  0.00                      0.01       normal     21  \n",
              "4                  0.00                      0.00       normal     21  \n",
              "\n",
              "[5 rows x 43 columns]"
            ],
            "text/html": [
              "\n",
              "  <div id=\"df-e1d2e326-ee99-4a13-996f-7d84e51fb8cb\" class=\"colab-df-container\">\n",
              "    <div>\n",
              "<style scoped>\n",
              "    .dataframe tbody tr th:only-of-type {\n",
              "        vertical-align: middle;\n",
              "    }\n",
              "\n",
              "    .dataframe tbody tr th {\n",
              "        vertical-align: top;\n",
              "    }\n",
              "\n",
              "    .dataframe thead th {\n",
              "        text-align: right;\n",
              "    }\n",
              "</style>\n",
              "<table border=\"1\" class=\"dataframe\">\n",
              "  <thead>\n",
              "    <tr style=\"text-align: right;\">\n",
              "      <th></th>\n",
              "      <th>duration</th>\n",
              "      <th>protocol</th>\n",
              "      <th>service</th>\n",
              "      <th>flag</th>\n",
              "      <th>src_bytes</th>\n",
              "      <th>dst_bytes</th>\n",
              "      <th>land</th>\n",
              "      <th>wrong_fragment</th>\n",
              "      <th>urgent</th>\n",
              "      <th>hot</th>\n",
              "      <th>...</th>\n",
              "      <th>dst_host_same_srv_rate</th>\n",
              "      <th>dst_host_diff_srv_rate</th>\n",
              "      <th>dst_host_same_src_port_rate</th>\n",
              "      <th>dst_host_srv_diff_host_rate</th>\n",
              "      <th>dst_host_serror_rate</th>\n",
              "      <th>dst_host_srv_serr_rate</th>\n",
              "      <th>dst_host_rerror_rate</th>\n",
              "      <th>dst_host_srv_rerror_rate</th>\n",
              "      <th>attack_type</th>\n",
              "      <th>other</th>\n",
              "    </tr>\n",
              "  </thead>\n",
              "  <tbody>\n",
              "    <tr>\n",
              "      <th>0</th>\n",
              "      <td>0</td>\n",
              "      <td>tcp</td>\n",
              "      <td>ftp_data</td>\n",
              "      <td>SF</td>\n",
              "      <td>491</td>\n",
              "      <td>0</td>\n",
              "      <td>0</td>\n",
              "      <td>0</td>\n",
              "      <td>0</td>\n",
              "      <td>0</td>\n",
              "      <td>...</td>\n",
              "      <td>0.17</td>\n",
              "      <td>0.03</td>\n",
              "      <td>0.17</td>\n",
              "      <td>0.00</td>\n",
              "      <td>0.00</td>\n",
              "      <td>0.00</td>\n",
              "      <td>0.05</td>\n",
              "      <td>0.00</td>\n",
              "      <td>normal</td>\n",
              "      <td>20</td>\n",
              "    </tr>\n",
              "    <tr>\n",
              "      <th>1</th>\n",
              "      <td>0</td>\n",
              "      <td>udp</td>\n",
              "      <td>other</td>\n",
              "      <td>SF</td>\n",
              "      <td>146</td>\n",
              "      <td>0</td>\n",
              "      <td>0</td>\n",
              "      <td>0</td>\n",
              "      <td>0</td>\n",
              "      <td>0</td>\n",
              "      <td>...</td>\n",
              "      <td>0.00</td>\n",
              "      <td>0.60</td>\n",
              "      <td>0.88</td>\n",
              "      <td>0.00</td>\n",
              "      <td>0.00</td>\n",
              "      <td>0.00</td>\n",
              "      <td>0.00</td>\n",
              "      <td>0.00</td>\n",
              "      <td>normal</td>\n",
              "      <td>15</td>\n",
              "    </tr>\n",
              "    <tr>\n",
              "      <th>2</th>\n",
              "      <td>0</td>\n",
              "      <td>tcp</td>\n",
              "      <td>private</td>\n",
              "      <td>S0</td>\n",
              "      <td>0</td>\n",
              "      <td>0</td>\n",
              "      <td>0</td>\n",
              "      <td>0</td>\n",
              "      <td>0</td>\n",
              "      <td>0</td>\n",
              "      <td>...</td>\n",
              "      <td>0.10</td>\n",
              "      <td>0.05</td>\n",
              "      <td>0.00</td>\n",
              "      <td>0.00</td>\n",
              "      <td>1.00</td>\n",
              "      <td>1.00</td>\n",
              "      <td>0.00</td>\n",
              "      <td>0.00</td>\n",
              "      <td>neptune</td>\n",
              "      <td>19</td>\n",
              "    </tr>\n",
              "    <tr>\n",
              "      <th>3</th>\n",
              "      <td>0</td>\n",
              "      <td>tcp</td>\n",
              "      <td>http</td>\n",
              "      <td>SF</td>\n",
              "      <td>232</td>\n",
              "      <td>8153</td>\n",
              "      <td>0</td>\n",
              "      <td>0</td>\n",
              "      <td>0</td>\n",
              "      <td>0</td>\n",
              "      <td>...</td>\n",
              "      <td>1.00</td>\n",
              "      <td>0.00</td>\n",
              "      <td>0.03</td>\n",
              "      <td>0.04</td>\n",
              "      <td>0.03</td>\n",
              "      <td>0.01</td>\n",
              "      <td>0.00</td>\n",
              "      <td>0.01</td>\n",
              "      <td>normal</td>\n",
              "      <td>21</td>\n",
              "    </tr>\n",
              "    <tr>\n",
              "      <th>4</th>\n",
              "      <td>0</td>\n",
              "      <td>tcp</td>\n",
              "      <td>http</td>\n",
              "      <td>SF</td>\n",
              "      <td>199</td>\n",
              "      <td>420</td>\n",
              "      <td>0</td>\n",
              "      <td>0</td>\n",
              "      <td>0</td>\n",
              "      <td>0</td>\n",
              "      <td>...</td>\n",
              "      <td>1.00</td>\n",
              "      <td>0.00</td>\n",
              "      <td>0.00</td>\n",
              "      <td>0.00</td>\n",
              "      <td>0.00</td>\n",
              "      <td>0.00</td>\n",
              "      <td>0.00</td>\n",
              "      <td>0.00</td>\n",
              "      <td>normal</td>\n",
              "      <td>21</td>\n",
              "    </tr>\n",
              "  </tbody>\n",
              "</table>\n",
              "<p>5 rows × 43 columns</p>\n",
              "</div>\n",
              "    <div class=\"colab-df-buttons\">\n",
              "\n",
              "  <div class=\"colab-df-container\">\n",
              "    <button class=\"colab-df-convert\" onclick=\"convertToInteractive('df-e1d2e326-ee99-4a13-996f-7d84e51fb8cb')\"\n",
              "            title=\"Convert this dataframe to an interactive table.\"\n",
              "            style=\"display:none;\">\n",
              "\n",
              "  <svg xmlns=\"http://www.w3.org/2000/svg\" height=\"24px\" viewBox=\"0 -960 960 960\">\n",
              "    <path d=\"M120-120v-720h720v720H120Zm60-500h600v-160H180v160Zm220 220h160v-160H400v160Zm0 220h160v-160H400v160ZM180-400h160v-160H180v160Zm440 0h160v-160H620v160ZM180-180h160v-160H180v160Zm440 0h160v-160H620v160Z\"/>\n",
              "  </svg>\n",
              "    </button>\n",
              "\n",
              "  <style>\n",
              "    .colab-df-container {\n",
              "      display:flex;\n",
              "      gap: 12px;\n",
              "    }\n",
              "\n",
              "    .colab-df-convert {\n",
              "      background-color: #E8F0FE;\n",
              "      border: none;\n",
              "      border-radius: 50%;\n",
              "      cursor: pointer;\n",
              "      display: none;\n",
              "      fill: #1967D2;\n",
              "      height: 32px;\n",
              "      padding: 0 0 0 0;\n",
              "      width: 32px;\n",
              "    }\n",
              "\n",
              "    .colab-df-convert:hover {\n",
              "      background-color: #E2EBFA;\n",
              "      box-shadow: 0px 1px 2px rgba(60, 64, 67, 0.3), 0px 1px 3px 1px rgba(60, 64, 67, 0.15);\n",
              "      fill: #174EA6;\n",
              "    }\n",
              "\n",
              "    .colab-df-buttons div {\n",
              "      margin-bottom: 4px;\n",
              "    }\n",
              "\n",
              "    [theme=dark] .colab-df-convert {\n",
              "      background-color: #3B4455;\n",
              "      fill: #D2E3FC;\n",
              "    }\n",
              "\n",
              "    [theme=dark] .colab-df-convert:hover {\n",
              "      background-color: #434B5C;\n",
              "      box-shadow: 0px 1px 3px 1px rgba(0, 0, 0, 0.15);\n",
              "      filter: drop-shadow(0px 1px 2px rgba(0, 0, 0, 0.3));\n",
              "      fill: #FFFFFF;\n",
              "    }\n",
              "  </style>\n",
              "\n",
              "    <script>\n",
              "      const buttonEl =\n",
              "        document.querySelector('#df-e1d2e326-ee99-4a13-996f-7d84e51fb8cb button.colab-df-convert');\n",
              "      buttonEl.style.display =\n",
              "        google.colab.kernel.accessAllowed ? 'block' : 'none';\n",
              "\n",
              "      async function convertToInteractive(key) {\n",
              "        const element = document.querySelector('#df-e1d2e326-ee99-4a13-996f-7d84e51fb8cb');\n",
              "        const dataTable =\n",
              "          await google.colab.kernel.invokeFunction('convertToInteractive',\n",
              "                                                    [key], {});\n",
              "        if (!dataTable) return;\n",
              "\n",
              "        const docLinkHtml = 'Like what you see? Visit the ' +\n",
              "          '<a target=\"_blank\" href=https://colab.research.google.com/notebooks/data_table.ipynb>data table notebook</a>'\n",
              "          + ' to learn more about interactive tables.';\n",
              "        element.innerHTML = '';\n",
              "        dataTable['output_type'] = 'display_data';\n",
              "        await google.colab.output.renderOutput(dataTable, element);\n",
              "        const docLink = document.createElement('div');\n",
              "        docLink.innerHTML = docLinkHtml;\n",
              "        element.appendChild(docLink);\n",
              "      }\n",
              "    </script>\n",
              "  </div>\n",
              "\n",
              "\n",
              "<div id=\"df-488e4b86-abd7-4bf9-b512-309d31d8ad40\">\n",
              "  <button class=\"colab-df-quickchart\" onclick=\"quickchart('df-488e4b86-abd7-4bf9-b512-309d31d8ad40')\"\n",
              "            title=\"Suggest charts.\"\n",
              "            style=\"display:none;\">\n",
              "\n",
              "<svg xmlns=\"http://www.w3.org/2000/svg\" height=\"24px\"viewBox=\"0 0 24 24\"\n",
              "     width=\"24px\">\n",
              "    <g>\n",
              "        <path d=\"M19 3H5c-1.1 0-2 .9-2 2v14c0 1.1.9 2 2 2h14c1.1 0 2-.9 2-2V5c0-1.1-.9-2-2-2zM9 17H7v-7h2v7zm4 0h-2V7h2v10zm4 0h-2v-4h2v4z\"/>\n",
              "    </g>\n",
              "</svg>\n",
              "  </button>\n",
              "\n",
              "<style>\n",
              "  .colab-df-quickchart {\n",
              "    background-color: #E8F0FE;\n",
              "    border: none;\n",
              "    border-radius: 50%;\n",
              "    cursor: pointer;\n",
              "    display: none;\n",
              "    fill: #1967D2;\n",
              "    height: 32px;\n",
              "    padding: 0 0 0 0;\n",
              "    width: 32px;\n",
              "  }\n",
              "\n",
              "  .colab-df-quickchart:hover {\n",
              "    background-color: #E2EBFA;\n",
              "    box-shadow: 0px 1px 2px rgba(60, 64, 67, 0.3), 0px 1px 3px 1px rgba(60, 64, 67, 0.15);\n",
              "    fill: #174EA6;\n",
              "  }\n",
              "\n",
              "  [theme=dark] .colab-df-quickchart {\n",
              "    background-color: #3B4455;\n",
              "    fill: #D2E3FC;\n",
              "  }\n",
              "\n",
              "  [theme=dark] .colab-df-quickchart:hover {\n",
              "    background-color: #434B5C;\n",
              "    box-shadow: 0px 1px 3px 1px rgba(0, 0, 0, 0.15);\n",
              "    filter: drop-shadow(0px 1px 2px rgba(0, 0, 0, 0.3));\n",
              "    fill: #FFFFFF;\n",
              "  }\n",
              "</style>\n",
              "\n",
              "  <script>\n",
              "    async function quickchart(key) {\n",
              "      const charts = await google.colab.kernel.invokeFunction(\n",
              "          'suggestCharts', [key], {});\n",
              "    }\n",
              "    (() => {\n",
              "      let quickchartButtonEl =\n",
              "        document.querySelector('#df-488e4b86-abd7-4bf9-b512-309d31d8ad40 button');\n",
              "      quickchartButtonEl.style.display =\n",
              "        google.colab.kernel.accessAllowed ? 'block' : 'none';\n",
              "    })();\n",
              "  </script>\n",
              "</div>\n",
              "    </div>\n",
              "  </div>\n"
            ]
          },
          "metadata": {},
          "execution_count": 6
        }
      ]
    },
    {
      "cell_type": "code",
      "execution_count": null,
      "metadata": {
        "colab": {
          "base_uri": "https://localhost:8080/"
        },
        "id": "02hiB4N-QPwQ",
        "outputId": "9d111c49-dd7f-423f-9a2c-244d319fa7b1"
      },
      "outputs": [
        {
          "output_type": "stream",
          "name": "stdout",
          "text": [
            "Shapes of training and testing are: (125973, 43) (22544, 43)\n"
          ]
        }
      ],
      "source": [
        "\n",
        "print(\"Shapes of training and testing are:\",df_train.shape,df_test.shape)\n",
        "\n",
        "full_dataset = pd.concat([df_train,df_test])#concatinated the datasets to escape from the underfit condition\n",
        "full_dataset['label'] = full_dataset['attack_type']"
      ]
    },
    {
      "cell_type": "code",
      "source": [
        "full_dataset.head()"
      ],
      "metadata": {
        "colab": {
          "base_uri": "https://localhost:8080/",
          "height": 255
        },
        "id": "k7oRNw-9gjih",
        "outputId": "3a111fab-35bd-4f3a-f0e6-c88494c37101"
      },
      "execution_count": null,
      "outputs": [
        {
          "output_type": "execute_result",
          "data": {
            "text/plain": [
              "   duration protocol   service flag  src_bytes  dst_bytes  land  \\\n",
              "0         0      tcp  ftp_data   SF        491          0     0   \n",
              "1         0      udp     other   SF        146          0     0   \n",
              "2         0      tcp   private   S0          0          0     0   \n",
              "3         0      tcp      http   SF        232       8153     0   \n",
              "4         0      tcp      http   SF        199        420     0   \n",
              "\n",
              "   wrong_fragment  urgent  hot  ...  dst_host_diff_srv_rate  \\\n",
              "0               0       0    0  ...                    0.03   \n",
              "1               0       0    0  ...                    0.60   \n",
              "2               0       0    0  ...                    0.05   \n",
              "3               0       0    0  ...                    0.00   \n",
              "4               0       0    0  ...                    0.00   \n",
              "\n",
              "   dst_host_same_src_port_rate  dst_host_srv_diff_host_rate  \\\n",
              "0                         0.17                         0.00   \n",
              "1                         0.88                         0.00   \n",
              "2                         0.00                         0.00   \n",
              "3                         0.03                         0.04   \n",
              "4                         0.00                         0.00   \n",
              "\n",
              "   dst_host_serror_rate  dst_host_srv_serr_rate  dst_host_rerror_rate  \\\n",
              "0                  0.00                    0.00                  0.05   \n",
              "1                  0.00                    0.00                  0.00   \n",
              "2                  1.00                    1.00                  0.00   \n",
              "3                  0.03                    0.01                  0.00   \n",
              "4                  0.00                    0.00                  0.00   \n",
              "\n",
              "   dst_host_srv_rerror_rate  attack_type  other    label  \n",
              "0                      0.00       normal     20   normal  \n",
              "1                      0.00       normal     15   normal  \n",
              "2                      0.00      neptune     19  neptune  \n",
              "3                      0.01       normal     21   normal  \n",
              "4                      0.00       normal     21   normal  \n",
              "\n",
              "[5 rows x 44 columns]"
            ],
            "text/html": [
              "\n",
              "  <div id=\"df-f5d438fd-45a5-4083-a86c-ba6b92b9335d\" class=\"colab-df-container\">\n",
              "    <div>\n",
              "<style scoped>\n",
              "    .dataframe tbody tr th:only-of-type {\n",
              "        vertical-align: middle;\n",
              "    }\n",
              "\n",
              "    .dataframe tbody tr th {\n",
              "        vertical-align: top;\n",
              "    }\n",
              "\n",
              "    .dataframe thead th {\n",
              "        text-align: right;\n",
              "    }\n",
              "</style>\n",
              "<table border=\"1\" class=\"dataframe\">\n",
              "  <thead>\n",
              "    <tr style=\"text-align: right;\">\n",
              "      <th></th>\n",
              "      <th>duration</th>\n",
              "      <th>protocol</th>\n",
              "      <th>service</th>\n",
              "      <th>flag</th>\n",
              "      <th>src_bytes</th>\n",
              "      <th>dst_bytes</th>\n",
              "      <th>land</th>\n",
              "      <th>wrong_fragment</th>\n",
              "      <th>urgent</th>\n",
              "      <th>hot</th>\n",
              "      <th>...</th>\n",
              "      <th>dst_host_diff_srv_rate</th>\n",
              "      <th>dst_host_same_src_port_rate</th>\n",
              "      <th>dst_host_srv_diff_host_rate</th>\n",
              "      <th>dst_host_serror_rate</th>\n",
              "      <th>dst_host_srv_serr_rate</th>\n",
              "      <th>dst_host_rerror_rate</th>\n",
              "      <th>dst_host_srv_rerror_rate</th>\n",
              "      <th>attack_type</th>\n",
              "      <th>other</th>\n",
              "      <th>label</th>\n",
              "    </tr>\n",
              "  </thead>\n",
              "  <tbody>\n",
              "    <tr>\n",
              "      <th>0</th>\n",
              "      <td>0</td>\n",
              "      <td>tcp</td>\n",
              "      <td>ftp_data</td>\n",
              "      <td>SF</td>\n",
              "      <td>491</td>\n",
              "      <td>0</td>\n",
              "      <td>0</td>\n",
              "      <td>0</td>\n",
              "      <td>0</td>\n",
              "      <td>0</td>\n",
              "      <td>...</td>\n",
              "      <td>0.03</td>\n",
              "      <td>0.17</td>\n",
              "      <td>0.00</td>\n",
              "      <td>0.00</td>\n",
              "      <td>0.00</td>\n",
              "      <td>0.05</td>\n",
              "      <td>0.00</td>\n",
              "      <td>normal</td>\n",
              "      <td>20</td>\n",
              "      <td>normal</td>\n",
              "    </tr>\n",
              "    <tr>\n",
              "      <th>1</th>\n",
              "      <td>0</td>\n",
              "      <td>udp</td>\n",
              "      <td>other</td>\n",
              "      <td>SF</td>\n",
              "      <td>146</td>\n",
              "      <td>0</td>\n",
              "      <td>0</td>\n",
              "      <td>0</td>\n",
              "      <td>0</td>\n",
              "      <td>0</td>\n",
              "      <td>...</td>\n",
              "      <td>0.60</td>\n",
              "      <td>0.88</td>\n",
              "      <td>0.00</td>\n",
              "      <td>0.00</td>\n",
              "      <td>0.00</td>\n",
              "      <td>0.00</td>\n",
              "      <td>0.00</td>\n",
              "      <td>normal</td>\n",
              "      <td>15</td>\n",
              "      <td>normal</td>\n",
              "    </tr>\n",
              "    <tr>\n",
              "      <th>2</th>\n",
              "      <td>0</td>\n",
              "      <td>tcp</td>\n",
              "      <td>private</td>\n",
              "      <td>S0</td>\n",
              "      <td>0</td>\n",
              "      <td>0</td>\n",
              "      <td>0</td>\n",
              "      <td>0</td>\n",
              "      <td>0</td>\n",
              "      <td>0</td>\n",
              "      <td>...</td>\n",
              "      <td>0.05</td>\n",
              "      <td>0.00</td>\n",
              "      <td>0.00</td>\n",
              "      <td>1.00</td>\n",
              "      <td>1.00</td>\n",
              "      <td>0.00</td>\n",
              "      <td>0.00</td>\n",
              "      <td>neptune</td>\n",
              "      <td>19</td>\n",
              "      <td>neptune</td>\n",
              "    </tr>\n",
              "    <tr>\n",
              "      <th>3</th>\n",
              "      <td>0</td>\n",
              "      <td>tcp</td>\n",
              "      <td>http</td>\n",
              "      <td>SF</td>\n",
              "      <td>232</td>\n",
              "      <td>8153</td>\n",
              "      <td>0</td>\n",
              "      <td>0</td>\n",
              "      <td>0</td>\n",
              "      <td>0</td>\n",
              "      <td>...</td>\n",
              "      <td>0.00</td>\n",
              "      <td>0.03</td>\n",
              "      <td>0.04</td>\n",
              "      <td>0.03</td>\n",
              "      <td>0.01</td>\n",
              "      <td>0.00</td>\n",
              "      <td>0.01</td>\n",
              "      <td>normal</td>\n",
              "      <td>21</td>\n",
              "      <td>normal</td>\n",
              "    </tr>\n",
              "    <tr>\n",
              "      <th>4</th>\n",
              "      <td>0</td>\n",
              "      <td>tcp</td>\n",
              "      <td>http</td>\n",
              "      <td>SF</td>\n",
              "      <td>199</td>\n",
              "      <td>420</td>\n",
              "      <td>0</td>\n",
              "      <td>0</td>\n",
              "      <td>0</td>\n",
              "      <td>0</td>\n",
              "      <td>...</td>\n",
              "      <td>0.00</td>\n",
              "      <td>0.00</td>\n",
              "      <td>0.00</td>\n",
              "      <td>0.00</td>\n",
              "      <td>0.00</td>\n",
              "      <td>0.00</td>\n",
              "      <td>0.00</td>\n",
              "      <td>normal</td>\n",
              "      <td>21</td>\n",
              "      <td>normal</td>\n",
              "    </tr>\n",
              "  </tbody>\n",
              "</table>\n",
              "<p>5 rows × 44 columns</p>\n",
              "</div>\n",
              "    <div class=\"colab-df-buttons\">\n",
              "\n",
              "  <div class=\"colab-df-container\">\n",
              "    <button class=\"colab-df-convert\" onclick=\"convertToInteractive('df-f5d438fd-45a5-4083-a86c-ba6b92b9335d')\"\n",
              "            title=\"Convert this dataframe to an interactive table.\"\n",
              "            style=\"display:none;\">\n",
              "\n",
              "  <svg xmlns=\"http://www.w3.org/2000/svg\" height=\"24px\" viewBox=\"0 -960 960 960\">\n",
              "    <path d=\"M120-120v-720h720v720H120Zm60-500h600v-160H180v160Zm220 220h160v-160H400v160Zm0 220h160v-160H400v160ZM180-400h160v-160H180v160Zm440 0h160v-160H620v160ZM180-180h160v-160H180v160Zm440 0h160v-160H620v160Z\"/>\n",
              "  </svg>\n",
              "    </button>\n",
              "\n",
              "  <style>\n",
              "    .colab-df-container {\n",
              "      display:flex;\n",
              "      gap: 12px;\n",
              "    }\n",
              "\n",
              "    .colab-df-convert {\n",
              "      background-color: #E8F0FE;\n",
              "      border: none;\n",
              "      border-radius: 50%;\n",
              "      cursor: pointer;\n",
              "      display: none;\n",
              "      fill: #1967D2;\n",
              "      height: 32px;\n",
              "      padding: 0 0 0 0;\n",
              "      width: 32px;\n",
              "    }\n",
              "\n",
              "    .colab-df-convert:hover {\n",
              "      background-color: #E2EBFA;\n",
              "      box-shadow: 0px 1px 2px rgba(60, 64, 67, 0.3), 0px 1px 3px 1px rgba(60, 64, 67, 0.15);\n",
              "      fill: #174EA6;\n",
              "    }\n",
              "\n",
              "    .colab-df-buttons div {\n",
              "      margin-bottom: 4px;\n",
              "    }\n",
              "\n",
              "    [theme=dark] .colab-df-convert {\n",
              "      background-color: #3B4455;\n",
              "      fill: #D2E3FC;\n",
              "    }\n",
              "\n",
              "    [theme=dark] .colab-df-convert:hover {\n",
              "      background-color: #434B5C;\n",
              "      box-shadow: 0px 1px 3px 1px rgba(0, 0, 0, 0.15);\n",
              "      filter: drop-shadow(0px 1px 2px rgba(0, 0, 0, 0.3));\n",
              "      fill: #FFFFFF;\n",
              "    }\n",
              "  </style>\n",
              "\n",
              "    <script>\n",
              "      const buttonEl =\n",
              "        document.querySelector('#df-f5d438fd-45a5-4083-a86c-ba6b92b9335d button.colab-df-convert');\n",
              "      buttonEl.style.display =\n",
              "        google.colab.kernel.accessAllowed ? 'block' : 'none';\n",
              "\n",
              "      async function convertToInteractive(key) {\n",
              "        const element = document.querySelector('#df-f5d438fd-45a5-4083-a86c-ba6b92b9335d');\n",
              "        const dataTable =\n",
              "          await google.colab.kernel.invokeFunction('convertToInteractive',\n",
              "                                                    [key], {});\n",
              "        if (!dataTable) return;\n",
              "\n",
              "        const docLinkHtml = 'Like what you see? Visit the ' +\n",
              "          '<a target=\"_blank\" href=https://colab.research.google.com/notebooks/data_table.ipynb>data table notebook</a>'\n",
              "          + ' to learn more about interactive tables.';\n",
              "        element.innerHTML = '';\n",
              "        dataTable['output_type'] = 'display_data';\n",
              "        await google.colab.output.renderOutput(dataTable, element);\n",
              "        const docLink = document.createElement('div');\n",
              "        docLink.innerHTML = docLinkHtml;\n",
              "        element.appendChild(docLink);\n",
              "      }\n",
              "    </script>\n",
              "  </div>\n",
              "\n",
              "\n",
              "<div id=\"df-1974e894-628b-4e77-aefd-4d7232278d97\">\n",
              "  <button class=\"colab-df-quickchart\" onclick=\"quickchart('df-1974e894-628b-4e77-aefd-4d7232278d97')\"\n",
              "            title=\"Suggest charts.\"\n",
              "            style=\"display:none;\">\n",
              "\n",
              "<svg xmlns=\"http://www.w3.org/2000/svg\" height=\"24px\"viewBox=\"0 0 24 24\"\n",
              "     width=\"24px\">\n",
              "    <g>\n",
              "        <path d=\"M19 3H5c-1.1 0-2 .9-2 2v14c0 1.1.9 2 2 2h14c1.1 0 2-.9 2-2V5c0-1.1-.9-2-2-2zM9 17H7v-7h2v7zm4 0h-2V7h2v10zm4 0h-2v-4h2v4z\"/>\n",
              "    </g>\n",
              "</svg>\n",
              "  </button>\n",
              "\n",
              "<style>\n",
              "  .colab-df-quickchart {\n",
              "    background-color: #E8F0FE;\n",
              "    border: none;\n",
              "    border-radius: 50%;\n",
              "    cursor: pointer;\n",
              "    display: none;\n",
              "    fill: #1967D2;\n",
              "    height: 32px;\n",
              "    padding: 0 0 0 0;\n",
              "    width: 32px;\n",
              "  }\n",
              "\n",
              "  .colab-df-quickchart:hover {\n",
              "    background-color: #E2EBFA;\n",
              "    box-shadow: 0px 1px 2px rgba(60, 64, 67, 0.3), 0px 1px 3px 1px rgba(60, 64, 67, 0.15);\n",
              "    fill: #174EA6;\n",
              "  }\n",
              "\n",
              "  [theme=dark] .colab-df-quickchart {\n",
              "    background-color: #3B4455;\n",
              "    fill: #D2E3FC;\n",
              "  }\n",
              "\n",
              "  [theme=dark] .colab-df-quickchart:hover {\n",
              "    background-color: #434B5C;\n",
              "    box-shadow: 0px 1px 3px 1px rgba(0, 0, 0, 0.15);\n",
              "    filter: drop-shadow(0px 1px 2px rgba(0, 0, 0, 0.3));\n",
              "    fill: #FFFFFF;\n",
              "  }\n",
              "</style>\n",
              "\n",
              "  <script>\n",
              "    async function quickchart(key) {\n",
              "      const charts = await google.colab.kernel.invokeFunction(\n",
              "          'suggestCharts', [key], {});\n",
              "    }\n",
              "    (() => {\n",
              "      let quickchartButtonEl =\n",
              "        document.querySelector('#df-1974e894-628b-4e77-aefd-4d7232278d97 button');\n",
              "      quickchartButtonEl.style.display =\n",
              "        google.colab.kernel.accessAllowed ? 'block' : 'none';\n",
              "    })();\n",
              "  </script>\n",
              "</div>\n",
              "    </div>\n",
              "  </div>\n"
            ]
          },
          "metadata": {},
          "execution_count": 8
        }
      ]
    },
    {
      "cell_type": "code",
      "source": [
        " full_dataset['label'].unique()"
      ],
      "metadata": {
        "colab": {
          "base_uri": "https://localhost:8080/"
        },
        "id": "QK4kQhB6g8tW",
        "outputId": "de2b8b79-2569-483c-a23f-544d7a0aeb30"
      },
      "execution_count": null,
      "outputs": [
        {
          "output_type": "execute_result",
          "data": {
            "text/plain": [
              "array(['normal', 'neptune', 'warezclient', 'ipsweep', 'portsweep',\n",
              "       'teardrop', 'nmap', 'satan', 'smurf', 'pod', 'back',\n",
              "       'guess_passwd', 'ftp_write', 'multihop', 'rootkit',\n",
              "       'buffer_overflow', 'imap', 'warezmaster', 'phf', 'land',\n",
              "       'loadmodule', 'spy', 'perl', 'saint', 'mscan', 'apache2',\n",
              "       'snmpgetattack', 'processtable', 'httptunnel', 'ps', 'snmpguess',\n",
              "       'mailbomb', 'named', 'sendmail', 'xterm', 'worm', 'xlock',\n",
              "       'xsnoop', 'sqlattack', 'udpstorm'], dtype=object)"
            ]
          },
          "metadata": {},
          "execution_count": 9
        }
      ]
    },
    {
      "cell_type": "code",
      "execution_count": null,
      "metadata": {
        "id": "kftxug2GQTSC"
      },
      "outputs": [],
      "source": [
        "full_dataset.loc[full_dataset.label == 'neptune','label'] = 'DOS'\n",
        "full_dataset.loc[full_dataset.label == 'back','label'] = 'DOS'\n",
        "full_dataset.loc[full_dataset.label == 'land','label'] = 'DOS'\n",
        "full_dataset.loc[full_dataset.label == 'pod','label'] = 'DOS'\n",
        "full_dataset.loc[full_dataset.label == 'smurf','label'] = 'DOS'\n",
        "full_dataset.loc[full_dataset.label == 'teardrop','label'] = 'DOS'\n",
        "full_dataset.loc[full_dataset.label == 'mailbomb','label'] = 'DOS'\n",
        "full_dataset.loc[full_dataset.label == 'processtable','label'] = 'DOS'\n",
        "full_dataset.loc[full_dataset.label == 'udpstorm','label'] = 'DOS'\n",
        "full_dataset.loc[full_dataset.label == 'apache2','label'] = 'DOS'\n",
        "full_dataset.loc[full_dataset.label == 'worm','label'] = 'DOS'"
      ]
    },
    {
      "cell_type": "code",
      "execution_count": null,
      "metadata": {
        "id": "1M3fCufZQWSF"
      },
      "outputs": [],
      "source": [
        "full_dataset.loc[full_dataset.label == 'buffer_overflow','label'] = 'U2R'\n",
        "full_dataset.loc[full_dataset.label == 'loadmodule','label'] = 'U2R'\n",
        "full_dataset.loc[full_dataset.label == 'perl','label'] = 'U2R'\n",
        "full_dataset.loc[full_dataset.label == 'rootkit','label'] = 'U2R'\n",
        "full_dataset.loc[full_dataset.label == 'sqlattack','label'] = 'U2R'\n",
        "full_dataset.loc[full_dataset.label == 'xterm','label'] = 'U2R'\n",
        "full_dataset.loc[full_dataset.label == 'ps','label'] = 'U2R'"
      ]
    },
    {
      "cell_type": "code",
      "execution_count": null,
      "metadata": {
        "id": "KcMATe3HQaK7"
      },
      "outputs": [],
      "source": [
        "\n",
        "full_dataset.loc[full_dataset.label == 'ftp_write','label'] = 'R2L'\n",
        "full_dataset.loc[full_dataset.label == 'guess_passwd','label'] = 'R2L'\n",
        "full_dataset.loc[full_dataset.label == 'imap','label'] = 'R2L'\n",
        "full_dataset.loc[full_dataset.label == 'multihop','label'] = 'R2L'\n",
        "full_dataset.loc[full_dataset.label == 'phf','label'] = 'R2L'\n",
        "full_dataset.loc[full_dataset.label == 'spy','label'] = 'R2L'\n",
        "full_dataset.loc[full_dataset.label == 'warezclient','label'] = 'R2L'\n",
        "full_dataset.loc[full_dataset.label == 'warezmaster','label'] = 'R2L'\n",
        "full_dataset.loc[full_dataset.label == 'xlock','label'] = 'R2L'\n",
        "full_dataset.loc[full_dataset.label == 'xsnoop','label'] = 'R2L'\n",
        "full_dataset.loc[full_dataset.label == 'snmpgetattack','label'] = 'R2L'\n",
        "full_dataset.loc[full_dataset.label == 'httptunnel','label'] = 'R2L'\n",
        "full_dataset.loc[full_dataset.label == 'snmpguess','label'] = 'R2L'\n",
        "full_dataset.loc[full_dataset.label == 'sendmail','label'] = 'R2L'\n",
        "full_dataset.loc[full_dataset.label == 'named','label'] = 'R2L'"
      ]
    },
    {
      "cell_type": "code",
      "execution_count": null,
      "metadata": {
        "id": "n5nzNQToQczm"
      },
      "outputs": [],
      "source": [
        "\n",
        "full_dataset.loc[full_dataset.label == 'satan','label'] = 'Probe'\n",
        "full_dataset.loc[full_dataset.label == 'ipsweep','label'] = 'Probe'\n",
        "full_dataset.loc[full_dataset.label == 'nmap','label'] = 'Probe'\n",
        "full_dataset.loc[full_dataset.label == 'portsweep','label'] = 'Probe'\n",
        "full_dataset.loc[full_dataset.label == 'saint','label'] = 'Probe'\n",
        "full_dataset.loc[full_dataset.label == 'mscan','label'] = 'Probe'"
      ]
    },
    {
      "cell_type": "code",
      "execution_count": null,
      "metadata": {
        "colab": {
          "base_uri": "https://localhost:8080/",
          "height": 255
        },
        "id": "Py0b5uIRQfbu",
        "outputId": "0a326cad-19dc-473a-fbdc-699d8fd35a91"
      },
      "outputs": [
        {
          "output_type": "execute_result",
          "data": {
            "text/plain": [
              "   duration protocol   service flag  src_bytes  dst_bytes  land  \\\n",
              "0         0      tcp  ftp_data   SF        491          0     0   \n",
              "1         0      udp     other   SF        146          0     0   \n",
              "2         0      tcp   private   S0          0          0     0   \n",
              "3         0      tcp      http   SF        232       8153     0   \n",
              "4         0      tcp      http   SF        199        420     0   \n",
              "\n",
              "   wrong_fragment  urgent  hot  ...  dst_host_diff_srv_rate  \\\n",
              "0               0       0    0  ...                    0.03   \n",
              "1               0       0    0  ...                    0.60   \n",
              "2               0       0    0  ...                    0.05   \n",
              "3               0       0    0  ...                    0.00   \n",
              "4               0       0    0  ...                    0.00   \n",
              "\n",
              "   dst_host_same_src_port_rate  dst_host_srv_diff_host_rate  \\\n",
              "0                         0.17                         0.00   \n",
              "1                         0.88                         0.00   \n",
              "2                         0.00                         0.00   \n",
              "3                         0.03                         0.04   \n",
              "4                         0.00                         0.00   \n",
              "\n",
              "   dst_host_serror_rate  dst_host_srv_serr_rate  dst_host_rerror_rate  \\\n",
              "0                  0.00                    0.00                  0.05   \n",
              "1                  0.00                    0.00                  0.00   \n",
              "2                  1.00                    1.00                  0.00   \n",
              "3                  0.03                    0.01                  0.00   \n",
              "4                  0.00                    0.00                  0.00   \n",
              "\n",
              "   dst_host_srv_rerror_rate  attack_type  other   label  \n",
              "0                      0.00       normal     20  normal  \n",
              "1                      0.00       normal     15  normal  \n",
              "2                      0.00      neptune     19     DOS  \n",
              "3                      0.01       normal     21  normal  \n",
              "4                      0.00       normal     21  normal  \n",
              "\n",
              "[5 rows x 44 columns]"
            ],
            "text/html": [
              "\n",
              "  <div id=\"df-d2d44870-3452-4c8b-9c28-c8b67fef76d3\" class=\"colab-df-container\">\n",
              "    <div>\n",
              "<style scoped>\n",
              "    .dataframe tbody tr th:only-of-type {\n",
              "        vertical-align: middle;\n",
              "    }\n",
              "\n",
              "    .dataframe tbody tr th {\n",
              "        vertical-align: top;\n",
              "    }\n",
              "\n",
              "    .dataframe thead th {\n",
              "        text-align: right;\n",
              "    }\n",
              "</style>\n",
              "<table border=\"1\" class=\"dataframe\">\n",
              "  <thead>\n",
              "    <tr style=\"text-align: right;\">\n",
              "      <th></th>\n",
              "      <th>duration</th>\n",
              "      <th>protocol</th>\n",
              "      <th>service</th>\n",
              "      <th>flag</th>\n",
              "      <th>src_bytes</th>\n",
              "      <th>dst_bytes</th>\n",
              "      <th>land</th>\n",
              "      <th>wrong_fragment</th>\n",
              "      <th>urgent</th>\n",
              "      <th>hot</th>\n",
              "      <th>...</th>\n",
              "      <th>dst_host_diff_srv_rate</th>\n",
              "      <th>dst_host_same_src_port_rate</th>\n",
              "      <th>dst_host_srv_diff_host_rate</th>\n",
              "      <th>dst_host_serror_rate</th>\n",
              "      <th>dst_host_srv_serr_rate</th>\n",
              "      <th>dst_host_rerror_rate</th>\n",
              "      <th>dst_host_srv_rerror_rate</th>\n",
              "      <th>attack_type</th>\n",
              "      <th>other</th>\n",
              "      <th>label</th>\n",
              "    </tr>\n",
              "  </thead>\n",
              "  <tbody>\n",
              "    <tr>\n",
              "      <th>0</th>\n",
              "      <td>0</td>\n",
              "      <td>tcp</td>\n",
              "      <td>ftp_data</td>\n",
              "      <td>SF</td>\n",
              "      <td>491</td>\n",
              "      <td>0</td>\n",
              "      <td>0</td>\n",
              "      <td>0</td>\n",
              "      <td>0</td>\n",
              "      <td>0</td>\n",
              "      <td>...</td>\n",
              "      <td>0.03</td>\n",
              "      <td>0.17</td>\n",
              "      <td>0.00</td>\n",
              "      <td>0.00</td>\n",
              "      <td>0.00</td>\n",
              "      <td>0.05</td>\n",
              "      <td>0.00</td>\n",
              "      <td>normal</td>\n",
              "      <td>20</td>\n",
              "      <td>normal</td>\n",
              "    </tr>\n",
              "    <tr>\n",
              "      <th>1</th>\n",
              "      <td>0</td>\n",
              "      <td>udp</td>\n",
              "      <td>other</td>\n",
              "      <td>SF</td>\n",
              "      <td>146</td>\n",
              "      <td>0</td>\n",
              "      <td>0</td>\n",
              "      <td>0</td>\n",
              "      <td>0</td>\n",
              "      <td>0</td>\n",
              "      <td>...</td>\n",
              "      <td>0.60</td>\n",
              "      <td>0.88</td>\n",
              "      <td>0.00</td>\n",
              "      <td>0.00</td>\n",
              "      <td>0.00</td>\n",
              "      <td>0.00</td>\n",
              "      <td>0.00</td>\n",
              "      <td>normal</td>\n",
              "      <td>15</td>\n",
              "      <td>normal</td>\n",
              "    </tr>\n",
              "    <tr>\n",
              "      <th>2</th>\n",
              "      <td>0</td>\n",
              "      <td>tcp</td>\n",
              "      <td>private</td>\n",
              "      <td>S0</td>\n",
              "      <td>0</td>\n",
              "      <td>0</td>\n",
              "      <td>0</td>\n",
              "      <td>0</td>\n",
              "      <td>0</td>\n",
              "      <td>0</td>\n",
              "      <td>...</td>\n",
              "      <td>0.05</td>\n",
              "      <td>0.00</td>\n",
              "      <td>0.00</td>\n",
              "      <td>1.00</td>\n",
              "      <td>1.00</td>\n",
              "      <td>0.00</td>\n",
              "      <td>0.00</td>\n",
              "      <td>neptune</td>\n",
              "      <td>19</td>\n",
              "      <td>DOS</td>\n",
              "    </tr>\n",
              "    <tr>\n",
              "      <th>3</th>\n",
              "      <td>0</td>\n",
              "      <td>tcp</td>\n",
              "      <td>http</td>\n",
              "      <td>SF</td>\n",
              "      <td>232</td>\n",
              "      <td>8153</td>\n",
              "      <td>0</td>\n",
              "      <td>0</td>\n",
              "      <td>0</td>\n",
              "      <td>0</td>\n",
              "      <td>...</td>\n",
              "      <td>0.00</td>\n",
              "      <td>0.03</td>\n",
              "      <td>0.04</td>\n",
              "      <td>0.03</td>\n",
              "      <td>0.01</td>\n",
              "      <td>0.00</td>\n",
              "      <td>0.01</td>\n",
              "      <td>normal</td>\n",
              "      <td>21</td>\n",
              "      <td>normal</td>\n",
              "    </tr>\n",
              "    <tr>\n",
              "      <th>4</th>\n",
              "      <td>0</td>\n",
              "      <td>tcp</td>\n",
              "      <td>http</td>\n",
              "      <td>SF</td>\n",
              "      <td>199</td>\n",
              "      <td>420</td>\n",
              "      <td>0</td>\n",
              "      <td>0</td>\n",
              "      <td>0</td>\n",
              "      <td>0</td>\n",
              "      <td>...</td>\n",
              "      <td>0.00</td>\n",
              "      <td>0.00</td>\n",
              "      <td>0.00</td>\n",
              "      <td>0.00</td>\n",
              "      <td>0.00</td>\n",
              "      <td>0.00</td>\n",
              "      <td>0.00</td>\n",
              "      <td>normal</td>\n",
              "      <td>21</td>\n",
              "      <td>normal</td>\n",
              "    </tr>\n",
              "  </tbody>\n",
              "</table>\n",
              "<p>5 rows × 44 columns</p>\n",
              "</div>\n",
              "    <div class=\"colab-df-buttons\">\n",
              "\n",
              "  <div class=\"colab-df-container\">\n",
              "    <button class=\"colab-df-convert\" onclick=\"convertToInteractive('df-d2d44870-3452-4c8b-9c28-c8b67fef76d3')\"\n",
              "            title=\"Convert this dataframe to an interactive table.\"\n",
              "            style=\"display:none;\">\n",
              "\n",
              "  <svg xmlns=\"http://www.w3.org/2000/svg\" height=\"24px\" viewBox=\"0 -960 960 960\">\n",
              "    <path d=\"M120-120v-720h720v720H120Zm60-500h600v-160H180v160Zm220 220h160v-160H400v160Zm0 220h160v-160H400v160ZM180-400h160v-160H180v160Zm440 0h160v-160H620v160ZM180-180h160v-160H180v160Zm440 0h160v-160H620v160Z\"/>\n",
              "  </svg>\n",
              "    </button>\n",
              "\n",
              "  <style>\n",
              "    .colab-df-container {\n",
              "      display:flex;\n",
              "      gap: 12px;\n",
              "    }\n",
              "\n",
              "    .colab-df-convert {\n",
              "      background-color: #E8F0FE;\n",
              "      border: none;\n",
              "      border-radius: 50%;\n",
              "      cursor: pointer;\n",
              "      display: none;\n",
              "      fill: #1967D2;\n",
              "      height: 32px;\n",
              "      padding: 0 0 0 0;\n",
              "      width: 32px;\n",
              "    }\n",
              "\n",
              "    .colab-df-convert:hover {\n",
              "      background-color: #E2EBFA;\n",
              "      box-shadow: 0px 1px 2px rgba(60, 64, 67, 0.3), 0px 1px 3px 1px rgba(60, 64, 67, 0.15);\n",
              "      fill: #174EA6;\n",
              "    }\n",
              "\n",
              "    .colab-df-buttons div {\n",
              "      margin-bottom: 4px;\n",
              "    }\n",
              "\n",
              "    [theme=dark] .colab-df-convert {\n",
              "      background-color: #3B4455;\n",
              "      fill: #D2E3FC;\n",
              "    }\n",
              "\n",
              "    [theme=dark] .colab-df-convert:hover {\n",
              "      background-color: #434B5C;\n",
              "      box-shadow: 0px 1px 3px 1px rgba(0, 0, 0, 0.15);\n",
              "      filter: drop-shadow(0px 1px 2px rgba(0, 0, 0, 0.3));\n",
              "      fill: #FFFFFF;\n",
              "    }\n",
              "  </style>\n",
              "\n",
              "    <script>\n",
              "      const buttonEl =\n",
              "        document.querySelector('#df-d2d44870-3452-4c8b-9c28-c8b67fef76d3 button.colab-df-convert');\n",
              "      buttonEl.style.display =\n",
              "        google.colab.kernel.accessAllowed ? 'block' : 'none';\n",
              "\n",
              "      async function convertToInteractive(key) {\n",
              "        const element = document.querySelector('#df-d2d44870-3452-4c8b-9c28-c8b67fef76d3');\n",
              "        const dataTable =\n",
              "          await google.colab.kernel.invokeFunction('convertToInteractive',\n",
              "                                                    [key], {});\n",
              "        if (!dataTable) return;\n",
              "\n",
              "        const docLinkHtml = 'Like what you see? Visit the ' +\n",
              "          '<a target=\"_blank\" href=https://colab.research.google.com/notebooks/data_table.ipynb>data table notebook</a>'\n",
              "          + ' to learn more about interactive tables.';\n",
              "        element.innerHTML = '';\n",
              "        dataTable['output_type'] = 'display_data';\n",
              "        await google.colab.output.renderOutput(dataTable, element);\n",
              "        const docLink = document.createElement('div');\n",
              "        docLink.innerHTML = docLinkHtml;\n",
              "        element.appendChild(docLink);\n",
              "      }\n",
              "    </script>\n",
              "  </div>\n",
              "\n",
              "\n",
              "<div id=\"df-bbc320ec-de2d-4a18-b88c-814cc4d12ff5\">\n",
              "  <button class=\"colab-df-quickchart\" onclick=\"quickchart('df-bbc320ec-de2d-4a18-b88c-814cc4d12ff5')\"\n",
              "            title=\"Suggest charts.\"\n",
              "            style=\"display:none;\">\n",
              "\n",
              "<svg xmlns=\"http://www.w3.org/2000/svg\" height=\"24px\"viewBox=\"0 0 24 24\"\n",
              "     width=\"24px\">\n",
              "    <g>\n",
              "        <path d=\"M19 3H5c-1.1 0-2 .9-2 2v14c0 1.1.9 2 2 2h14c1.1 0 2-.9 2-2V5c0-1.1-.9-2-2-2zM9 17H7v-7h2v7zm4 0h-2V7h2v10zm4 0h-2v-4h2v4z\"/>\n",
              "    </g>\n",
              "</svg>\n",
              "  </button>\n",
              "\n",
              "<style>\n",
              "  .colab-df-quickchart {\n",
              "    background-color: #E8F0FE;\n",
              "    border: none;\n",
              "    border-radius: 50%;\n",
              "    cursor: pointer;\n",
              "    display: none;\n",
              "    fill: #1967D2;\n",
              "    height: 32px;\n",
              "    padding: 0 0 0 0;\n",
              "    width: 32px;\n",
              "  }\n",
              "\n",
              "  .colab-df-quickchart:hover {\n",
              "    background-color: #E2EBFA;\n",
              "    box-shadow: 0px 1px 2px rgba(60, 64, 67, 0.3), 0px 1px 3px 1px rgba(60, 64, 67, 0.15);\n",
              "    fill: #174EA6;\n",
              "  }\n",
              "\n",
              "  [theme=dark] .colab-df-quickchart {\n",
              "    background-color: #3B4455;\n",
              "    fill: #D2E3FC;\n",
              "  }\n",
              "\n",
              "  [theme=dark] .colab-df-quickchart:hover {\n",
              "    background-color: #434B5C;\n",
              "    box-shadow: 0px 1px 3px 1px rgba(0, 0, 0, 0.15);\n",
              "    filter: drop-shadow(0px 1px 2px rgba(0, 0, 0, 0.3));\n",
              "    fill: #FFFFFF;\n",
              "  }\n",
              "</style>\n",
              "\n",
              "  <script>\n",
              "    async function quickchart(key) {\n",
              "      const charts = await google.colab.kernel.invokeFunction(\n",
              "          'suggestCharts', [key], {});\n",
              "    }\n",
              "    (() => {\n",
              "      let quickchartButtonEl =\n",
              "        document.querySelector('#df-bbc320ec-de2d-4a18-b88c-814cc4d12ff5 button');\n",
              "      quickchartButtonEl.style.display =\n",
              "        google.colab.kernel.accessAllowed ? 'block' : 'none';\n",
              "    })();\n",
              "  </script>\n",
              "</div>\n",
              "    </div>\n",
              "  </div>\n"
            ]
          },
          "metadata": {},
          "execution_count": 14
        }
      ],
      "source": [
        "full_dataset.head()"
      ]
    },
    {
      "cell_type": "code",
      "execution_count": null,
      "metadata": {
        "colab": {
          "base_uri": "https://localhost:8080/"
        },
        "id": "BheWSY6PQma0",
        "outputId": "7440cbcf-cac1-438a-97de-3672dab081cc"
      },
      "outputs": [
        {
          "output_type": "execute_result",
          "data": {
            "text/plain": [
              "array(['normal', 'DOS', 'R2L', 'Probe', 'U2R'], dtype=object)"
            ]
          },
          "metadata": {},
          "execution_count": 15
        }
      ],
      "source": [
        "full_dataset['label'].unique()"
      ]
    },
    {
      "cell_type": "code",
      "execution_count": null,
      "metadata": {
        "colab": {
          "base_uri": "https://localhost:8080/"
        },
        "id": "05aoiDMdQu7l",
        "outputId": "6d9b60ae-b23f-480f-8608-8b7bdc5de24b"
      },
      "outputs": [
        {
          "output_type": "stream",
          "name": "stdout",
          "text": [
            "Distribution of Label in Fraction\n"
          ]
        },
        {
          "output_type": "execute_result",
          "data": {
            "text/plain": [
              "normal    0.518823\n",
              "DOS       0.359467\n",
              "Probe     0.094784\n",
              "R2L       0.026125\n",
              "U2R       0.000801\n",
              "Name: label, dtype: float64"
            ]
          },
          "metadata": {},
          "execution_count": 16
        }
      ],
      "source": [
        "print('Distribution of Label in Fraction')\n",
        "full_dataset['label'].value_counts(normalize=True)"
      ]
    },
    {
      "cell_type": "code",
      "execution_count": null,
      "metadata": {
        "id": "j0ZeupBUQ4P6"
      },
      "outputs": [],
      "source": [
        "full_dataset['label']=full_dataset['label'].replace('normal',0)\n",
        "full_dataset['label']=full_dataset['label'].replace('DOS',1)\n",
        "full_dataset['label']=full_dataset['label'].replace('Probe',1)\n",
        "full_dataset['label']=full_dataset['label'].replace('R2L',1)\n",
        "full_dataset['label']=full_dataset['label'].replace('U2R',1)\n"
      ]
    },
    {
      "cell_type": "code",
      "execution_count": null,
      "metadata": {
        "colab": {
          "base_uri": "https://localhost:8080/"
        },
        "id": "bmeAvOLqRvD-",
        "outputId": "24d10bf2-1a10-45c7-d3f4-addd8a32705f"
      },
      "outputs": [
        {
          "output_type": "stream",
          "name": "stdout",
          "text": [
            "Label Distribution in terms of 0 and 1\n"
          ]
        },
        {
          "output_type": "execute_result",
          "data": {
            "text/plain": [
              "0    77054\n",
              "1    71463\n",
              "Name: label, dtype: int64"
            ]
          },
          "metadata": {},
          "execution_count": 18
        }
      ],
      "source": [
        "print('Label Distribution in terms of 0 and 1')\n",
        "full_dataset['label'].value_counts()"
      ]
    },
    {
      "cell_type": "code",
      "execution_count": null,
      "metadata": {
        "colab": {
          "base_uri": "https://localhost:8080/"
        },
        "id": "4ZYka-CvR1ps",
        "outputId": "93c7ae9c-b8b8-4879-98a8-0671d67c3b87"
      },
      "outputs": [
        {
          "output_type": "stream",
          "name": "stdout",
          "text": [
            "Unique Labels [0 1]\n"
          ]
        }
      ],
      "source": [
        "\n",
        "full_dataset = full_dataset.drop(['other','attack_type'],axis=1)\n",
        "print(\"Unique Labels\",full_dataset.label.unique())\n",
        "full_dataset_svm = full_dataset.copy()"
      ]
    },
    {
      "cell_type": "code",
      "execution_count": null,
      "metadata": {
        "colab": {
          "base_uri": "https://localhost:8080/"
        },
        "id": "kG5p9s2nR8Lj",
        "outputId": "c21f055c-32e7-41bd-f1e3-858a8a2bbac7"
      },
      "outputs": [
        {
          "output_type": "execute_result",
          "data": {
            "text/plain": [
              "(148517, 42)"
            ]
          },
          "metadata": {},
          "execution_count": 20
        }
      ],
      "source": [
        "\n",
        "full_dataset.shape"
      ]
    },
    {
      "cell_type": "code",
      "execution_count": null,
      "metadata": {
        "id": "JSjtluODSE0V"
      },
      "outputs": [],
      "source": [
        "full_dataset = pd.get_dummies(full_dataset,drop_first=False)"
      ]
    },
    {
      "cell_type": "code",
      "execution_count": null,
      "metadata": {
        "colab": {
          "base_uri": "https://localhost:8080/"
        },
        "id": "6TG9tOpOSJWk",
        "outputId": "3a3bb863-a651-4843-9a94-dec33b22a426"
      },
      "outputs": [
        {
          "output_type": "execute_result",
          "data": {
            "text/plain": [
              "(148517, 123)"
            ]
          },
          "metadata": {},
          "execution_count": 22
        }
      ],
      "source": [
        "full_dataset.shape"
      ]
    },
    {
      "cell_type": "markdown",
      "source": [
        "Data prepocessing"
      ],
      "metadata": {
        "id": "wEQf4vBgR9Pr"
      }
    },
    {
      "cell_type": "code",
      "execution_count": null,
      "metadata": {
        "id": "nfDwNZOndeDP"
      },
      "outputs": [],
      "source": [
        "from sklearn.preprocessing import StandardScaler\n",
        "\n",
        "cols_to_norm=[\"duration\",\"src_bytes\",'dst_bytes','land','wrong_fragment','urgent','hot','num_failed_logins','logged_in',\n",
        "                 \"num_compromised\",'root_shell','su_attempted','num_root','num_file_creations','num_shells','num_access_files','is_host_login','is_guest_login','count','srv_count',\n",
        "                 \"serror_rate\",'srv_serror_rate','rerror_rate','srv_rerror_rate','same_srv_rate','diff_srv_rate','srv_diff_host_rate','dst_host_count',\n",
        "                 \"dst_host_srv_count\",'dst_host_same_srv_rate','dst_host_diff_srv_rate','dst_host_same_src_port_rate',\n",
        "                 'dst_host_srv_diff_host_rate','dst_host_serror_rate','dst_host_srv_serr_rate','dst_host_rerror_rate','dst_host_srv_rerror_rate','protocol_icmp','protocol_tcp',\n",
        "                 \"protocol_udp\",'service_IRC',\"service_X11\",'service_Z39_50','service_aol','service_auth','service_bgp','service_courier','service_csnet_ns','service_ctf',\n",
        "                 \"service_daytime\",'service_discard','service_domain','service_domain_u','service_echo','service_eco_i','service_ecr_i',\n",
        "                 \"service_efs\",'service_exec','service_finger','service_ftp','service_ftp_data',\"service_gopher\",\n",
        "                 \"service_harvest\",'service_hostnames','service_http','service_http_2784','service_http_443','service_http_8001','service_imap4',\n",
        "                 \"service_iso_tsap\",'service_klogin','service_kshell','service_ldap','service_link','service_login','service_mtp','service_name','service_netbios_dgm',\n",
        "                 \"service_netbios_ns\",'service_netbios_ssn','service_netstat','service_nnsp','service_nntp','service_ntp_u','service_other','service_pm_dump','service_pop_2','service_pop_3','service_printer','service_private','service_red_i','service_remote_job',\n",
        "                 \"service_rje\",'service_shell','service_smtp','service_sql_net','service_ssh','service_sunrpc','service_supdup','service_systat','service_telnet','service_tftp_u','service_tim_i',\n",
        "                 \"service_time\",\"service_urh_i\",'service_urp_i','service_uucp','service_uucp_path','service_vmnet','service_whois','flag_OTH','flag_REJ','flag_RSTO','flag_RSTOS0','flag_RSTR','flag_S0','flag_S1','flag_S2','flag_S3','flag_SF','flag_SH']"
      ]
    },
    {
      "cell_type": "code",
      "execution_count": null,
      "metadata": {
        "id": "EzkBnHD6dd_3"
      },
      "outputs": [],
      "source": [
        "scaler = StandardScaler()"
      ]
    },
    {
      "cell_type": "code",
      "execution_count": null,
      "metadata": {
        "id": "jgD9H5PFdd-J"
      },
      "outputs": [],
      "source": [
        "full_dataset[cols_to_norm] = scaler.fit_transform(full_dataset[cols_to_norm])"
      ]
    },
    {
      "cell_type": "code",
      "execution_count": null,
      "metadata": {
        "colab": {
          "base_uri": "https://localhost:8080/",
          "height": 1000
        },
        "id": "vFkratpwdd8H",
        "outputId": "6f6f697e-c261-47a2-eed8-b91cf3645d83"
      },
      "outputs": [
        {
          "output_type": "execute_result",
          "data": {
            "text/plain": [
              "<Axes: >"
            ]
          },
          "metadata": {},
          "execution_count": 26
        },
        {
          "output_type": "display_data",
          "data": {
            "text/plain": [
              "<Figure size 1200x1200 with 2 Axes>"
            ],
            "image/png": "[encoded data removed]"
          },
          "metadata": {}
        }
      ],
      "source": [
        "import seaborn as sns\n",
        "import matplotlib.pyplot as plt\n",
        "corr_df = full_dataset[cols_to_norm].corr(method='pearson')\n",
        "fig, ax = plt.subplots(figsize=(12,12))\n",
        "sns.heatmap(corr_df)"
      ]
    },
    {
      "cell_type": "code",
      "source": [
        "attack_vs_protocol = pd.crosstab(df_train.attack_type, df_train.protocol)\n",
        "attack_vs_protocol"
      ],
      "metadata": {
        "colab": {
          "base_uri": "https://localhost:8080/",
          "height": 802
        },
        "id": "DQRBTCZdePT7",
        "outputId": "e32cd219-19e9-41e0-cafa-3699b942a567"
      },
      "execution_count": null,
      "outputs": [
        {
          "output_type": "execute_result",
          "data": {
            "text/plain": [
              "protocol         icmp    tcp    udp\n",
              "attack_type                        \n",
              "back                0    956      0\n",
              "buffer_overflow     0     30      0\n",
              "ftp_write           0      8      0\n",
              "guess_passwd        0     53      0\n",
              "imap                0     11      0\n",
              "ipsweep          3117    482      0\n",
              "land                0     18      0\n",
              "loadmodule          0      9      0\n",
              "multihop            0      7      0\n",
              "neptune             0  41214      0\n",
              "nmap              981    265    247\n",
              "normal           1309  53600  12434\n",
              "perl                0      3      0\n",
              "phf                 0      4      0\n",
              "pod               201      0      0\n",
              "portsweep           5   2926      0\n",
              "rootkit             0      7      3\n",
              "satan              32   2184   1417\n",
              "smurf            2646      0      0\n",
              "spy                 0      2      0\n",
              "teardrop            0      0    892\n",
              "warezclient         0    890      0\n",
              "warezmaster         0     20      0"
            ],
            "text/html": [
              "\n",
              "  <div id=\"df-1017de98-d2a9-4e6a-be36-f94e288214ad\" class=\"colab-df-container\">\n",
              "    <div>\n",
              "<style scoped>\n",
              "    .dataframe tbody tr th:only-of-type {\n",
              "        vertical-align: middle;\n",
              "    }\n",
              "\n",
              "    .dataframe tbody tr th {\n",
              "        vertical-align: top;\n",
              "    }\n",
              "\n",
              "    .dataframe thead th {\n",
              "        text-align: right;\n",
              "    }\n",
              "</style>\n",
              "<table border=\"1\" class=\"dataframe\">\n",
              "  <thead>\n",
              "    <tr style=\"text-align: right;\">\n",
              "      <th>protocol</th>\n",
              "      <th>icmp</th>\n",
              "      <th>tcp</th>\n",
              "      <th>udp</th>\n",
              "    </tr>\n",
              "    <tr>\n",
              "      <th>attack_type</th>\n",
              "      <th></th>\n",
              "      <th></th>\n",
              "      <th></th>\n",
              "    </tr>\n",
              "  </thead>\n",
              "  <tbody>\n",
              "    <tr>\n",
              "      <th>back</th>\n",
              "      <td>0</td>\n",
              "      <td>956</td>\n",
              "      <td>0</td>\n",
              "    </tr>\n",
              "    <tr>\n",
              "      <th>buffer_overflow</th>\n",
              "      <td>0</td>\n",
              "      <td>30</td>\n",
              "      <td>0</td>\n",
              "    </tr>\n",
              "    <tr>\n",
              "      <th>ftp_write</th>\n",
              "      <td>0</td>\n",
              "      <td>8</td>\n",
              "      <td>0</td>\n",
              "    </tr>\n",
              "    <tr>\n",
              "      <th>guess_passwd</th>\n",
              "      <td>0</td>\n",
              "      <td>53</td>\n",
              "      <td>0</td>\n",
              "    </tr>\n",
              "    <tr>\n",
              "      <th>imap</th>\n",
              "      <td>0</td>\n",
              "      <td>11</td>\n",
              "      <td>0</td>\n",
              "    </tr>\n",
              "    <tr>\n",
              "      <th>ipsweep</th>\n",
              "      <td>3117</td>\n",
              "      <td>482</td>\n",
              "      <td>0</td>\n",
              "    </tr>\n",
              "    <tr>\n",
              "      <th>land</th>\n",
              "      <td>0</td>\n",
              "      <td>18</td>\n",
              "      <td>0</td>\n",
              "    </tr>\n",
              "    <tr>\n",
              "      <th>loadmodule</th>\n",
              "      <td>0</td>\n",
              "      <td>9</td>\n",
              "      <td>0</td>\n",
              "    </tr>\n",
              "    <tr>\n",
              "      <th>multihop</th>\n",
              "      <td>0</td>\n",
              "      <td>7</td>\n",
              "      <td>0</td>\n",
              "    </tr>\n",
              "    <tr>\n",
              "      <th>neptune</th>\n",
              "      <td>0</td>\n",
              "      <td>41214</td>\n",
              "      <td>0</td>\n",
              "    </tr>\n",
              "    <tr>\n",
              "      <th>nmap</th>\n",
              "      <td>981</td>\n",
              "      <td>265</td>\n",
              "      <td>247</td>\n",
              "    </tr>\n",
              "    <tr>\n",
              "      <th>normal</th>\n",
              "      <td>1309</td>\n",
              "      <td>53600</td>\n",
              "      <td>12434</td>\n",
              "    </tr>\n",
              "    <tr>\n",
              "      <th>perl</th>\n",
              "      <td>0</td>\n",
              "      <td>3</td>\n",
              "      <td>0</td>\n",
              "    </tr>\n",
              "    <tr>\n",
              "      <th>phf</th>\n",
              "      <td>0</td>\n",
              "      <td>4</td>\n",
              "      <td>0</td>\n",
              "    </tr>\n",
              "    <tr>\n",
              "      <th>pod</th>\n",
              "      <td>201</td>\n",
              "      <td>0</td>\n",
              "      <td>0</td>\n",
              "    </tr>\n",
              "    <tr>\n",
              "      <th>portsweep</th>\n",
              "      <td>5</td>\n",
              "      <td>2926</td>\n",
              "      <td>0</td>\n",
              "    </tr>\n",
              "    <tr>\n",
              "      <th>rootkit</th>\n",
              "      <td>0</td>\n",
              "      <td>7</td>\n",
              "      <td>3</td>\n",
              "    </tr>\n",
              "    <tr>\n",
              "      <th>satan</th>\n",
              "      <td>32</td>\n",
              "      <td>2184</td>\n",
              "      <td>1417</td>\n",
              "    </tr>\n",
              "    <tr>\n",
              "      <th>smurf</th>\n",
              "      <td>2646</td>\n",
              "      <td>0</td>\n",
              "      <td>0</td>\n",
              "    </tr>\n",
              "    <tr>\n",
              "      <th>spy</th>\n",
              "      <td>0</td>\n",
              "      <td>2</td>\n",
              "      <td>0</td>\n",
              "    </tr>\n",
              "    <tr>\n",
              "      <th>teardrop</th>\n",
              "      <td>0</td>\n",
              "      <td>0</td>\n",
              "      <td>892</td>\n",
              "    </tr>\n",
              "    <tr>\n",
              "      <th>warezclient</th>\n",
              "      <td>0</td>\n",
              "      <td>890</td>\n",
              "      <td>0</td>\n",
              "    </tr>\n",
              "    <tr>\n",
              "      <th>warezmaster</th>\n",
              "      <td>0</td>\n",
              "      <td>20</td>\n",
              "      <td>0</td>\n",
              "    </tr>\n",
              "  </tbody>\n",
              "</table>\n",
              "</div>\n",
              "    <div class=\"colab-df-buttons\">\n",
              "\n",
              "  <div class=\"colab-df-container\">\n",
              "    <button class=\"colab-df-convert\" onclick=\"convertToInteractive('df-1017de98-d2a9-4e6a-be36-f94e288214ad')\"\n",
              "            title=\"Convert this dataframe to an interactive table.\"\n",
              "            style=\"display:none;\">\n",
              "\n",
              "  <svg xmlns=\"http://www.w3.org/2000/svg\" height=\"24px\" viewBox=\"0 -960 960 960\">\n",
              "    <path d=\"M120-120v-720h720v720H120Zm60-500h600v-160H180v160Zm220 220h160v-160H400v160Zm0 220h160v-160H400v160ZM180-400h160v-160H180v160Zm440 0h160v-160H620v160ZM180-180h160v-160H180v160Zm440 0h160v-160H620v160Z\"/>\n",
              "  </svg>\n",
              "    </button>\n",
              "\n",
              "  <style>\n",
              "    .colab-df-container {\n",
              "      display:flex;\n",
              "      gap: 12px;\n",
              "    }\n",
              "\n",
              "    .colab-df-convert {\n",
              "      background-color: #E8F0FE;\n",
              "      border: none;\n",
              "      border-radius: 50%;\n",
              "      cursor: pointer;\n",
              "      display: none;\n",
              "      fill: #1967D2;\n",
              "      height: 32px;\n",
              "      padding: 0 0 0 0;\n",
              "      width: 32px;\n",
              "    }\n",
              "\n",
              "    .colab-df-convert:hover {\n",
              "      background-color: #E2EBFA;\n",
              "      box-shadow: 0px 1px 2px rgba(60, 64, 67, 0.3), 0px 1px 3px 1px rgba(60, 64, 67, 0.15);\n",
              "      fill: #174EA6;\n",
              "    }\n",
              "\n",
              "    .colab-df-buttons div {\n",
              "      margin-bottom: 4px;\n",
              "    }\n",
              "\n",
              "    [theme=dark] .colab-df-convert {\n",
              "      background-color: #3B4455;\n",
              "      fill: #D2E3FC;\n",
              "    }\n",
              "\n",
              "    [theme=dark] .colab-df-convert:hover {\n",
              "      background-color: #434B5C;\n",
              "      box-shadow: 0px 1px 3px 1px rgba(0, 0, 0, 0.15);\n",
              "      filter: drop-shadow(0px 1px 2px rgba(0, 0, 0, 0.3));\n",
              "      fill: #FFFFFF;\n",
              "    }\n",
              "  </style>\n",
              "\n",
              "    <script>\n",
              "      const buttonEl =\n",
              "        document.querySelector('#df-1017de98-d2a9-4e6a-be36-f94e288214ad button.colab-df-convert');\n",
              "      buttonEl.style.display =\n",
              "        google.colab.kernel.accessAllowed ? 'block' : 'none';\n",
              "\n",
              "      async function convertToInteractive(key) {\n",
              "        const element = document.querySelector('#df-1017de98-d2a9-4e6a-be36-f94e288214ad');\n",
              "        const dataTable =\n",
              "          await google.colab.kernel.invokeFunction('convertToInteractive',\n",
              "                                                    [key], {});\n",
              "        if (!dataTable) return;\n",
              "\n",
              "        const docLinkHtml = 'Like what you see? Visit the ' +\n",
              "          '<a target=\"_blank\" href=https://colab.research.google.com/notebooks/data_table.ipynb>data table notebook</a>'\n",
              "          + ' to learn more about interactive tables.';\n",
              "        element.innerHTML = '';\n",
              "        dataTable['output_type'] = 'display_data';\n",
              "        await google.colab.output.renderOutput(dataTable, element);\n",
              "        const docLink = document.createElement('div');\n",
              "        docLink.innerHTML = docLinkHtml;\n",
              "        element.appendChild(docLink);\n",
              "      }\n",
              "    </script>\n",
              "  </div>\n",
              "\n",
              "\n",
              "<div id=\"df-45672dec-5b53-4fe0-b52e-ab713ca10b4d\">\n",
              "  <button class=\"colab-df-quickchart\" onclick=\"quickchart('df-45672dec-5b53-4fe0-b52e-ab713ca10b4d')\"\n",
              "            title=\"Suggest charts.\"\n",
              "            style=\"display:none;\">\n",
              "\n",
              "<svg xmlns=\"http://www.w3.org/2000/svg\" height=\"24px\"viewBox=\"0 0 24 24\"\n",
              "     width=\"24px\">\n",
              "    <g>\n",
              "        <path d=\"M19 3H5c-1.1 0-2 .9-2 2v14c0 1.1.9 2 2 2h14c1.1 0 2-.9 2-2V5c0-1.1-.9-2-2-2zM9 17H7v-7h2v7zm4 0h-2V7h2v10zm4 0h-2v-4h2v4z\"/>\n",
              "    </g>\n",
              "</svg>\n",
              "  </button>\n",
              "\n",
              "<style>\n",
              "  .colab-df-quickchart {\n",
              "    background-color: #E8F0FE;\n",
              "    border: none;\n",
              "    border-radius: 50%;\n",
              "    cursor: pointer;\n",
              "    display: none;\n",
              "    fill: #1967D2;\n",
              "    height: 32px;\n",
              "    padding: 0 0 0 0;\n",
              "    width: 32px;\n",
              "  }\n",
              "\n",
              "  .colab-df-quickchart:hover {\n",
              "    background-color: #E2EBFA;\n",
              "    box-shadow: 0px 1px 2px rgba(60, 64, 67, 0.3), 0px 1px 3px 1px rgba(60, 64, 67, 0.15);\n",
              "    fill: #174EA6;\n",
              "  }\n",
              "\n",
              "  [theme=dark] .colab-df-quickchart {\n",
              "    background-color: #3B4455;\n",
              "    fill: #D2E3FC;\n",
              "  }\n",
              "\n",
              "  [theme=dark] .colab-df-quickchart:hover {\n",
              "    background-color: #434B5C;\n",
              "    box-shadow: 0px 1px 3px 1px rgba(0, 0, 0, 0.15);\n",
              "    filter: drop-shadow(0px 1px 2px rgba(0, 0, 0, 0.3));\n",
              "    fill: #FFFFFF;\n",
              "  }\n",
              "</style>\n",
              "\n",
              "  <script>\n",
              "    async function quickchart(key) {\n",
              "      const charts = await google.colab.kernel.invokeFunction(\n",
              "          'suggestCharts', [key], {});\n",
              "    }\n",
              "    (() => {\n",
              "      let quickchartButtonEl =\n",
              "        document.querySelector('#df-45672dec-5b53-4fe0-b52e-ab713ca10b4d button');\n",
              "      quickchartButtonEl.style.display =\n",
              "        google.colab.kernel.accessAllowed ? 'block' : 'none';\n",
              "    })();\n",
              "  </script>\n",
              "</div>\n",
              "    </div>\n",
              "  </div>\n"
            ]
          },
          "metadata": {},
          "execution_count": 27
        }
      ]
    },
    {
      "cell_type": "code",
      "execution_count": null,
      "metadata": {
        "id": "dRTf6uIIdxI0"
      },
      "outputs": [],
      "source": [
        "import matplotlib.pyplot as plt\n",
        "import seaborn as sns\n",
        "import itertools\n",
        "import random\n",
        "\n",
        "def bake_pies(data_list,labels):\n",
        "    list_length = len(data_list)\n",
        "\n",
        "    # setup for mapping colors\n",
        "    color_list = sns.color_palette()\n",
        "    color_cycle = itertools.cycle(color_list)\n",
        "    cdict = {}\n",
        "\n",
        "    # build the subplots\n",
        "    fig, axs = plt.subplots(1, list_length,figsize=(18,10), tight_layout=False)\n",
        "    plt.subplots_adjust(wspace=1/list_length)\n",
        "\n",
        "    # loop through the data sets and build the charts\n",
        "    for count, data_set in enumerate(data_list):\n",
        "\n",
        "        # update our color mapt with new values\n",
        "        for num, value in enumerate(np.unique(data_set.index)):\n",
        "              if value not in cdict:\n",
        "                cdict[value] = next(color_cycle)\n",
        "\n",
        "        # build the wedges\n",
        "        wedges,texts = axs[count].pie(data_set,colors=[cdict[v] for v in data_set.index])\n",
        "\n",
        "        # build the legend\n",
        "        axs[count].legend(wedges, data_set.index,\n",
        "                           title=\"Flags\",\n",
        "                           loc=\"center left\",\n",
        "                           bbox_to_anchor=(1, 0, 0.5, 1))\n",
        "        # set the title\n",
        "        axs[count].set_title(labels[count])\n",
        "\n",
        "    return axs\n"
      ]
    },
    {
      "cell_type": "code",
      "execution_count": null,
      "metadata": {
        "id": "cByk2aBEdxFY",
        "colab": {
          "base_uri": "https://localhost:8080/",
          "height": 433
        },
        "outputId": "c77682f4-f5c7-4e07-a70c-ed93bf035ad0"
      },
      "outputs": [
        {
          "output_type": "display_data",
          "data": {
            "text/plain": [
              "<Figure size 1800x1000 with 3 Axes>"
            ],
            "image/png": "[encoded data removed]"
          },
          "metadata": {}
        }
      ],
      "source": [
        "import numpy as np\n",
        "icmp_attacks = attack_vs_protocol.icmp\n",
        "tcp_attacks = attack_vs_protocol.tcp\n",
        "udp_attacks = attack_vs_protocol.udp\n",
        "\n",
        "# create the charts\n",
        "bake_pies([icmp_attacks, tcp_attacks, udp_attacks],['icmp','tcp','udp'])\n",
        "plt.show()"
      ]
    },
    {
      "cell_type": "code",
      "execution_count": null,
      "metadata": {
        "colab": {
          "base_uri": "https://localhost:8080/"
        },
        "id": "_-rb3eziSLgs",
        "outputId": "a03768e3-5ec5-49b3-da01-f7cbd654202f"
      },
      "outputs": [
        {
          "output_type": "stream",
          "name": "stdout",
          "text": [
            "<class 'pandas.core.frame.DataFrame'>\n",
            "Int64Index: 148517 entries, 0 to 22543\n",
            "Columns: 123 entries, duration to flag_SH\n",
            "dtypes: float64(121), int64(2)\n",
            "memory usage: 140.5 MB\n"
          ]
        }
      ],
      "source": [
        "full_dataset.info()"
      ]
    },
    {
      "cell_type": "code",
      "execution_count": null,
      "metadata": {
        "id": "PsMDCmJkSQEf"
      },
      "outputs": [],
      "source": [
        "from sklearn.metrics import confusion_matrix\n",
        "from sklearn.model_selection import train_test_split"
      ]
    },
    {
      "cell_type": "code",
      "execution_count": null,
      "metadata": {
        "id": "YRZ5cF_hSrTo"
      },
      "outputs": [],
      "source": [
        "\n",
        "X=full_dataset.drop('label',axis=1)\n",
        "y=full_dataset.label"
      ]
    },
    {
      "cell_type": "code",
      "execution_count": null,
      "metadata": {
        "id": "OwC54kpKS27Q"
      },
      "outputs": [],
      "source": [
        "X_train,X_test,y_train,y_test=train_test_split(X,y,test_size=0.3,random_state=42)"
      ]
    },
    {
      "cell_type": "code",
      "source": [
        "X_train.head(122)"
      ],
      "metadata": {
        "colab": {
          "base_uri": "https://localhost:8080/",
          "height": 443
        },
        "id": "5AWA075zG3uT",
        "outputId": "118d5e77-a58c-4394-c112-0303445abad3"
      },
      "execution_count": null,
      "outputs": [
        {
          "output_type": "execute_result",
          "data": {
            "text/plain": [
              "         duration  src_bytes  dst_bytes     land  wrong_fragment    urgent  \\\n",
              "19924   -0.112075  -0.006956  -0.004535 -0.01468       -0.085488 -0.010403   \n",
              "77854   -0.112481  -0.007436  -0.004614 -0.01468       -0.085488 -0.010403   \n",
              "19105   -0.112481  -0.007385  -0.001035 -0.01468       -0.085488 -0.010403   \n",
              "118322  -0.112481  -0.007394  -0.004187 -0.01468       -0.085488 -0.010403   \n",
              "116812  -0.112481  -0.007396  -0.004484 -0.01468       -0.085488 -0.010403   \n",
              "...           ...        ...        ...      ...             ...       ...   \n",
              "19214   -0.112481  -0.007382   0.002542 -0.01468       -0.085488 -0.010403   \n",
              "17484   -0.111262  -0.007249  -0.004526 -0.01468       -0.085488 -0.010403   \n",
              "64465   11.066160  -0.007436  -0.004614 -0.01468       -0.085488 -0.010403   \n",
              "110232  -0.112481  -0.007436  -0.004614 -0.01468       -0.085488 -0.010403   \n",
              "29334   -0.112481  -0.007436  -0.004614 -0.01468       -0.085488 -0.010403   \n",
              "\n",
              "             hot  num_failed_logins  logged_in  num_compromised  ...  \\\n",
              "19924  -0.094071          -0.059832   1.217658        -0.011473  ...   \n",
              "77854  -0.094071          -0.059832  -0.821249        -0.011473  ...   \n",
              "19105  -0.094071          -0.059832   1.217658        -0.011473  ...   \n",
              "118322 -0.094071          -0.059832   1.217658        -0.011473  ...   \n",
              "116812 -0.094071          -0.059832   1.217658        -0.011473  ...   \n",
              "...          ...                ...        ...              ...  ...   \n",
              "19214  -0.094071          -0.059832   1.217658        -0.011473  ...   \n",
              "17484  -0.094071          -0.059832   1.217658        -0.011473  ...   \n",
              "64465  -0.094071          -0.059832  -0.821249        -0.011473  ...   \n",
              "110232 -0.094071          -0.059832  -0.821249        -0.011473  ...   \n",
              "29334  -0.094071          -0.059832  -0.821249        -0.011473  ...   \n",
              "\n",
              "        flag_REJ  flag_RSTO  flag_RSTOS0  flag_RSTR   flag_S0   flag_S1  \\\n",
              "19924   -0.33621  -0.126385    -0.026599  -0.145766 -0.574601 -0.051047   \n",
              "77854   -0.33621  -0.126385    -0.026599  -0.145766  1.740339 -0.051047   \n",
              "19105   -0.33621  -0.126385    -0.026599  -0.145766 -0.574601 -0.051047   \n",
              "118322  -0.33621  -0.126385    -0.026599  -0.145766 -0.574601 -0.051047   \n",
              "116812  -0.33621  -0.126385    -0.026599  -0.145766 -0.574601 -0.051047   \n",
              "...          ...        ...          ...        ...       ...       ...   \n",
              "19214   -0.33621  -0.126385    -0.026599  -0.145766 -0.574601 -0.051047   \n",
              "17484   -0.33621  -0.126385    -0.026599  -0.145766 -0.574601 -0.051047   \n",
              "64465   -0.33621  -0.126385    -0.026599   6.860303 -0.574601 -0.051047   \n",
              "110232  -0.33621  -0.126385    -0.026599  -0.145766  1.740339 -0.051047   \n",
              "29334   -0.33621  -0.126385    -0.026599  -0.145766  1.740339 -0.051047   \n",
              "\n",
              "         flag_S2   flag_S3   flag_SF   flag_SH  \n",
              "19924  -0.030936 -0.044839  0.808391 -0.048183  \n",
              "77854  -0.030936 -0.044839 -1.237025 -0.048183  \n",
              "19105  -0.030936 -0.044839  0.808391 -0.048183  \n",
              "118322 -0.030936 -0.044839  0.808391 -0.048183  \n",
              "116812 -0.030936 -0.044839  0.808391 -0.048183  \n",
              "...          ...       ...       ...       ...  \n",
              "19214  -0.030936 -0.044839  0.808391 -0.048183  \n",
              "17484  -0.030936 -0.044839  0.808391 -0.048183  \n",
              "64465  -0.030936 -0.044839 -1.237025 -0.048183  \n",
              "110232 -0.030936 -0.044839 -1.237025 -0.048183  \n",
              "29334  -0.030936 -0.044839 -1.237025 -0.048183  \n",
              "\n",
              "[122 rows x 122 columns]"
            ],
            "text/html": [
              "\n",
              "  <div id=\"df-7935c4a0-91e7-4254-b3a2-f62aad42ab37\" class=\"colab-df-container\">\n",
              "    <div>\n",
              "<style scoped>\n",
              "    .dataframe tbody tr th:only-of-type {\n",
              "        vertical-align: middle;\n",
              "    }\n",
              "\n",
              "    .dataframe tbody tr th {\n",
              "        vertical-align: top;\n",
              "    }\n",
              "\n",
              "    .dataframe thead th {\n",
              "        text-align: right;\n",
              "    }\n",
              "</style>\n",
              "<table border=\"1\" class=\"dataframe\">\n",
              "  <thead>\n",
              "    <tr style=\"text-align: right;\">\n",
              "      <th></th>\n",
              "      <th>duration</th>\n",
              "      <th>src_bytes</th>\n",
              "      <th>dst_bytes</th>\n",
              "      <th>land</th>\n",
              "      <th>wrong_fragment</th>\n",
              "      <th>urgent</th>\n",
              "      <th>hot</th>\n",
              "      <th>num_failed_logins</th>\n",
              "      <th>logged_in</th>\n",
              "      <th>num_compromised</th>\n",
              "      <th>...</th>\n",
              "      <th>flag_REJ</th>\n",
              "      <th>flag_RSTO</th>\n",
              "      <th>flag_RSTOS0</th>\n",
              "      <th>flag_RSTR</th>\n",
              "      <th>flag_S0</th>\n",
              "      <th>flag_S1</th>\n",
              "      <th>flag_S2</th>\n",
              "      <th>flag_S3</th>\n",
              "      <th>flag_SF</th>\n",
              "      <th>flag_SH</th>\n",
              "    </tr>\n",
              "  </thead>\n",
              "  <tbody>\n",
              "    <tr>\n",
              "      <th>19924</th>\n",
              "      <td>-0.112075</td>\n",
              "      <td>-0.006956</td>\n",
              "      <td>-0.004535</td>\n",
              "      <td>-0.01468</td>\n",
              "      <td>-0.085488</td>\n",
              "      <td>-0.010403</td>\n",
              "      <td>-0.094071</td>\n",
              "      <td>-0.059832</td>\n",
              "      <td>1.217658</td>\n",
              "      <td>-0.011473</td>\n",
              "      <td>...</td>\n",
              "      <td>-0.33621</td>\n",
              "      <td>-0.126385</td>\n",
              "      <td>-0.026599</td>\n",
              "      <td>-0.145766</td>\n",
              "      <td>-0.574601</td>\n",
              "      <td>-0.051047</td>\n",
              "      <td>-0.030936</td>\n",
              "      <td>-0.044839</td>\n",
              "      <td>0.808391</td>\n",
              "      <td>-0.048183</td>\n",
              "    </tr>\n",
              "    <tr>\n",
              "      <th>77854</th>\n",
              "      <td>-0.112481</td>\n",
              "      <td>-0.007436</td>\n",
              "      <td>-0.004614</td>\n",
              "      <td>-0.01468</td>\n",
              "      <td>-0.085488</td>\n",
              "      <td>-0.010403</td>\n",
              "      <td>-0.094071</td>\n",
              "      <td>-0.059832</td>\n",
              "      <td>-0.821249</td>\n",
              "      <td>-0.011473</td>\n",
              "      <td>...</td>\n",
              "      <td>-0.33621</td>\n",
              "      <td>-0.126385</td>\n",
              "      <td>-0.026599</td>\n",
              "      <td>-0.145766</td>\n",
              "      <td>1.740339</td>\n",
              "      <td>-0.051047</td>\n",
              "      <td>-0.030936</td>\n",
              "      <td>-0.044839</td>\n",
              "      <td>-1.237025</td>\n",
              "      <td>-0.048183</td>\n",
              "    </tr>\n",
              "    <tr>\n",
              "      <th>19105</th>\n",
              "      <td>-0.112481</td>\n",
              "      <td>-0.007385</td>\n",
              "      <td>-0.001035</td>\n",
              "      <td>-0.01468</td>\n",
              "      <td>-0.085488</td>\n",
              "      <td>-0.010403</td>\n",
              "      <td>-0.094071</td>\n",
              "      <td>-0.059832</td>\n",
              "      <td>1.217658</td>\n",
              "      <td>-0.011473</td>\n",
              "      <td>...</td>\n",
              "      <td>-0.33621</td>\n",
              "      <td>-0.126385</td>\n",
              "      <td>-0.026599</td>\n",
              "      <td>-0.145766</td>\n",
              "      <td>-0.574601</td>\n",
              "      <td>-0.051047</td>\n",
              "      <td>-0.030936</td>\n",
              "      <td>-0.044839</td>\n",
              "      <td>0.808391</td>\n",
              "      <td>-0.048183</td>\n",
              "    </tr>\n",
              "    <tr>\n",
              "      <th>118322</th>\n",
              "      <td>-0.112481</td>\n",
              "      <td>-0.007394</td>\n",
              "      <td>-0.004187</td>\n",
              "      <td>-0.01468</td>\n",
              "      <td>-0.085488</td>\n",
              "      <td>-0.010403</td>\n",
              "      <td>-0.094071</td>\n",
              "      <td>-0.059832</td>\n",
              "      <td>1.217658</td>\n",
              "      <td>-0.011473</td>\n",
              "      <td>...</td>\n",
              "      <td>-0.33621</td>\n",
              "      <td>-0.126385</td>\n",
              "      <td>-0.026599</td>\n",
              "      <td>-0.145766</td>\n",
              "      <td>-0.574601</td>\n",
              "      <td>-0.051047</td>\n",
              "      <td>-0.030936</td>\n",
              "      <td>-0.044839</td>\n",
              "      <td>0.808391</td>\n",
              "      <td>-0.048183</td>\n",
              "    </tr>\n",
              "    <tr>\n",
              "      <th>116812</th>\n",
              "      <td>-0.112481</td>\n",
              "      <td>-0.007396</td>\n",
              "      <td>-0.004484</td>\n",
              "      <td>-0.01468</td>\n",
              "      <td>-0.085488</td>\n",
              "      <td>-0.010403</td>\n",
              "      <td>-0.094071</td>\n",
              "      <td>-0.059832</td>\n",
              "      <td>1.217658</td>\n",
              "      <td>-0.011473</td>\n",
              "      <td>...</td>\n",
              "      <td>-0.33621</td>\n",
              "      <td>-0.126385</td>\n",
              "      <td>-0.026599</td>\n",
              "      <td>-0.145766</td>\n",
              "      <td>-0.574601</td>\n",
              "      <td>-0.051047</td>\n",
              "      <td>-0.030936</td>\n",
              "      <td>-0.044839</td>\n",
              "      <td>0.808391</td>\n",
              "      <td>-0.048183</td>\n",
              "    </tr>\n",
              "    <tr>\n",
              "      <th>...</th>\n",
              "      <td>...</td>\n",
              "      <td>...</td>\n",
              "      <td>...</td>\n",
              "      <td>...</td>\n",
              "      <td>...</td>\n",
              "      <td>...</td>\n",
              "      <td>...</td>\n",
              "      <td>...</td>\n",
              "      <td>...</td>\n",
              "      <td>...</td>\n",
              "      <td>...</td>\n",
              "      <td>...</td>\n",
              "      <td>...</td>\n",
              "      <td>...</td>\n",
              "      <td>...</td>\n",
              "      <td>...</td>\n",
              "      <td>...</td>\n",
              "      <td>...</td>\n",
              "      <td>...</td>\n",
              "      <td>...</td>\n",
              "      <td>...</td>\n",
              "    </tr>\n",
              "    <tr>\n",
              "      <th>19214</th>\n",
              "      <td>-0.112481</td>\n",
              "      <td>-0.007382</td>\n",
              "      <td>0.002542</td>\n",
              "      <td>-0.01468</td>\n",
              "      <td>-0.085488</td>\n",
              "      <td>-0.010403</td>\n",
              "      <td>-0.094071</td>\n",
              "      <td>-0.059832</td>\n",
              "      <td>1.217658</td>\n",
              "      <td>-0.011473</td>\n",
              "      <td>...</td>\n",
              "      <td>-0.33621</td>\n",
              "      <td>-0.126385</td>\n",
              "      <td>-0.026599</td>\n",
              "      <td>-0.145766</td>\n",
              "      <td>-0.574601</td>\n",
              "      <td>-0.051047</td>\n",
              "      <td>-0.030936</td>\n",
              "      <td>-0.044839</td>\n",
              "      <td>0.808391</td>\n",
              "      <td>-0.048183</td>\n",
              "    </tr>\n",
              "    <tr>\n",
              "      <th>17484</th>\n",
              "      <td>-0.111262</td>\n",
              "      <td>-0.007249</td>\n",
              "      <td>-0.004526</td>\n",
              "      <td>-0.01468</td>\n",
              "      <td>-0.085488</td>\n",
              "      <td>-0.010403</td>\n",
              "      <td>-0.094071</td>\n",
              "      <td>-0.059832</td>\n",
              "      <td>1.217658</td>\n",
              "      <td>-0.011473</td>\n",
              "      <td>...</td>\n",
              "      <td>-0.33621</td>\n",
              "      <td>-0.126385</td>\n",
              "      <td>-0.026599</td>\n",
              "      <td>-0.145766</td>\n",
              "      <td>-0.574601</td>\n",
              "      <td>-0.051047</td>\n",
              "      <td>-0.030936</td>\n",
              "      <td>-0.044839</td>\n",
              "      <td>0.808391</td>\n",
              "      <td>-0.048183</td>\n",
              "    </tr>\n",
              "    <tr>\n",
              "      <th>64465</th>\n",
              "      <td>11.066160</td>\n",
              "      <td>-0.007436</td>\n",
              "      <td>-0.004614</td>\n",
              "      <td>-0.01468</td>\n",
              "      <td>-0.085488</td>\n",
              "      <td>-0.010403</td>\n",
              "      <td>-0.094071</td>\n",
              "      <td>-0.059832</td>\n",
              "      <td>-0.821249</td>\n",
              "      <td>-0.011473</td>\n",
              "      <td>...</td>\n",
              "      <td>-0.33621</td>\n",
              "      <td>-0.126385</td>\n",
              "      <td>-0.026599</td>\n",
              "      <td>6.860303</td>\n",
              "      <td>-0.574601</td>\n",
              "      <td>-0.051047</td>\n",
              "      <td>-0.030936</td>\n",
              "      <td>-0.044839</td>\n",
              "      <td>-1.237025</td>\n",
              "      <td>-0.048183</td>\n",
              "    </tr>\n",
              "    <tr>\n",
              "      <th>110232</th>\n",
              "      <td>-0.112481</td>\n",
              "      <td>-0.007436</td>\n",
              "      <td>-0.004614</td>\n",
              "      <td>-0.01468</td>\n",
              "      <td>-0.085488</td>\n",
              "      <td>-0.010403</td>\n",
              "      <td>-0.094071</td>\n",
              "      <td>-0.059832</td>\n",
              "      <td>-0.821249</td>\n",
              "      <td>-0.011473</td>\n",
              "      <td>...</td>\n",
              "      <td>-0.33621</td>\n",
              "      <td>-0.126385</td>\n",
              "      <td>-0.026599</td>\n",
              "      <td>-0.145766</td>\n",
              "      <td>1.740339</td>\n",
              "      <td>-0.051047</td>\n",
              "      <td>-0.030936</td>\n",
              "      <td>-0.044839</td>\n",
              "      <td>-1.237025</td>\n",
              "      <td>-0.048183</td>\n",
              "    </tr>\n",
              "    <tr>\n",
              "      <th>29334</th>\n",
              "      <td>-0.112481</td>\n",
              "      <td>-0.007436</td>\n",
              "      <td>-0.004614</td>\n",
              "      <td>-0.01468</td>\n",
              "      <td>-0.085488</td>\n",
              "      <td>-0.010403</td>\n",
              "      <td>-0.094071</td>\n",
              "      <td>-0.059832</td>\n",
              "      <td>-0.821249</td>\n",
              "      <td>-0.011473</td>\n",
              "      <td>...</td>\n",
              "      <td>-0.33621</td>\n",
              "      <td>-0.126385</td>\n",
              "      <td>-0.026599</td>\n",
              "      <td>-0.145766</td>\n",
              "      <td>1.740339</td>\n",
              "      <td>-0.051047</td>\n",
              "      <td>-0.030936</td>\n",
              "      <td>-0.044839</td>\n",
              "      <td>-1.237025</td>\n",
              "      <td>-0.048183</td>\n",
              "    </tr>\n",
              "  </tbody>\n",
              "</table>\n",
              "<p>122 rows × 122 columns</p>\n",
              "</div>\n",
              "    <div class=\"colab-df-buttons\">\n",
              "\n",
              "  <div class=\"colab-df-container\">\n",
              "    <button class=\"colab-df-convert\" onclick=\"convertToInteractive('df-7935c4a0-91e7-4254-b3a2-f62aad42ab37')\"\n",
              "            title=\"Convert this dataframe to an interactive table.\"\n",
              "            style=\"display:none;\">\n",
              "\n",
              "  <svg xmlns=\"http://www.w3.org/2000/svg\" height=\"24px\" viewBox=\"0 -960 960 960\">\n",
              "    <path d=\"M120-120v-720h720v720H120Zm60-500h600v-160H180v160Zm220 220h160v-160H400v160Zm0 220h160v-160H400v160ZM180-400h160v-160H180v160Zm440 0h160v-160H620v160ZM180-180h160v-160H180v160Zm440 0h160v-160H620v160Z\"/>\n",
              "  </svg>\n",
              "    </button>\n",
              "\n",
              "  <style>\n",
              "    .colab-df-container {\n",
              "      display:flex;\n",
              "      gap: 12px;\n",
              "    }\n",
              "\n",
              "    .colab-df-convert {\n",
              "      background-color: #E8F0FE;\n",
              "      border: none;\n",
              "      border-radius: 50%;\n",
              "      cursor: pointer;\n",
              "      display: none;\n",
              "      fill: #1967D2;\n",
              "      height: 32px;\n",
              "      padding: 0 0 0 0;\n",
              "      width: 32px;\n",
              "    }\n",
              "\n",
              "    .colab-df-convert:hover {\n",
              "      background-color: #E2EBFA;\n",
              "      box-shadow: 0px 1px 2px rgba(60, 64, 67, 0.3), 0px 1px 3px 1px rgba(60, 64, 67, 0.15);\n",
              "      fill: #174EA6;\n",
              "    }\n",
              "\n",
              "    .colab-df-buttons div {\n",
              "      margin-bottom: 4px;\n",
              "    }\n",
              "\n",
              "    [theme=dark] .colab-df-convert {\n",
              "      background-color: #3B4455;\n",
              "      fill: #D2E3FC;\n",
              "    }\n",
              "\n",
              "    [theme=dark] .colab-df-convert:hover {\n",
              "      background-color: #434B5C;\n",
              "      box-shadow: 0px 1px 3px 1px rgba(0, 0, 0, 0.15);\n",
              "      filter: drop-shadow(0px 1px 2px rgba(0, 0, 0, 0.3));\n",
              "      fill: #FFFFFF;\n",
              "    }\n",
              "  </style>\n",
              "\n",
              "    <script>\n",
              "      const buttonEl =\n",
              "        document.querySelector('#df-7935c4a0-91e7-4254-b3a2-f62aad42ab37 button.colab-df-convert');\n",
              "      buttonEl.style.display =\n",
              "        google.colab.kernel.accessAllowed ? 'block' : 'none';\n",
              "\n",
              "      async function convertToInteractive(key) {\n",
              "        const element = document.querySelector('#df-7935c4a0-91e7-4254-b3a2-f62aad42ab37');\n",
              "        const dataTable =\n",
              "          await google.colab.kernel.invokeFunction('convertToInteractive',\n",
              "                                                    [key], {});\n",
              "        if (!dataTable) return;\n",
              "\n",
              "        const docLinkHtml = 'Like what you see? Visit the ' +\n",
              "          '<a target=\"_blank\" href=https://colab.research.google.com/notebooks/data_table.ipynb>data table notebook</a>'\n",
              "          + ' to learn more about interactive tables.';\n",
              "        element.innerHTML = '';\n",
              "        dataTable['output_type'] = 'display_data';\n",
              "        await google.colab.output.renderOutput(dataTable, element);\n",
              "        const docLink = document.createElement('div');\n",
              "        docLink.innerHTML = docLinkHtml;\n",
              "        element.appendChild(docLink);\n",
              "      }\n",
              "    </script>\n",
              "  </div>\n",
              "\n",
              "\n",
              "<div id=\"df-9ed99b84-02dc-4f61-8a81-e38a7b6e802c\">\n",
              "  <button class=\"colab-df-quickchart\" onclick=\"quickchart('df-9ed99b84-02dc-4f61-8a81-e38a7b6e802c')\"\n",
              "            title=\"Suggest charts.\"\n",
              "            style=\"display:none;\">\n",
              "\n",
              "<svg xmlns=\"http://www.w3.org/2000/svg\" height=\"24px\"viewBox=\"0 0 24 24\"\n",
              "     width=\"24px\">\n",
              "    <g>\n",
              "        <path d=\"M19 3H5c-1.1 0-2 .9-2 2v14c0 1.1.9 2 2 2h14c1.1 0 2-.9 2-2V5c0-1.1-.9-2-2-2zM9 17H7v-7h2v7zm4 0h-2V7h2v10zm4 0h-2v-4h2v4z\"/>\n",
              "    </g>\n",
              "</svg>\n",
              "  </button>\n",
              "\n",
              "<style>\n",
              "  .colab-df-quickchart {\n",
              "    background-color: #E8F0FE;\n",
              "    border: none;\n",
              "    border-radius: 50%;\n",
              "    cursor: pointer;\n",
              "    display: none;\n",
              "    fill: #1967D2;\n",
              "    height: 32px;\n",
              "    padding: 0 0 0 0;\n",
              "    width: 32px;\n",
              "  }\n",
              "\n",
              "  .colab-df-quickchart:hover {\n",
              "    background-color: #E2EBFA;\n",
              "    box-shadow: 0px 1px 2px rgba(60, 64, 67, 0.3), 0px 1px 3px 1px rgba(60, 64, 67, 0.15);\n",
              "    fill: #174EA6;\n",
              "  }\n",
              "\n",
              "  [theme=dark] .colab-df-quickchart {\n",
              "    background-color: #3B4455;\n",
              "    fill: #D2E3FC;\n",
              "  }\n",
              "\n",
              "  [theme=dark] .colab-df-quickchart:hover {\n",
              "    background-color: #434B5C;\n",
              "    box-shadow: 0px 1px 3px 1px rgba(0, 0, 0, 0.15);\n",
              "    filter: drop-shadow(0px 1px 2px rgba(0, 0, 0, 0.3));\n",
              "    fill: #FFFFFF;\n",
              "  }\n",
              "</style>\n",
              "\n",
              "  <script>\n",
              "    async function quickchart(key) {\n",
              "      const charts = await google.colab.kernel.invokeFunction(\n",
              "          'suggestCharts', [key], {});\n",
              "    }\n",
              "    (() => {\n",
              "      let quickchartButtonEl =\n",
              "        document.querySelector('#df-9ed99b84-02dc-4f61-8a81-e38a7b6e802c button');\n",
              "      quickchartButtonEl.style.display =\n",
              "        google.colab.kernel.accessAllowed ? 'block' : 'none';\n",
              "    })();\n",
              "  </script>\n",
              "</div>\n",
              "    </div>\n",
              "  </div>\n"
            ]
          },
          "metadata": {},
          "execution_count": 34
        }
      ]
    },
    {
      "cell_type": "code",
      "execution_count": null,
      "metadata": {
        "id": "gEIr7VHfTEVJ"
      },
      "outputs": [],
      "source": [
        "from sklearn.naive_bayes import GaussianNB"
      ]
    },
    {
      "cell_type": "code",
      "execution_count": null,
      "metadata": {
        "id": "ZSyY1PTQTlCs"
      },
      "outputs": [],
      "source": [
        "gb=GaussianNB()"
      ]
    },
    {
      "cell_type": "code",
      "execution_count": null,
      "metadata": {
        "colab": {
          "base_uri": "https://localhost:8080/",
          "height": 74
        },
        "id": "YN0BieVKTqzV",
        "outputId": "bf615f32-8599-4225-cabb-1da55f413deb"
      },
      "outputs": [
        {
          "output_type": "execute_result",
          "data": {
            "text/plain": [
              "GaussianNB()"
            ],
            "text/html": [
              "<style>#sk-container-id-1 {color: black;background-color: white;}#sk-container-id-1 pre{padding: 0;}#sk-container-id-1 div.sk-toggleable {background-color: white;}#sk-container-id-1 label.sk-toggleable__label {cursor: pointer;display: block;width: 100%;margin-bottom: 0;padding: 0.3em;box-sizing: border-box;text-align: center;}#sk-container-id-1 label.sk-toggleable__label-arrow:before {content: \"▸\";float: left;margin-right: 0.25em;color: #696969;}#sk-container-id-1 label.sk-toggleable__label-arrow:hover:before {color: black;}#sk-container-id-1 div.sk-estimator:hover label.sk-toggleable__label-arrow:before {color: black;}#sk-container-id-1 div.sk-toggleable__content {max-height: 0;max-width: 0;overflow: hidden;text-align: left;background-color: #f0f8ff;}#sk-container-id-1 div.sk-toggleable__content pre {margin: 0.2em;color: black;border-radius: 0.25em;background-color: #f0f8ff;}#sk-container-id-1 input.sk-toggleable__control:checked~div.sk-toggleable__content {max-height: 200px;max-width: 100%;overflow: auto;}#sk-container-id-1 input.sk-toggleable__control:checked~label.sk-toggleable__label-arrow:before {content: \"▾\";}#sk-container-id-1 div.sk-estimator input.sk-toggleable__control:checked~label.sk-toggleable__label {background-color: #d4ebff;}#sk-container-id-1 div.sk-label input.sk-toggleable__control:checked~label.sk-toggleable__label {background-color: #d4ebff;}#sk-container-id-1 input.sk-hidden--visually {border: 0;clip: rect(1px 1px 1px 1px);clip: rect(1px, 1px, 1px, 1px);height: 1px;margin: -1px;overflow: hidden;padding: 0;position: absolute;width: 1px;}#sk-container-id-1 div.sk-estimator {font-family: monospace;background-color: #f0f8ff;border: 1px dotted black;border-radius: 0.25em;box-sizing: border-box;margin-bottom: 0.5em;}#sk-container-id-1 div.sk-estimator:hover {background-color: #d4ebff;}#sk-container-id-1 div.sk-parallel-item::after {content: \"\";width: 100%;border-bottom: 1px solid gray;flex-grow: 1;}#sk-container-id-1 div.sk-label:hover label.sk-toggleable__label {background-color: #d4ebff;}#sk-container-id-1 div.sk-serial::before {content: \"\";position: absolute;border-left: 1px solid gray;box-sizing: border-box;top: 0;bottom: 0;left: 50%;z-index: 0;}#sk-container-id-1 div.sk-serial {display: flex;flex-direction: column;align-items: center;background-color: white;padding-right: 0.2em;padding-left: 0.2em;position: relative;}#sk-container-id-1 div.sk-item {position: relative;z-index: 1;}#sk-container-id-1 div.sk-parallel {display: flex;align-items: stretch;justify-content: center;background-color: white;position: relative;}#sk-container-id-1 div.sk-item::before, #sk-container-id-1 div.sk-parallel-item::before {content: \"\";position: absolute;border-left: 1px solid gray;box-sizing: border-box;top: 0;bottom: 0;left: 50%;z-index: -1;}#sk-container-id-1 div.sk-parallel-item {display: flex;flex-direction: column;z-index: 1;position: relative;background-color: white;}#sk-container-id-1 div.sk-parallel-item:first-child::after {align-self: flex-end;width: 50%;}#sk-container-id-1 div.sk-parallel-item:last-child::after {align-self: flex-start;width: 50%;}#sk-container-id-1 div.sk-parallel-item:only-child::after {width: 0;}#sk-container-id-1 div.sk-dashed-wrapped {border: 1px dashed gray;margin: 0 0.4em 0.5em 0.4em;box-sizing: border-box;padding-bottom: 0.4em;background-color: white;}#sk-container-id-1 div.sk-label label {font-family: monospace;font-weight: bold;display: inline-block;line-height: 1.2em;}#sk-container-id-1 div.sk-label-container {text-align: center;}#sk-container-id-1 div.sk-container {/* jupyter's `normalize.less` sets `[hidden] { display: none; }` but bootstrap.min.css set `[hidden] { display: none !important; }` so we also need the `!important` here to be able to override the default hidden behavior on the sphinx rendered scikit-learn.org. See: https://github.com/scikit-learn/scikit-learn/issues/21755 */display: inline-block !important;position: relative;}#sk-container-id-1 div.sk-text-repr-fallback {display: none;}</style><div id=\"sk-container-id-1\" class=\"sk-top-container\"><div class=\"sk-text-repr-fallback\"><pre>GaussianNB()</pre><b>In a Jupyter environment, please rerun this cell to show the HTML representation or trust the notebook. <br />On GitHub, the HTML representation is unable to render, please try loading this page with nbviewer.org.</b></div><div class=\"sk-container\" hidden><div class=\"sk-item\"><div class=\"sk-estimator sk-toggleable\"><input class=\"sk-toggleable__control sk-hidden--visually\" id=\"sk-estimator-id-1\" type=\"checkbox\" checked><label for=\"sk-estimator-id-1\" class=\"sk-toggleable__label sk-toggleable__label-arrow\">GaussianNB</label><div class=\"sk-toggleable__content\"><pre>GaussianNB()</pre></div></div></div></div></div>"
            ]
          },
          "metadata": {},
          "execution_count": 37
        }
      ],
      "source": [
        "gb.fit(X_train,y_train)"
      ]
    },
    {
      "cell_type": "code",
      "execution_count": null,
      "metadata": {
        "id": "mhPLZnyJTvms"
      },
      "outputs": [],
      "source": [
        "y_pred=gb.predict(X_test)"
      ]
    },
    {
      "cell_type": "code",
      "execution_count": null,
      "metadata": {
        "id": "hGby-zv9UTVl"
      },
      "outputs": [],
      "source": [
        "cm = confusion_matrix(y_test, y_pred)"
      ]
    },
    {
      "cell_type": "code",
      "execution_count": null,
      "metadata": {
        "colab": {
          "base_uri": "https://localhost:8080/"
        },
        "id": "yX4htTi0UXun",
        "outputId": "decbc203-b61a-48da-a790-675cec036383"
      },
      "outputs": [
        {
          "output_type": "stream",
          "name": "stdout",
          "text": [
            "[[23043    59]\n",
            " [ 8273 13181]]\n"
          ]
        }
      ],
      "source": [
        "print(cm)"
      ]
    },
    {
      "cell_type": "code",
      "execution_count": null,
      "metadata": {
        "id": "e-6P8HNDUo82"
      },
      "outputs": [],
      "source": [
        "from sklearn.metrics import accuracy_score\n",
        "from sklearn.metrics import classification_report"
      ]
    },
    {
      "cell_type": "code",
      "execution_count": null,
      "metadata": {
        "colab": {
          "base_uri": "https://localhost:8080/"
        },
        "id": "LPDDueZAWZn-",
        "outputId": "38dfc73d-1530-4d16-ead3-04b8312dca4a"
      },
      "outputs": [
        {
          "output_type": "stream",
          "name": "stdout",
          "text": [
            "0.8129993715773409\n"
          ]
        }
      ],
      "source": [
        "print(accuracy_score(y_test,y_pred))\n",
        "\n"
      ]
    },
    {
      "cell_type": "code",
      "execution_count": null,
      "metadata": {
        "colab": {
          "base_uri": "https://localhost:8080/"
        },
        "id": "5G3HAEJmWiPt",
        "outputId": "516e5c3f-88f2-411c-d0e3-26cbad2ad9b5"
      },
      "outputs": [
        {
          "output_type": "stream",
          "name": "stdout",
          "text": [
            "Precision: 0.9955438066465256\n",
            "Recall: 0.6143842640067121\n",
            "F1 Score: 0.7598432005534098\n"
          ]
        }
      ],
      "source": [
        "from sklearn.metrics import precision_score, recall_score, f1_score, roc_curve, roc_auc_score\n",
        "import matplotlib.pyplot as plt\n",
        "\n",
        "# Assuming you have already trained and obtained predictions y_pred and y_pred_proba\n",
        "\n",
        "print(\"Precision:\", precision_score(y_test, y_pred))\n",
        "print(\"Recall:\", recall_score(y_test, y_pred))\n",
        "print(\"F1 Score:\", f1_score(y_test, y_pred))\n",
        "\n"
      ]
    },
    {
      "cell_type": "markdown",
      "source": [
        "SVC"
      ],
      "metadata": {
        "id": "2NbALDzP3Jvl"
      }
    },
    {
      "cell_type": "code",
      "execution_count": null,
      "metadata": {
        "id": "f98UAQhHmxPb",
        "colab": {
          "base_uri": "https://localhost:8080/"
        },
        "outputId": "fb171eb4-aec0-4b47-d07b-c4ddf35da3c8"
      },
      "outputs": [
        {
          "output_type": "stream",
          "name": "stdout",
          "text": [
            "0.9833467995331717\n"
          ]
        }
      ],
      "source": [
        "from sklearn.svm  import SVC\n",
        "\n",
        "model = SVC()  # Corrected parameter name\n",
        "model.fit(X_train, y_train)\n",
        "y_pred = model.predict(X_test)\n",
        "\n",
        "from sklearn.metrics import accuracy_score\n",
        "\n",
        "print(accuracy_score(y_test, y_pred))\n"
      ]
    },
    {
      "cell_type": "code",
      "execution_count": null,
      "metadata": {
        "id": "PGtXWMszp3M0",
        "colab": {
          "base_uri": "https://localhost:8080/"
        },
        "outputId": "9f142b9f-96af-4bcc-9887-ac3f11174525"
      },
      "outputs": [
        {
          "output_type": "stream",
          "name": "stdout",
          "text": [
            "Precision: 0.9865626761886863\n",
            "Recall: 0.9787452223361611\n",
            "F1 Score: 0.9826384014226215\n"
          ]
        }
      ],
      "source": [
        "from sklearn.metrics import precision_score, recall_score, f1_score\n",
        "\n",
        "\n",
        "# Assuming you have already trained and obtained predictions y_pred\n",
        "\n",
        "\n",
        "print(\"Precision:\", precision_score(y_test, y_pred))\n",
        "print(\"Recall:\", recall_score(y_test, y_pred))\n",
        "print(\"F1 Score:\", f1_score(y_test, y_pred))\n"
      ]
    },
    {
      "cell_type": "code",
      "execution_count": null,
      "metadata": {
        "id": "iAKYlvuxte6D",
        "colab": {
          "base_uri": "https://localhost:8080/"
        },
        "outputId": "e26527d7-2c2a-4ed1-8be7-92bd6f472e95"
      },
      "outputs": [
        {
          "output_type": "stream",
          "name": "stdout",
          "text": [
            "[[22816   286]\n",
            " [  456 20998]]\n"
          ]
        }
      ],
      "source": [
        "from sklearn.metrics import confusion_matrix\n",
        "cm = confusion_matrix(y_test, y_pred)\n",
        "print(cm)"
      ]
    },
    {
      "cell_type": "markdown",
      "metadata": {
        "id": "2dqZKz3awzH6"
      },
      "source": [
        "DecisionTreeClassifier"
      ]
    },
    {
      "cell_type": "code",
      "execution_count": null,
      "metadata": {
        "id": "RAOTTWSXwooO"
      },
      "outputs": [],
      "source": [
        "from sklearn.tree import DecisionTreeClassifier"
      ]
    },
    {
      "cell_type": "code",
      "execution_count": null,
      "metadata": {
        "id": "rqvWCxunxBrN",
        "colab": {
          "base_uri": "https://localhost:8080/",
          "height": 74
        },
        "outputId": "3b32914e-5c98-4785-bb9c-8f0493146d39"
      },
      "outputs": [
        {
          "output_type": "execute_result",
          "data": {
            "text/plain": [
              "DecisionTreeClassifier()"
            ],
            "text/html": [
              "<style>#sk-container-id-2 {color: black;background-color: white;}#sk-container-id-2 pre{padding: 0;}#sk-container-id-2 div.sk-toggleable {background-color: white;}#sk-container-id-2 label.sk-toggleable__label {cursor: pointer;display: block;width: 100%;margin-bottom: 0;padding: 0.3em;box-sizing: border-box;text-align: center;}#sk-container-id-2 label.sk-toggleable__label-arrow:before {content: \"▸\";float: left;margin-right: 0.25em;color: #696969;}#sk-container-id-2 label.sk-toggleable__label-arrow:hover:before {color: black;}#sk-container-id-2 div.sk-estimator:hover label.sk-toggleable__label-arrow:before {color: black;}#sk-container-id-2 div.sk-toggleable__content {max-height: 0;max-width: 0;overflow: hidden;text-align: left;background-color: #f0f8ff;}#sk-container-id-2 div.sk-toggleable__content pre {margin: 0.2em;color: black;border-radius: 0.25em;background-color: #f0f8ff;}#sk-container-id-2 input.sk-toggleable__control:checked~div.sk-toggleable__content {max-height: 200px;max-width: 100%;overflow: auto;}#sk-container-id-2 input.sk-toggleable__control:checked~label.sk-toggleable__label-arrow:before {content: \"▾\";}#sk-container-id-2 div.sk-estimator input.sk-toggleable__control:checked~label.sk-toggleable__label {background-color: #d4ebff;}#sk-container-id-2 div.sk-label input.sk-toggleable__control:checked~label.sk-toggleable__label {background-color: #d4ebff;}#sk-container-id-2 input.sk-hidden--visually {border: 0;clip: rect(1px 1px 1px 1px);clip: rect(1px, 1px, 1px, 1px);height: 1px;margin: -1px;overflow: hidden;padding: 0;position: absolute;width: 1px;}#sk-container-id-2 div.sk-estimator {font-family: monospace;background-color: #f0f8ff;border: 1px dotted black;border-radius: 0.25em;box-sizing: border-box;margin-bottom: 0.5em;}#sk-container-id-2 div.sk-estimator:hover {background-color: #d4ebff;}#sk-container-id-2 div.sk-parallel-item::after {content: \"\";width: 100%;border-bottom: 1px solid gray;flex-grow: 1;}#sk-container-id-2 div.sk-label:hover label.sk-toggleable__label {background-color: #d4ebff;}#sk-container-id-2 div.sk-serial::before {content: \"\";position: absolute;border-left: 1px solid gray;box-sizing: border-box;top: 0;bottom: 0;left: 50%;z-index: 0;}#sk-container-id-2 div.sk-serial {display: flex;flex-direction: column;align-items: center;background-color: white;padding-right: 0.2em;padding-left: 0.2em;position: relative;}#sk-container-id-2 div.sk-item {position: relative;z-index: 1;}#sk-container-id-2 div.sk-parallel {display: flex;align-items: stretch;justify-content: center;background-color: white;position: relative;}#sk-container-id-2 div.sk-item::before, #sk-container-id-2 div.sk-parallel-item::before {content: \"\";position: absolute;border-left: 1px solid gray;box-sizing: border-box;top: 0;bottom: 0;left: 50%;z-index: -1;}#sk-container-id-2 div.sk-parallel-item {display: flex;flex-direction: column;z-index: 1;position: relative;background-color: white;}#sk-container-id-2 div.sk-parallel-item:first-child::after {align-self: flex-end;width: 50%;}#sk-container-id-2 div.sk-parallel-item:last-child::after {align-self: flex-start;width: 50%;}#sk-container-id-2 div.sk-parallel-item:only-child::after {width: 0;}#sk-container-id-2 div.sk-dashed-wrapped {border: 1px dashed gray;margin: 0 0.4em 0.5em 0.4em;box-sizing: border-box;padding-bottom: 0.4em;background-color: white;}#sk-container-id-2 div.sk-label label {font-family: monospace;font-weight: bold;display: inline-block;line-height: 1.2em;}#sk-container-id-2 div.sk-label-container {text-align: center;}#sk-container-id-2 div.sk-container {/* jupyter's `normalize.less` sets `[hidden] { display: none; }` but bootstrap.min.css set `[hidden] { display: none !important; }` so we also need the `!important` here to be able to override the default hidden behavior on the sphinx rendered scikit-learn.org. See: https://github.com/scikit-learn/scikit-learn/issues/21755 */display: inline-block !important;position: relative;}#sk-container-id-2 div.sk-text-repr-fallback {display: none;}</style><div id=\"sk-container-id-2\" class=\"sk-top-container\"><div class=\"sk-text-repr-fallback\"><pre>DecisionTreeClassifier()</pre><b>In a Jupyter environment, please rerun this cell to show the HTML representation or trust the notebook. <br />On GitHub, the HTML representation is unable to render, please try loading this page with nbviewer.org.</b></div><div class=\"sk-container\" hidden><div class=\"sk-item\"><div class=\"sk-estimator sk-toggleable\"><input class=\"sk-toggleable__control sk-hidden--visually\" id=\"sk-estimator-id-2\" type=\"checkbox\" checked><label for=\"sk-estimator-id-2\" class=\"sk-toggleable__label sk-toggleable__label-arrow\">DecisionTreeClassifier</label><div class=\"sk-toggleable__content\"><pre>DecisionTreeClassifier()</pre></div></div></div></div></div>"
            ]
          },
          "metadata": {},
          "execution_count": 48
        }
      ],
      "source": [
        "model= DecisionTreeClassifier()\n",
        "model.fit(X_train,y_train)"
      ]
    },
    {
      "cell_type": "code",
      "execution_count": null,
      "metadata": {
        "id": "JzcBP-TfxGv3",
        "colab": {
          "base_uri": "https://localhost:8080/"
        },
        "outputId": "aa93a8a8-f2b4-41be-f419-8d1c3574b27a"
      },
      "outputs": [
        {
          "output_type": "stream",
          "name": "stdout",
          "text": [
            "[[22983   119]\n",
            " [  136 21318]]\n"
          ]
        }
      ],
      "source": [
        "from sklearn.metrics import confusion_matrix\n",
        "y_pred=model.predict(X_test)\n",
        "cm = confusion_matrix(y_test, y_pred)\n",
        "print(cm)"
      ]
    },
    {
      "cell_type": "code",
      "execution_count": null,
      "metadata": {
        "id": "eQNZrpTBxK8o",
        "colab": {
          "base_uri": "https://localhost:8080/"
        },
        "outputId": "4cb14e07-b1d3-4f6e-e01c-3500de0d73dc"
      },
      "outputs": [
        {
          "output_type": "stream",
          "name": "stdout",
          "text": [
            "0.9942768650686776\n",
            "0.9944488501189532\n",
            "0.993660855784469\n",
            "0.9940546967895363\n"
          ]
        }
      ],
      "source": [
        "from sklearn.metrics import accuracy_score,precision_score, recall_score, f1_score\n",
        "print(accuracy_score(y_test, y_pred))\n",
        "print(precision_score(y_test, y_pred))\n",
        "print(recall_score(y_test, y_pred))\n",
        "print(f1_score(y_test, y_pred))"
      ]
    },
    {
      "cell_type": "code",
      "execution_count": null,
      "metadata": {
        "id": "p48gTBnM1vUW",
        "colab": {
          "base_uri": "https://localhost:8080/"
        },
        "outputId": "410d687f-d1b6-4eaa-9fec-c435541d0b8c"
      },
      "outputs": [
        {
          "output_type": "stream",
          "name": "stdout",
          "text": [
            "duration\n",
            "src_bytes\n",
            "dst_bytes\n",
            "land\n",
            "wrong_fragment\n",
            "urgent\n",
            "hot\n",
            "num_failed_logins\n",
            "logged_in\n",
            "num_compromised\n",
            "root_shell\n",
            "su_attempted\n",
            "num_root\n",
            "num_file_creations\n",
            "num_shells\n",
            "num_access_files\n",
            "num_outbound_cmds\n",
            "is_host_login\n",
            "is_guest_login\n",
            "count\n",
            "srv_count\n",
            "serror_rate\n",
            "srv_serror_rate\n",
            "rerror_rate\n",
            "srv_rerror_rate\n",
            "same_srv_rate\n",
            "diff_srv_rate\n",
            "srv_diff_host_rate\n",
            "dst_host_count\n",
            "dst_host_srv_count\n",
            "dst_host_same_srv_rate\n",
            "dst_host_diff_srv_rate\n",
            "dst_host_same_src_port_rate\n",
            "dst_host_srv_diff_host_rate\n",
            "dst_host_serror_rate\n",
            "dst_host_srv_serr_rate\n",
            "dst_host_rerror_rate\n",
            "dst_host_srv_rerror_rate\n",
            "label\n",
            "protocol_icmp\n",
            "protocol_tcp\n",
            "protocol_udp\n",
            "service_IRC\n",
            "service_X11\n",
            "service_Z39_50\n",
            "service_aol\n",
            "service_auth\n",
            "service_bgp\n",
            "service_courier\n",
            "service_csnet_ns\n",
            "service_ctf\n",
            "service_daytime\n",
            "service_discard\n",
            "service_domain\n",
            "service_domain_u\n",
            "service_echo\n",
            "service_eco_i\n",
            "service_ecr_i\n",
            "service_efs\n",
            "service_exec\n",
            "service_finger\n",
            "service_ftp\n",
            "service_ftp_data\n",
            "service_gopher\n",
            "service_harvest\n",
            "service_hostnames\n",
            "service_http\n",
            "service_http_2784\n",
            "service_http_443\n",
            "service_http_8001\n",
            "service_imap4\n",
            "service_iso_tsap\n",
            "service_klogin\n",
            "service_kshell\n",
            "service_ldap\n",
            "service_link\n",
            "service_login\n",
            "service_mtp\n",
            "service_name\n",
            "service_netbios_dgm\n",
            "service_netbios_ns\n",
            "service_netbios_ssn\n",
            "service_netstat\n",
            "service_nnsp\n",
            "service_nntp\n",
            "service_ntp_u\n",
            "service_other\n",
            "service_pm_dump\n",
            "service_pop_2\n",
            "service_pop_3\n",
            "service_printer\n",
            "service_private\n",
            "service_red_i\n",
            "service_remote_job\n",
            "service_rje\n",
            "service_shell\n",
            "service_smtp\n",
            "service_sql_net\n",
            "service_ssh\n",
            "service_sunrpc\n",
            "service_supdup\n",
            "service_systat\n",
            "service_telnet\n",
            "service_tftp_u\n",
            "service_tim_i\n",
            "service_time\n",
            "service_urh_i\n",
            "service_urp_i\n",
            "service_uucp\n",
            "service_uucp_path\n",
            "service_vmnet\n",
            "service_whois\n",
            "flag_OTH\n",
            "flag_REJ\n",
            "flag_RSTO\n",
            "flag_RSTOS0\n",
            "flag_RSTR\n",
            "flag_S0\n",
            "flag_S1\n",
            "flag_S2\n",
            "flag_S3\n",
            "flag_SF\n",
            "flag_SH\n"
          ]
        }
      ],
      "source": [
        "for column in full_dataset:\n",
        "    print(column)"
      ]
    },
    {
      "cell_type": "markdown",
      "metadata": {
        "id": "Mfeg8C941ge2"
      },
      "source": [
        "Feature Selection using chi\n"
      ]
    },
    {
      "cell_type": "code",
      "execution_count": null,
      "metadata": {
        "id": "G6Mg4Cvb2bVi",
        "colab": {
          "base_uri": "https://localhost:8080/"
        },
        "outputId": "ff37ae9f-376e-4bb4-a33b-8bc4bf6933ea"
      },
      "outputs": [
        {
          "output_type": "execute_result",
          "data": {
            "text/plain": [
              "(148517,)"
            ]
          },
          "metadata": {},
          "execution_count": 52
        }
      ],
      "source": [
        "y.shape"
      ]
    },
    {
      "cell_type": "code",
      "execution_count": null,
      "metadata": {
        "id": "H-HSPiPG1f9F"
      },
      "outputs": [],
      "source": [
        "import pandas as pd\n",
        "\n",
        "# Assuming you have a Pandas DataFrame called 'full_dataset' and a variable 'y' with the data you want to add\n",
        "\n",
        "# Create a new column in 'full_dataset' and populate it with the values from 'y'\n",
        "full_dataset['label'] = y\n"
      ]
    },
    {
      "cell_type": "code",
      "execution_count": null,
      "metadata": {
        "id": "kWMd_0hZ1EMG",
        "colab": {
          "base_uri": "https://localhost:8080/"
        },
        "outputId": "33b62f40-6cf8-4b86-cd49-96d35902318c"
      },
      "outputs": [
        {
          "output_type": "execute_result",
          "data": {
            "text/plain": [
              "(148517, 123)"
            ]
          },
          "metadata": {},
          "execution_count": 54
        }
      ],
      "source": [
        "full_dataset.shape"
      ]
    },
    {
      "cell_type": "code",
      "execution_count": null,
      "metadata": {
        "id": "73Nk--tl8qYn"
      },
      "outputs": [],
      "source": [
        "input_variables=[\"duration\",\"src_bytes\",'dst_bytes','land','wrong_fragment','urgent','hot','num_failed_logins','logged_in',\n",
        "                 \"num_compromised\",'root_shell','su_attempted','num_root','num_file_creations','num_shells','num_access_files','is_host_login','is_guest_login','count','srv_count',\n",
        "                 \"serror_rate\",'srv_serror_rate','rerror_rate','srv_rerror_rate','same_srv_rate','diff_srv_rate','srv_diff_host_rate','dst_host_count',\n",
        "                 \"dst_host_srv_count\",'dst_host_same_srv_rate','dst_host_diff_srv_rate','dst_host_same_src_port_rate',\n",
        "                 'dst_host_srv_diff_host_rate','dst_host_serror_rate','dst_host_srv_serr_rate','dst_host_rerror_rate','dst_host_srv_rerror_rate','protocol_icmp','protocol_tcp',\n",
        "                 \"protocol_udp\",'service_IRC',\"service_X11\",'service_Z39_50','service_aol','service_auth','service_bgp','service_courier','service_csnet_ns','service_ctf',\n",
        "                 \"service_daytime\",'service_discard','service_domain','service_domain_u','service_echo','service_eco_i','service_ecr_i',\n",
        "                 \"service_efs\",'service_exec','service_finger','service_ftp','service_ftp_data',\"service_gopher\",\n",
        "                 \"service_harvest\",'service_hostnames','service_http','service_http_2784','service_http_443','service_http_8001','service_imap4',\n",
        "                 \"service_iso_tsap\",'service_klogin','service_kshell','service_ldap','service_link','service_login','service_mtp','service_name','service_netbios_dgm',\n",
        "                 \"service_netbios_ns\",'service_netbios_ssn','service_netstat','service_nnsp','service_nntp','service_ntp_u','service_other','service_pm_dump','service_pop_2','service_pop_3','service_printer','service_private','service_red_i','service_remote_job',\n",
        "                 \"service_rje\",'service_shell','service_smtp','service_sql_net','service_ssh','service_sunrpc','service_supdup','service_systat','service_telnet','service_tftp_u','service_tim_i',\n",
        "                 \"service_time\",\"service_urh_i\",'service_urp_i','service_uucp','service_uucp_path','service_vmnet','service_whois','flag_OTH','flag_REJ','flag_RSTO','flag_RSTOS0','flag_RSTR','flag_S0','flag_S1','flag_S2','flag_S3','flag_SF','flag_SH']"
      ]
    },
    {
      "cell_type": "code",
      "execution_count": null,
      "metadata": {
        "id": "3NGaaqEj8kNa",
        "colab": {
          "base_uri": "https://localhost:8080/"
        },
        "outputId": "40d10c26-6e34-436c-f4ba-b8edcb6c704f"
      },
      "outputs": [
        {
          "output_type": "stream",
          "name": "stdout",
          "text": [
            "duration and label are dependent.\n",
            "src_bytes and label are dependent.\n",
            "dst_bytes and label are dependent.\n",
            "land and label are dependent.\n",
            "wrong_fragment and label are dependent.\n",
            "urgent and label are independent.\n",
            "hot and label are dependent.\n",
            "num_failed_logins and label are dependent.\n",
            "logged_in and label are dependent.\n",
            "num_compromised and label are dependent.\n",
            "root_shell and label are dependent.\n",
            "su_attempted and label are dependent.\n",
            "num_root and label are dependent.\n",
            "num_file_creations and label are dependent.\n",
            "num_shells and label are independent.\n",
            "num_access_files and label are dependent.\n",
            "is_host_login and label are dependent.\n",
            "is_guest_login and label are independent.\n",
            "count and label are dependent.\n",
            "srv_count and label are dependent.\n",
            "serror_rate and label are dependent.\n",
            "srv_serror_rate and label are dependent.\n",
            "rerror_rate and label are dependent.\n",
            "srv_rerror_rate and label are dependent.\n",
            "same_srv_rate and label are dependent.\n",
            "diff_srv_rate and label are dependent.\n",
            "srv_diff_host_rate and label are dependent.\n",
            "dst_host_count and label are dependent.\n",
            "dst_host_srv_count and label are dependent.\n",
            "dst_host_same_srv_rate and label are dependent.\n",
            "dst_host_diff_srv_rate and label are dependent.\n",
            "dst_host_same_src_port_rate and label are dependent.\n",
            "dst_host_srv_diff_host_rate and label are dependent.\n",
            "dst_host_serror_rate and label are dependent.\n",
            "dst_host_srv_serr_rate and label are dependent.\n",
            "dst_host_rerror_rate and label are dependent.\n",
            "dst_host_srv_rerror_rate and label are dependent.\n",
            "protocol_icmp and label are dependent.\n",
            "protocol_tcp and label are dependent.\n",
            "protocol_udp and label are dependent.\n",
            "service_IRC and label are dependent.\n",
            "service_X11 and label are dependent.\n",
            "service_Z39_50 and label are dependent.\n",
            "service_aol and label are independent.\n",
            "service_auth and label are dependent.\n",
            "service_bgp and label are dependent.\n",
            "service_courier and label are dependent.\n",
            "service_csnet_ns and label are dependent.\n",
            "service_ctf and label are dependent.\n",
            "service_daytime and label are dependent.\n",
            "service_discard and label are dependent.\n",
            "service_domain and label are dependent.\n",
            "service_domain_u and label are dependent.\n",
            "service_echo and label are dependent.\n",
            "service_eco_i and label are dependent.\n",
            "service_ecr_i and label are dependent.\n",
            "service_efs and label are dependent.\n",
            "service_exec and label are dependent.\n",
            "service_finger and label are dependent.\n",
            "service_ftp and label are dependent.\n",
            "service_ftp_data and label are dependent.\n",
            "service_gopher and label are dependent.\n",
            "service_harvest and label are independent.\n",
            "service_hostnames and label are dependent.\n",
            "service_http and label are dependent.\n",
            "service_http_2784 and label are independent.\n",
            "service_http_443 and label are dependent.\n",
            "service_http_8001 and label are independent.\n",
            "service_imap4 and label are dependent.\n",
            "service_iso_tsap and label are dependent.\n",
            "service_klogin and label are dependent.\n",
            "service_kshell and label are dependent.\n",
            "service_ldap and label are dependent.\n",
            "service_link and label are dependent.\n",
            "service_login and label are dependent.\n",
            "service_mtp and label are dependent.\n",
            "service_name and label are dependent.\n",
            "service_netbios_dgm and label are dependent.\n",
            "service_netbios_ns and label are dependent.\n",
            "service_netbios_ssn and label are dependent.\n",
            "service_netstat and label are dependent.\n",
            "service_nnsp and label are dependent.\n",
            "service_nntp and label are dependent.\n",
            "service_ntp_u and label are dependent.\n",
            "service_other and label are independent.\n",
            "service_pm_dump and label are dependent.\n",
            "service_pop_2 and label are dependent.\n",
            "service_pop_3 and label are dependent.\n",
            "service_printer and label are dependent.\n",
            "service_private and label are dependent.\n",
            "service_red_i and label are dependent.\n",
            "service_remote_job and label are dependent.\n",
            "service_rje and label are dependent.\n",
            "service_shell and label are dependent.\n",
            "service_smtp and label are dependent.\n",
            "service_sql_net and label are dependent.\n",
            "service_ssh and label are dependent.\n",
            "service_sunrpc and label are dependent.\n",
            "service_supdup and label are dependent.\n",
            "service_systat and label are dependent.\n",
            "service_telnet and label are dependent.\n",
            "service_tftp_u and label are independent.\n",
            "service_tim_i and label are independent.\n",
            "service_time and label are dependent.\n",
            "service_urh_i and label are dependent.\n",
            "service_urp_i and label are dependent.\n",
            "service_uucp and label are dependent.\n",
            "service_uucp_path and label are dependent.\n",
            "service_vmnet and label are dependent.\n",
            "service_whois and label are dependent.\n",
            "flag_OTH and label are dependent.\n",
            "flag_REJ and label are dependent.\n",
            "flag_RSTO and label are dependent.\n",
            "flag_RSTOS0 and label are dependent.\n",
            "flag_RSTR and label are dependent.\n",
            "flag_S0 and label are dependent.\n",
            "flag_S1 and label are dependent.\n",
            "flag_S2 and label are dependent.\n",
            "flag_S3 and label are dependent.\n",
            "flag_SF and label are dependent.\n",
            "flag_SH and label are dependent.\n",
            "['urgent', 'num_shells', 'is_guest_login', 'service_aol', 'service_harvest', 'service_http_2784', 'service_http_8001', 'service_other', 'service_tftp_u', 'service_tim_i']\n"
          ]
        }
      ],
      "source": [
        "from scipy.stats import chi2_contingency\n",
        "l=[]\n",
        "# Loop through each input variable\n",
        "for input_var in input_variables:\n",
        "    contingency_table = pd.crosstab(full_dataset[input_var], full_dataset['label'])\n",
        "    stat, p, dof, expected = chi2_contingency(contingency_table)\n",
        "\n",
        "    alpha = 0.05  # Significance level\n",
        "    if p <= alpha:\n",
        "        print(f\"{input_var} and {'label'} are dependent.\")\n",
        "    else:\n",
        "        print(f\"{input_var} and {'label'} are independent.\")\n",
        "        l.append(input_var)\n",
        "print(l)"
      ]
    },
    {
      "cell_type": "code",
      "execution_count": null,
      "metadata": {
        "id": "gHvkApXa9D3N"
      },
      "outputs": [],
      "source": [
        "full_dataset=full_dataset.drop(['urgent', 'num_shells', 'is_guest_login', 'service_aol','service_harvest',\"num_compromised\", 'service_http_2784', 'service_http_8001', 'service_other', 'service_tftp_u', 'service_tim_i']\n",
        ",axis=1)"
      ]
    },
    {
      "cell_type": "code",
      "execution_count": null,
      "metadata": {
        "id": "57puZhgdC_e7",
        "colab": {
          "base_uri": "https://localhost:8080/"
        },
        "outputId": "22392a34-0889-4d43-c683-0926b87590b3"
      },
      "outputs": [
        {
          "output_type": "execute_result",
          "data": {
            "text/plain": [
              "(148517, 112)"
            ]
          },
          "metadata": {},
          "execution_count": 58
        }
      ],
      "source": [
        "full_dataset.shape"
      ]
    },
    {
      "cell_type": "code",
      "execution_count": null,
      "metadata": {
        "id": "rLLYAuMADCJf",
        "colab": {
          "base_uri": "https://localhost:8080/",
          "height": 74
        },
        "outputId": "2716529b-224f-41fa-c5ef-5d1779ed5458"
      },
      "outputs": [
        {
          "output_type": "execute_result",
          "data": {
            "text/plain": [
              "GaussianNB()"
            ],
            "text/html": [
              "<style>#sk-container-id-3 {color: black;background-color: white;}#sk-container-id-3 pre{padding: 0;}#sk-container-id-3 div.sk-toggleable {background-color: white;}#sk-container-id-3 label.sk-toggleable__label {cursor: pointer;display: block;width: 100%;margin-bottom: 0;padding: 0.3em;box-sizing: border-box;text-align: center;}#sk-container-id-3 label.sk-toggleable__label-arrow:before {content: \"▸\";float: left;margin-right: 0.25em;color: #696969;}#sk-container-id-3 label.sk-toggleable__label-arrow:hover:before {color: black;}#sk-container-id-3 div.sk-estimator:hover label.sk-toggleable__label-arrow:before {color: black;}#sk-container-id-3 div.sk-toggleable__content {max-height: 0;max-width: 0;overflow: hidden;text-align: left;background-color: #f0f8ff;}#sk-container-id-3 div.sk-toggleable__content pre {margin: 0.2em;color: black;border-radius: 0.25em;background-color: #f0f8ff;}#sk-container-id-3 input.sk-toggleable__control:checked~div.sk-toggleable__content {max-height: 200px;max-width: 100%;overflow: auto;}#sk-container-id-3 input.sk-toggleable__control:checked~label.sk-toggleable__label-arrow:before {content: \"▾\";}#sk-container-id-3 div.sk-estimator input.sk-toggleable__control:checked~label.sk-toggleable__label {background-color: #d4ebff;}#sk-container-id-3 div.sk-label input.sk-toggleable__control:checked~label.sk-toggleable__label {background-color: #d4ebff;}#sk-container-id-3 input.sk-hidden--visually {border: 0;clip: rect(1px 1px 1px 1px);clip: rect(1px, 1px, 1px, 1px);height: 1px;margin: -1px;overflow: hidden;padding: 0;position: absolute;width: 1px;}#sk-container-id-3 div.sk-estimator {font-family: monospace;background-color: #f0f8ff;border: 1px dotted black;border-radius: 0.25em;box-sizing: border-box;margin-bottom: 0.5em;}#sk-container-id-3 div.sk-estimator:hover {background-color: #d4ebff;}#sk-container-id-3 div.sk-parallel-item::after {content: \"\";width: 100%;border-bottom: 1px solid gray;flex-grow: 1;}#sk-container-id-3 div.sk-label:hover label.sk-toggleable__label {background-color: #d4ebff;}#sk-container-id-3 div.sk-serial::before {content: \"\";position: absolute;border-left: 1px solid gray;box-sizing: border-box;top: 0;bottom: 0;left: 50%;z-index: 0;}#sk-container-id-3 div.sk-serial {display: flex;flex-direction: column;align-items: center;background-color: white;padding-right: 0.2em;padding-left: 0.2em;position: relative;}#sk-container-id-3 div.sk-item {position: relative;z-index: 1;}#sk-container-id-3 div.sk-parallel {display: flex;align-items: stretch;justify-content: center;background-color: white;position: relative;}#sk-container-id-3 div.sk-item::before, #sk-container-id-3 div.sk-parallel-item::before {content: \"\";position: absolute;border-left: 1px solid gray;box-sizing: border-box;top: 0;bottom: 0;left: 50%;z-index: -1;}#sk-container-id-3 div.sk-parallel-item {display: flex;flex-direction: column;z-index: 1;position: relative;background-color: white;}#sk-container-id-3 div.sk-parallel-item:first-child::after {align-self: flex-end;width: 50%;}#sk-container-id-3 div.sk-parallel-item:last-child::after {align-self: flex-start;width: 50%;}#sk-container-id-3 div.sk-parallel-item:only-child::after {width: 0;}#sk-container-id-3 div.sk-dashed-wrapped {border: 1px dashed gray;margin: 0 0.4em 0.5em 0.4em;box-sizing: border-box;padding-bottom: 0.4em;background-color: white;}#sk-container-id-3 div.sk-label label {font-family: monospace;font-weight: bold;display: inline-block;line-height: 1.2em;}#sk-container-id-3 div.sk-label-container {text-align: center;}#sk-container-id-3 div.sk-container {/* jupyter's `normalize.less` sets `[hidden] { display: none; }` but bootstrap.min.css set `[hidden] { display: none !important; }` so we also need the `!important` here to be able to override the default hidden behavior on the sphinx rendered scikit-learn.org. See: https://github.com/scikit-learn/scikit-learn/issues/21755 */display: inline-block !important;position: relative;}#sk-container-id-3 div.sk-text-repr-fallback {display: none;}</style><div id=\"sk-container-id-3\" class=\"sk-top-container\"><div class=\"sk-text-repr-fallback\"><pre>GaussianNB()</pre><b>In a Jupyter environment, please rerun this cell to show the HTML representation or trust the notebook. <br />On GitHub, the HTML representation is unable to render, please try loading this page with nbviewer.org.</b></div><div class=\"sk-container\" hidden><div class=\"sk-item\"><div class=\"sk-estimator sk-toggleable\"><input class=\"sk-toggleable__control sk-hidden--visually\" id=\"sk-estimator-id-3\" type=\"checkbox\" checked><label for=\"sk-estimator-id-3\" class=\"sk-toggleable__label sk-toggleable__label-arrow\">GaussianNB</label><div class=\"sk-toggleable__content\"><pre>GaussianNB()</pre></div></div></div></div></div>"
            ]
          },
          "metadata": {},
          "execution_count": 59
        }
      ],
      "source": [
        "from sklearn.model_selection import train_test_split\n",
        "from sklearn.naive_bayes import GaussianNB\n",
        "X=full_dataset.drop('label',axis=1)\n",
        "y=full_dataset['label']\n",
        "X_train,X_test,y_train,y_test=train_test_split(X,y,test_size=0.3,random_state=42)\n",
        "model=GaussianNB()\n",
        "model.fit(X_train,y_train)"
      ]
    },
    {
      "cell_type": "code",
      "execution_count": null,
      "metadata": {
        "id": "m5agfhFcEH02"
      },
      "outputs": [],
      "source": [
        "y_pred=model.predict(X_test)"
      ]
    },
    {
      "cell_type": "code",
      "execution_count": null,
      "metadata": {
        "id": "xEPd_4OLGbvm",
        "colab": {
          "base_uri": "https://localhost:8080/"
        },
        "outputId": "84fb0e4f-3ed3-419d-e103-88bbcadeccfb"
      },
      "outputs": [
        {
          "output_type": "stream",
          "name": "stdout",
          "text": [
            "[[23045    57]\n",
            " [ 8237 13217]]\n"
          ]
        }
      ],
      "source": [
        "from sklearn.metrics import confusion_matrix\n",
        "cm=confusion_matrix(y_test,y_pred)\n",
        "print(cm)"
      ]
    },
    {
      "cell_type": "code",
      "execution_count": null,
      "metadata": {
        "id": "7Lcsu9EmGuFf",
        "colab": {
          "base_uri": "https://localhost:8080/"
        },
        "outputId": "3e796ec1-b9c2-4b1d-bbd7-75040d853dcc"
      },
      "outputs": [
        {
          "output_type": "stream",
          "name": "stdout",
          "text": [
            "0.8138522309004399\n",
            "0.6160622727696466\n",
            "0.9957058912159108\n",
            "0.761172540889196\n"
          ]
        }
      ],
      "source": [
        "from sklearn.metrics import accuracy_score,recall_score,precision_score,f1_score\n",
        "print(accuracy_score(y_test,y_pred))\n",
        "print(recall_score(y_test,y_pred))\n",
        "print(precision_score(y_test,y_pred))\n",
        "print(f1_score(y_test,y_pred))"
      ]
    },
    {
      "cell_type": "markdown",
      "metadata": {
        "id": "yfMD-TMaH3H2"
      },
      "source": [
        "Decision Tree"
      ]
    },
    {
      "cell_type": "code",
      "execution_count": null,
      "metadata": {
        "id": "A5KTNb-LH1lF"
      },
      "outputs": [],
      "source": [
        "from sklearn.tree import DecisionTreeClassifier"
      ]
    },
    {
      "cell_type": "code",
      "execution_count": null,
      "metadata": {
        "colab": {
          "base_uri": "https://localhost:8080/",
          "height": 74
        },
        "id": "qq8u3odoIAQZ",
        "outputId": "9e6e2982-0732-4240-b68a-7b4cc2a07f42"
      },
      "outputs": [
        {
          "output_type": "execute_result",
          "data": {
            "text/plain": [
              "DecisionTreeClassifier()"
            ],
            "text/html": [
              "<style>#sk-container-id-4 {color: black;background-color: white;}#sk-container-id-4 pre{padding: 0;}#sk-container-id-4 div.sk-toggleable {background-color: white;}#sk-container-id-4 label.sk-toggleable__label {cursor: pointer;display: block;width: 100%;margin-bottom: 0;padding: 0.3em;box-sizing: border-box;text-align: center;}#sk-container-id-4 label.sk-toggleable__label-arrow:before {content: \"▸\";float: left;margin-right: 0.25em;color: #696969;}#sk-container-id-4 label.sk-toggleable__label-arrow:hover:before {color: black;}#sk-container-id-4 div.sk-estimator:hover label.sk-toggleable__label-arrow:before {color: black;}#sk-container-id-4 div.sk-toggleable__content {max-height: 0;max-width: 0;overflow: hidden;text-align: left;background-color: #f0f8ff;}#sk-container-id-4 div.sk-toggleable__content pre {margin: 0.2em;color: black;border-radius: 0.25em;background-color: #f0f8ff;}#sk-container-id-4 input.sk-toggleable__control:checked~div.sk-toggleable__content {max-height: 200px;max-width: 100%;overflow: auto;}#sk-container-id-4 input.sk-toggleable__control:checked~label.sk-toggleable__label-arrow:before {content: \"▾\";}#sk-container-id-4 div.sk-estimator input.sk-toggleable__control:checked~label.sk-toggleable__label {background-color: #d4ebff;}#sk-container-id-4 div.sk-label input.sk-toggleable__control:checked~label.sk-toggleable__label {background-color: #d4ebff;}#sk-container-id-4 input.sk-hidden--visually {border: 0;clip: rect(1px 1px 1px 1px);clip: rect(1px, 1px, 1px, 1px);height: 1px;margin: -1px;overflow: hidden;padding: 0;position: absolute;width: 1px;}#sk-container-id-4 div.sk-estimator {font-family: monospace;background-color: #f0f8ff;border: 1px dotted black;border-radius: 0.25em;box-sizing: border-box;margin-bottom: 0.5em;}#sk-container-id-4 div.sk-estimator:hover {background-color: #d4ebff;}#sk-container-id-4 div.sk-parallel-item::after {content: \"\";width: 100%;border-bottom: 1px solid gray;flex-grow: 1;}#sk-container-id-4 div.sk-label:hover label.sk-toggleable__label {background-color: #d4ebff;}#sk-container-id-4 div.sk-serial::before {content: \"\";position: absolute;border-left: 1px solid gray;box-sizing: border-box;top: 0;bottom: 0;left: 50%;z-index: 0;}#sk-container-id-4 div.sk-serial {display: flex;flex-direction: column;align-items: center;background-color: white;padding-right: 0.2em;padding-left: 0.2em;position: relative;}#sk-container-id-4 div.sk-item {position: relative;z-index: 1;}#sk-container-id-4 div.sk-parallel {display: flex;align-items: stretch;justify-content: center;background-color: white;position: relative;}#sk-container-id-4 div.sk-item::before, #sk-container-id-4 div.sk-parallel-item::before {content: \"\";position: absolute;border-left: 1px solid gray;box-sizing: border-box;top: 0;bottom: 0;left: 50%;z-index: -1;}#sk-container-id-4 div.sk-parallel-item {display: flex;flex-direction: column;z-index: 1;position: relative;background-color: white;}#sk-container-id-4 div.sk-parallel-item:first-child::after {align-self: flex-end;width: 50%;}#sk-container-id-4 div.sk-parallel-item:last-child::after {align-self: flex-start;width: 50%;}#sk-container-id-4 div.sk-parallel-item:only-child::after {width: 0;}#sk-container-id-4 div.sk-dashed-wrapped {border: 1px dashed gray;margin: 0 0.4em 0.5em 0.4em;box-sizing: border-box;padding-bottom: 0.4em;background-color: white;}#sk-container-id-4 div.sk-label label {font-family: monospace;font-weight: bold;display: inline-block;line-height: 1.2em;}#sk-container-id-4 div.sk-label-container {text-align: center;}#sk-container-id-4 div.sk-container {/* jupyter's `normalize.less` sets `[hidden] { display: none; }` but bootstrap.min.css set `[hidden] { display: none !important; }` so we also need the `!important` here to be able to override the default hidden behavior on the sphinx rendered scikit-learn.org. See: https://github.com/scikit-learn/scikit-learn/issues/21755 */display: inline-block !important;position: relative;}#sk-container-id-4 div.sk-text-repr-fallback {display: none;}</style><div id=\"sk-container-id-4\" class=\"sk-top-container\"><div class=\"sk-text-repr-fallback\"><pre>DecisionTreeClassifier()</pre><b>In a Jupyter environment, please rerun this cell to show the HTML representation or trust the notebook. <br />On GitHub, the HTML representation is unable to render, please try loading this page with nbviewer.org.</b></div><div class=\"sk-container\" hidden><div class=\"sk-item\"><div class=\"sk-estimator sk-toggleable\"><input class=\"sk-toggleable__control sk-hidden--visually\" id=\"sk-estimator-id-4\" type=\"checkbox\" checked><label for=\"sk-estimator-id-4\" class=\"sk-toggleable__label sk-toggleable__label-arrow\">DecisionTreeClassifier</label><div class=\"sk-toggleable__content\"><pre>DecisionTreeClassifier()</pre></div></div></div></div></div>"
            ]
          },
          "metadata": {},
          "execution_count": 64
        }
      ],
      "source": [
        "from sklearn.model_selection import train_test_split\n",
        "X=full_dataset.drop('label',axis=1)\n",
        "y=full_dataset['label']\n",
        "X_train,X_test,y_train,y_test=train_test_split(X,y,test_size=0.3,random_state=42)\n",
        "model= DecisionTreeClassifier()\n",
        "model.fit(X_train,y_train)"
      ]
    },
    {
      "cell_type": "code",
      "execution_count": null,
      "metadata": {
        "id": "oFARS8I-IGMs"
      },
      "outputs": [],
      "source": [
        "\n",
        "y_pred=model.predict(X_test)"
      ]
    },
    {
      "cell_type": "code",
      "execution_count": null,
      "metadata": {
        "colab": {
          "base_uri": "https://localhost:8080/"
        },
        "id": "EOo1YmAIILAv",
        "outputId": "6842fec0-1531-4ac7-a5b9-9d3bfc73197c"
      },
      "outputs": [
        {
          "output_type": "stream",
          "name": "stdout",
          "text": [
            "[[22989   113]\n",
            " [  131 21323]]\n"
          ]
        }
      ],
      "source": [
        "from sklearn.metrics import confusion_matrix\n",
        "cm=confusion_matrix(y_test,y_pred)\n",
        "print(cm)"
      ]
    },
    {
      "cell_type": "code",
      "execution_count": null,
      "metadata": {
        "colab": {
          "base_uri": "https://localhost:8080/"
        },
        "id": "TQOb0bGXIMby",
        "outputId": "e37e9955-6cba-48b7-a381-c8fb86444505"
      },
      "outputs": [
        {
          "output_type": "stream",
          "name": "stdout",
          "text": [
            "0.9945237453990484\n",
            "0.9938939125570989\n",
            "0.9947284941220377\n",
            "0.9943110282117044\n"
          ]
        }
      ],
      "source": [
        "from sklearn.metrics import accuracy_score,recall_score,precision_score,f1_score\n",
        "print(accuracy_score(y_test,y_pred))\n",
        "print(recall_score(y_test,y_pred))\n",
        "print(precision_score(y_test,y_pred))\n",
        "print(f1_score(y_test,y_pred))"
      ]
    },
    {
      "cell_type": "markdown",
      "metadata": {
        "id": "wtJe55YsIPg1"
      },
      "source": [
        "SVC"
      ]
    },
    {
      "cell_type": "code",
      "execution_count": null,
      "metadata": {
        "id": "AK6tvO1BIN7i"
      },
      "outputs": [],
      "source": [
        "from sklearn.svm import SVC"
      ]
    },
    {
      "cell_type": "code",
      "execution_count": null,
      "metadata": {
        "colab": {
          "base_uri": "https://localhost:8080/",
          "height": 74
        },
        "id": "LZecSD66IVqA",
        "outputId": "5a53d34f-6693-42f7-b984-9f00d7d20dd6"
      },
      "outputs": [
        {
          "output_type": "execute_result",
          "data": {
            "text/plain": [
              "SVC()"
            ],
            "text/html": [
              "<style>#sk-container-id-5 {color: black;background-color: white;}#sk-container-id-5 pre{padding: 0;}#sk-container-id-5 div.sk-toggleable {background-color: white;}#sk-container-id-5 label.sk-toggleable__label {cursor: pointer;display: block;width: 100%;margin-bottom: 0;padding: 0.3em;box-sizing: border-box;text-align: center;}#sk-container-id-5 label.sk-toggleable__label-arrow:before {content: \"▸\";float: left;margin-right: 0.25em;color: #696969;}#sk-container-id-5 label.sk-toggleable__label-arrow:hover:before {color: black;}#sk-container-id-5 div.sk-estimator:hover label.sk-toggleable__label-arrow:before {color: black;}#sk-container-id-5 div.sk-toggleable__content {max-height: 0;max-width: 0;overflow: hidden;text-align: left;background-color: #f0f8ff;}#sk-container-id-5 div.sk-toggleable__content pre {margin: 0.2em;color: black;border-radius: 0.25em;background-color: #f0f8ff;}#sk-container-id-5 input.sk-toggleable__control:checked~div.sk-toggleable__content {max-height: 200px;max-width: 100%;overflow: auto;}#sk-container-id-5 input.sk-toggleable__control:checked~label.sk-toggleable__label-arrow:before {content: \"▾\";}#sk-container-id-5 div.sk-estimator input.sk-toggleable__control:checked~label.sk-toggleable__label {background-color: #d4ebff;}#sk-container-id-5 div.sk-label input.sk-toggleable__control:checked~label.sk-toggleable__label {background-color: #d4ebff;}#sk-container-id-5 input.sk-hidden--visually {border: 0;clip: rect(1px 1px 1px 1px);clip: rect(1px, 1px, 1px, 1px);height: 1px;margin: -1px;overflow: hidden;padding: 0;position: absolute;width: 1px;}#sk-container-id-5 div.sk-estimator {font-family: monospace;background-color: #f0f8ff;border: 1px dotted black;border-radius: 0.25em;box-sizing: border-box;margin-bottom: 0.5em;}#sk-container-id-5 div.sk-estimator:hover {background-color: #d4ebff;}#sk-container-id-5 div.sk-parallel-item::after {content: \"\";width: 100%;border-bottom: 1px solid gray;flex-grow: 1;}#sk-container-id-5 div.sk-label:hover label.sk-toggleable__label {background-color: #d4ebff;}#sk-container-id-5 div.sk-serial::before {content: \"\";position: absolute;border-left: 1px solid gray;box-sizing: border-box;top: 0;bottom: 0;left: 50%;z-index: 0;}#sk-container-id-5 div.sk-serial {display: flex;flex-direction: column;align-items: center;background-color: white;padding-right: 0.2em;padding-left: 0.2em;position: relative;}#sk-container-id-5 div.sk-item {position: relative;z-index: 1;}#sk-container-id-5 div.sk-parallel {display: flex;align-items: stretch;justify-content: center;background-color: white;position: relative;}#sk-container-id-5 div.sk-item::before, #sk-container-id-5 div.sk-parallel-item::before {content: \"\";position: absolute;border-left: 1px solid gray;box-sizing: border-box;top: 0;bottom: 0;left: 50%;z-index: -1;}#sk-container-id-5 div.sk-parallel-item {display: flex;flex-direction: column;z-index: 1;position: relative;background-color: white;}#sk-container-id-5 div.sk-parallel-item:first-child::after {align-self: flex-end;width: 50%;}#sk-container-id-5 div.sk-parallel-item:last-child::after {align-self: flex-start;width: 50%;}#sk-container-id-5 div.sk-parallel-item:only-child::after {width: 0;}#sk-container-id-5 div.sk-dashed-wrapped {border: 1px dashed gray;margin: 0 0.4em 0.5em 0.4em;box-sizing: border-box;padding-bottom: 0.4em;background-color: white;}#sk-container-id-5 div.sk-label label {font-family: monospace;font-weight: bold;display: inline-block;line-height: 1.2em;}#sk-container-id-5 div.sk-label-container {text-align: center;}#sk-container-id-5 div.sk-container {/* jupyter's `normalize.less` sets `[hidden] { display: none; }` but bootstrap.min.css set `[hidden] { display: none !important; }` so we also need the `!important` here to be able to override the default hidden behavior on the sphinx rendered scikit-learn.org. See: https://github.com/scikit-learn/scikit-learn/issues/21755 */display: inline-block !important;position: relative;}#sk-container-id-5 div.sk-text-repr-fallback {display: none;}</style><div id=\"sk-container-id-5\" class=\"sk-top-container\"><div class=\"sk-text-repr-fallback\"><pre>SVC()</pre><b>In a Jupyter environment, please rerun this cell to show the HTML representation or trust the notebook. <br />On GitHub, the HTML representation is unable to render, please try loading this page with nbviewer.org.</b></div><div class=\"sk-container\" hidden><div class=\"sk-item\"><div class=\"sk-estimator sk-toggleable\"><input class=\"sk-toggleable__control sk-hidden--visually\" id=\"sk-estimator-id-5\" type=\"checkbox\" checked><label for=\"sk-estimator-id-5\" class=\"sk-toggleable__label sk-toggleable__label-arrow\">SVC</label><div class=\"sk-toggleable__content\"><pre>SVC()</pre></div></div></div></div></div>"
            ]
          },
          "metadata": {},
          "execution_count": 69
        }
      ],
      "source": [
        "from sklearn.model_selection import train_test_split\n",
        "X=full_dataset.drop('label',axis=1)\n",
        "y=full_dataset['label']\n",
        "X_train,X_test,y_train,y_test=train_test_split(X,y,test_size=0.3,random_state=42)\n",
        "model= SVC()\n",
        "model.fit(X_train,y_train)"
      ]
    },
    {
      "cell_type": "code",
      "execution_count": null,
      "metadata": {
        "id": "SsVD6ND4IZkn"
      },
      "outputs": [],
      "source": [
        "y_pred=model.predict(X_test)"
      ]
    },
    {
      "cell_type": "code",
      "execution_count": null,
      "metadata": {
        "colab": {
          "base_uri": "https://localhost:8080/"
        },
        "id": "g89l-oD_JA4p",
        "outputId": "1951a4ef-bc9f-4020-9692-4d989c0e9e5e"
      },
      "outputs": [
        {
          "output_type": "stream",
          "name": "stdout",
          "text": [
            "[[22798   304]\n",
            " [  447 21007]]\n"
          ]
        }
      ],
      "source": [
        "from sklearn.metrics import confusion_matrix\n",
        "cm=confusion_matrix(y_test,y_pred)\n",
        "print(cm)"
      ]
    },
    {
      "cell_type": "code",
      "execution_count": null,
      "metadata": {
        "colab": {
          "base_uri": "https://localhost:8080/"
        },
        "id": "AuONYjtVJNl-",
        "outputId": "5498d169-dfa7-4192-cc67-76e7055b032d"
      },
      "outputs": [
        {
          "output_type": "stream",
          "name": "stdout",
          "text": [
            "0.9831448065355957\n",
            "0.9791647245268947\n",
            "0.985735066397635\n",
            "0.9824389103238629\n"
          ]
        }
      ],
      "source": [
        "from sklearn.metrics import accuracy_score,recall_score,precision_score,f1_score\n",
        "print(accuracy_score(y_test,y_pred))\n",
        "print(recall_score(y_test,y_pred))\n",
        "print(precision_score(y_test,y_pred))\n",
        "print(f1_score(y_test,y_pred))"
      ]
    },
    {
      "cell_type": "markdown",
      "metadata": {
        "id": "TpWERZQsKBQs"
      },
      "source": [
        "Anova"
      ]
    },
    {
      "cell_type": "code",
      "source": [
        "full_dataset.isna().sum()"
      ],
      "metadata": {
        "colab": {
          "base_uri": "https://localhost:8080/"
        },
        "id": "UXQwjhADjnNE",
        "outputId": "637c92cd-641b-48ce-9e53-ef276d8fac67"
      },
      "execution_count": null,
      "outputs": [
        {
          "output_type": "execute_result",
          "data": {
            "text/plain": [
              "duration          0\n",
              "src_bytes         0\n",
              "dst_bytes         0\n",
              "land              0\n",
              "wrong_fragment    0\n",
              "                 ..\n",
              "flag_S1           0\n",
              "flag_S2           0\n",
              "flag_S3           0\n",
              "flag_SF           0\n",
              "flag_SH           0\n",
              "Length: 112, dtype: int64"
            ]
          },
          "metadata": {},
          "execution_count": 73
        }
      ]
    },
    {
      "cell_type": "code",
      "source": [
        "full_dataset.isna().sum().sum()"
      ],
      "metadata": {
        "colab": {
          "base_uri": "https://localhost:8080/"
        },
        "id": "a_UM8rWvjnJm",
        "outputId": "694ec9ea-4285-4826-a688-e8c97afb5494"
      },
      "execution_count": null,
      "outputs": [
        {
          "output_type": "execute_result",
          "data": {
            "text/plain": [
              "0"
            ]
          },
          "metadata": {},
          "execution_count": 74
        }
      ]
    },
    {
      "cell_type": "code",
      "source": [
        "full_dataset['label'].isna().sum()"
      ],
      "metadata": {
        "colab": {
          "base_uri": "https://localhost:8080/"
        },
        "id": "P9bj2Uu2jnGs",
        "outputId": "7d64785c-fb01-4519-b72b-9a7b7f8a8cc9"
      },
      "execution_count": null,
      "outputs": [
        {
          "output_type": "execute_result",
          "data": {
            "text/plain": [
              "0"
            ]
          },
          "metadata": {},
          "execution_count": 75
        }
      ]
    },
    {
      "cell_type": "code",
      "source": [
        "full_dataset=full_dataset.replace([np.inf,-np.inf], np.nan)"
      ],
      "metadata": {
        "id": "lMLALi9Nj7w1"
      },
      "execution_count": null,
      "outputs": []
    },
    {
      "cell_type": "code",
      "source": [
        "full_dataset=full_dataset.dropna()"
      ],
      "metadata": {
        "id": "6tCGDwJ7j7tb"
      },
      "execution_count": null,
      "outputs": []
    },
    {
      "cell_type": "code",
      "source": [
        "full_dataset.isna().sum().sum()"
      ],
      "metadata": {
        "colab": {
          "base_uri": "https://localhost:8080/"
        },
        "id": "pTiiwCnjj7q6",
        "outputId": "c2e8eee9-b295-4b8f-aeba-c8ee451f60ef"
      },
      "execution_count": null,
      "outputs": [
        {
          "output_type": "execute_result",
          "data": {
            "text/plain": [
              "0"
            ]
          },
          "metadata": {},
          "execution_count": 78
        }
      ]
    },
    {
      "cell_type": "code",
      "source": [
        "full_dataset.describe()"
      ],
      "metadata": {
        "colab": {
          "base_uri": "https://localhost:8080/",
          "height": 436
        },
        "id": "2upfQTnDj7oY",
        "outputId": "2a1fb896-330b-4ef0-8fb9-f071bcdaf32f"
      },
      "execution_count": null,
      "outputs": [
        {
          "output_type": "execute_result",
          "data": {
            "text/plain": [
              "           duration     src_bytes     dst_bytes          land  wrong_fragment  \\\n",
              "count  1.485170e+05  1.485170e+05  1.485170e+05  1.485170e+05    1.485170e+05   \n",
              "mean  -5.501890e-18 -1.722331e-18 -7.176378e-19  6.650110e-18   -1.918485e-17   \n",
              "std    1.000003e+00  1.000003e+00  1.000003e+00  1.000003e+00    1.000003e+00   \n",
              "min   -1.124811e-01 -7.436409e-03 -4.614229e-03 -1.468026e-02   -8.548778e-02   \n",
              "25%   -1.124811e-01 -7.436409e-03 -4.614229e-03 -1.468026e-02   -8.548778e-02   \n",
              "50%   -1.124811e-01 -7.428275e-03 -4.614229e-03 -1.468026e-02   -8.548778e-02   \n",
              "75%   -1.124811e-01 -7.385019e-03 -4.460051e-03 -1.468026e-02   -8.548778e-02   \n",
              "max    2.334247e+01  2.550882e+02  3.536968e+02  6.811869e+01    1.241096e+01   \n",
              "\n",
              "                hot  num_failed_logins     logged_in    root_shell  \\\n",
              "count  1.485170e+05       1.485170e+05  1.485170e+05  1.485170e+05   \n",
              "mean   8.611653e-18      -1.071672e-17 -1.063061e-16 -1.227161e-17   \n",
              "std    1.000003e+00       1.000003e+00  1.000003e+00  1.000003e+00   \n",
              "min   -9.407084e-02      -5.983194e-02 -8.212489e-01 -3.886545e-02   \n",
              "25%   -9.407084e-02      -5.983194e-02 -8.212489e-01 -3.886545e-02   \n",
              "50%   -9.407084e-02      -5.983194e-02 -8.212489e-01 -3.886545e-02   \n",
              "75%   -9.407084e-02      -5.983194e-02  1.217658e+00 -3.886545e-02   \n",
              "max    5.007598e+01       6.914625e+01  1.217658e+00  2.572979e+01   \n",
              "\n",
              "       su_attempted  ...      flag_REJ     flag_RSTO   flag_RSTOS0  \\\n",
              "count  1.485170e+05  ...  1.485170e+05  1.485170e+05  1.485170e+05   \n",
              "mean  -1.545313e-17  ... -3.636031e-17 -3.980498e-17 -1.267827e-17   \n",
              "std    1.000003e+00  ...  1.000003e+00  1.000003e+00  1.000003e+00   \n",
              "min   -2.303241e-02  ... -3.362100e-01 -1.263853e-01 -2.659868e-02   \n",
              "25%   -2.303241e-02  ... -3.362100e-01 -1.263853e-01 -2.659868e-02   \n",
              "50%   -2.303241e-02  ... -3.362100e-01 -1.263853e-01 -2.659868e-02   \n",
              "75%   -2.303241e-02  ... -3.362100e-01 -1.263853e-01 -2.659868e-02   \n",
              "max    4.715911e+01  ...  2.974332e+00  7.912314e+00  3.759585e+01   \n",
              "\n",
              "          flag_RSTR       flag_S0       flag_S1       flag_S2       flag_S3  \\\n",
              "count  1.485170e+05  1.485170e+05  1.485170e+05  1.485170e+05  1.485170e+05   \n",
              "mean   9.090079e-18  6.583131e-17  1.071672e-17 -1.751036e-17 -1.607509e-17   \n",
              "std    1.000003e+00  1.000003e+00  1.000003e+00  1.000003e+00  1.000003e+00   \n",
              "min   -1.457662e-01 -5.746005e-01 -5.104705e-02 -3.093597e-02 -4.483903e-02   \n",
              "25%   -1.457662e-01 -5.746005e-01 -5.104705e-02 -3.093597e-02 -4.483903e-02   \n",
              "50%   -1.457662e-01 -5.746005e-01 -5.104705e-02 -3.093597e-02 -4.483903e-02   \n",
              "75%   -1.457662e-01 -5.746005e-01 -5.104705e-02 -3.093597e-02 -4.483903e-02   \n",
              "max    6.860303e+00  1.740339e+00  1.958977e+01  3.232483e+01  2.230200e+01   \n",
              "\n",
              "            flag_SF       flag_SH  \n",
              "count  1.485170e+05  1.485170e+05  \n",
              "mean  -1.326195e-16  1.925661e-17  \n",
              "std    1.000003e+00  1.000003e+00  \n",
              "min   -1.237025e+00 -4.818309e-02  \n",
              "25%   -1.237025e+00 -4.818309e-02  \n",
              "50%    8.083909e-01 -4.818309e-02  \n",
              "75%    8.083909e-01 -4.818309e-02  \n",
              "max    8.083909e-01  2.075417e+01  \n",
              "\n",
              "[8 rows x 112 columns]"
            ],
            "text/html": [
              "\n",
              "  <div id=\"df-58bb8ce9-2246-4db8-9e38-8e8f54ef72bd\" class=\"colab-df-container\">\n",
              "    <div>\n",
              "<style scoped>\n",
              "    .dataframe tbody tr th:only-of-type {\n",
              "        vertical-align: middle;\n",
              "    }\n",
              "\n",
              "    .dataframe tbody tr th {\n",
              "        vertical-align: top;\n",
              "    }\n",
              "\n",
              "    .dataframe thead th {\n",
              "        text-align: right;\n",
              "    }\n",
              "</style>\n",
              "<table border=\"1\" class=\"dataframe\">\n",
              "  <thead>\n",
              "    <tr style=\"text-align: right;\">\n",
              "      <th></th>\n",
              "      <th>duration</th>\n",
              "      <th>src_bytes</th>\n",
              "      <th>dst_bytes</th>\n",
              "      <th>land</th>\n",
              "      <th>wrong_fragment</th>\n",
              "      <th>hot</th>\n",
              "      <th>num_failed_logins</th>\n",
              "      <th>logged_in</th>\n",
              "      <th>root_shell</th>\n",
              "      <th>su_attempted</th>\n",
              "      <th>...</th>\n",
              "      <th>flag_REJ</th>\n",
              "      <th>flag_RSTO</th>\n",
              "      <th>flag_RSTOS0</th>\n",
              "      <th>flag_RSTR</th>\n",
              "      <th>flag_S0</th>\n",
              "      <th>flag_S1</th>\n",
              "      <th>flag_S2</th>\n",
              "      <th>flag_S3</th>\n",
              "      <th>flag_SF</th>\n",
              "      <th>flag_SH</th>\n",
              "    </tr>\n",
              "  </thead>\n",
              "  <tbody>\n",
              "    <tr>\n",
              "      <th>count</th>\n",
              "      <td>1.485170e+05</td>\n",
              "      <td>1.485170e+05</td>\n",
              "      <td>1.485170e+05</td>\n",
              "      <td>1.485170e+05</td>\n",
              "      <td>1.485170e+05</td>\n",
              "      <td>1.485170e+05</td>\n",
              "      <td>1.485170e+05</td>\n",
              "      <td>1.485170e+05</td>\n",
              "      <td>1.485170e+05</td>\n",
              "      <td>1.485170e+05</td>\n",
              "      <td>...</td>\n",
              "      <td>1.485170e+05</td>\n",
              "      <td>1.485170e+05</td>\n",
              "      <td>1.485170e+05</td>\n",
              "      <td>1.485170e+05</td>\n",
              "      <td>1.485170e+05</td>\n",
              "      <td>1.485170e+05</td>\n",
              "      <td>1.485170e+05</td>\n",
              "      <td>1.485170e+05</td>\n",
              "      <td>1.485170e+05</td>\n",
              "      <td>1.485170e+05</td>\n",
              "    </tr>\n",
              "    <tr>\n",
              "      <th>mean</th>\n",
              "      <td>-5.501890e-18</td>\n",
              "      <td>-1.722331e-18</td>\n",
              "      <td>-7.176378e-19</td>\n",
              "      <td>6.650110e-18</td>\n",
              "      <td>-1.918485e-17</td>\n",
              "      <td>8.611653e-18</td>\n",
              "      <td>-1.071672e-17</td>\n",
              "      <td>-1.063061e-16</td>\n",
              "      <td>-1.227161e-17</td>\n",
              "      <td>-1.545313e-17</td>\n",
              "      <td>...</td>\n",
              "      <td>-3.636031e-17</td>\n",
              "      <td>-3.980498e-17</td>\n",
              "      <td>-1.267827e-17</td>\n",
              "      <td>9.090079e-18</td>\n",
              "      <td>6.583131e-17</td>\n",
              "      <td>1.071672e-17</td>\n",
              "      <td>-1.751036e-17</td>\n",
              "      <td>-1.607509e-17</td>\n",
              "      <td>-1.326195e-16</td>\n",
              "      <td>1.925661e-17</td>\n",
              "    </tr>\n",
              "    <tr>\n",
              "      <th>std</th>\n",
              "      <td>1.000003e+00</td>\n",
              "      <td>1.000003e+00</td>\n",
              "      <td>1.000003e+00</td>\n",
              "      <td>1.000003e+00</td>\n",
              "      <td>1.000003e+00</td>\n",
              "      <td>1.000003e+00</td>\n",
              "      <td>1.000003e+00</td>\n",
              "      <td>1.000003e+00</td>\n",
              "      <td>1.000003e+00</td>\n",
              "      <td>1.000003e+00</td>\n",
              "      <td>...</td>\n",
              "      <td>1.000003e+00</td>\n",
              "      <td>1.000003e+00</td>\n",
              "      <td>1.000003e+00</td>\n",
              "      <td>1.000003e+00</td>\n",
              "      <td>1.000003e+00</td>\n",
              "      <td>1.000003e+00</td>\n",
              "      <td>1.000003e+00</td>\n",
              "      <td>1.000003e+00</td>\n",
              "      <td>1.000003e+00</td>\n",
              "      <td>1.000003e+00</td>\n",
              "    </tr>\n",
              "    <tr>\n",
              "      <th>min</th>\n",
              "      <td>-1.124811e-01</td>\n",
              "      <td>-7.436409e-03</td>\n",
              "      <td>-4.614229e-03</td>\n",
              "      <td>-1.468026e-02</td>\n",
              "      <td>-8.548778e-02</td>\n",
              "      <td>-9.407084e-02</td>\n",
              "      <td>-5.983194e-02</td>\n",
              "      <td>-8.212489e-01</td>\n",
              "      <td>-3.886545e-02</td>\n",
              "      <td>-2.303241e-02</td>\n",
              "      <td>...</td>\n",
              "      <td>-3.362100e-01</td>\n",
              "      <td>-1.263853e-01</td>\n",
              "      <td>-2.659868e-02</td>\n",
              "      <td>-1.457662e-01</td>\n",
              "      <td>-5.746005e-01</td>\n",
              "      <td>-5.104705e-02</td>\n",
              "      <td>-3.093597e-02</td>\n",
              "      <td>-4.483903e-02</td>\n",
              "      <td>-1.237025e+00</td>\n",
              "      <td>-4.818309e-02</td>\n",
              "    </tr>\n",
              "    <tr>\n",
              "      <th>25%</th>\n",
              "      <td>-1.124811e-01</td>\n",
              "      <td>-7.436409e-03</td>\n",
              "      <td>-4.614229e-03</td>\n",
              "      <td>-1.468026e-02</td>\n",
              "      <td>-8.548778e-02</td>\n",
              "      <td>-9.407084e-02</td>\n",
              "      <td>-5.983194e-02</td>\n",
              "      <td>-8.212489e-01</td>\n",
              "      <td>-3.886545e-02</td>\n",
              "      <td>-2.303241e-02</td>\n",
              "      <td>...</td>\n",
              "      <td>-3.362100e-01</td>\n",
              "      <td>-1.263853e-01</td>\n",
              "      <td>-2.659868e-02</td>\n",
              "      <td>-1.457662e-01</td>\n",
              "      <td>-5.746005e-01</td>\n",
              "      <td>-5.104705e-02</td>\n",
              "      <td>-3.093597e-02</td>\n",
              "      <td>-4.483903e-02</td>\n",
              "      <td>-1.237025e+00</td>\n",
              "      <td>-4.818309e-02</td>\n",
              "    </tr>\n",
              "    <tr>\n",
              "      <th>50%</th>\n",
              "      <td>-1.124811e-01</td>\n",
              "      <td>-7.428275e-03</td>\n",
              "      <td>-4.614229e-03</td>\n",
              "      <td>-1.468026e-02</td>\n",
              "      <td>-8.548778e-02</td>\n",
              "      <td>-9.407084e-02</td>\n",
              "      <td>-5.983194e-02</td>\n",
              "      <td>-8.212489e-01</td>\n",
              "      <td>-3.886545e-02</td>\n",
              "      <td>-2.303241e-02</td>\n",
              "      <td>...</td>\n",
              "      <td>-3.362100e-01</td>\n",
              "      <td>-1.263853e-01</td>\n",
              "      <td>-2.659868e-02</td>\n",
              "      <td>-1.457662e-01</td>\n",
              "      <td>-5.746005e-01</td>\n",
              "      <td>-5.104705e-02</td>\n",
              "      <td>-3.093597e-02</td>\n",
              "      <td>-4.483903e-02</td>\n",
              "      <td>8.083909e-01</td>\n",
              "      <td>-4.818309e-02</td>\n",
              "    </tr>\n",
              "    <tr>\n",
              "      <th>75%</th>\n",
              "      <td>-1.124811e-01</td>\n",
              "      <td>-7.385019e-03</td>\n",
              "      <td>-4.460051e-03</td>\n",
              "      <td>-1.468026e-02</td>\n",
              "      <td>-8.548778e-02</td>\n",
              "      <td>-9.407084e-02</td>\n",
              "      <td>-5.983194e-02</td>\n",
              "      <td>1.217658e+00</td>\n",
              "      <td>-3.886545e-02</td>\n",
              "      <td>-2.303241e-02</td>\n",
              "      <td>...</td>\n",
              "      <td>-3.362100e-01</td>\n",
              "      <td>-1.263853e-01</td>\n",
              "      <td>-2.659868e-02</td>\n",
              "      <td>-1.457662e-01</td>\n",
              "      <td>-5.746005e-01</td>\n",
              "      <td>-5.104705e-02</td>\n",
              "      <td>-3.093597e-02</td>\n",
              "      <td>-4.483903e-02</td>\n",
              "      <td>8.083909e-01</td>\n",
              "      <td>-4.818309e-02</td>\n",
              "    </tr>\n",
              "    <tr>\n",
              "      <th>max</th>\n",
              "      <td>2.334247e+01</td>\n",
              "      <td>2.550882e+02</td>\n",
              "      <td>3.536968e+02</td>\n",
              "      <td>6.811869e+01</td>\n",
              "      <td>1.241096e+01</td>\n",
              "      <td>5.007598e+01</td>\n",
              "      <td>6.914625e+01</td>\n",
              "      <td>1.217658e+00</td>\n",
              "      <td>2.572979e+01</td>\n",
              "      <td>4.715911e+01</td>\n",
              "      <td>...</td>\n",
              "      <td>2.974332e+00</td>\n",
              "      <td>7.912314e+00</td>\n",
              "      <td>3.759585e+01</td>\n",
              "      <td>6.860303e+00</td>\n",
              "      <td>1.740339e+00</td>\n",
              "      <td>1.958977e+01</td>\n",
              "      <td>3.232483e+01</td>\n",
              "      <td>2.230200e+01</td>\n",
              "      <td>8.083909e-01</td>\n",
              "      <td>2.075417e+01</td>\n",
              "    </tr>\n",
              "  </tbody>\n",
              "</table>\n",
              "<p>8 rows × 112 columns</p>\n",
              "</div>\n",
              "    <div class=\"colab-df-buttons\">\n",
              "\n",
              "  <div class=\"colab-df-container\">\n",
              "    <button class=\"colab-df-convert\" onclick=\"convertToInteractive('df-58bb8ce9-2246-4db8-9e38-8e8f54ef72bd')\"\n",
              "            title=\"Convert this dataframe to an interactive table.\"\n",
              "            style=\"display:none;\">\n",
              "\n",
              "  <svg xmlns=\"http://www.w3.org/2000/svg\" height=\"24px\" viewBox=\"0 -960 960 960\">\n",
              "    <path d=\"M120-120v-720h720v720H120Zm60-500h600v-160H180v160Zm220 220h160v-160H400v160Zm0 220h160v-160H400v160ZM180-400h160v-160H180v160Zm440 0h160v-160H620v160ZM180-180h160v-160H180v160Zm440 0h160v-160H620v160Z\"/>\n",
              "  </svg>\n",
              "    </button>\n",
              "\n",
              "  <style>\n",
              "    .colab-df-container {\n",
              "      display:flex;\n",
              "      gap: 12px;\n",
              "    }\n",
              "\n",
              "    .colab-df-convert {\n",
              "      background-color: #E8F0FE;\n",
              "      border: none;\n",
              "      border-radius: 50%;\n",
              "      cursor: pointer;\n",
              "      display: none;\n",
              "      fill: #1967D2;\n",
              "      height: 32px;\n",
              "      padding: 0 0 0 0;\n",
              "      width: 32px;\n",
              "    }\n",
              "\n",
              "    .colab-df-convert:hover {\n",
              "      background-color: #E2EBFA;\n",
              "      box-shadow: 0px 1px 2px rgba(60, 64, 67, 0.3), 0px 1px 3px 1px rgba(60, 64, 67, 0.15);\n",
              "      fill: #174EA6;\n",
              "    }\n",
              "\n",
              "    .colab-df-buttons div {\n",
              "      margin-bottom: 4px;\n",
              "    }\n",
              "\n",
              "    [theme=dark] .colab-df-convert {\n",
              "      background-color: #3B4455;\n",
              "      fill: #D2E3FC;\n",
              "    }\n",
              "\n",
              "    [theme=dark] .colab-df-convert:hover {\n",
              "      background-color: #434B5C;\n",
              "      box-shadow: 0px 1px 3px 1px rgba(0, 0, 0, 0.15);\n",
              "      filter: drop-shadow(0px 1px 2px rgba(0, 0, 0, 0.3));\n",
              "      fill: #FFFFFF;\n",
              "    }\n",
              "  </style>\n",
              "\n",
              "    <script>\n",
              "      const buttonEl =\n",
              "        document.querySelector('#df-58bb8ce9-2246-4db8-9e38-8e8f54ef72bd button.colab-df-convert');\n",
              "      buttonEl.style.display =\n",
              "        google.colab.kernel.accessAllowed ? 'block' : 'none';\n",
              "\n",
              "      async function convertToInteractive(key) {\n",
              "        const element = document.querySelector('#df-58bb8ce9-2246-4db8-9e38-8e8f54ef72bd');\n",
              "        const dataTable =\n",
              "          await google.colab.kernel.invokeFunction('convertToInteractive',\n",
              "                                                    [key], {});\n",
              "        if (!dataTable) return;\n",
              "\n",
              "        const docLinkHtml = 'Like what you see? Visit the ' +\n",
              "          '<a target=\"_blank\" href=https://colab.research.google.com/notebooks/data_table.ipynb>data table notebook</a>'\n",
              "          + ' to learn more about interactive tables.';\n",
              "        element.innerHTML = '';\n",
              "        dataTable['output_type'] = 'display_data';\n",
              "        await google.colab.output.renderOutput(dataTable, element);\n",
              "        const docLink = document.createElement('div');\n",
              "        docLink.innerHTML = docLinkHtml;\n",
              "        element.appendChild(docLink);\n",
              "      }\n",
              "    </script>\n",
              "  </div>\n",
              "\n",
              "\n",
              "<div id=\"df-33d4c426-7e72-485d-a3a0-2ca564a8e84e\">\n",
              "  <button class=\"colab-df-quickchart\" onclick=\"quickchart('df-33d4c426-7e72-485d-a3a0-2ca564a8e84e')\"\n",
              "            title=\"Suggest charts.\"\n",
              "            style=\"display:none;\">\n",
              "\n",
              "<svg xmlns=\"http://www.w3.org/2000/svg\" height=\"24px\"viewBox=\"0 0 24 24\"\n",
              "     width=\"24px\">\n",
              "    <g>\n",
              "        <path d=\"M19 3H5c-1.1 0-2 .9-2 2v14c0 1.1.9 2 2 2h14c1.1 0 2-.9 2-2V5c0-1.1-.9-2-2-2zM9 17H7v-7h2v7zm4 0h-2V7h2v10zm4 0h-2v-4h2v4z\"/>\n",
              "    </g>\n",
              "</svg>\n",
              "  </button>\n",
              "\n",
              "<style>\n",
              "  .colab-df-quickchart {\n",
              "    background-color: #E8F0FE;\n",
              "    border: none;\n",
              "    border-radius: 50%;\n",
              "    cursor: pointer;\n",
              "    display: none;\n",
              "    fill: #1967D2;\n",
              "    height: 32px;\n",
              "    padding: 0 0 0 0;\n",
              "    width: 32px;\n",
              "  }\n",
              "\n",
              "  .colab-df-quickchart:hover {\n",
              "    background-color: #E2EBFA;\n",
              "    box-shadow: 0px 1px 2px rgba(60, 64, 67, 0.3), 0px 1px 3px 1px rgba(60, 64, 67, 0.15);\n",
              "    fill: #174EA6;\n",
              "  }\n",
              "\n",
              "  [theme=dark] .colab-df-quickchart {\n",
              "    background-color: #3B4455;\n",
              "    fill: #D2E3FC;\n",
              "  }\n",
              "\n",
              "  [theme=dark] .colab-df-quickchart:hover {\n",
              "    background-color: #434B5C;\n",
              "    box-shadow: 0px 1px 3px 1px rgba(0, 0, 0, 0.15);\n",
              "    filter: drop-shadow(0px 1px 2px rgba(0, 0, 0, 0.3));\n",
              "    fill: #FFFFFF;\n",
              "  }\n",
              "</style>\n",
              "\n",
              "  <script>\n",
              "    async function quickchart(key) {\n",
              "      const charts = await google.colab.kernel.invokeFunction(\n",
              "          'suggestCharts', [key], {});\n",
              "    }\n",
              "    (() => {\n",
              "      let quickchartButtonEl =\n",
              "        document.querySelector('#df-33d4c426-7e72-485d-a3a0-2ca564a8e84e button');\n",
              "      quickchartButtonEl.style.display =\n",
              "        google.colab.kernel.accessAllowed ? 'block' : 'none';\n",
              "    })();\n",
              "  </script>\n",
              "</div>\n",
              "    </div>\n",
              "  </div>\n"
            ]
          },
          "metadata": {},
          "execution_count": 79
        }
      ]
    },
    {
      "cell_type": "code",
      "source": [
        "new_df=full_dataset[['label']]\n",
        "full_dataset=full_dataset.drop(['label'],axis=1)"
      ],
      "metadata": {
        "id": "KyJJMOkHkQZW"
      },
      "execution_count": null,
      "outputs": []
    },
    {
      "cell_type": "code",
      "source": [
        "for column in full_dataset.columns:\n",
        "    full_dataset[column]=(full_dataset[column]-full_dataset[column].min())/(full_dataset[column].max()-full_dataset[column].min())"
      ],
      "metadata": {
        "id": "bLpHWa28kQWL"
      },
      "execution_count": null,
      "outputs": []
    },
    {
      "cell_type": "code",
      "source": [
        "full_dataset.info()"
      ],
      "metadata": {
        "colab": {
          "base_uri": "https://localhost:8080/"
        },
        "id": "W2u8bwHbkQTn",
        "outputId": "9fc25d23-acea-44de-edf8-ae5b5740a084"
      },
      "execution_count": null,
      "outputs": [
        {
          "output_type": "stream",
          "name": "stdout",
          "text": [
            "<class 'pandas.core.frame.DataFrame'>\n",
            "Int64Index: 148517 entries, 0 to 22543\n",
            "Columns: 111 entries, duration to flag_SH\n",
            "dtypes: float64(111)\n",
            "memory usage: 126.9 MB\n"
          ]
        }
      ]
    },
    {
      "cell_type": "code",
      "source": [
        "full_dataset.isna().sum().sum()"
      ],
      "metadata": {
        "colab": {
          "base_uri": "https://localhost:8080/"
        },
        "id": "w7HufAn4kQRT",
        "outputId": "7f92da48-bb74-40e3-c976-784bd9e5b5ac"
      },
      "execution_count": null,
      "outputs": [
        {
          "output_type": "execute_result",
          "data": {
            "text/plain": [
              "148517"
            ]
          },
          "metadata": {},
          "execution_count": 83
        }
      ]
    },
    {
      "cell_type": "code",
      "source": [
        "import numpy as np\n",
        "np.isinf(full_dataset).values.sum()"
      ],
      "metadata": {
        "colab": {
          "base_uri": "https://localhost:8080/"
        },
        "id": "78NZsNUbkQPb",
        "outputId": "9c4eb7bd-670d-4d94-8fbd-fa4974ec175a"
      },
      "execution_count": null,
      "outputs": [
        {
          "output_type": "execute_result",
          "data": {
            "text/plain": [
              "0"
            ]
          },
          "metadata": {},
          "execution_count": 84
        }
      ]
    },
    {
      "cell_type": "code",
      "source": [
        "full_dataset.shape"
      ],
      "metadata": {
        "colab": {
          "base_uri": "https://localhost:8080/"
        },
        "id": "VAUwOcqQlHMa",
        "outputId": "26aaf508-a22a-47e2-8723-16b4220c3f6a"
      },
      "execution_count": null,
      "outputs": [
        {
          "output_type": "execute_result",
          "data": {
            "text/plain": [
              "(148517, 111)"
            ]
          },
          "metadata": {},
          "execution_count": 85
        }
      ]
    },
    {
      "cell_type": "code",
      "source": [],
      "metadata": {
        "id": "LTNI1w-rlHI7"
      },
      "execution_count": null,
      "outputs": []
    },
    {
      "cell_type": "code",
      "source": [
        "from sklearn.model_selection import train_test_split\n",
        "from sklearn.feature_selection import VarianceThreshold"
      ],
      "metadata": {
        "id": "6KOYBrDDlHG_"
      },
      "execution_count": null,
      "outputs": []
    },
    {
      "cell_type": "code",
      "source": [
        "train_features, test_features, train_labels, test_labels=train_test_split( full_dataset,new_df,test_size=0.2,random_state=0)"
      ],
      "metadata": {
        "id": "t1KUG5sAlHE4"
      },
      "execution_count": null,
      "outputs": []
    },
    {
      "cell_type": "code",
      "source": [
        "constant_filter = VarianceThreshold(threshold=0)"
      ],
      "metadata": {
        "id": "64kkIwQblHCg"
      },
      "execution_count": null,
      "outputs": []
    },
    {
      "cell_type": "markdown",
      "source": [],
      "metadata": {
        "id": "GhVjH14S36DR"
      }
    },
    {
      "cell_type": "code",
      "source": [
        "constant_filter.fit(train_features)"
      ],
      "metadata": {
        "colab": {
          "base_uri": "https://localhost:8080/",
          "height": 144
        },
        "id": "u01NnmMXlHAL",
        "outputId": "951fa583-c6b2-490a-b30b-ac34f0e46396"
      },
      "execution_count": null,
      "outputs": [
        {
          "output_type": "stream",
          "name": "stderr",
          "text": [
            "/usr/local/lib/python3.10/dist-packages/sklearn/feature_selection/_variance_threshold.py:111: RuntimeWarning: Degrees of freedom <= 0 for slice.\n",
            "  self.variances_ = np.nanvar(X, axis=0)\n",
            "/usr/local/lib/python3.10/dist-packages/sklearn/feature_selection/_variance_threshold.py:119: RuntimeWarning: All-NaN slice encountered\n",
            "  self.variances_ = np.nanmin(compare_arr, axis=0)\n"
          ]
        },
        {
          "output_type": "execute_result",
          "data": {
            "text/plain": [
              "VarianceThreshold(threshold=0)"
            ],
            "text/html": [
              "<style>#sk-container-id-6 {color: black;background-color: white;}#sk-container-id-6 pre{padding: 0;}#sk-container-id-6 div.sk-toggleable {background-color: white;}#sk-container-id-6 label.sk-toggleable__label {cursor: pointer;display: block;width: 100%;margin-bottom: 0;padding: 0.3em;box-sizing: border-box;text-align: center;}#sk-container-id-6 label.sk-toggleable__label-arrow:before {content: \"▸\";float: left;margin-right: 0.25em;color: #696969;}#sk-container-id-6 label.sk-toggleable__label-arrow:hover:before {color: black;}#sk-container-id-6 div.sk-estimator:hover label.sk-toggleable__label-arrow:before {color: black;}#sk-container-id-6 div.sk-toggleable__content {max-height: 0;max-width: 0;overflow: hidden;text-align: left;background-color: #f0f8ff;}#sk-container-id-6 div.sk-toggleable__content pre {margin: 0.2em;color: black;border-radius: 0.25em;background-color: #f0f8ff;}#sk-container-id-6 input.sk-toggleable__control:checked~div.sk-toggleable__content {max-height: 200px;max-width: 100%;overflow: auto;}#sk-container-id-6 input.sk-toggleable__control:checked~label.sk-toggleable__label-arrow:before {content: \"▾\";}#sk-container-id-6 div.sk-estimator input.sk-toggleable__control:checked~label.sk-toggleable__label {background-color: #d4ebff;}#sk-container-id-6 div.sk-label input.sk-toggleable__control:checked~label.sk-toggleable__label {background-color: #d4ebff;}#sk-container-id-6 input.sk-hidden--visually {border: 0;clip: rect(1px 1px 1px 1px);clip: rect(1px, 1px, 1px, 1px);height: 1px;margin: -1px;overflow: hidden;padding: 0;position: absolute;width: 1px;}#sk-container-id-6 div.sk-estimator {font-family: monospace;background-color: #f0f8ff;border: 1px dotted black;border-radius: 0.25em;box-sizing: border-box;margin-bottom: 0.5em;}#sk-container-id-6 div.sk-estimator:hover {background-color: #d4ebff;}#sk-container-id-6 div.sk-parallel-item::after {content: \"\";width: 100%;border-bottom: 1px solid gray;flex-grow: 1;}#sk-container-id-6 div.sk-label:hover label.sk-toggleable__label {background-color: #d4ebff;}#sk-container-id-6 div.sk-serial::before {content: \"\";position: absolute;border-left: 1px solid gray;box-sizing: border-box;top: 0;bottom: 0;left: 50%;z-index: 0;}#sk-container-id-6 div.sk-serial {display: flex;flex-direction: column;align-items: center;background-color: white;padding-right: 0.2em;padding-left: 0.2em;position: relative;}#sk-container-id-6 div.sk-item {position: relative;z-index: 1;}#sk-container-id-6 div.sk-parallel {display: flex;align-items: stretch;justify-content: center;background-color: white;position: relative;}#sk-container-id-6 div.sk-item::before, #sk-container-id-6 div.sk-parallel-item::before {content: \"\";position: absolute;border-left: 1px solid gray;box-sizing: border-box;top: 0;bottom: 0;left: 50%;z-index: -1;}#sk-container-id-6 div.sk-parallel-item {display: flex;flex-direction: column;z-index: 1;position: relative;background-color: white;}#sk-container-id-6 div.sk-parallel-item:first-child::after {align-self: flex-end;width: 50%;}#sk-container-id-6 div.sk-parallel-item:last-child::after {align-self: flex-start;width: 50%;}#sk-container-id-6 div.sk-parallel-item:only-child::after {width: 0;}#sk-container-id-6 div.sk-dashed-wrapped {border: 1px dashed gray;margin: 0 0.4em 0.5em 0.4em;box-sizing: border-box;padding-bottom: 0.4em;background-color: white;}#sk-container-id-6 div.sk-label label {font-family: monospace;font-weight: bold;display: inline-block;line-height: 1.2em;}#sk-container-id-6 div.sk-label-container {text-align: center;}#sk-container-id-6 div.sk-container {/* jupyter's `normalize.less` sets `[hidden] { display: none; }` but bootstrap.min.css set `[hidden] { display: none !important; }` so we also need the `!important` here to be able to override the default hidden behavior on the sphinx rendered scikit-learn.org. See: https://github.com/scikit-learn/scikit-learn/issues/21755 */display: inline-block !important;position: relative;}#sk-container-id-6 div.sk-text-repr-fallback {display: none;}</style><div id=\"sk-container-id-6\" class=\"sk-top-container\"><div class=\"sk-text-repr-fallback\"><pre>VarianceThreshold(threshold=0)</pre><b>In a Jupyter environment, please rerun this cell to show the HTML representation or trust the notebook. <br />On GitHub, the HTML representation is unable to render, please try loading this page with nbviewer.org.</b></div><div class=\"sk-container\" hidden><div class=\"sk-item\"><div class=\"sk-estimator sk-toggleable\"><input class=\"sk-toggleable__control sk-hidden--visually\" id=\"sk-estimator-id-6\" type=\"checkbox\" checked><label for=\"sk-estimator-id-6\" class=\"sk-toggleable__label sk-toggleable__label-arrow\">VarianceThreshold</label><div class=\"sk-toggleable__content\"><pre>VarianceThreshold(threshold=0)</pre></div></div></div></div></div>"
            ]
          },
          "metadata": {},
          "execution_count": 89
        }
      ]
    },
    {
      "cell_type": "code",
      "source": [
        "len(train_features.columns[constant_filter.get_support()])"
      ],
      "metadata": {
        "colab": {
          "base_uri": "https://localhost:8080/"
        },
        "id": "UX5QD_RLlYik",
        "outputId": "282bb271-01c9-4f2a-dd37-c09a2696e3b6"
      },
      "execution_count": null,
      "outputs": [
        {
          "output_type": "execute_result",
          "data": {
            "text/plain": [
              "110"
            ]
          },
          "metadata": {},
          "execution_count": 90
        }
      ]
    },
    {
      "cell_type": "code",
      "source": [
        "\n",
        "constant_columns = [column for column in train_features.columns\n",
        "                    if column not in train_features.columns[constant_filter.get_support()]]\n",
        "\n",
        "print(len(constant_columns))"
      ],
      "metadata": {
        "colab": {
          "base_uri": "https://localhost:8080/"
        },
        "id": "ea4pPTn6lYfC",
        "outputId": "fca075ca-8d5f-4dd9-c9ab-77e5a1092f04"
      },
      "execution_count": null,
      "outputs": [
        {
          "output_type": "stream",
          "name": "stdout",
          "text": [
            "1\n"
          ]
        }
      ]
    },
    {
      "cell_type": "code",
      "source": [
        "\n",
        "for column in constant_columns:\n",
        "    print(column)"
      ],
      "metadata": {
        "colab": {
          "base_uri": "https://localhost:8080/"
        },
        "id": "JssJreZSlYbk",
        "outputId": "c8d2e0ce-c589-40e1-e4a6-a79f63b8cb2c"
      },
      "execution_count": null,
      "outputs": [
        {
          "output_type": "stream",
          "name": "stdout",
          "text": [
            "num_outbound_cmds\n"
          ]
        }
      ]
    },
    {
      "cell_type": "code",
      "source": [
        "full_dataset=full_dataset.drop('num_outbound_cmds',axis=1)\n"
      ],
      "metadata": {
        "id": "5hF20OVnB0yy"
      },
      "execution_count": null,
      "outputs": []
    },
    {
      "cell_type": "code",
      "source": [
        "train_features = constant_filter.transform(train_features)\n",
        "test_features = constant_filter.transform(test_features)\n",
        "\n",
        "train_features.shape, test_features.shape"
      ],
      "metadata": {
        "colab": {
          "base_uri": "https://localhost:8080/"
        },
        "id": "qJnfSkIFlYUB",
        "outputId": "94811914-878c-4178-f5d5-9cf1163ff7d5"
      },
      "execution_count": null,
      "outputs": [
        {
          "output_type": "execute_result",
          "data": {
            "text/plain": [
              "((118813, 110), (29704, 110))"
            ]
          },
          "metadata": {},
          "execution_count": 94
        }
      ]
    },
    {
      "cell_type": "code",
      "source": [
        "full_dataset.shape"
      ],
      "metadata": {
        "colab": {
          "base_uri": "https://localhost:8080/"
        },
        "id": "CZyuaQ2zlYRp",
        "outputId": "06327151-7524-4b1a-f429-e869ffac15a4"
      },
      "execution_count": null,
      "outputs": [
        {
          "output_type": "execute_result",
          "data": {
            "text/plain": [
              "(148517, 110)"
            ]
          },
          "metadata": {},
          "execution_count": 95
        }
      ]
    },
    {
      "cell_type": "code",
      "source": [
        "train_features, test_features, train_labels, test_labels=train_test_split(full_dataset, new_df,test_size=0.2,random_state=0)"
      ],
      "metadata": {
        "id": "pkB2OEiElYPT"
      },
      "execution_count": null,
      "outputs": []
    },
    {
      "cell_type": "code",
      "source": [
        "constant_filter = VarianceThreshold(threshold=0)\n",
        "constant_filter.fit(train_features)\n",
        "\n",
        "len(train_features.columns[constant_filter.get_support()])\n",
        "\n",
        "constant_columns = [column for column in train_features.columns\n",
        "                    if column not in train_features.columns[constant_filter.get_support()]]\n",
        "\n",
        "train_features.drop(labels=constant_columns, axis=1, inplace=True)\n",
        "test_features.drop(labels=constant_columns, axis=1, inplace=True)"
      ],
      "metadata": {
        "id": "scqu-h68mGuu"
      },
      "execution_count": null,
      "outputs": []
    },
    {
      "cell_type": "code",
      "source": [
        "qconstant_filter = VarianceThreshold(threshold=0.01)"
      ],
      "metadata": {
        "id": "utOUwQrrmGrV"
      },
      "execution_count": null,
      "outputs": []
    },
    {
      "cell_type": "code",
      "source": [
        "qconstant_filter.fit(train_features)"
      ],
      "metadata": {
        "colab": {
          "base_uri": "https://localhost:8080/",
          "height": 74
        },
        "id": "juBpOmIdmGo9",
        "outputId": "bc711f19-5345-4002-b67c-7dd0ddcfb2c1"
      },
      "execution_count": null,
      "outputs": [
        {
          "output_type": "execute_result",
          "data": {
            "text/plain": [
              "VarianceThreshold(threshold=0.01)"
            ],
            "text/html": [
              "<style>#sk-container-id-7 {color: black;background-color: white;}#sk-container-id-7 pre{padding: 0;}#sk-container-id-7 div.sk-toggleable {background-color: white;}#sk-container-id-7 label.sk-toggleable__label {cursor: pointer;display: block;width: 100%;margin-bottom: 0;padding: 0.3em;box-sizing: border-box;text-align: center;}#sk-container-id-7 label.sk-toggleable__label-arrow:before {content: \"▸\";float: left;margin-right: 0.25em;color: #696969;}#sk-container-id-7 label.sk-toggleable__label-arrow:hover:before {color: black;}#sk-container-id-7 div.sk-estimator:hover label.sk-toggleable__label-arrow:before {color: black;}#sk-container-id-7 div.sk-toggleable__content {max-height: 0;max-width: 0;overflow: hidden;text-align: left;background-color: #f0f8ff;}#sk-container-id-7 div.sk-toggleable__content pre {margin: 0.2em;color: black;border-radius: 0.25em;background-color: #f0f8ff;}#sk-container-id-7 input.sk-toggleable__control:checked~div.sk-toggleable__content {max-height: 200px;max-width: 100%;overflow: auto;}#sk-container-id-7 input.sk-toggleable__control:checked~label.sk-toggleable__label-arrow:before {content: \"▾\";}#sk-container-id-7 div.sk-estimator input.sk-toggleable__control:checked~label.sk-toggleable__label {background-color: #d4ebff;}#sk-container-id-7 div.sk-label input.sk-toggleable__control:checked~label.sk-toggleable__label {background-color: #d4ebff;}#sk-container-id-7 input.sk-hidden--visually {border: 0;clip: rect(1px 1px 1px 1px);clip: rect(1px, 1px, 1px, 1px);height: 1px;margin: -1px;overflow: hidden;padding: 0;position: absolute;width: 1px;}#sk-container-id-7 div.sk-estimator {font-family: monospace;background-color: #f0f8ff;border: 1px dotted black;border-radius: 0.25em;box-sizing: border-box;margin-bottom: 0.5em;}#sk-container-id-7 div.sk-estimator:hover {background-color: #d4ebff;}#sk-container-id-7 div.sk-parallel-item::after {content: \"\";width: 100%;border-bottom: 1px solid gray;flex-grow: 1;}#sk-container-id-7 div.sk-label:hover label.sk-toggleable__label {background-color: #d4ebff;}#sk-container-id-7 div.sk-serial::before {content: \"\";position: absolute;border-left: 1px solid gray;box-sizing: border-box;top: 0;bottom: 0;left: 50%;z-index: 0;}#sk-container-id-7 div.sk-serial {display: flex;flex-direction: column;align-items: center;background-color: white;padding-right: 0.2em;padding-left: 0.2em;position: relative;}#sk-container-id-7 div.sk-item {position: relative;z-index: 1;}#sk-container-id-7 div.sk-parallel {display: flex;align-items: stretch;justify-content: center;background-color: white;position: relative;}#sk-container-id-7 div.sk-item::before, #sk-container-id-7 div.sk-parallel-item::before {content: \"\";position: absolute;border-left: 1px solid gray;box-sizing: border-box;top: 0;bottom: 0;left: 50%;z-index: -1;}#sk-container-id-7 div.sk-parallel-item {display: flex;flex-direction: column;z-index: 1;position: relative;background-color: white;}#sk-container-id-7 div.sk-parallel-item:first-child::after {align-self: flex-end;width: 50%;}#sk-container-id-7 div.sk-parallel-item:last-child::after {align-self: flex-start;width: 50%;}#sk-container-id-7 div.sk-parallel-item:only-child::after {width: 0;}#sk-container-id-7 div.sk-dashed-wrapped {border: 1px dashed gray;margin: 0 0.4em 0.5em 0.4em;box-sizing: border-box;padding-bottom: 0.4em;background-color: white;}#sk-container-id-7 div.sk-label label {font-family: monospace;font-weight: bold;display: inline-block;line-height: 1.2em;}#sk-container-id-7 div.sk-label-container {text-align: center;}#sk-container-id-7 div.sk-container {/* jupyter's `normalize.less` sets `[hidden] { display: none; }` but bootstrap.min.css set `[hidden] { display: none !important; }` so we also need the `!important` here to be able to override the default hidden behavior on the sphinx rendered scikit-learn.org. See: https://github.com/scikit-learn/scikit-learn/issues/21755 */display: inline-block !important;position: relative;}#sk-container-id-7 div.sk-text-repr-fallback {display: none;}</style><div id=\"sk-container-id-7\" class=\"sk-top-container\"><div class=\"sk-text-repr-fallback\"><pre>VarianceThreshold(threshold=0.01)</pre><b>In a Jupyter environment, please rerun this cell to show the HTML representation or trust the notebook. <br />On GitHub, the HTML representation is unable to render, please try loading this page with nbviewer.org.</b></div><div class=\"sk-container\" hidden><div class=\"sk-item\"><div class=\"sk-estimator sk-toggleable\"><input class=\"sk-toggleable__control sk-hidden--visually\" id=\"sk-estimator-id-7\" type=\"checkbox\" checked><label for=\"sk-estimator-id-7\" class=\"sk-toggleable__label sk-toggleable__label-arrow\">VarianceThreshold</label><div class=\"sk-toggleable__content\"><pre>VarianceThreshold(threshold=0.01)</pre></div></div></div></div></div>"
            ]
          },
          "metadata": {},
          "execution_count": 99
        }
      ]
    },
    {
      "cell_type": "code",
      "source": [
        "len(train_features.columns[qconstant_filter.get_support()])"
      ],
      "metadata": {
        "colab": {
          "base_uri": "https://localhost:8080/"
        },
        "id": "JsFe79grmGnS",
        "outputId": "a5bcb221-3beb-4f98-e557-c76bfeb9085a"
      },
      "execution_count": null,
      "outputs": [
        {
          "output_type": "execute_result",
          "data": {
            "text/plain": [
              "38"
            ]
          },
          "metadata": {},
          "execution_count": 100
        }
      ]
    },
    {
      "cell_type": "code",
      "source": [
        "qconstant_columns = [column for column in train_features.columns\n",
        "                    if column not in train_features.columns[qconstant_filter.get_support()]]\n",
        "\n",
        "print(len(qconstant_columns))"
      ],
      "metadata": {
        "colab": {
          "base_uri": "https://localhost:8080/"
        },
        "id": "xk6fWj3-mGlx",
        "outputId": "0ea247c1-e4b8-4f46-f008-4c04e08872cf"
      },
      "execution_count": null,
      "outputs": [
        {
          "output_type": "stream",
          "name": "stdout",
          "text": [
            "72\n"
          ]
        }
      ]
    },
    {
      "cell_type": "code",
      "source": [
        "l=[]\n",
        "for column in qconstant_columns:\n",
        "    print(column)\n",
        "    l.append(column)\n",
        "print(l)"
      ],
      "metadata": {
        "colab": {
          "base_uri": "https://localhost:8080/"
        },
        "id": "SoXz_FwrmGjd",
        "outputId": "a34d21fc-4c7b-49a9-8f11-3249bf79a1cc"
      },
      "execution_count": null,
      "outputs": [
        {
          "output_type": "stream",
          "name": "stdout",
          "text": [
            "duration\n",
            "src_bytes\n",
            "dst_bytes\n",
            "land\n",
            "wrong_fragment\n",
            "hot\n",
            "num_failed_logins\n",
            "root_shell\n",
            "su_attempted\n",
            "num_root\n",
            "num_file_creations\n",
            "num_access_files\n",
            "is_host_login\n",
            "service_IRC\n",
            "service_X11\n",
            "service_Z39_50\n",
            "service_auth\n",
            "service_bgp\n",
            "service_courier\n",
            "service_csnet_ns\n",
            "service_ctf\n",
            "service_daytime\n",
            "service_discard\n",
            "service_domain\n",
            "service_echo\n",
            "service_efs\n",
            "service_exec\n",
            "service_gopher\n",
            "service_hostnames\n",
            "service_http_443\n",
            "service_imap4\n",
            "service_iso_tsap\n",
            "service_klogin\n",
            "service_kshell\n",
            "service_ldap\n",
            "service_link\n",
            "service_login\n",
            "service_mtp\n",
            "service_name\n",
            "service_netbios_dgm\n",
            "service_netbios_ns\n",
            "service_netbios_ssn\n",
            "service_netstat\n",
            "service_nnsp\n",
            "service_nntp\n",
            "service_ntp_u\n",
            "service_pm_dump\n",
            "service_pop_2\n",
            "service_pop_3\n",
            "service_printer\n",
            "service_red_i\n",
            "service_remote_job\n",
            "service_rje\n",
            "service_shell\n",
            "service_sql_net\n",
            "service_ssh\n",
            "service_sunrpc\n",
            "service_supdup\n",
            "service_systat\n",
            "service_time\n",
            "service_urh_i\n",
            "service_urp_i\n",
            "service_uucp\n",
            "service_uucp_path\n",
            "service_vmnet\n",
            "service_whois\n",
            "flag_OTH\n",
            "flag_RSTOS0\n",
            "flag_S1\n",
            "flag_S2\n",
            "flag_S3\n",
            "flag_SH\n",
            "['duration', 'src_bytes', 'dst_bytes', 'land', 'wrong_fragment', 'hot', 'num_failed_logins', 'root_shell', 'su_attempted', 'num_root', 'num_file_creations', 'num_access_files', 'is_host_login', 'service_IRC', 'service_X11', 'service_Z39_50', 'service_auth', 'service_bgp', 'service_courier', 'service_csnet_ns', 'service_ctf', 'service_daytime', 'service_discard', 'service_domain', 'service_echo', 'service_efs', 'service_exec', 'service_gopher', 'service_hostnames', 'service_http_443', 'service_imap4', 'service_iso_tsap', 'service_klogin', 'service_kshell', 'service_ldap', 'service_link', 'service_login', 'service_mtp', 'service_name', 'service_netbios_dgm', 'service_netbios_ns', 'service_netbios_ssn', 'service_netstat', 'service_nnsp', 'service_nntp', 'service_ntp_u', 'service_pm_dump', 'service_pop_2', 'service_pop_3', 'service_printer', 'service_red_i', 'service_remote_job', 'service_rje', 'service_shell', 'service_sql_net', 'service_ssh', 'service_sunrpc', 'service_supdup', 'service_systat', 'service_time', 'service_urh_i', 'service_urp_i', 'service_uucp', 'service_uucp_path', 'service_vmnet', 'service_whois', 'flag_OTH', 'flag_RSTOS0', 'flag_S1', 'flag_S2', 'flag_S3', 'flag_SH']\n"
          ]
        }
      ]
    },
    {
      "cell_type": "code",
      "source": [
        "full_dataset=full_dataset.drop(['duration', 'src_bytes', 'dst_bytes', 'land', 'wrong_fragment', 'hot', 'num_failed_logins', 'root_shell', 'su_attempted', 'num_root', 'num_file_creations', 'num_access_files', 'is_host_login', 'service_IRC', 'service_X11', 'service_Z39_50', 'service_auth', 'service_bgp', 'service_courier', 'service_csnet_ns', 'service_ctf', 'service_daytime', 'service_discard', 'service_domain', 'service_echo', 'service_efs', 'service_exec', 'service_gopher', 'service_hostnames', 'service_http_443', 'service_imap4', 'service_iso_tsap', 'service_klogin', 'service_kshell', 'service_ldap', 'service_link', 'service_login', 'service_mtp', 'service_name', 'service_netbios_dgm', 'service_netbios_ns', 'service_netbios_ssn', 'service_netstat', 'service_nnsp', 'service_nntp', 'service_ntp_u', 'service_pm_dump', 'service_pop_2', 'service_pop_3', 'service_printer', 'service_red_i', 'service_remote_job', 'service_rje', 'service_shell', 'service_sql_net', 'service_ssh', 'service_sunrpc', 'service_supdup', 'service_systat', 'service_time', 'service_urh_i', 'service_urp_i', 'service_uucp', 'service_uucp_path', 'service_vmnet', 'service_whois', 'flag_OTH', 'flag_RSTOS0', 'flag_S1', 'flag_S2', 'flag_S3', 'flag_SH']\n",
        ",axis=1)"
      ],
      "metadata": {
        "id": "M57qGvHUmGhR"
      },
      "execution_count": null,
      "outputs": []
    },
    {
      "cell_type": "code",
      "source": [
        "full_dataset.head()"
      ],
      "metadata": {
        "colab": {
          "base_uri": "https://localhost:8080/",
          "height": 255
        },
        "id": "FSbIkg95mGe3",
        "outputId": "ce75ee20-ff0d-49ac-94b2-16b765656d92"
      },
      "execution_count": null,
      "outputs": [
        {
          "output_type": "execute_result",
          "data": {
            "text/plain": [
              "   logged_in     count  srv_count  serror_rate  srv_serror_rate  rerror_rate  \\\n",
              "0        0.0  0.003914   0.003914          0.0              0.0          0.0   \n",
              "1        0.0  0.025440   0.001957          0.0              0.0          0.0   \n",
              "2        0.0  0.240705   0.011742          1.0              1.0          0.0   \n",
              "3        1.0  0.009785   0.009785          0.2              0.2          0.0   \n",
              "4        1.0  0.058708   0.062622          0.0              0.0          0.0   \n",
              "\n",
              "   srv_rerror_rate  same_srv_rate  diff_srv_rate  srv_diff_host_rate  ...  \\\n",
              "0              0.0           1.00           0.00                0.00  ...   \n",
              "1              0.0           0.08           0.15                0.00  ...   \n",
              "2              0.0           0.05           0.07                0.00  ...   \n",
              "3              0.0           1.00           0.00                0.00  ...   \n",
              "4              0.0           1.00           0.00                0.09  ...   \n",
              "\n",
              "   service_ftp_data  service_http  service_private  service_smtp  \\\n",
              "0               1.0           0.0              0.0           0.0   \n",
              "1               0.0           0.0              0.0           0.0   \n",
              "2               0.0           0.0              1.0           0.0   \n",
              "3               0.0           1.0              0.0           0.0   \n",
              "4               0.0           1.0              0.0           0.0   \n",
              "\n",
              "   service_telnet  flag_REJ  flag_RSTO  flag_RSTR  flag_S0  flag_SF  \n",
              "0             0.0       0.0        0.0        0.0      0.0      1.0  \n",
              "1             0.0       0.0        0.0        0.0      0.0      1.0  \n",
              "2             0.0       0.0        0.0        0.0      1.0      0.0  \n",
              "3             0.0       0.0        0.0        0.0      0.0      1.0  \n",
              "4             0.0       0.0        0.0        0.0      0.0      1.0  \n",
              "\n",
              "[5 rows x 38 columns]"
            ],
            "text/html": [
              "\n",
              "  <div id=\"df-1dfc3fb2-ac09-4642-ae1f-b7f0d6e1d9ab\" class=\"colab-df-container\">\n",
              "    <div>\n",
              "<style scoped>\n",
              "    .dataframe tbody tr th:only-of-type {\n",
              "        vertical-align: middle;\n",
              "    }\n",
              "\n",
              "    .dataframe tbody tr th {\n",
              "        vertical-align: top;\n",
              "    }\n",
              "\n",
              "    .dataframe thead th {\n",
              "        text-align: right;\n",
              "    }\n",
              "</style>\n",
              "<table border=\"1\" class=\"dataframe\">\n",
              "  <thead>\n",
              "    <tr style=\"text-align: right;\">\n",
              "      <th></th>\n",
              "      <th>logged_in</th>\n",
              "      <th>count</th>\n",
              "      <th>srv_count</th>\n",
              "      <th>serror_rate</th>\n",
              "      <th>srv_serror_rate</th>\n",
              "      <th>rerror_rate</th>\n",
              "      <th>srv_rerror_rate</th>\n",
              "      <th>same_srv_rate</th>\n",
              "      <th>diff_srv_rate</th>\n",
              "      <th>srv_diff_host_rate</th>\n",
              "      <th>...</th>\n",
              "      <th>service_ftp_data</th>\n",
              "      <th>service_http</th>\n",
              "      <th>service_private</th>\n",
              "      <th>service_smtp</th>\n",
              "      <th>service_telnet</th>\n",
              "      <th>flag_REJ</th>\n",
              "      <th>flag_RSTO</th>\n",
              "      <th>flag_RSTR</th>\n",
              "      <th>flag_S0</th>\n",
              "      <th>flag_SF</th>\n",
              "    </tr>\n",
              "  </thead>\n",
              "  <tbody>\n",
              "    <tr>\n",
              "      <th>0</th>\n",
              "      <td>0.0</td>\n",
              "      <td>0.003914</td>\n",
              "      <td>0.003914</td>\n",
              "      <td>0.0</td>\n",
              "      <td>0.0</td>\n",
              "      <td>0.0</td>\n",
              "      <td>0.0</td>\n",
              "      <td>1.00</td>\n",
              "      <td>0.00</td>\n",
              "      <td>0.00</td>\n",
              "      <td>...</td>\n",
              "      <td>1.0</td>\n",
              "      <td>0.0</td>\n",
              "      <td>0.0</td>\n",
              "      <td>0.0</td>\n",
              "      <td>0.0</td>\n",
              "      <td>0.0</td>\n",
              "      <td>0.0</td>\n",
              "      <td>0.0</td>\n",
              "      <td>0.0</td>\n",
              "      <td>1.0</td>\n",
              "    </tr>\n",
              "    <tr>\n",
              "      <th>1</th>\n",
              "      <td>0.0</td>\n",
              "      <td>0.025440</td>\n",
              "      <td>0.001957</td>\n",
              "      <td>0.0</td>\n",
              "      <td>0.0</td>\n",
              "      <td>0.0</td>\n",
              "      <td>0.0</td>\n",
              "      <td>0.08</td>\n",
              "      <td>0.15</td>\n",
              "      <td>0.00</td>\n",
              "      <td>...</td>\n",
              "      <td>0.0</td>\n",
              "      <td>0.0</td>\n",
              "      <td>0.0</td>\n",
              "      <td>0.0</td>\n",
              "      <td>0.0</td>\n",
              "      <td>0.0</td>\n",
              "      <td>0.0</td>\n",
              "      <td>0.0</td>\n",
              "      <td>0.0</td>\n",
              "      <td>1.0</td>\n",
              "    </tr>\n",
              "    <tr>\n",
              "      <th>2</th>\n",
              "      <td>0.0</td>\n",
              "      <td>0.240705</td>\n",
              "      <td>0.011742</td>\n",
              "      <td>1.0</td>\n",
              "      <td>1.0</td>\n",
              "      <td>0.0</td>\n",
              "      <td>0.0</td>\n",
              "      <td>0.05</td>\n",
              "      <td>0.07</td>\n",
              "      <td>0.00</td>\n",
              "      <td>...</td>\n",
              "      <td>0.0</td>\n",
              "      <td>0.0</td>\n",
              "      <td>1.0</td>\n",
              "      <td>0.0</td>\n",
              "      <td>0.0</td>\n",
              "      <td>0.0</td>\n",
              "      <td>0.0</td>\n",
              "      <td>0.0</td>\n",
              "      <td>1.0</td>\n",
              "      <td>0.0</td>\n",
              "    </tr>\n",
              "    <tr>\n",
              "      <th>3</th>\n",
              "      <td>1.0</td>\n",
              "      <td>0.009785</td>\n",
              "      <td>0.009785</td>\n",
              "      <td>0.2</td>\n",
              "      <td>0.2</td>\n",
              "      <td>0.0</td>\n",
              "      <td>0.0</td>\n",
              "      <td>1.00</td>\n",
              "      <td>0.00</td>\n",
              "      <td>0.00</td>\n",
              "      <td>...</td>\n",
              "      <td>0.0</td>\n",
              "      <td>1.0</td>\n",
              "      <td>0.0</td>\n",
              "      <td>0.0</td>\n",
              "      <td>0.0</td>\n",
              "      <td>0.0</td>\n",
              "      <td>0.0</td>\n",
              "      <td>0.0</td>\n",
              "      <td>0.0</td>\n",
              "      <td>1.0</td>\n",
              "    </tr>\n",
              "    <tr>\n",
              "      <th>4</th>\n",
              "      <td>1.0</td>\n",
              "      <td>0.058708</td>\n",
              "      <td>0.062622</td>\n",
              "      <td>0.0</td>\n",
              "      <td>0.0</td>\n",
              "      <td>0.0</td>\n",
              "      <td>0.0</td>\n",
              "      <td>1.00</td>\n",
              "      <td>0.00</td>\n",
              "      <td>0.09</td>\n",
              "      <td>...</td>\n",
              "      <td>0.0</td>\n",
              "      <td>1.0</td>\n",
              "      <td>0.0</td>\n",
              "      <td>0.0</td>\n",
              "      <td>0.0</td>\n",
              "      <td>0.0</td>\n",
              "      <td>0.0</td>\n",
              "      <td>0.0</td>\n",
              "      <td>0.0</td>\n",
              "      <td>1.0</td>\n",
              "    </tr>\n",
              "  </tbody>\n",
              "</table>\n",
              "<p>5 rows × 38 columns</p>\n",
              "</div>\n",
              "    <div class=\"colab-df-buttons\">\n",
              "\n",
              "  <div class=\"colab-df-container\">\n",
              "    <button class=\"colab-df-convert\" onclick=\"convertToInteractive('df-1dfc3fb2-ac09-4642-ae1f-b7f0d6e1d9ab')\"\n",
              "            title=\"Convert this dataframe to an interactive table.\"\n",
              "            style=\"display:none;\">\n",
              "\n",
              "  <svg xmlns=\"http://www.w3.org/2000/svg\" height=\"24px\" viewBox=\"0 -960 960 960\">\n",
              "    <path d=\"M120-120v-720h720v720H120Zm60-500h600v-160H180v160Zm220 220h160v-160H400v160Zm0 220h160v-160H400v160ZM180-400h160v-160H180v160Zm440 0h160v-160H620v160ZM180-180h160v-160H180v160Zm440 0h160v-160H620v160Z\"/>\n",
              "  </svg>\n",
              "    </button>\n",
              "\n",
              "  <style>\n",
              "    .colab-df-container {\n",
              "      display:flex;\n",
              "      gap: 12px;\n",
              "    }\n",
              "\n",
              "    .colab-df-convert {\n",
              "      background-color: #E8F0FE;\n",
              "      border: none;\n",
              "      border-radius: 50%;\n",
              "      cursor: pointer;\n",
              "      display: none;\n",
              "      fill: #1967D2;\n",
              "      height: 32px;\n",
              "      padding: 0 0 0 0;\n",
              "      width: 32px;\n",
              "    }\n",
              "\n",
              "    .colab-df-convert:hover {\n",
              "      background-color: #E2EBFA;\n",
              "      box-shadow: 0px 1px 2px rgba(60, 64, 67, 0.3), 0px 1px 3px 1px rgba(60, 64, 67, 0.15);\n",
              "      fill: #174EA6;\n",
              "    }\n",
              "\n",
              "    .colab-df-buttons div {\n",
              "      margin-bottom: 4px;\n",
              "    }\n",
              "\n",
              "    [theme=dark] .colab-df-convert {\n",
              "      background-color: #3B4455;\n",
              "      fill: #D2E3FC;\n",
              "    }\n",
              "\n",
              "    [theme=dark] .colab-df-convert:hover {\n",
              "      background-color: #434B5C;\n",
              "      box-shadow: 0px 1px 3px 1px rgba(0, 0, 0, 0.15);\n",
              "      filter: drop-shadow(0px 1px 2px rgba(0, 0, 0, 0.3));\n",
              "      fill: #FFFFFF;\n",
              "    }\n",
              "  </style>\n",
              "\n",
              "    <script>\n",
              "      const buttonEl =\n",
              "        document.querySelector('#df-1dfc3fb2-ac09-4642-ae1f-b7f0d6e1d9ab button.colab-df-convert');\n",
              "      buttonEl.style.display =\n",
              "        google.colab.kernel.accessAllowed ? 'block' : 'none';\n",
              "\n",
              "      async function convertToInteractive(key) {\n",
              "        const element = document.querySelector('#df-1dfc3fb2-ac09-4642-ae1f-b7f0d6e1d9ab');\n",
              "        const dataTable =\n",
              "          await google.colab.kernel.invokeFunction('convertToInteractive',\n",
              "                                                    [key], {});\n",
              "        if (!dataTable) return;\n",
              "\n",
              "        const docLinkHtml = 'Like what you see? Visit the ' +\n",
              "          '<a target=\"_blank\" href=https://colab.research.google.com/notebooks/data_table.ipynb>data table notebook</a>'\n",
              "          + ' to learn more about interactive tables.';\n",
              "        element.innerHTML = '';\n",
              "        dataTable['output_type'] = 'display_data';\n",
              "        await google.colab.output.renderOutput(dataTable, element);\n",
              "        const docLink = document.createElement('div');\n",
              "        docLink.innerHTML = docLinkHtml;\n",
              "        element.appendChild(docLink);\n",
              "      }\n",
              "    </script>\n",
              "  </div>\n",
              "\n",
              "\n",
              "<div id=\"df-b40b4d6a-3249-481c-a697-29c128db51bb\">\n",
              "  <button class=\"colab-df-quickchart\" onclick=\"quickchart('df-b40b4d6a-3249-481c-a697-29c128db51bb')\"\n",
              "            title=\"Suggest charts.\"\n",
              "            style=\"display:none;\">\n",
              "\n",
              "<svg xmlns=\"http://www.w3.org/2000/svg\" height=\"24px\"viewBox=\"0 0 24 24\"\n",
              "     width=\"24px\">\n",
              "    <g>\n",
              "        <path d=\"M19 3H5c-1.1 0-2 .9-2 2v14c0 1.1.9 2 2 2h14c1.1 0 2-.9 2-2V5c0-1.1-.9-2-2-2zM9 17H7v-7h2v7zm4 0h-2V7h2v10zm4 0h-2v-4h2v4z\"/>\n",
              "    </g>\n",
              "</svg>\n",
              "  </button>\n",
              "\n",
              "<style>\n",
              "  .colab-df-quickchart {\n",
              "    background-color: #E8F0FE;\n",
              "    border: none;\n",
              "    border-radius: 50%;\n",
              "    cursor: pointer;\n",
              "    display: none;\n",
              "    fill: #1967D2;\n",
              "    height: 32px;\n",
              "    padding: 0 0 0 0;\n",
              "    width: 32px;\n",
              "  }\n",
              "\n",
              "  .colab-df-quickchart:hover {\n",
              "    background-color: #E2EBFA;\n",
              "    box-shadow: 0px 1px 2px rgba(60, 64, 67, 0.3), 0px 1px 3px 1px rgba(60, 64, 67, 0.15);\n",
              "    fill: #174EA6;\n",
              "  }\n",
              "\n",
              "  [theme=dark] .colab-df-quickchart {\n",
              "    background-color: #3B4455;\n",
              "    fill: #D2E3FC;\n",
              "  }\n",
              "\n",
              "  [theme=dark] .colab-df-quickchart:hover {\n",
              "    background-color: #434B5C;\n",
              "    box-shadow: 0px 1px 3px 1px rgba(0, 0, 0, 0.15);\n",
              "    filter: drop-shadow(0px 1px 2px rgba(0, 0, 0, 0.3));\n",
              "    fill: #FFFFFF;\n",
              "  }\n",
              "</style>\n",
              "\n",
              "  <script>\n",
              "    async function quickchart(key) {\n",
              "      const charts = await google.colab.kernel.invokeFunction(\n",
              "          'suggestCharts', [key], {});\n",
              "    }\n",
              "    (() => {\n",
              "      let quickchartButtonEl =\n",
              "        document.querySelector('#df-b40b4d6a-3249-481c-a697-29c128db51bb button');\n",
              "      quickchartButtonEl.style.display =\n",
              "        google.colab.kernel.accessAllowed ? 'block' : 'none';\n",
              "    })();\n",
              "  </script>\n",
              "</div>\n",
              "    </div>\n",
              "  </div>\n"
            ]
          },
          "metadata": {},
          "execution_count": 104
        }
      ]
    },
    {
      "cell_type": "code",
      "execution_count": null,
      "metadata": {
        "colab": {
          "base_uri": "https://localhost:8080/"
        },
        "id": "lLytYMVXNso5",
        "outputId": "50415fb1-bd65-46dd-83fa-aa04b295ee92"
      },
      "outputs": [
        {
          "output_type": "execute_result",
          "data": {
            "text/plain": [
              "(148517, 38)"
            ]
          },
          "metadata": {},
          "execution_count": 105
        }
      ],
      "source": [
        "full_dataset.shape"
      ]
    },
    {
      "cell_type": "code",
      "execution_count": null,
      "metadata": {
        "colab": {
          "base_uri": "https://localhost:8080/",
          "height": 1000
        },
        "id": "cEYU9F37Nxcc",
        "outputId": "53f750bc-ebde-43d4-e481-383fc64b3d51"
      },
      "outputs": [
        {
          "output_type": "execute_result",
          "data": {
            "text/plain": [
              "                             logged_in     count  srv_count  serror_rate  \\\n",
              "logged_in                     1.000000 -0.530779  -0.199018    -0.466492   \n",
              "count                        -0.530779  1.000000   0.491522     0.410496   \n",
              "srv_count                    -0.199018  0.491522   1.000000    -0.135278   \n",
              "serror_rate                  -0.466492  0.410496  -0.135278     1.000000   \n",
              "srv_serror_rate              -0.464952  0.406663  -0.134568     0.991507   \n",
              "rerror_rate                  -0.294629  0.201805  -0.114488    -0.228066   \n",
              "srv_rerror_rate              -0.291349  0.202437  -0.114368    -0.225812   \n",
              "same_srv_rate                 0.590627 -0.616403   0.185365    -0.711250   \n",
              "diff_srv_rate                -0.221172  0.233640  -0.107297     0.029606   \n",
              "srv_diff_host_rate            0.122004 -0.256859  -0.079083    -0.204260   \n",
              "dst_host_count               -0.385985  0.446913   0.147698     0.357362   \n",
              "dst_host_srv_count            0.618150 -0.382076   0.208167    -0.526418   \n",
              "dst_host_same_srv_rate        0.598829 -0.458138   0.187863    -0.588120   \n",
              "dst_host_diff_srv_rate       -0.256912  0.198272  -0.108733    -0.008997   \n",
              "dst_host_same_src_port_rate  -0.177222 -0.081222   0.210928    -0.250435   \n",
              "dst_host_srv_diff_host_rate  -0.054807 -0.193474  -0.058154    -0.155198   \n",
              "dst_host_serror_rate         -0.465806  0.413582  -0.134651     0.974696   \n",
              "dst_host_srv_serr_rate       -0.468530  0.415757  -0.133972     0.976030   \n",
              "dst_host_rerror_rate         -0.290705  0.221779  -0.105679    -0.225519   \n",
              "dst_host_srv_rerror_rate     -0.294690  0.210394  -0.114467    -0.220708   \n",
              "protocol_icmp                -0.212675  0.101986   0.381280    -0.153882   \n",
              "protocol_tcp                  0.386658 -0.077976  -0.527989     0.277091   \n",
              "protocol_udp                 -0.301251  0.016394   0.343156    -0.214780   \n",
              "service_domain_u             -0.219914  0.056574   0.379157    -0.159268   \n",
              "service_eco_i                -0.150860 -0.129045  -0.017795    -0.109135   \n",
              "service_ecr_i                -0.133598  0.318331   0.613266    -0.096671   \n",
              "service_finger               -0.093564 -0.011228  -0.031522     0.092659   \n",
              "service_ftp                   0.082602 -0.036570  -0.043108    -0.025624   \n",
              "service_ftp_data              0.054582 -0.117463  -0.070698    -0.054608   \n",
              "service_http                  0.708419 -0.419460  -0.145172    -0.346850   \n",
              "service_private              -0.383627  0.224566  -0.063397     0.296237   \n",
              "service_smtp                  0.271212 -0.161013  -0.084655    -0.122051   \n",
              "service_telnet               -0.056342 -0.062504  -0.047739     0.064342   \n",
              "flag_REJ                     -0.276112  0.246352  -0.095570    -0.187637   \n",
              "flag_RSTO                    -0.073997  0.048772  -0.033729    -0.074517   \n",
              "flag_RSTR                    -0.052190 -0.080947  -0.041435    -0.085315   \n",
              "flag_S0                      -0.471858  0.419313  -0.128960     0.972713   \n",
              "flag_SF                       0.622415 -0.500416   0.199812    -0.723157   \n",
              "\n",
              "                             srv_serror_rate  rerror_rate  srv_rerror_rate  \\\n",
              "logged_in                          -0.464952    -0.294629        -0.291349   \n",
              "count                               0.406663     0.201805         0.202437   \n",
              "srv_count                          -0.134568    -0.114488        -0.114368   \n",
              "serror_rate                         0.991507    -0.228066        -0.225812   \n",
              "srv_serror_rate                     1.000000    -0.225690        -0.234656   \n",
              "rerror_rate                        -0.225690     1.000000         0.986095   \n",
              "srv_rerror_rate                    -0.234656     0.986095         1.000000   \n",
              "same_srv_rate                      -0.707222    -0.273243        -0.272596   \n",
              "diff_srv_rate                       0.026796     0.290202         0.292329   \n",
              "srv_diff_host_rate                 -0.206107    -0.053626        -0.052909   \n",
              "dst_host_count                      0.356156     0.109626         0.110753   \n",
              "dst_host_srv_count                 -0.523985    -0.284911        -0.283382   \n",
              "dst_host_same_srv_rate             -0.584992    -0.303167        -0.300871   \n",
              "dst_host_diff_srv_rate             -0.016561     0.343815         0.344905   \n",
              "dst_host_same_src_port_rate        -0.249799    -0.013035        -0.014179   \n",
              "dst_host_srv_diff_host_rate        -0.153771     0.006659         0.004978   \n",
              "dst_host_serror_rate                0.970802    -0.227806        -0.225965   \n",
              "dst_host_srv_serr_rate              0.981982    -0.224842        -0.232030   \n",
              "dst_host_rerror_rate               -0.225894     0.916889         0.906336   \n",
              "dst_host_srv_rerror_rate           -0.228290     0.957358         0.965606   \n",
              "protocol_icmp                      -0.152859    -0.105069        -0.104930   \n",
              "protocol_tcp                        0.277909     0.191040         0.190771   \n",
              "protocol_udp                       -0.216523    -0.148849        -0.148633   \n",
              "service_domain_u                   -0.158062    -0.108842        -0.108502   \n",
              "service_eco_i                      -0.108430    -0.074406        -0.074432   \n",
              "service_ecr_i                      -0.096023    -0.066122        -0.065915   \n",
              "service_finger                      0.093714    -0.022476        -0.024225   \n",
              "service_ftp                        -0.025200    -0.027672        -0.028364   \n",
              "service_ftp_data                   -0.054850    -0.079870        -0.079982   \n",
              "service_http                       -0.346088    -0.131304        -0.128827   \n",
              "service_private                     0.294312     0.204584         0.206133   \n",
              "service_smtp                       -0.122885    -0.087441        -0.089252   \n",
              "service_telnet                      0.064605    -0.001597        -0.008296   \n",
              "flag_REJ                           -0.196119     0.828608         0.837610   \n",
              "flag_RSTO                          -0.073026     0.311322         0.303242   \n",
              "flag_RSTR                          -0.084677     0.353551         0.355001   \n",
              "flag_S0                             0.976825    -0.221696        -0.228528   \n",
              "flag_SF                            -0.720526    -0.493603        -0.491585   \n",
              "\n",
              "                             same_srv_rate  diff_srv_rate  srv_diff_host_rate  \\\n",
              "logged_in                         0.590627      -0.221172            0.122004   \n",
              "count                            -0.616403       0.233640           -0.256859   \n",
              "srv_count                         0.185365      -0.107297           -0.079083   \n",
              "serror_rate                      -0.711250       0.029606           -0.204260   \n",
              "srv_serror_rate                  -0.707222       0.026796           -0.206107   \n",
              "rerror_rate                      -0.273243       0.290202           -0.053626   \n",
              "srv_rerror_rate                  -0.272596       0.292329           -0.052909   \n",
              "same_srv_rate                     1.000000      -0.387694            0.253639   \n",
              "diff_srv_rate                    -0.387694       1.000000           -0.043727   \n",
              "srv_diff_host_rate                0.253639      -0.043727            1.000000   \n",
              "dst_host_count                   -0.483826       0.177620           -0.341424   \n",
              "dst_host_srv_count                0.707817      -0.303988            0.130667   \n",
              "dst_host_same_srv_rate            0.791006      -0.336419            0.253943   \n",
              "dst_host_diff_srv_rate           -0.195607       0.519573           -0.111385   \n",
              "dst_host_same_src_port_rate       0.255172       0.001417            0.209895   \n",
              "dst_host_srv_diff_host_rate       0.202728      -0.080257            0.348243   \n",
              "dst_host_serror_rate             -0.714346       0.029256           -0.206589   \n",
              "dst_host_srv_serr_rate           -0.718160       0.029042           -0.207850   \n",
              "dst_host_rerror_rate             -0.281472       0.250602           -0.064872   \n",
              "dst_host_srv_rerror_rate         -0.282400       0.300265           -0.058096   \n",
              "protocol_icmp                     0.162477      -0.028731            0.302029   \n",
              "protocol_tcp                     -0.248181       0.002273           -0.146055   \n",
              "protocol_udp                      0.173868       0.018856           -0.052615   \n",
              "service_domain_u                  0.192781      -0.071250            0.009472   \n",
              "service_eco_i                     0.124907      -0.035289            0.461717   \n",
              "service_ecr_i                     0.121766      -0.056614           -0.047062   \n",
              "service_finger                   -0.050629       0.023515           -0.032574   \n",
              "service_ftp                       0.031645      -0.015998           -0.045028   \n",
              "service_ftp_data                  0.094306      -0.029190           -0.061066   \n",
              "service_http                      0.485425      -0.226026            0.037737   \n",
              "service_private                  -0.425375       0.144792           -0.175920   \n",
              "service_smtp                      0.156555      -0.033288            0.272725   \n",
              "service_telnet                    0.016010       0.004149           -0.023804   \n",
              "flag_REJ                         -0.301789       0.308314           -0.045552   \n",
              "flag_RSTO                        -0.114067       0.068135            0.018937   \n",
              "flag_RSTR                         0.088856      -0.017928           -0.050969   \n",
              "flag_S0                          -0.719395       0.028054           -0.201454   \n",
              "flag_SF                           0.815437      -0.227039            0.218607   \n",
              "\n",
              "                             ...  service_ftp_data  service_http  \\\n",
              "logged_in                    ...          0.054582      0.708419   \n",
              "count                        ...         -0.117463     -0.419460   \n",
              "srv_count                    ...         -0.070698     -0.145172   \n",
              "serror_rate                  ...         -0.054608     -0.346850   \n",
              "srv_serror_rate              ...         -0.054850     -0.346088   \n",
              "rerror_rate                  ...         -0.079870     -0.131304   \n",
              "srv_rerror_rate              ...         -0.079982     -0.128827   \n",
              "same_srv_rate                ...          0.094306      0.485425   \n",
              "diff_srv_rate                ...         -0.029190     -0.226026   \n",
              "srv_diff_host_rate           ...         -0.061066      0.037737   \n",
              "dst_host_count               ...         -0.107936     -0.349843   \n",
              "dst_host_srv_count           ...         -0.143291      0.723783   \n",
              "dst_host_same_srv_rate       ...         -0.073394      0.674609   \n",
              "dst_host_diff_srv_rate       ...         -0.010386     -0.288062   \n",
              "dst_host_same_src_port_rate  ...          0.170102     -0.185458   \n",
              "dst_host_srv_diff_host_rate  ...          0.011167     -0.024369   \n",
              "dst_host_serror_rate         ...         -0.039767     -0.366213   \n",
              "dst_host_srv_serr_rate       ...         -0.052870     -0.362003   \n",
              "dst_host_rerror_rate         ...         -0.072236     -0.145330   \n",
              "dst_host_srv_rerror_rate     ...         -0.081736     -0.137848   \n",
              "protocol_icmp                ...         -0.060602     -0.179480   \n",
              "protocol_tcp                 ...          0.110178      0.326308   \n",
              "protocol_udp                 ...         -0.085842     -0.254232   \n",
              "service_domain_u             ...         -0.062665     -0.185590   \n",
              "service_eco_i                ...         -0.042988     -0.127314   \n",
              "service_ecr_i                ...         -0.038069     -0.112746   \n",
              "service_finger               ...         -0.026661     -0.078960   \n",
              "service_ftp                  ...         -0.030282     -0.089686   \n",
              "service_ftp_data             ...          1.000000     -0.162189   \n",
              "service_http                 ...         -0.162189      1.000000   \n",
              "service_private              ...         -0.109376     -0.323932   \n",
              "service_smtp                 ...         -0.056743     -0.168051   \n",
              "service_telnet               ...         -0.038828     -0.114993   \n",
              "flag_REJ                     ...         -0.063307     -0.095706   \n",
              "flag_RSTO                    ...         -0.029576     -0.078114   \n",
              "flag_RSTR                    ...         -0.032198     -0.037245   \n",
              "flag_S0                      ...         -0.053041     -0.343105   \n",
              "flag_SF                      ...          0.103264      0.396597   \n",
              "\n",
              "                             service_private  service_smtp  service_telnet  \\\n",
              "logged_in                          -0.383627      0.271212       -0.056342   \n",
              "count                               0.224566     -0.161013       -0.062504   \n",
              "srv_count                          -0.063397     -0.084655       -0.047739   \n",
              "serror_rate                         0.296237     -0.122051        0.064342   \n",
              "srv_serror_rate                     0.294312     -0.122885        0.064605   \n",
              "rerror_rate                         0.204584     -0.087441       -0.001597   \n",
              "srv_rerror_rate                     0.206133     -0.089252       -0.008296   \n",
              "same_srv_rate                      -0.425375      0.156555        0.016010   \n",
              "diff_srv_rate                       0.144792     -0.033288        0.004149   \n",
              "srv_diff_host_rate                 -0.175920      0.272725       -0.023804   \n",
              "dst_host_count                      0.250677     -0.107660        0.030708   \n",
              "dst_host_srv_count                 -0.378064      0.017882       -0.080107   \n",
              "dst_host_same_srv_rate             -0.414814      0.033593       -0.075733   \n",
              "dst_host_diff_srv_rate              0.226290     -0.004394        0.005251   \n",
              "dst_host_same_src_port_rate        -0.014118     -0.093716       -0.059330   \n",
              "dst_host_srv_diff_host_rate        -0.094125     -0.045568        0.016981   \n",
              "dst_host_serror_rate                0.296207     -0.110483        0.071439   \n",
              "dst_host_srv_serr_rate              0.300656     -0.126880        0.078171   \n",
              "dst_host_rerror_rate                0.202999     -0.065794        0.002470   \n",
              "dst_host_srv_rerror_rate            0.213147     -0.092668       -0.006667   \n",
              "protocol_icmp                      -0.121037     -0.062792       -0.042967   \n",
              "protocol_tcp                       -0.000119      0.114161        0.078117   \n",
              "protocol_udp                        0.090995     -0.088945       -0.060863   \n",
              "service_domain_u                   -0.125157     -0.064930       -0.044430   \n",
              "service_eco_i                      -0.085857     -0.044542       -0.030479   \n",
              "service_ecr_i                      -0.076033     -0.039445       -0.026991   \n",
              "service_finger                     -0.053249     -0.027625       -0.018903   \n",
              "service_ftp                        -0.060482     -0.031377       -0.021471   \n",
              "service_ftp_data                   -0.109376     -0.056743       -0.038828   \n",
              "service_http                       -0.323932     -0.168051       -0.114993   \n",
              "service_private                     1.000000     -0.113329       -0.077548   \n",
              "service_smtp                       -0.113329      1.000000       -0.040231   \n",
              "service_telnet                     -0.077548     -0.040231        1.000000   \n",
              "flag_REJ                            0.195532     -0.080257       -0.043774   \n",
              "flag_RSTO                          -0.042703     -0.009846        0.101715   \n",
              "flag_RSTR                           0.113756     -0.034109       -0.014837   \n",
              "flag_S0                             0.289106     -0.120472        0.036909   \n",
              "flag_SF                            -0.404361      0.168591       -0.052234   \n",
              "\n",
              "                             flag_REJ  flag_RSTO  flag_RSTR   flag_S0  \\\n",
              "logged_in                   -0.276112  -0.073997  -0.052190 -0.471858   \n",
              "count                        0.246352   0.048772  -0.080947  0.419313   \n",
              "srv_count                   -0.095570  -0.033729  -0.041435 -0.128960   \n",
              "serror_rate                 -0.187637  -0.074517  -0.085315  0.972713   \n",
              "srv_serror_rate             -0.196119  -0.073026  -0.084677  0.976825   \n",
              "rerror_rate                  0.828608   0.311322   0.353551 -0.221696   \n",
              "srv_rerror_rate              0.837610   0.303242   0.355001 -0.228528   \n",
              "same_srv_rate               -0.301789  -0.114067   0.088856 -0.719395   \n",
              "diff_srv_rate                0.308314   0.068135  -0.017928  0.028054   \n",
              "srv_diff_host_rate          -0.045552   0.018937  -0.050969 -0.201454   \n",
              "dst_host_count               0.069056   0.052051   0.064974  0.360091   \n",
              "dst_host_srv_count          -0.235163  -0.102444  -0.089439 -0.521208   \n",
              "dst_host_same_srv_rate      -0.246295  -0.110164  -0.101045 -0.581999   \n",
              "dst_host_diff_srv_rate       0.265238   0.004247   0.259395 -0.042764   \n",
              "dst_host_same_src_port_rate -0.090286  -0.046509   0.198608 -0.261102   \n",
              "dst_host_srv_diff_host_rate  0.034897  -0.018141  -0.039489 -0.151459   \n",
              "dst_host_serror_rate        -0.187755  -0.073134  -0.084333  0.969597   \n",
              "dst_host_srv_serr_rate      -0.195471  -0.072299  -0.083496  0.975523   \n",
              "dst_host_rerror_rate         0.809469   0.278103   0.228543 -0.225256   \n",
              "dst_host_srv_rerror_rate     0.836442   0.284020   0.304128 -0.224835   \n",
              "protocol_icmp               -0.087067  -0.032729  -0.037748 -0.148801   \n",
              "protocol_tcp                 0.158293   0.059504   0.068629  0.270532   \n",
              "protocol_udp                -0.123329  -0.046361  -0.053470 -0.210776   \n",
              "service_domain_u            -0.090030  -0.033843  -0.039033 -0.153866   \n",
              "service_eco_i               -0.061760  -0.023216  -0.026777 -0.105552   \n",
              "service_ecr_i               -0.054694  -0.020560  -0.023713 -0.093474   \n",
              "service_finger              -0.038304   0.040946  -0.013671  0.095579   \n",
              "service_ftp                 -0.043332   0.045736  -0.016268 -0.025000   \n",
              "service_ftp_data            -0.063307  -0.029576  -0.032198 -0.053041   \n",
              "service_http                -0.095706  -0.078114  -0.037245 -0.343105   \n",
              "service_private              0.195532  -0.042703   0.113756  0.289106   \n",
              "service_smtp                -0.080257  -0.009846  -0.034109 -0.120472   \n",
              "service_telnet              -0.043774   0.101715  -0.014837  0.036909   \n",
              "flag_REJ                     1.000000  -0.042492  -0.049008 -0.193186   \n",
              "flag_RSTO                   -0.042492   1.000000  -0.018423 -0.072621   \n",
              "flag_RSTR                   -0.049008  -0.018423   1.000000 -0.083757   \n",
              "flag_S0                     -0.193186  -0.072621  -0.083757  1.000000   \n",
              "flag_SF                     -0.415900  -0.156342  -0.180316 -0.710795   \n",
              "\n",
              "                              flag_SF  \n",
              "logged_in                    0.622415  \n",
              "count                       -0.500416  \n",
              "srv_count                    0.199812  \n",
              "serror_rate                 -0.723157  \n",
              "srv_serror_rate             -0.720526  \n",
              "rerror_rate                 -0.493603  \n",
              "srv_rerror_rate             -0.491585  \n",
              "same_srv_rate                0.815437  \n",
              "diff_srv_rate               -0.227039  \n",
              "srv_diff_host_rate           0.218607  \n",
              "dst_host_count              -0.388076  \n",
              "dst_host_srv_count           0.662913  \n",
              "dst_host_same_srv_rate       0.729454  \n",
              "dst_host_diff_srv_rate      -0.228249  \n",
              "dst_host_same_src_port_rate  0.228140  \n",
              "dst_host_srv_diff_host_rate  0.131313  \n",
              "dst_host_serror_rate        -0.702174  \n",
              "dst_host_srv_serr_rate      -0.706687  \n",
              "dst_host_rerror_rate        -0.437411  \n",
              "dst_host_srv_rerror_rate    -0.475322  \n",
              "protocol_icmp                0.209345  \n",
              "protocol_tcp                -0.380604  \n",
              "protocol_udp                 0.296535  \n",
              "service_domain_u             0.216471  \n",
              "service_eco_i                0.148498  \n",
              "service_ecr_i                0.131507  \n",
              "service_finger              -0.066113  \n",
              "service_ftp                  0.042279  \n",
              "service_ftp_data             0.103264  \n",
              "service_http                 0.396597  \n",
              "service_private             -0.404361  \n",
              "service_smtp                 0.168591  \n",
              "service_telnet              -0.052234  \n",
              "flag_REJ                    -0.415900  \n",
              "flag_RSTO                   -0.156342  \n",
              "flag_RSTR                   -0.180316  \n",
              "flag_S0                     -0.710795  \n",
              "flag_SF                      1.000000  \n",
              "\n",
              "[38 rows x 38 columns]"
            ],
            "text/html": [
              "\n",
              "  <div id=\"df-a72f60b3-2ba6-48ab-af35-f3723f2cb0a5\" class=\"colab-df-container\">\n",
              "    <div>\n",
              "<style scoped>\n",
              "    .dataframe tbody tr th:only-of-type {\n",
              "        vertical-align: middle;\n",
              "    }\n",
              "\n",
              "    .dataframe tbody tr th {\n",
              "        vertical-align: top;\n",
              "    }\n",
              "\n",
              "    .dataframe thead th {\n",
              "        text-align: right;\n",
              "    }\n",
              "</style>\n",
              "<table border=\"1\" class=\"dataframe\">\n",
              "  <thead>\n",
              "    <tr style=\"text-align: right;\">\n",
              "      <th></th>\n",
              "      <th>logged_in</th>\n",
              "      <th>count</th>\n",
              "      <th>srv_count</th>\n",
              "      <th>serror_rate</th>\n",
              "      <th>srv_serror_rate</th>\n",
              "      <th>rerror_rate</th>\n",
              "      <th>srv_rerror_rate</th>\n",
              "      <th>same_srv_rate</th>\n",
              "      <th>diff_srv_rate</th>\n",
              "      <th>srv_diff_host_rate</th>\n",
              "      <th>...</th>\n",
              "      <th>service_ftp_data</th>\n",
              "      <th>service_http</th>\n",
              "      <th>service_private</th>\n",
              "      <th>service_smtp</th>\n",
              "      <th>service_telnet</th>\n",
              "      <th>flag_REJ</th>\n",
              "      <th>flag_RSTO</th>\n",
              "      <th>flag_RSTR</th>\n",
              "      <th>flag_S0</th>\n",
              "      <th>flag_SF</th>\n",
              "    </tr>\n",
              "  </thead>\n",
              "  <tbody>\n",
              "    <tr>\n",
              "      <th>logged_in</th>\n",
              "      <td>1.000000</td>\n",
              "      <td>-0.530779</td>\n",
              "      <td>-0.199018</td>\n",
              "      <td>-0.466492</td>\n",
              "      <td>-0.464952</td>\n",
              "      <td>-0.294629</td>\n",
              "      <td>-0.291349</td>\n",
              "      <td>0.590627</td>\n",
              "      <td>-0.221172</td>\n",
              "      <td>0.122004</td>\n",
              "      <td>...</td>\n",
              "      <td>0.054582</td>\n",
              "      <td>0.708419</td>\n",
              "      <td>-0.383627</td>\n",
              "      <td>0.271212</td>\n",
              "      <td>-0.056342</td>\n",
              "      <td>-0.276112</td>\n",
              "      <td>-0.073997</td>\n",
              "      <td>-0.052190</td>\n",
              "      <td>-0.471858</td>\n",
              "      <td>0.622415</td>\n",
              "    </tr>\n",
              "    <tr>\n",
              "      <th>count</th>\n",
              "      <td>-0.530779</td>\n",
              "      <td>1.000000</td>\n",
              "      <td>0.491522</td>\n",
              "      <td>0.410496</td>\n",
              "      <td>0.406663</td>\n",
              "      <td>0.201805</td>\n",
              "      <td>0.202437</td>\n",
              "      <td>-0.616403</td>\n",
              "      <td>0.233640</td>\n",
              "      <td>-0.256859</td>\n",
              "      <td>...</td>\n",
              "      <td>-0.117463</td>\n",
              "      <td>-0.419460</td>\n",
              "      <td>0.224566</td>\n",
              "      <td>-0.161013</td>\n",
              "      <td>-0.062504</td>\n",
              "      <td>0.246352</td>\n",
              "      <td>0.048772</td>\n",
              "      <td>-0.080947</td>\n",
              "      <td>0.419313</td>\n",
              "      <td>-0.500416</td>\n",
              "    </tr>\n",
              "    <tr>\n",
              "      <th>srv_count</th>\n",
              "      <td>-0.199018</td>\n",
              "      <td>0.491522</td>\n",
              "      <td>1.000000</td>\n",
              "      <td>-0.135278</td>\n",
              "      <td>-0.134568</td>\n",
              "      <td>-0.114488</td>\n",
              "      <td>-0.114368</td>\n",
              "      <td>0.185365</td>\n",
              "      <td>-0.107297</td>\n",
              "      <td>-0.079083</td>\n",
              "      <td>...</td>\n",
              "      <td>-0.070698</td>\n",
              "      <td>-0.145172</td>\n",
              "      <td>-0.063397</td>\n",
              "      <td>-0.084655</td>\n",
              "      <td>-0.047739</td>\n",
              "      <td>-0.095570</td>\n",
              "      <td>-0.033729</td>\n",
              "      <td>-0.041435</td>\n",
              "      <td>-0.128960</td>\n",
              "      <td>0.199812</td>\n",
              "    </tr>\n",
              "    <tr>\n",
              "      <th>serror_rate</th>\n",
              "      <td>-0.466492</td>\n",
              "      <td>0.410496</td>\n",
              "      <td>-0.135278</td>\n",
              "      <td>1.000000</td>\n",
              "      <td>0.991507</td>\n",
              "      <td>-0.228066</td>\n",
              "      <td>-0.225812</td>\n",
              "      <td>-0.711250</td>\n",
              "      <td>0.029606</td>\n",
              "      <td>-0.204260</td>\n",
              "      <td>...</td>\n",
              "      <td>-0.054608</td>\n",
              "      <td>-0.346850</td>\n",
              "      <td>0.296237</td>\n",
              "      <td>-0.122051</td>\n",
              "      <td>0.064342</td>\n",
              "      <td>-0.187637</td>\n",
              "      <td>-0.074517</td>\n",
              "      <td>-0.085315</td>\n",
              "      <td>0.972713</td>\n",
              "      <td>-0.723157</td>\n",
              "    </tr>\n",
              "    <tr>\n",
              "      <th>srv_serror_rate</th>\n",
              "      <td>-0.464952</td>\n",
              "      <td>0.406663</td>\n",
              "      <td>-0.134568</td>\n",
              "      <td>0.991507</td>\n",
              "      <td>1.000000</td>\n",
              "      <td>-0.225690</td>\n",
              "      <td>-0.234656</td>\n",
              "      <td>-0.707222</td>\n",
              "      <td>0.026796</td>\n",
              "      <td>-0.206107</td>\n",
              "      <td>...</td>\n",
              "      <td>-0.054850</td>\n",
              "      <td>-0.346088</td>\n",
              "      <td>0.294312</td>\n",
              "      <td>-0.122885</td>\n",
              "      <td>0.064605</td>\n",
              "      <td>-0.196119</td>\n",
              "      <td>-0.073026</td>\n",
              "      <td>-0.084677</td>\n",
              "      <td>0.976825</td>\n",
              "      <td>-0.720526</td>\n",
              "    </tr>\n",
              "    <tr>\n",
              "      <th>rerror_rate</th>\n",
              "      <td>-0.294629</td>\n",
              "      <td>0.201805</td>\n",
              "      <td>-0.114488</td>\n",
              "      <td>-0.228066</td>\n",
              "      <td>-0.225690</td>\n",
              "      <td>1.000000</td>\n",
              "      <td>0.986095</td>\n",
              "      <td>-0.273243</td>\n",
              "      <td>0.290202</td>\n",
              "      <td>-0.053626</td>\n",
              "      <td>...</td>\n",
              "      <td>-0.079870</td>\n",
              "      <td>-0.131304</td>\n",
              "      <td>0.204584</td>\n",
              "      <td>-0.087441</td>\n",
              "      <td>-0.001597</td>\n",
              "      <td>0.828608</td>\n",
              "      <td>0.311322</td>\n",
              "      <td>0.353551</td>\n",
              "      <td>-0.221696</td>\n",
              "      <td>-0.493603</td>\n",
              "    </tr>\n",
              "    <tr>\n",
              "      <th>srv_rerror_rate</th>\n",
              "      <td>-0.291349</td>\n",
              "      <td>0.202437</td>\n",
              "      <td>-0.114368</td>\n",
              "      <td>-0.225812</td>\n",
              "      <td>-0.234656</td>\n",
              "      <td>0.986095</td>\n",
              "      <td>1.000000</td>\n",
              "      <td>-0.272596</td>\n",
              "      <td>0.292329</td>\n",
              "      <td>-0.052909</td>\n",
              "      <td>...</td>\n",
              "      <td>-0.079982</td>\n",
              "      <td>-0.128827</td>\n",
              "      <td>0.206133</td>\n",
              "      <td>-0.089252</td>\n",
              "      <td>-0.008296</td>\n",
              "      <td>0.837610</td>\n",
              "      <td>0.303242</td>\n",
              "      <td>0.355001</td>\n",
              "      <td>-0.228528</td>\n",
              "      <td>-0.491585</td>\n",
              "    </tr>\n",
              "    <tr>\n",
              "      <th>same_srv_rate</th>\n",
              "      <td>0.590627</td>\n",
              "      <td>-0.616403</td>\n",
              "      <td>0.185365</td>\n",
              "      <td>-0.711250</td>\n",
              "      <td>-0.707222</td>\n",
              "      <td>-0.273243</td>\n",
              "      <td>-0.272596</td>\n",
              "      <td>1.000000</td>\n",
              "      <td>-0.387694</td>\n",
              "      <td>0.253639</td>\n",
              "      <td>...</td>\n",
              "      <td>0.094306</td>\n",
              "      <td>0.485425</td>\n",
              "      <td>-0.425375</td>\n",
              "      <td>0.156555</td>\n",
              "      <td>0.016010</td>\n",
              "      <td>-0.301789</td>\n",
              "      <td>-0.114067</td>\n",
              "      <td>0.088856</td>\n",
              "      <td>-0.719395</td>\n",
              "      <td>0.815437</td>\n",
              "    </tr>\n",
              "    <tr>\n",
              "      <th>diff_srv_rate</th>\n",
              "      <td>-0.221172</td>\n",
              "      <td>0.233640</td>\n",
              "      <td>-0.107297</td>\n",
              "      <td>0.029606</td>\n",
              "      <td>0.026796</td>\n",
              "      <td>0.290202</td>\n",
              "      <td>0.292329</td>\n",
              "      <td>-0.387694</td>\n",
              "      <td>1.000000</td>\n",
              "      <td>-0.043727</td>\n",
              "      <td>...</td>\n",
              "      <td>-0.029190</td>\n",
              "      <td>-0.226026</td>\n",
              "      <td>0.144792</td>\n",
              "      <td>-0.033288</td>\n",
              "      <td>0.004149</td>\n",
              "      <td>0.308314</td>\n",
              "      <td>0.068135</td>\n",
              "      <td>-0.017928</td>\n",
              "      <td>0.028054</td>\n",
              "      <td>-0.227039</td>\n",
              "    </tr>\n",
              "    <tr>\n",
              "      <th>srv_diff_host_rate</th>\n",
              "      <td>0.122004</td>\n",
              "      <td>-0.256859</td>\n",
              "      <td>-0.079083</td>\n",
              "      <td>-0.204260</td>\n",
              "      <td>-0.206107</td>\n",
              "      <td>-0.053626</td>\n",
              "      <td>-0.052909</td>\n",
              "      <td>0.253639</td>\n",
              "      <td>-0.043727</td>\n",
              "      <td>1.000000</td>\n",
              "      <td>...</td>\n",
              "      <td>-0.061066</td>\n",
              "      <td>0.037737</td>\n",
              "      <td>-0.175920</td>\n",
              "      <td>0.272725</td>\n",
              "      <td>-0.023804</td>\n",
              "      <td>-0.045552</td>\n",
              "      <td>0.018937</td>\n",
              "      <td>-0.050969</td>\n",
              "      <td>-0.201454</td>\n",
              "      <td>0.218607</td>\n",
              "    </tr>\n",
              "    <tr>\n",
              "      <th>dst_host_count</th>\n",
              "      <td>-0.385985</td>\n",
              "      <td>0.446913</td>\n",
              "      <td>0.147698</td>\n",
              "      <td>0.357362</td>\n",
              "      <td>0.356156</td>\n",
              "      <td>0.109626</td>\n",
              "      <td>0.110753</td>\n",
              "      <td>-0.483826</td>\n",
              "      <td>0.177620</td>\n",
              "      <td>-0.341424</td>\n",
              "      <td>...</td>\n",
              "      <td>-0.107936</td>\n",
              "      <td>-0.349843</td>\n",
              "      <td>0.250677</td>\n",
              "      <td>-0.107660</td>\n",
              "      <td>0.030708</td>\n",
              "      <td>0.069056</td>\n",
              "      <td>0.052051</td>\n",
              "      <td>0.064974</td>\n",
              "      <td>0.360091</td>\n",
              "      <td>-0.388076</td>\n",
              "    </tr>\n",
              "    <tr>\n",
              "      <th>dst_host_srv_count</th>\n",
              "      <td>0.618150</td>\n",
              "      <td>-0.382076</td>\n",
              "      <td>0.208167</td>\n",
              "      <td>-0.526418</td>\n",
              "      <td>-0.523985</td>\n",
              "      <td>-0.284911</td>\n",
              "      <td>-0.283382</td>\n",
              "      <td>0.707817</td>\n",
              "      <td>-0.303988</td>\n",
              "      <td>0.130667</td>\n",
              "      <td>...</td>\n",
              "      <td>-0.143291</td>\n",
              "      <td>0.723783</td>\n",
              "      <td>-0.378064</td>\n",
              "      <td>0.017882</td>\n",
              "      <td>-0.080107</td>\n",
              "      <td>-0.235163</td>\n",
              "      <td>-0.102444</td>\n",
              "      <td>-0.089439</td>\n",
              "      <td>-0.521208</td>\n",
              "      <td>0.662913</td>\n",
              "    </tr>\n",
              "    <tr>\n",
              "      <th>dst_host_same_srv_rate</th>\n",
              "      <td>0.598829</td>\n",
              "      <td>-0.458138</td>\n",
              "      <td>0.187863</td>\n",
              "      <td>-0.588120</td>\n",
              "      <td>-0.584992</td>\n",
              "      <td>-0.303167</td>\n",
              "      <td>-0.300871</td>\n",
              "      <td>0.791006</td>\n",
              "      <td>-0.336419</td>\n",
              "      <td>0.253943</td>\n",
              "      <td>...</td>\n",
              "      <td>-0.073394</td>\n",
              "      <td>0.674609</td>\n",
              "      <td>-0.414814</td>\n",
              "      <td>0.033593</td>\n",
              "      <td>-0.075733</td>\n",
              "      <td>-0.246295</td>\n",
              "      <td>-0.110164</td>\n",
              "      <td>-0.101045</td>\n",
              "      <td>-0.581999</td>\n",
              "      <td>0.729454</td>\n",
              "    </tr>\n",
              "    <tr>\n",
              "      <th>dst_host_diff_srv_rate</th>\n",
              "      <td>-0.256912</td>\n",
              "      <td>0.198272</td>\n",
              "      <td>-0.108733</td>\n",
              "      <td>-0.008997</td>\n",
              "      <td>-0.016561</td>\n",
              "      <td>0.343815</td>\n",
              "      <td>0.344905</td>\n",
              "      <td>-0.195607</td>\n",
              "      <td>0.519573</td>\n",
              "      <td>-0.111385</td>\n",
              "      <td>...</td>\n",
              "      <td>-0.010386</td>\n",
              "      <td>-0.288062</td>\n",
              "      <td>0.226290</td>\n",
              "      <td>-0.004394</td>\n",
              "      <td>0.005251</td>\n",
              "      <td>0.265238</td>\n",
              "      <td>0.004247</td>\n",
              "      <td>0.259395</td>\n",
              "      <td>-0.042764</td>\n",
              "      <td>-0.228249</td>\n",
              "    </tr>\n",
              "    <tr>\n",
              "      <th>dst_host_same_src_port_rate</th>\n",
              "      <td>-0.177222</td>\n",
              "      <td>-0.081222</td>\n",
              "      <td>0.210928</td>\n",
              "      <td>-0.250435</td>\n",
              "      <td>-0.249799</td>\n",
              "      <td>-0.013035</td>\n",
              "      <td>-0.014179</td>\n",
              "      <td>0.255172</td>\n",
              "      <td>0.001417</td>\n",
              "      <td>0.209895</td>\n",
              "      <td>...</td>\n",
              "      <td>0.170102</td>\n",
              "      <td>-0.185458</td>\n",
              "      <td>-0.014118</td>\n",
              "      <td>-0.093716</td>\n",
              "      <td>-0.059330</td>\n",
              "      <td>-0.090286</td>\n",
              "      <td>-0.046509</td>\n",
              "      <td>0.198608</td>\n",
              "      <td>-0.261102</td>\n",
              "      <td>0.228140</td>\n",
              "    </tr>\n",
              "    <tr>\n",
              "      <th>dst_host_srv_diff_host_rate</th>\n",
              "      <td>-0.054807</td>\n",
              "      <td>-0.193474</td>\n",
              "      <td>-0.058154</td>\n",
              "      <td>-0.155198</td>\n",
              "      <td>-0.153771</td>\n",
              "      <td>0.006659</td>\n",
              "      <td>0.004978</td>\n",
              "      <td>0.202728</td>\n",
              "      <td>-0.080257</td>\n",
              "      <td>0.348243</td>\n",
              "      <td>...</td>\n",
              "      <td>0.011167</td>\n",
              "      <td>-0.024369</td>\n",
              "      <td>-0.094125</td>\n",
              "      <td>-0.045568</td>\n",
              "      <td>0.016981</td>\n",
              "      <td>0.034897</td>\n",
              "      <td>-0.018141</td>\n",
              "      <td>-0.039489</td>\n",
              "      <td>-0.151459</td>\n",
              "      <td>0.131313</td>\n",
              "    </tr>\n",
              "    <tr>\n",
              "      <th>dst_host_serror_rate</th>\n",
              "      <td>-0.465806</td>\n",
              "      <td>0.413582</td>\n",
              "      <td>-0.134651</td>\n",
              "      <td>0.974696</td>\n",
              "      <td>0.970802</td>\n",
              "      <td>-0.227806</td>\n",
              "      <td>-0.225965</td>\n",
              "      <td>-0.714346</td>\n",
              "      <td>0.029256</td>\n",
              "      <td>-0.206589</td>\n",
              "      <td>...</td>\n",
              "      <td>-0.039767</td>\n",
              "      <td>-0.366213</td>\n",
              "      <td>0.296207</td>\n",
              "      <td>-0.110483</td>\n",
              "      <td>0.071439</td>\n",
              "      <td>-0.187755</td>\n",
              "      <td>-0.073134</td>\n",
              "      <td>-0.084333</td>\n",
              "      <td>0.969597</td>\n",
              "      <td>-0.702174</td>\n",
              "    </tr>\n",
              "    <tr>\n",
              "      <th>dst_host_srv_serr_rate</th>\n",
              "      <td>-0.468530</td>\n",
              "      <td>0.415757</td>\n",
              "      <td>-0.133972</td>\n",
              "      <td>0.976030</td>\n",
              "      <td>0.981982</td>\n",
              "      <td>-0.224842</td>\n",
              "      <td>-0.232030</td>\n",
              "      <td>-0.718160</td>\n",
              "      <td>0.029042</td>\n",
              "      <td>-0.207850</td>\n",
              "      <td>...</td>\n",
              "      <td>-0.052870</td>\n",
              "      <td>-0.362003</td>\n",
              "      <td>0.300656</td>\n",
              "      <td>-0.126880</td>\n",
              "      <td>0.078171</td>\n",
              "      <td>-0.195471</td>\n",
              "      <td>-0.072299</td>\n",
              "      <td>-0.083496</td>\n",
              "      <td>0.975523</td>\n",
              "      <td>-0.706687</td>\n",
              "    </tr>\n",
              "    <tr>\n",
              "      <th>dst_host_rerror_rate</th>\n",
              "      <td>-0.290705</td>\n",
              "      <td>0.221779</td>\n",
              "      <td>-0.105679</td>\n",
              "      <td>-0.225519</td>\n",
              "      <td>-0.225894</td>\n",
              "      <td>0.916889</td>\n",
              "      <td>0.906336</td>\n",
              "      <td>-0.281472</td>\n",
              "      <td>0.250602</td>\n",
              "      <td>-0.064872</td>\n",
              "      <td>...</td>\n",
              "      <td>-0.072236</td>\n",
              "      <td>-0.145330</td>\n",
              "      <td>0.202999</td>\n",
              "      <td>-0.065794</td>\n",
              "      <td>0.002470</td>\n",
              "      <td>0.809469</td>\n",
              "      <td>0.278103</td>\n",
              "      <td>0.228543</td>\n",
              "      <td>-0.225256</td>\n",
              "      <td>-0.437411</td>\n",
              "    </tr>\n",
              "    <tr>\n",
              "      <th>dst_host_srv_rerror_rate</th>\n",
              "      <td>-0.294690</td>\n",
              "      <td>0.210394</td>\n",
              "      <td>-0.114467</td>\n",
              "      <td>-0.220708</td>\n",
              "      <td>-0.228290</td>\n",
              "      <td>0.957358</td>\n",
              "      <td>0.965606</td>\n",
              "      <td>-0.282400</td>\n",
              "      <td>0.300265</td>\n",
              "      <td>-0.058096</td>\n",
              "      <td>...</td>\n",
              "      <td>-0.081736</td>\n",
              "      <td>-0.137848</td>\n",
              "      <td>0.213147</td>\n",
              "      <td>-0.092668</td>\n",
              "      <td>-0.006667</td>\n",
              "      <td>0.836442</td>\n",
              "      <td>0.284020</td>\n",
              "      <td>0.304128</td>\n",
              "      <td>-0.224835</td>\n",
              "      <td>-0.475322</td>\n",
              "    </tr>\n",
              "    <tr>\n",
              "      <th>protocol_icmp</th>\n",
              "      <td>-0.212675</td>\n",
              "      <td>0.101986</td>\n",
              "      <td>0.381280</td>\n",
              "      <td>-0.153882</td>\n",
              "      <td>-0.152859</td>\n",
              "      <td>-0.105069</td>\n",
              "      <td>-0.104930</td>\n",
              "      <td>0.162477</td>\n",
              "      <td>-0.028731</td>\n",
              "      <td>0.302029</td>\n",
              "      <td>...</td>\n",
              "      <td>-0.060602</td>\n",
              "      <td>-0.179480</td>\n",
              "      <td>-0.121037</td>\n",
              "      <td>-0.062792</td>\n",
              "      <td>-0.042967</td>\n",
              "      <td>-0.087067</td>\n",
              "      <td>-0.032729</td>\n",
              "      <td>-0.037748</td>\n",
              "      <td>-0.148801</td>\n",
              "      <td>0.209345</td>\n",
              "    </tr>\n",
              "    <tr>\n",
              "      <th>protocol_tcp</th>\n",
              "      <td>0.386658</td>\n",
              "      <td>-0.077976</td>\n",
              "      <td>-0.527989</td>\n",
              "      <td>0.277091</td>\n",
              "      <td>0.277909</td>\n",
              "      <td>0.191040</td>\n",
              "      <td>0.190771</td>\n",
              "      <td>-0.248181</td>\n",
              "      <td>0.002273</td>\n",
              "      <td>-0.146055</td>\n",
              "      <td>...</td>\n",
              "      <td>0.110178</td>\n",
              "      <td>0.326308</td>\n",
              "      <td>-0.000119</td>\n",
              "      <td>0.114161</td>\n",
              "      <td>0.078117</td>\n",
              "      <td>0.158293</td>\n",
              "      <td>0.059504</td>\n",
              "      <td>0.068629</td>\n",
              "      <td>0.270532</td>\n",
              "      <td>-0.380604</td>\n",
              "    </tr>\n",
              "    <tr>\n",
              "      <th>protocol_udp</th>\n",
              "      <td>-0.301251</td>\n",
              "      <td>0.016394</td>\n",
              "      <td>0.343156</td>\n",
              "      <td>-0.214780</td>\n",
              "      <td>-0.216523</td>\n",
              "      <td>-0.148849</td>\n",
              "      <td>-0.148633</td>\n",
              "      <td>0.173868</td>\n",
              "      <td>0.018856</td>\n",
              "      <td>-0.052615</td>\n",
              "      <td>...</td>\n",
              "      <td>-0.085842</td>\n",
              "      <td>-0.254232</td>\n",
              "      <td>0.090995</td>\n",
              "      <td>-0.088945</td>\n",
              "      <td>-0.060863</td>\n",
              "      <td>-0.123329</td>\n",
              "      <td>-0.046361</td>\n",
              "      <td>-0.053470</td>\n",
              "      <td>-0.210776</td>\n",
              "      <td>0.296535</td>\n",
              "    </tr>\n",
              "    <tr>\n",
              "      <th>service_domain_u</th>\n",
              "      <td>-0.219914</td>\n",
              "      <td>0.056574</td>\n",
              "      <td>0.379157</td>\n",
              "      <td>-0.159268</td>\n",
              "      <td>-0.158062</td>\n",
              "      <td>-0.108842</td>\n",
              "      <td>-0.108502</td>\n",
              "      <td>0.192781</td>\n",
              "      <td>-0.071250</td>\n",
              "      <td>0.009472</td>\n",
              "      <td>...</td>\n",
              "      <td>-0.062665</td>\n",
              "      <td>-0.185590</td>\n",
              "      <td>-0.125157</td>\n",
              "      <td>-0.064930</td>\n",
              "      <td>-0.044430</td>\n",
              "      <td>-0.090030</td>\n",
              "      <td>-0.033843</td>\n",
              "      <td>-0.039033</td>\n",
              "      <td>-0.153866</td>\n",
              "      <td>0.216471</td>\n",
              "    </tr>\n",
              "    <tr>\n",
              "      <th>service_eco_i</th>\n",
              "      <td>-0.150860</td>\n",
              "      <td>-0.129045</td>\n",
              "      <td>-0.017795</td>\n",
              "      <td>-0.109135</td>\n",
              "      <td>-0.108430</td>\n",
              "      <td>-0.074406</td>\n",
              "      <td>-0.074432</td>\n",
              "      <td>0.124907</td>\n",
              "      <td>-0.035289</td>\n",
              "      <td>0.461717</td>\n",
              "      <td>...</td>\n",
              "      <td>-0.042988</td>\n",
              "      <td>-0.127314</td>\n",
              "      <td>-0.085857</td>\n",
              "      <td>-0.044542</td>\n",
              "      <td>-0.030479</td>\n",
              "      <td>-0.061760</td>\n",
              "      <td>-0.023216</td>\n",
              "      <td>-0.026777</td>\n",
              "      <td>-0.105552</td>\n",
              "      <td>0.148498</td>\n",
              "    </tr>\n",
              "    <tr>\n",
              "      <th>service_ecr_i</th>\n",
              "      <td>-0.133598</td>\n",
              "      <td>0.318331</td>\n",
              "      <td>0.613266</td>\n",
              "      <td>-0.096671</td>\n",
              "      <td>-0.096023</td>\n",
              "      <td>-0.066122</td>\n",
              "      <td>-0.065915</td>\n",
              "      <td>0.121766</td>\n",
              "      <td>-0.056614</td>\n",
              "      <td>-0.047062</td>\n",
              "      <td>...</td>\n",
              "      <td>-0.038069</td>\n",
              "      <td>-0.112746</td>\n",
              "      <td>-0.076033</td>\n",
              "      <td>-0.039445</td>\n",
              "      <td>-0.026991</td>\n",
              "      <td>-0.054694</td>\n",
              "      <td>-0.020560</td>\n",
              "      <td>-0.023713</td>\n",
              "      <td>-0.093474</td>\n",
              "      <td>0.131507</td>\n",
              "    </tr>\n",
              "    <tr>\n",
              "      <th>service_finger</th>\n",
              "      <td>-0.093564</td>\n",
              "      <td>-0.011228</td>\n",
              "      <td>-0.031522</td>\n",
              "      <td>0.092659</td>\n",
              "      <td>0.093714</td>\n",
              "      <td>-0.022476</td>\n",
              "      <td>-0.024225</td>\n",
              "      <td>-0.050629</td>\n",
              "      <td>0.023515</td>\n",
              "      <td>-0.032574</td>\n",
              "      <td>...</td>\n",
              "      <td>-0.026661</td>\n",
              "      <td>-0.078960</td>\n",
              "      <td>-0.053249</td>\n",
              "      <td>-0.027625</td>\n",
              "      <td>-0.018903</td>\n",
              "      <td>-0.038304</td>\n",
              "      <td>0.040946</td>\n",
              "      <td>-0.013671</td>\n",
              "      <td>0.095579</td>\n",
              "      <td>-0.066113</td>\n",
              "    </tr>\n",
              "    <tr>\n",
              "      <th>service_ftp</th>\n",
              "      <td>0.082602</td>\n",
              "      <td>-0.036570</td>\n",
              "      <td>-0.043108</td>\n",
              "      <td>-0.025624</td>\n",
              "      <td>-0.025200</td>\n",
              "      <td>-0.027672</td>\n",
              "      <td>-0.028364</td>\n",
              "      <td>0.031645</td>\n",
              "      <td>-0.015998</td>\n",
              "      <td>-0.045028</td>\n",
              "      <td>...</td>\n",
              "      <td>-0.030282</td>\n",
              "      <td>-0.089686</td>\n",
              "      <td>-0.060482</td>\n",
              "      <td>-0.031377</td>\n",
              "      <td>-0.021471</td>\n",
              "      <td>-0.043332</td>\n",
              "      <td>0.045736</td>\n",
              "      <td>-0.016268</td>\n",
              "      <td>-0.025000</td>\n",
              "      <td>0.042279</td>\n",
              "    </tr>\n",
              "    <tr>\n",
              "      <th>service_ftp_data</th>\n",
              "      <td>0.054582</td>\n",
              "      <td>-0.117463</td>\n",
              "      <td>-0.070698</td>\n",
              "      <td>-0.054608</td>\n",
              "      <td>-0.054850</td>\n",
              "      <td>-0.079870</td>\n",
              "      <td>-0.079982</td>\n",
              "      <td>0.094306</td>\n",
              "      <td>-0.029190</td>\n",
              "      <td>-0.061066</td>\n",
              "      <td>...</td>\n",
              "      <td>1.000000</td>\n",
              "      <td>-0.162189</td>\n",
              "      <td>-0.109376</td>\n",
              "      <td>-0.056743</td>\n",
              "      <td>-0.038828</td>\n",
              "      <td>-0.063307</td>\n",
              "      <td>-0.029576</td>\n",
              "      <td>-0.032198</td>\n",
              "      <td>-0.053041</td>\n",
              "      <td>0.103264</td>\n",
              "    </tr>\n",
              "    <tr>\n",
              "      <th>service_http</th>\n",
              "      <td>0.708419</td>\n",
              "      <td>-0.419460</td>\n",
              "      <td>-0.145172</td>\n",
              "      <td>-0.346850</td>\n",
              "      <td>-0.346088</td>\n",
              "      <td>-0.131304</td>\n",
              "      <td>-0.128827</td>\n",
              "      <td>0.485425</td>\n",
              "      <td>-0.226026</td>\n",
              "      <td>0.037737</td>\n",
              "      <td>...</td>\n",
              "      <td>-0.162189</td>\n",
              "      <td>1.000000</td>\n",
              "      <td>-0.323932</td>\n",
              "      <td>-0.168051</td>\n",
              "      <td>-0.114993</td>\n",
              "      <td>-0.095706</td>\n",
              "      <td>-0.078114</td>\n",
              "      <td>-0.037245</td>\n",
              "      <td>-0.343105</td>\n",
              "      <td>0.396597</td>\n",
              "    </tr>\n",
              "    <tr>\n",
              "      <th>service_private</th>\n",
              "      <td>-0.383627</td>\n",
              "      <td>0.224566</td>\n",
              "      <td>-0.063397</td>\n",
              "      <td>0.296237</td>\n",
              "      <td>0.294312</td>\n",
              "      <td>0.204584</td>\n",
              "      <td>0.206133</td>\n",
              "      <td>-0.425375</td>\n",
              "      <td>0.144792</td>\n",
              "      <td>-0.175920</td>\n",
              "      <td>...</td>\n",
              "      <td>-0.109376</td>\n",
              "      <td>-0.323932</td>\n",
              "      <td>1.000000</td>\n",
              "      <td>-0.113329</td>\n",
              "      <td>-0.077548</td>\n",
              "      <td>0.195532</td>\n",
              "      <td>-0.042703</td>\n",
              "      <td>0.113756</td>\n",
              "      <td>0.289106</td>\n",
              "      <td>-0.404361</td>\n",
              "    </tr>\n",
              "    <tr>\n",
              "      <th>service_smtp</th>\n",
              "      <td>0.271212</td>\n",
              "      <td>-0.161013</td>\n",
              "      <td>-0.084655</td>\n",
              "      <td>-0.122051</td>\n",
              "      <td>-0.122885</td>\n",
              "      <td>-0.087441</td>\n",
              "      <td>-0.089252</td>\n",
              "      <td>0.156555</td>\n",
              "      <td>-0.033288</td>\n",
              "      <td>0.272725</td>\n",
              "      <td>...</td>\n",
              "      <td>-0.056743</td>\n",
              "      <td>-0.168051</td>\n",
              "      <td>-0.113329</td>\n",
              "      <td>1.000000</td>\n",
              "      <td>-0.040231</td>\n",
              "      <td>-0.080257</td>\n",
              "      <td>-0.009846</td>\n",
              "      <td>-0.034109</td>\n",
              "      <td>-0.120472</td>\n",
              "      <td>0.168591</td>\n",
              "    </tr>\n",
              "    <tr>\n",
              "      <th>service_telnet</th>\n",
              "      <td>-0.056342</td>\n",
              "      <td>-0.062504</td>\n",
              "      <td>-0.047739</td>\n",
              "      <td>0.064342</td>\n",
              "      <td>0.064605</td>\n",
              "      <td>-0.001597</td>\n",
              "      <td>-0.008296</td>\n",
              "      <td>0.016010</td>\n",
              "      <td>0.004149</td>\n",
              "      <td>-0.023804</td>\n",
              "      <td>...</td>\n",
              "      <td>-0.038828</td>\n",
              "      <td>-0.114993</td>\n",
              "      <td>-0.077548</td>\n",
              "      <td>-0.040231</td>\n",
              "      <td>1.000000</td>\n",
              "      <td>-0.043774</td>\n",
              "      <td>0.101715</td>\n",
              "      <td>-0.014837</td>\n",
              "      <td>0.036909</td>\n",
              "      <td>-0.052234</td>\n",
              "    </tr>\n",
              "    <tr>\n",
              "      <th>flag_REJ</th>\n",
              "      <td>-0.276112</td>\n",
              "      <td>0.246352</td>\n",
              "      <td>-0.095570</td>\n",
              "      <td>-0.187637</td>\n",
              "      <td>-0.196119</td>\n",
              "      <td>0.828608</td>\n",
              "      <td>0.837610</td>\n",
              "      <td>-0.301789</td>\n",
              "      <td>0.308314</td>\n",
              "      <td>-0.045552</td>\n",
              "      <td>...</td>\n",
              "      <td>-0.063307</td>\n",
              "      <td>-0.095706</td>\n",
              "      <td>0.195532</td>\n",
              "      <td>-0.080257</td>\n",
              "      <td>-0.043774</td>\n",
              "      <td>1.000000</td>\n",
              "      <td>-0.042492</td>\n",
              "      <td>-0.049008</td>\n",
              "      <td>-0.193186</td>\n",
              "      <td>-0.415900</td>\n",
              "    </tr>\n",
              "    <tr>\n",
              "      <th>flag_RSTO</th>\n",
              "      <td>-0.073997</td>\n",
              "      <td>0.048772</td>\n",
              "      <td>-0.033729</td>\n",
              "      <td>-0.074517</td>\n",
              "      <td>-0.073026</td>\n",
              "      <td>0.311322</td>\n",
              "      <td>0.303242</td>\n",
              "      <td>-0.114067</td>\n",
              "      <td>0.068135</td>\n",
              "      <td>0.018937</td>\n",
              "      <td>...</td>\n",
              "      <td>-0.029576</td>\n",
              "      <td>-0.078114</td>\n",
              "      <td>-0.042703</td>\n",
              "      <td>-0.009846</td>\n",
              "      <td>0.101715</td>\n",
              "      <td>-0.042492</td>\n",
              "      <td>1.000000</td>\n",
              "      <td>-0.018423</td>\n",
              "      <td>-0.072621</td>\n",
              "      <td>-0.156342</td>\n",
              "    </tr>\n",
              "    <tr>\n",
              "      <th>flag_RSTR</th>\n",
              "      <td>-0.052190</td>\n",
              "      <td>-0.080947</td>\n",
              "      <td>-0.041435</td>\n",
              "      <td>-0.085315</td>\n",
              "      <td>-0.084677</td>\n",
              "      <td>0.353551</td>\n",
              "      <td>0.355001</td>\n",
              "      <td>0.088856</td>\n",
              "      <td>-0.017928</td>\n",
              "      <td>-0.050969</td>\n",
              "      <td>...</td>\n",
              "      <td>-0.032198</td>\n",
              "      <td>-0.037245</td>\n",
              "      <td>0.113756</td>\n",
              "      <td>-0.034109</td>\n",
              "      <td>-0.014837</td>\n",
              "      <td>-0.049008</td>\n",
              "      <td>-0.018423</td>\n",
              "      <td>1.000000</td>\n",
              "      <td>-0.083757</td>\n",
              "      <td>-0.180316</td>\n",
              "    </tr>\n",
              "    <tr>\n",
              "      <th>flag_S0</th>\n",
              "      <td>-0.471858</td>\n",
              "      <td>0.419313</td>\n",
              "      <td>-0.128960</td>\n",
              "      <td>0.972713</td>\n",
              "      <td>0.976825</td>\n",
              "      <td>-0.221696</td>\n",
              "      <td>-0.228528</td>\n",
              "      <td>-0.719395</td>\n",
              "      <td>0.028054</td>\n",
              "      <td>-0.201454</td>\n",
              "      <td>...</td>\n",
              "      <td>-0.053041</td>\n",
              "      <td>-0.343105</td>\n",
              "      <td>0.289106</td>\n",
              "      <td>-0.120472</td>\n",
              "      <td>0.036909</td>\n",
              "      <td>-0.193186</td>\n",
              "      <td>-0.072621</td>\n",
              "      <td>-0.083757</td>\n",
              "      <td>1.000000</td>\n",
              "      <td>-0.710795</td>\n",
              "    </tr>\n",
              "    <tr>\n",
              "      <th>flag_SF</th>\n",
              "      <td>0.622415</td>\n",
              "      <td>-0.500416</td>\n",
              "      <td>0.199812</td>\n",
              "      <td>-0.723157</td>\n",
              "      <td>-0.720526</td>\n",
              "      <td>-0.493603</td>\n",
              "      <td>-0.491585</td>\n",
              "      <td>0.815437</td>\n",
              "      <td>-0.227039</td>\n",
              "      <td>0.218607</td>\n",
              "      <td>...</td>\n",
              "      <td>0.103264</td>\n",
              "      <td>0.396597</td>\n",
              "      <td>-0.404361</td>\n",
              "      <td>0.168591</td>\n",
              "      <td>-0.052234</td>\n",
              "      <td>-0.415900</td>\n",
              "      <td>-0.156342</td>\n",
              "      <td>-0.180316</td>\n",
              "      <td>-0.710795</td>\n",
              "      <td>1.000000</td>\n",
              "    </tr>\n",
              "  </tbody>\n",
              "</table>\n",
              "<p>38 rows × 38 columns</p>\n",
              "</div>\n",
              "    <div class=\"colab-df-buttons\">\n",
              "\n",
              "  <div class=\"colab-df-container\">\n",
              "    <button class=\"colab-df-convert\" onclick=\"convertToInteractive('df-a72f60b3-2ba6-48ab-af35-f3723f2cb0a5')\"\n",
              "            title=\"Convert this dataframe to an interactive table.\"\n",
              "            style=\"display:none;\">\n",
              "\n",
              "  <svg xmlns=\"http://www.w3.org/2000/svg\" height=\"24px\" viewBox=\"0 -960 960 960\">\n",
              "    <path d=\"M120-120v-720h720v720H120Zm60-500h600v-160H180v160Zm220 220h160v-160H400v160Zm0 220h160v-160H400v160ZM180-400h160v-160H180v160Zm440 0h160v-160H620v160ZM180-180h160v-160H180v160Zm440 0h160v-160H620v160Z\"/>\n",
              "  </svg>\n",
              "    </button>\n",
              "\n",
              "  <style>\n",
              "    .colab-df-container {\n",
              "      display:flex;\n",
              "      gap: 12px;\n",
              "    }\n",
              "\n",
              "    .colab-df-convert {\n",
              "      background-color: #E8F0FE;\n",
              "      border: none;\n",
              "      border-radius: 50%;\n",
              "      cursor: pointer;\n",
              "      display: none;\n",
              "      fill: #1967D2;\n",
              "      height: 32px;\n",
              "      padding: 0 0 0 0;\n",
              "      width: 32px;\n",
              "    }\n",
              "\n",
              "    .colab-df-convert:hover {\n",
              "      background-color: #E2EBFA;\n",
              "      box-shadow: 0px 1px 2px rgba(60, 64, 67, 0.3), 0px 1px 3px 1px rgba(60, 64, 67, 0.15);\n",
              "      fill: #174EA6;\n",
              "    }\n",
              "\n",
              "    .colab-df-buttons div {\n",
              "      margin-bottom: 4px;\n",
              "    }\n",
              "\n",
              "    [theme=dark] .colab-df-convert {\n",
              "      background-color: #3B4455;\n",
              "      fill: #D2E3FC;\n",
              "    }\n",
              "\n",
              "    [theme=dark] .colab-df-convert:hover {\n",
              "      background-color: #434B5C;\n",
              "      box-shadow: 0px 1px 3px 1px rgba(0, 0, 0, 0.15);\n",
              "      filter: drop-shadow(0px 1px 2px rgba(0, 0, 0, 0.3));\n",
              "      fill: #FFFFFF;\n",
              "    }\n",
              "  </style>\n",
              "\n",
              "    <script>\n",
              "      const buttonEl =\n",
              "        document.querySelector('#df-a72f60b3-2ba6-48ab-af35-f3723f2cb0a5 button.colab-df-convert');\n",
              "      buttonEl.style.display =\n",
              "        google.colab.kernel.accessAllowed ? 'block' : 'none';\n",
              "\n",
              "      async function convertToInteractive(key) {\n",
              "        const element = document.querySelector('#df-a72f60b3-2ba6-48ab-af35-f3723f2cb0a5');\n",
              "        const dataTable =\n",
              "          await google.colab.kernel.invokeFunction('convertToInteractive',\n",
              "                                                    [key], {});\n",
              "        if (!dataTable) return;\n",
              "\n",
              "        const docLinkHtml = 'Like what you see? Visit the ' +\n",
              "          '<a target=\"_blank\" href=https://colab.research.google.com/notebooks/data_table.ipynb>data table notebook</a>'\n",
              "          + ' to learn more about interactive tables.';\n",
              "        element.innerHTML = '';\n",
              "        dataTable['output_type'] = 'display_data';\n",
              "        await google.colab.output.renderOutput(dataTable, element);\n",
              "        const docLink = document.createElement('div');\n",
              "        docLink.innerHTML = docLinkHtml;\n",
              "        element.appendChild(docLink);\n",
              "      }\n",
              "    </script>\n",
              "  </div>\n",
              "\n",
              "\n",
              "<div id=\"df-d6081952-76c6-42e5-8e60-f795903af4bd\">\n",
              "  <button class=\"colab-df-quickchart\" onclick=\"quickchart('df-d6081952-76c6-42e5-8e60-f795903af4bd')\"\n",
              "            title=\"Suggest charts.\"\n",
              "            style=\"display:none;\">\n",
              "\n",
              "<svg xmlns=\"http://www.w3.org/2000/svg\" height=\"24px\"viewBox=\"0 0 24 24\"\n",
              "     width=\"24px\">\n",
              "    <g>\n",
              "        <path d=\"M19 3H5c-1.1 0-2 .9-2 2v14c0 1.1.9 2 2 2h14c1.1 0 2-.9 2-2V5c0-1.1-.9-2-2-2zM9 17H7v-7h2v7zm4 0h-2V7h2v10zm4 0h-2v-4h2v4z\"/>\n",
              "    </g>\n",
              "</svg>\n",
              "  </button>\n",
              "\n",
              "<style>\n",
              "  .colab-df-quickchart {\n",
              "    background-color: #E8F0FE;\n",
              "    border: none;\n",
              "    border-radius: 50%;\n",
              "    cursor: pointer;\n",
              "    display: none;\n",
              "    fill: #1967D2;\n",
              "    height: 32px;\n",
              "    padding: 0 0 0 0;\n",
              "    width: 32px;\n",
              "  }\n",
              "\n",
              "  .colab-df-quickchart:hover {\n",
              "    background-color: #E2EBFA;\n",
              "    box-shadow: 0px 1px 2px rgba(60, 64, 67, 0.3), 0px 1px 3px 1px rgba(60, 64, 67, 0.15);\n",
              "    fill: #174EA6;\n",
              "  }\n",
              "\n",
              "  [theme=dark] .colab-df-quickchart {\n",
              "    background-color: #3B4455;\n",
              "    fill: #D2E3FC;\n",
              "  }\n",
              "\n",
              "  [theme=dark] .colab-df-quickchart:hover {\n",
              "    background-color: #434B5C;\n",
              "    box-shadow: 0px 1px 3px 1px rgba(0, 0, 0, 0.15);\n",
              "    filter: drop-shadow(0px 1px 2px rgba(0, 0, 0, 0.3));\n",
              "    fill: #FFFFFF;\n",
              "  }\n",
              "</style>\n",
              "\n",
              "  <script>\n",
              "    async function quickchart(key) {\n",
              "      const charts = await google.colab.kernel.invokeFunction(\n",
              "          'suggestCharts', [key], {});\n",
              "    }\n",
              "    (() => {\n",
              "      let quickchartButtonEl =\n",
              "        document.querySelector('#df-d6081952-76c6-42e5-8e60-f795903af4bd button');\n",
              "      quickchartButtonEl.style.display =\n",
              "        google.colab.kernel.accessAllowed ? 'block' : 'none';\n",
              "    })();\n",
              "  </script>\n",
              "</div>\n",
              "    </div>\n",
              "  </div>\n"
            ]
          },
          "metadata": {},
          "execution_count": 106
        }
      ],
      "source": [
        "full_dataset.corr()"
      ]
    },
    {
      "cell_type": "code",
      "execution_count": null,
      "metadata": {
        "colab": {
          "base_uri": "https://localhost:8080/",
          "height": 946
        },
        "id": "OznbrRJAN0ud",
        "outputId": "6821304a-1925-4378-8b3a-901eb5b8ae2c"
      },
      "outputs": [
        {
          "output_type": "display_data",
          "data": {
            "text/plain": [
              "<Figure size 1400x900 with 2 Axes>"
            ],
            "image/png": "[encoded data removed]"
          },
          "metadata": {}
        }
      ],
      "source": [
        "plt.figure(figsize=(14,9))\n",
        "sns.heatmap(full_dataset.corr(),vmax=1,vmin=-1,square=True)\n",
        "plt.show()"
      ]
    },
    {
      "cell_type": "markdown",
      "metadata": {
        "id": "UA_bHxmRODNm"
      },
      "source": [
        "DecisionTreeClassifier"
      ]
    },
    {
      "cell_type": "code",
      "execution_count": null,
      "metadata": {
        "id": "zHteNKLFN61a"
      },
      "outputs": [],
      "source": [
        "from sklearn.model_selection import train_test_split\n",
        "from sklearn.tree import DecisionTreeClassifier\n",
        "from sklearn.metrics import confusion_matrix ,accuracy_score ,precision_score,f1_score,recall_score"
      ]
    },
    {
      "cell_type": "code",
      "execution_count": null,
      "metadata": {
        "colab": {
          "base_uri": "https://localhost:8080/",
          "height": 74
        },
        "id": "Q7w86L5WOCid",
        "outputId": "f35faf83-274c-4719-f479-deb9912389c9"
      },
      "outputs": [
        {
          "output_type": "execute_result",
          "data": {
            "text/plain": [
              "DecisionTreeClassifier()"
            ],
            "text/html": [
              "<style>#sk-container-id-8 {color: black;background-color: white;}#sk-container-id-8 pre{padding: 0;}#sk-container-id-8 div.sk-toggleable {background-color: white;}#sk-container-id-8 label.sk-toggleable__label {cursor: pointer;display: block;width: 100%;margin-bottom: 0;padding: 0.3em;box-sizing: border-box;text-align: center;}#sk-container-id-8 label.sk-toggleable__label-arrow:before {content: \"▸\";float: left;margin-right: 0.25em;color: #696969;}#sk-container-id-8 label.sk-toggleable__label-arrow:hover:before {color: black;}#sk-container-id-8 div.sk-estimator:hover label.sk-toggleable__label-arrow:before {color: black;}#sk-container-id-8 div.sk-toggleable__content {max-height: 0;max-width: 0;overflow: hidden;text-align: left;background-color: #f0f8ff;}#sk-container-id-8 div.sk-toggleable__content pre {margin: 0.2em;color: black;border-radius: 0.25em;background-color: #f0f8ff;}#sk-container-id-8 input.sk-toggleable__control:checked~div.sk-toggleable__content {max-height: 200px;max-width: 100%;overflow: auto;}#sk-container-id-8 input.sk-toggleable__control:checked~label.sk-toggleable__label-arrow:before {content: \"▾\";}#sk-container-id-8 div.sk-estimator input.sk-toggleable__control:checked~label.sk-toggleable__label {background-color: #d4ebff;}#sk-container-id-8 div.sk-label input.sk-toggleable__control:checked~label.sk-toggleable__label {background-color: #d4ebff;}#sk-container-id-8 input.sk-hidden--visually {border: 0;clip: rect(1px 1px 1px 1px);clip: rect(1px, 1px, 1px, 1px);height: 1px;margin: -1px;overflow: hidden;padding: 0;position: absolute;width: 1px;}#sk-container-id-8 div.sk-estimator {font-family: monospace;background-color: #f0f8ff;border: 1px dotted black;border-radius: 0.25em;box-sizing: border-box;margin-bottom: 0.5em;}#sk-container-id-8 div.sk-estimator:hover {background-color: #d4ebff;}#sk-container-id-8 div.sk-parallel-item::after {content: \"\";width: 100%;border-bottom: 1px solid gray;flex-grow: 1;}#sk-container-id-8 div.sk-label:hover label.sk-toggleable__label {background-color: #d4ebff;}#sk-container-id-8 div.sk-serial::before {content: \"\";position: absolute;border-left: 1px solid gray;box-sizing: border-box;top: 0;bottom: 0;left: 50%;z-index: 0;}#sk-container-id-8 div.sk-serial {display: flex;flex-direction: column;align-items: center;background-color: white;padding-right: 0.2em;padding-left: 0.2em;position: relative;}#sk-container-id-8 div.sk-item {position: relative;z-index: 1;}#sk-container-id-8 div.sk-parallel {display: flex;align-items: stretch;justify-content: center;background-color: white;position: relative;}#sk-container-id-8 div.sk-item::before, #sk-container-id-8 div.sk-parallel-item::before {content: \"\";position: absolute;border-left: 1px solid gray;box-sizing: border-box;top: 0;bottom: 0;left: 50%;z-index: -1;}#sk-container-id-8 div.sk-parallel-item {display: flex;flex-direction: column;z-index: 1;position: relative;background-color: white;}#sk-container-id-8 div.sk-parallel-item:first-child::after {align-self: flex-end;width: 50%;}#sk-container-id-8 div.sk-parallel-item:last-child::after {align-self: flex-start;width: 50%;}#sk-container-id-8 div.sk-parallel-item:only-child::after {width: 0;}#sk-container-id-8 div.sk-dashed-wrapped {border: 1px dashed gray;margin: 0 0.4em 0.5em 0.4em;box-sizing: border-box;padding-bottom: 0.4em;background-color: white;}#sk-container-id-8 div.sk-label label {font-family: monospace;font-weight: bold;display: inline-block;line-height: 1.2em;}#sk-container-id-8 div.sk-label-container {text-align: center;}#sk-container-id-8 div.sk-container {/* jupyter's `normalize.less` sets `[hidden] { display: none; }` but bootstrap.min.css set `[hidden] { display: none !important; }` so we also need the `!important` here to be able to override the default hidden behavior on the sphinx rendered scikit-learn.org. See: https://github.com/scikit-learn/scikit-learn/issues/21755 */display: inline-block !important;position: relative;}#sk-container-id-8 div.sk-text-repr-fallback {display: none;}</style><div id=\"sk-container-id-8\" class=\"sk-top-container\"><div class=\"sk-text-repr-fallback\"><pre>DecisionTreeClassifier()</pre><b>In a Jupyter environment, please rerun this cell to show the HTML representation or trust the notebook. <br />On GitHub, the HTML representation is unable to render, please try loading this page with nbviewer.org.</b></div><div class=\"sk-container\" hidden><div class=\"sk-item\"><div class=\"sk-estimator sk-toggleable\"><input class=\"sk-toggleable__control sk-hidden--visually\" id=\"sk-estimator-id-8\" type=\"checkbox\" checked><label for=\"sk-estimator-id-8\" class=\"sk-toggleable__label sk-toggleable__label-arrow\">DecisionTreeClassifier</label><div class=\"sk-toggleable__content\"><pre>DecisionTreeClassifier()</pre></div></div></div></div></div>"
            ]
          },
          "metadata": {},
          "execution_count": 109
        }
      ],
      "source": [
        "from sklearn.model_selection import train_test_split\n",
        "#X=full_dataset.drop('label',axis=1)\n",
        "#y=full_dataset['label']\n",
        "X_train,X_test,y_train,y_test=train_test_split(X,y,test_size=0.3,random_state=42)\n",
        "model= DecisionTreeClassifier()\n",
        "model.fit(X_train,y_train)"
      ]
    },
    {
      "cell_type": "code",
      "execution_count": null,
      "metadata": {
        "id": "8ZChZmU9Odf7"
      },
      "outputs": [],
      "source": [
        "y_pred=model.predict(X_test)"
      ]
    },
    {
      "cell_type": "code",
      "execution_count": null,
      "metadata": {
        "colab": {
          "base_uri": "https://localhost:8080/"
        },
        "id": "6Sxmkh29OmNd",
        "outputId": "7b676399-571b-46f3-8588-bf78084f02af"
      },
      "outputs": [
        {
          "output_type": "stream",
          "name": "stdout",
          "text": [
            "[[22991   111]\n",
            " [  138 21316]]\n"
          ]
        }
      ],
      "source": [
        "print(confusion_matrix(y_test,y_pred))"
      ]
    },
    {
      "cell_type": "code",
      "execution_count": null,
      "metadata": {
        "colab": {
          "base_uri": "https://localhost:8080/"
        },
        "id": "ONmDGvNAOsOn",
        "outputId": "be7859cc-c998-445b-bf80-b4465c9ca7cf"
      },
      "outputs": [
        {
          "output_type": "stream",
          "name": "stdout",
          "text": [
            "0.9944115270670617\n",
            "0.9948196201054744\n",
            "0.9941932324339451\n",
            "0.9935676330754172\n"
          ]
        }
      ],
      "source": [
        "print(accuracy_score(y_test,y_pred))\n",
        "print(precision_score(y_test,y_pred))\n",
        "print(f1_score(y_test,y_pred))\n",
        "print(recall_score(y_test,y_pred))"
      ]
    },
    {
      "cell_type": "markdown",
      "metadata": {
        "id": "tnmUWgAPPh-O"
      },
      "source": [
        "Naviebayes"
      ]
    },
    {
      "cell_type": "code",
      "execution_count": null,
      "metadata": {
        "id": "s2PRY1skPgnU"
      },
      "outputs": [],
      "source": [
        "from sklearn.naive_bayes import GaussianNB"
      ]
    },
    {
      "cell_type": "code",
      "execution_count": null,
      "metadata": {
        "id": "vyDJy0a4PrPu"
      },
      "outputs": [],
      "source": [
        "from sklearn.model_selection import train_test_split\n",
        "from sklearn.metrics import confusion_matrix ,accuracy_score ,precision_score,f1_score,recall_score"
      ]
    },
    {
      "cell_type": "code",
      "execution_count": null,
      "metadata": {
        "colab": {
          "base_uri": "https://localhost:8080/",
          "height": 74
        },
        "id": "eE4mN8rxP2Jg",
        "outputId": "a5aac424-3473-4efc-ae9a-9f99d9a105ca"
      },
      "outputs": [
        {
          "output_type": "execute_result",
          "data": {
            "text/plain": [
              "GaussianNB()"
            ],
            "text/html": [
              "<style>#sk-container-id-9 {color: black;background-color: white;}#sk-container-id-9 pre{padding: 0;}#sk-container-id-9 div.sk-toggleable {background-color: white;}#sk-container-id-9 label.sk-toggleable__label {cursor: pointer;display: block;width: 100%;margin-bottom: 0;padding: 0.3em;box-sizing: border-box;text-align: center;}#sk-container-id-9 label.sk-toggleable__label-arrow:before {content: \"▸\";float: left;margin-right: 0.25em;color: #696969;}#sk-container-id-9 label.sk-toggleable__label-arrow:hover:before {color: black;}#sk-container-id-9 div.sk-estimator:hover label.sk-toggleable__label-arrow:before {color: black;}#sk-container-id-9 div.sk-toggleable__content {max-height: 0;max-width: 0;overflow: hidden;text-align: left;background-color: #f0f8ff;}#sk-container-id-9 div.sk-toggleable__content pre {margin: 0.2em;color: black;border-radius: 0.25em;background-color: #f0f8ff;}#sk-container-id-9 input.sk-toggleable__control:checked~div.sk-toggleable__content {max-height: 200px;max-width: 100%;overflow: auto;}#sk-container-id-9 input.sk-toggleable__control:checked~label.sk-toggleable__label-arrow:before {content: \"▾\";}#sk-container-id-9 div.sk-estimator input.sk-toggleable__control:checked~label.sk-toggleable__label {background-color: #d4ebff;}#sk-container-id-9 div.sk-label input.sk-toggleable__control:checked~label.sk-toggleable__label {background-color: #d4ebff;}#sk-container-id-9 input.sk-hidden--visually {border: 0;clip: rect(1px 1px 1px 1px);clip: rect(1px, 1px, 1px, 1px);height: 1px;margin: -1px;overflow: hidden;padding: 0;position: absolute;width: 1px;}#sk-container-id-9 div.sk-estimator {font-family: monospace;background-color: #f0f8ff;border: 1px dotted black;border-radius: 0.25em;box-sizing: border-box;margin-bottom: 0.5em;}#sk-container-id-9 div.sk-estimator:hover {background-color: #d4ebff;}#sk-container-id-9 div.sk-parallel-item::after {content: \"\";width: 100%;border-bottom: 1px solid gray;flex-grow: 1;}#sk-container-id-9 div.sk-label:hover label.sk-toggleable__label {background-color: #d4ebff;}#sk-container-id-9 div.sk-serial::before {content: \"\";position: absolute;border-left: 1px solid gray;box-sizing: border-box;top: 0;bottom: 0;left: 50%;z-index: 0;}#sk-container-id-9 div.sk-serial {display: flex;flex-direction: column;align-items: center;background-color: white;padding-right: 0.2em;padding-left: 0.2em;position: relative;}#sk-container-id-9 div.sk-item {position: relative;z-index: 1;}#sk-container-id-9 div.sk-parallel {display: flex;align-items: stretch;justify-content: center;background-color: white;position: relative;}#sk-container-id-9 div.sk-item::before, #sk-container-id-9 div.sk-parallel-item::before {content: \"\";position: absolute;border-left: 1px solid gray;box-sizing: border-box;top: 0;bottom: 0;left: 50%;z-index: -1;}#sk-container-id-9 div.sk-parallel-item {display: flex;flex-direction: column;z-index: 1;position: relative;background-color: white;}#sk-container-id-9 div.sk-parallel-item:first-child::after {align-self: flex-end;width: 50%;}#sk-container-id-9 div.sk-parallel-item:last-child::after {align-self: flex-start;width: 50%;}#sk-container-id-9 div.sk-parallel-item:only-child::after {width: 0;}#sk-container-id-9 div.sk-dashed-wrapped {border: 1px dashed gray;margin: 0 0.4em 0.5em 0.4em;box-sizing: border-box;padding-bottom: 0.4em;background-color: white;}#sk-container-id-9 div.sk-label label {font-family: monospace;font-weight: bold;display: inline-block;line-height: 1.2em;}#sk-container-id-9 div.sk-label-container {text-align: center;}#sk-container-id-9 div.sk-container {/* jupyter's `normalize.less` sets `[hidden] { display: none; }` but bootstrap.min.css set `[hidden] { display: none !important; }` so we also need the `!important` here to be able to override the default hidden behavior on the sphinx rendered scikit-learn.org. See: https://github.com/scikit-learn/scikit-learn/issues/21755 */display: inline-block !important;position: relative;}#sk-container-id-9 div.sk-text-repr-fallback {display: none;}</style><div id=\"sk-container-id-9\" class=\"sk-top-container\"><div class=\"sk-text-repr-fallback\"><pre>GaussianNB()</pre><b>In a Jupyter environment, please rerun this cell to show the HTML representation or trust the notebook. <br />On GitHub, the HTML representation is unable to render, please try loading this page with nbviewer.org.</b></div><div class=\"sk-container\" hidden><div class=\"sk-item\"><div class=\"sk-estimator sk-toggleable\"><input class=\"sk-toggleable__control sk-hidden--visually\" id=\"sk-estimator-id-9\" type=\"checkbox\" checked><label for=\"sk-estimator-id-9\" class=\"sk-toggleable__label sk-toggleable__label-arrow\">GaussianNB</label><div class=\"sk-toggleable__content\"><pre>GaussianNB()</pre></div></div></div></div></div>"
            ]
          },
          "metadata": {},
          "execution_count": 115
        }
      ],
      "source": [
        "\n",
        "from sklearn.model_selection import train_test_split\n",
        "#X=full_dataset.drop('label',axis=1)\n",
        "#y=full_dataset['label']\n",
        "X_train,X_test,y_train,y_test=train_test_split(X,y,test_size=0.3,random_state=42)\n",
        "model= GaussianNB()\n",
        "model.fit(X_train,y_train)"
      ]
    },
    {
      "cell_type": "code",
      "execution_count": null,
      "metadata": {
        "colab": {
          "base_uri": "https://localhost:8080/"
        },
        "id": "JvvdcojyP4-_",
        "outputId": "b3004f03-3ce2-4c1a-e3da-4af5ec609fab"
      },
      "outputs": [
        {
          "output_type": "stream",
          "name": "stdout",
          "text": [
            "[[22991   111]\n",
            " [  138 21316]]\n"
          ]
        }
      ],
      "source": [
        "print(confusion_matrix(y_test,y_pred))"
      ]
    },
    {
      "cell_type": "code",
      "execution_count": null,
      "metadata": {
        "id": "1vYgwiH4P7hG",
        "colab": {
          "base_uri": "https://localhost:8080/"
        },
        "outputId": "706b72c2-3c2b-4c08-cb19-d19430a52f36"
      },
      "outputs": [
        {
          "output_type": "stream",
          "name": "stdout",
          "text": [
            "0.9944115270670617\n",
            "0.9948196201054744\n",
            "0.9941932324339451\n",
            "0.9935676330754172\n"
          ]
        }
      ],
      "source": [
        "print(accuracy_score(y_test,y_pred))\n",
        "print(precision_score(y_test,y_pred))\n",
        "print(f1_score(y_test,y_pred))\n",
        "print(recall_score(y_test,y_pred))"
      ]
    },
    {
      "cell_type": "markdown",
      "metadata": {
        "id": "2AWPnKpEP_Cg"
      },
      "source": [
        "SVC"
      ]
    },
    {
      "cell_type": "code",
      "execution_count": null,
      "metadata": {
        "id": "AnqdWg35P9UI"
      },
      "outputs": [],
      "source": [
        "from sklearn.svm import SVC\n",
        "from sklearn.model_selection import train_test_split\n",
        "from sklearn.metrics import confusion_matrix ,accuracy_score ,precision_score,f1_score,recall_score"
      ]
    },
    {
      "cell_type": "code",
      "execution_count": null,
      "metadata": {
        "colab": {
          "base_uri": "https://localhost:8080/",
          "height": 74
        },
        "id": "dPz_LrZ3QRdS",
        "outputId": "86986396-baca-4f01-ee13-097c7d96bd49"
      },
      "outputs": [
        {
          "output_type": "execute_result",
          "data": {
            "text/plain": [
              "SVC()"
            ],
            "text/html": [
              "<style>#sk-container-id-10 {color: black;background-color: white;}#sk-container-id-10 pre{padding: 0;}#sk-container-id-10 div.sk-toggleable {background-color: white;}#sk-container-id-10 label.sk-toggleable__label {cursor: pointer;display: block;width: 100%;margin-bottom: 0;padding: 0.3em;box-sizing: border-box;text-align: center;}#sk-container-id-10 label.sk-toggleable__label-arrow:before {content: \"▸\";float: left;margin-right: 0.25em;color: #696969;}#sk-container-id-10 label.sk-toggleable__label-arrow:hover:before {color: black;}#sk-container-id-10 div.sk-estimator:hover label.sk-toggleable__label-arrow:before {color: black;}#sk-container-id-10 div.sk-toggleable__content {max-height: 0;max-width: 0;overflow: hidden;text-align: left;background-color: #f0f8ff;}#sk-container-id-10 div.sk-toggleable__content pre {margin: 0.2em;color: black;border-radius: 0.25em;background-color: #f0f8ff;}#sk-container-id-10 input.sk-toggleable__control:checked~div.sk-toggleable__content {max-height: 200px;max-width: 100%;overflow: auto;}#sk-container-id-10 input.sk-toggleable__control:checked~label.sk-toggleable__label-arrow:before {content: \"▾\";}#sk-container-id-10 div.sk-estimator input.sk-toggleable__control:checked~label.sk-toggleable__label {background-color: #d4ebff;}#sk-container-id-10 div.sk-label input.sk-toggleable__control:checked~label.sk-toggleable__label {background-color: #d4ebff;}#sk-container-id-10 input.sk-hidden--visually {border: 0;clip: rect(1px 1px 1px 1px);clip: rect(1px, 1px, 1px, 1px);height: 1px;margin: -1px;overflow: hidden;padding: 0;position: absolute;width: 1px;}#sk-container-id-10 div.sk-estimator {font-family: monospace;background-color: #f0f8ff;border: 1px dotted black;border-radius: 0.25em;box-sizing: border-box;margin-bottom: 0.5em;}#sk-container-id-10 div.sk-estimator:hover {background-color: #d4ebff;}#sk-container-id-10 div.sk-parallel-item::after {content: \"\";width: 100%;border-bottom: 1px solid gray;flex-grow: 1;}#sk-container-id-10 div.sk-label:hover label.sk-toggleable__label {background-color: #d4ebff;}#sk-container-id-10 div.sk-serial::before {content: \"\";position: absolute;border-left: 1px solid gray;box-sizing: border-box;top: 0;bottom: 0;left: 50%;z-index: 0;}#sk-container-id-10 div.sk-serial {display: flex;flex-direction: column;align-items: center;background-color: white;padding-right: 0.2em;padding-left: 0.2em;position: relative;}#sk-container-id-10 div.sk-item {position: relative;z-index: 1;}#sk-container-id-10 div.sk-parallel {display: flex;align-items: stretch;justify-content: center;background-color: white;position: relative;}#sk-container-id-10 div.sk-item::before, #sk-container-id-10 div.sk-parallel-item::before {content: \"\";position: absolute;border-left: 1px solid gray;box-sizing: border-box;top: 0;bottom: 0;left: 50%;z-index: -1;}#sk-container-id-10 div.sk-parallel-item {display: flex;flex-direction: column;z-index: 1;position: relative;background-color: white;}#sk-container-id-10 div.sk-parallel-item:first-child::after {align-self: flex-end;width: 50%;}#sk-container-id-10 div.sk-parallel-item:last-child::after {align-self: flex-start;width: 50%;}#sk-container-id-10 div.sk-parallel-item:only-child::after {width: 0;}#sk-container-id-10 div.sk-dashed-wrapped {border: 1px dashed gray;margin: 0 0.4em 0.5em 0.4em;box-sizing: border-box;padding-bottom: 0.4em;background-color: white;}#sk-container-id-10 div.sk-label label {font-family: monospace;font-weight: bold;display: inline-block;line-height: 1.2em;}#sk-container-id-10 div.sk-label-container {text-align: center;}#sk-container-id-10 div.sk-container {/* jupyter's `normalize.less` sets `[hidden] { display: none; }` but bootstrap.min.css set `[hidden] { display: none !important; }` so we also need the `!important` here to be able to override the default hidden behavior on the sphinx rendered scikit-learn.org. See: https://github.com/scikit-learn/scikit-learn/issues/21755 */display: inline-block !important;position: relative;}#sk-container-id-10 div.sk-text-repr-fallback {display: none;}</style><div id=\"sk-container-id-10\" class=\"sk-top-container\"><div class=\"sk-text-repr-fallback\"><pre>SVC()</pre><b>In a Jupyter environment, please rerun this cell to show the HTML representation or trust the notebook. <br />On GitHub, the HTML representation is unable to render, please try loading this page with nbviewer.org.</b></div><div class=\"sk-container\" hidden><div class=\"sk-item\"><div class=\"sk-estimator sk-toggleable\"><input class=\"sk-toggleable__control sk-hidden--visually\" id=\"sk-estimator-id-10\" type=\"checkbox\" checked><label for=\"sk-estimator-id-10\" class=\"sk-toggleable__label sk-toggleable__label-arrow\">SVC</label><div class=\"sk-toggleable__content\"><pre>SVC()</pre></div></div></div></div></div>"
            ]
          },
          "metadata": {},
          "execution_count": 119
        }
      ],
      "source": [
        "from sklearn.model_selection import train_test_split\n",
        "#X=full_dataset.drop('label',axis=1)\n",
        "#y=full_dataset['label']\n",
        "X_train,X_test,y_train,y_test=train_test_split(X,y,test_size=0.3,random_state=42)\n",
        "model= SVC()\n",
        "model.fit(X_train,y_train)"
      ]
    },
    {
      "cell_type": "code",
      "execution_count": null,
      "metadata": {
        "colab": {
          "base_uri": "https://localhost:8080/"
        },
        "id": "ZVbIFMeWQXr2",
        "outputId": "6e8ce79d-8b39-43ef-b23d-28b5384a1ac1"
      },
      "outputs": [
        {
          "output_type": "stream",
          "name": "stdout",
          "text": [
            "[[22991   111]\n",
            " [  138 21316]]\n",
            "0.9944115270670617\n",
            "0.9948196201054744\n",
            "0.9941932324339451\n",
            "0.9935676330754172\n"
          ]
        }
      ],
      "source": [
        "print(confusion_matrix(y_test,y_pred))\n",
        "print(accuracy_score(y_test,y_pred))\n",
        "print(precision_score(y_test,y_pred))\n",
        "print(f1_score(y_test,y_pred))\n",
        "print(recall_score(y_test,y_pred))"
      ]
    },
    {
      "cell_type": "code",
      "source": [
        "X_train.shape"
      ],
      "metadata": {
        "colab": {
          "base_uri": "https://localhost:8080/"
        },
        "id": "3Fsi_IJ4Xn1e",
        "outputId": "ee01e2df-c701-41df-a706-833f5b142d6f"
      },
      "execution_count": null,
      "outputs": [
        {
          "output_type": "execute_result",
          "data": {
            "text/plain": [
              "(103961, 111)"
            ]
          },
          "metadata": {},
          "execution_count": 121
        }
      ]
    },
    {
      "cell_type": "code",
      "source": [
        "X_train.head()"
      ],
      "metadata": {
        "colab": {
          "base_uri": "https://localhost:8080/",
          "height": 255
        },
        "id": "yXUoJ3UEXtgw",
        "outputId": "743dcd60-7b2c-4042-88e2-ddb9ff64acac"
      },
      "execution_count": null,
      "outputs": [
        {
          "output_type": "execute_result",
          "data": {
            "text/plain": [
              "        duration  src_bytes  dst_bytes     land  wrong_fragment       hot  \\\n",
              "19924  -0.112075  -0.006956  -0.004535 -0.01468       -0.085488 -0.094071   \n",
              "77854  -0.112481  -0.007436  -0.004614 -0.01468       -0.085488 -0.094071   \n",
              "19105  -0.112481  -0.007385  -0.001035 -0.01468       -0.085488 -0.094071   \n",
              "118322 -0.112481  -0.007394  -0.004187 -0.01468       -0.085488 -0.094071   \n",
              "116812 -0.112481  -0.007396  -0.004484 -0.01468       -0.085488 -0.094071   \n",
              "\n",
              "        num_failed_logins  logged_in  root_shell  su_attempted  ...  flag_REJ  \\\n",
              "19924           -0.059832   1.217658   -0.038865     -0.023032  ...  -0.33621   \n",
              "77854           -0.059832  -0.821249   -0.038865     -0.023032  ...  -0.33621   \n",
              "19105           -0.059832   1.217658   -0.038865     -0.023032  ...  -0.33621   \n",
              "118322          -0.059832   1.217658   -0.038865     -0.023032  ...  -0.33621   \n",
              "116812          -0.059832   1.217658   -0.038865     -0.023032  ...  -0.33621   \n",
              "\n",
              "        flag_RSTO  flag_RSTOS0  flag_RSTR   flag_S0   flag_S1   flag_S2  \\\n",
              "19924   -0.126385    -0.026599  -0.145766 -0.574601 -0.051047 -0.030936   \n",
              "77854   -0.126385    -0.026599  -0.145766  1.740339 -0.051047 -0.030936   \n",
              "19105   -0.126385    -0.026599  -0.145766 -0.574601 -0.051047 -0.030936   \n",
              "118322  -0.126385    -0.026599  -0.145766 -0.574601 -0.051047 -0.030936   \n",
              "116812  -0.126385    -0.026599  -0.145766 -0.574601 -0.051047 -0.030936   \n",
              "\n",
              "         flag_S3   flag_SF   flag_SH  \n",
              "19924  -0.044839  0.808391 -0.048183  \n",
              "77854  -0.044839 -1.237025 -0.048183  \n",
              "19105  -0.044839  0.808391 -0.048183  \n",
              "118322 -0.044839  0.808391 -0.048183  \n",
              "116812 -0.044839  0.808391 -0.048183  \n",
              "\n",
              "[5 rows x 111 columns]"
            ],
            "text/html": [
              "\n",
              "  <div id=\"df-00211fb3-3eba-4a1d-b5ee-bb72e128e589\" class=\"colab-df-container\">\n",
              "    <div>\n",
              "<style scoped>\n",
              "    .dataframe tbody tr th:only-of-type {\n",
              "        vertical-align: middle;\n",
              "    }\n",
              "\n",
              "    .dataframe tbody tr th {\n",
              "        vertical-align: top;\n",
              "    }\n",
              "\n",
              "    .dataframe thead th {\n",
              "        text-align: right;\n",
              "    }\n",
              "</style>\n",
              "<table border=\"1\" class=\"dataframe\">\n",
              "  <thead>\n",
              "    <tr style=\"text-align: right;\">\n",
              "      <th></th>\n",
              "      <th>duration</th>\n",
              "      <th>src_bytes</th>\n",
              "      <th>dst_bytes</th>\n",
              "      <th>land</th>\n",
              "      <th>wrong_fragment</th>\n",
              "      <th>hot</th>\n",
              "      <th>num_failed_logins</th>\n",
              "      <th>logged_in</th>\n",
              "      <th>root_shell</th>\n",
              "      <th>su_attempted</th>\n",
              "      <th>...</th>\n",
              "      <th>flag_REJ</th>\n",
              "      <th>flag_RSTO</th>\n",
              "      <th>flag_RSTOS0</th>\n",
              "      <th>flag_RSTR</th>\n",
              "      <th>flag_S0</th>\n",
              "      <th>flag_S1</th>\n",
              "      <th>flag_S2</th>\n",
              "      <th>flag_S3</th>\n",
              "      <th>flag_SF</th>\n",
              "      <th>flag_SH</th>\n",
              "    </tr>\n",
              "  </thead>\n",
              "  <tbody>\n",
              "    <tr>\n",
              "      <th>19924</th>\n",
              "      <td>-0.112075</td>\n",
              "      <td>-0.006956</td>\n",
              "      <td>-0.004535</td>\n",
              "      <td>-0.01468</td>\n",
              "      <td>-0.085488</td>\n",
              "      <td>-0.094071</td>\n",
              "      <td>-0.059832</td>\n",
              "      <td>1.217658</td>\n",
              "      <td>-0.038865</td>\n",
              "      <td>-0.023032</td>\n",
              "      <td>...</td>\n",
              "      <td>-0.33621</td>\n",
              "      <td>-0.126385</td>\n",
              "      <td>-0.026599</td>\n",
              "      <td>-0.145766</td>\n",
              "      <td>-0.574601</td>\n",
              "      <td>-0.051047</td>\n",
              "      <td>-0.030936</td>\n",
              "      <td>-0.044839</td>\n",
              "      <td>0.808391</td>\n",
              "      <td>-0.048183</td>\n",
              "    </tr>\n",
              "    <tr>\n",
              "      <th>77854</th>\n",
              "      <td>-0.112481</td>\n",
              "      <td>-0.007436</td>\n",
              "      <td>-0.004614</td>\n",
              "      <td>-0.01468</td>\n",
              "      <td>-0.085488</td>\n",
              "      <td>-0.094071</td>\n",
              "      <td>-0.059832</td>\n",
              "      <td>-0.821249</td>\n",
              "      <td>-0.038865</td>\n",
              "      <td>-0.023032</td>\n",
              "      <td>...</td>\n",
              "      <td>-0.33621</td>\n",
              "      <td>-0.126385</td>\n",
              "      <td>-0.026599</td>\n",
              "      <td>-0.145766</td>\n",
              "      <td>1.740339</td>\n",
              "      <td>-0.051047</td>\n",
              "      <td>-0.030936</td>\n",
              "      <td>-0.044839</td>\n",
              "      <td>-1.237025</td>\n",
              "      <td>-0.048183</td>\n",
              "    </tr>\n",
              "    <tr>\n",
              "      <th>19105</th>\n",
              "      <td>-0.112481</td>\n",
              "      <td>-0.007385</td>\n",
              "      <td>-0.001035</td>\n",
              "      <td>-0.01468</td>\n",
              "      <td>-0.085488</td>\n",
              "      <td>-0.094071</td>\n",
              "      <td>-0.059832</td>\n",
              "      <td>1.217658</td>\n",
              "      <td>-0.038865</td>\n",
              "      <td>-0.023032</td>\n",
              "      <td>...</td>\n",
              "      <td>-0.33621</td>\n",
              "      <td>-0.126385</td>\n",
              "      <td>-0.026599</td>\n",
              "      <td>-0.145766</td>\n",
              "      <td>-0.574601</td>\n",
              "      <td>-0.051047</td>\n",
              "      <td>-0.030936</td>\n",
              "      <td>-0.044839</td>\n",
              "      <td>0.808391</td>\n",
              "      <td>-0.048183</td>\n",
              "    </tr>\n",
              "    <tr>\n",
              "      <th>118322</th>\n",
              "      <td>-0.112481</td>\n",
              "      <td>-0.007394</td>\n",
              "      <td>-0.004187</td>\n",
              "      <td>-0.01468</td>\n",
              "      <td>-0.085488</td>\n",
              "      <td>-0.094071</td>\n",
              "      <td>-0.059832</td>\n",
              "      <td>1.217658</td>\n",
              "      <td>-0.038865</td>\n",
              "      <td>-0.023032</td>\n",
              "      <td>...</td>\n",
              "      <td>-0.33621</td>\n",
              "      <td>-0.126385</td>\n",
              "      <td>-0.026599</td>\n",
              "      <td>-0.145766</td>\n",
              "      <td>-0.574601</td>\n",
              "      <td>-0.051047</td>\n",
              "      <td>-0.030936</td>\n",
              "      <td>-0.044839</td>\n",
              "      <td>0.808391</td>\n",
              "      <td>-0.048183</td>\n",
              "    </tr>\n",
              "    <tr>\n",
              "      <th>116812</th>\n",
              "      <td>-0.112481</td>\n",
              "      <td>-0.007396</td>\n",
              "      <td>-0.004484</td>\n",
              "      <td>-0.01468</td>\n",
              "      <td>-0.085488</td>\n",
              "      <td>-0.094071</td>\n",
              "      <td>-0.059832</td>\n",
              "      <td>1.217658</td>\n",
              "      <td>-0.038865</td>\n",
              "      <td>-0.023032</td>\n",
              "      <td>...</td>\n",
              "      <td>-0.33621</td>\n",
              "      <td>-0.126385</td>\n",
              "      <td>-0.026599</td>\n",
              "      <td>-0.145766</td>\n",
              "      <td>-0.574601</td>\n",
              "      <td>-0.051047</td>\n",
              "      <td>-0.030936</td>\n",
              "      <td>-0.044839</td>\n",
              "      <td>0.808391</td>\n",
              "      <td>-0.048183</td>\n",
              "    </tr>\n",
              "  </tbody>\n",
              "</table>\n",
              "<p>5 rows × 111 columns</p>\n",
              "</div>\n",
              "    <div class=\"colab-df-buttons\">\n",
              "\n",
              "  <div class=\"colab-df-container\">\n",
              "    <button class=\"colab-df-convert\" onclick=\"convertToInteractive('df-00211fb3-3eba-4a1d-b5ee-bb72e128e589')\"\n",
              "            title=\"Convert this dataframe to an interactive table.\"\n",
              "            style=\"display:none;\">\n",
              "\n",
              "  <svg xmlns=\"http://www.w3.org/2000/svg\" height=\"24px\" viewBox=\"0 -960 960 960\">\n",
              "    <path d=\"M120-120v-720h720v720H120Zm60-500h600v-160H180v160Zm220 220h160v-160H400v160Zm0 220h160v-160H400v160ZM180-400h160v-160H180v160Zm440 0h160v-160H620v160ZM180-180h160v-160H180v160Zm440 0h160v-160H620v160Z\"/>\n",
              "  </svg>\n",
              "    </button>\n",
              "\n",
              "  <style>\n",
              "    .colab-df-container {\n",
              "      display:flex;\n",
              "      gap: 12px;\n",
              "    }\n",
              "\n",
              "    .colab-df-convert {\n",
              "      background-color: #E8F0FE;\n",
              "      border: none;\n",
              "      border-radius: 50%;\n",
              "      cursor: pointer;\n",
              "      display: none;\n",
              "      fill: #1967D2;\n",
              "      height: 32px;\n",
              "      padding: 0 0 0 0;\n",
              "      width: 32px;\n",
              "    }\n",
              "\n",
              "    .colab-df-convert:hover {\n",
              "      background-color: #E2EBFA;\n",
              "      box-shadow: 0px 1px 2px rgba(60, 64, 67, 0.3), 0px 1px 3px 1px rgba(60, 64, 67, 0.15);\n",
              "      fill: #174EA6;\n",
              "    }\n",
              "\n",
              "    .colab-df-buttons div {\n",
              "      margin-bottom: 4px;\n",
              "    }\n",
              "\n",
              "    [theme=dark] .colab-df-convert {\n",
              "      background-color: #3B4455;\n",
              "      fill: #D2E3FC;\n",
              "    }\n",
              "\n",
              "    [theme=dark] .colab-df-convert:hover {\n",
              "      background-color: #434B5C;\n",
              "      box-shadow: 0px 1px 3px 1px rgba(0, 0, 0, 0.15);\n",
              "      filter: drop-shadow(0px 1px 2px rgba(0, 0, 0, 0.3));\n",
              "      fill: #FFFFFF;\n",
              "    }\n",
              "  </style>\n",
              "\n",
              "    <script>\n",
              "      const buttonEl =\n",
              "        document.querySelector('#df-00211fb3-3eba-4a1d-b5ee-bb72e128e589 button.colab-df-convert');\n",
              "      buttonEl.style.display =\n",
              "        google.colab.kernel.accessAllowed ? 'block' : 'none';\n",
              "\n",
              "      async function convertToInteractive(key) {\n",
              "        const element = document.querySelector('#df-00211fb3-3eba-4a1d-b5ee-bb72e128e589');\n",
              "        const dataTable =\n",
              "          await google.colab.kernel.invokeFunction('convertToInteractive',\n",
              "                                                    [key], {});\n",
              "        if (!dataTable) return;\n",
              "\n",
              "        const docLinkHtml = 'Like what you see? Visit the ' +\n",
              "          '<a target=\"_blank\" href=https://colab.research.google.com/notebooks/data_table.ipynb>data table notebook</a>'\n",
              "          + ' to learn more about interactive tables.';\n",
              "        element.innerHTML = '';\n",
              "        dataTable['output_type'] = 'display_data';\n",
              "        await google.colab.output.renderOutput(dataTable, element);\n",
              "        const docLink = document.createElement('div');\n",
              "        docLink.innerHTML = docLinkHtml;\n",
              "        element.appendChild(docLink);\n",
              "      }\n",
              "    </script>\n",
              "  </div>\n",
              "\n",
              "\n",
              "<div id=\"df-abd69142-45bc-4e44-8454-6424ab55077c\">\n",
              "  <button class=\"colab-df-quickchart\" onclick=\"quickchart('df-abd69142-45bc-4e44-8454-6424ab55077c')\"\n",
              "            title=\"Suggest charts.\"\n",
              "            style=\"display:none;\">\n",
              "\n",
              "<svg xmlns=\"http://www.w3.org/2000/svg\" height=\"24px\"viewBox=\"0 0 24 24\"\n",
              "     width=\"24px\">\n",
              "    <g>\n",
              "        <path d=\"M19 3H5c-1.1 0-2 .9-2 2v14c0 1.1.9 2 2 2h14c1.1 0 2-.9 2-2V5c0-1.1-.9-2-2-2zM9 17H7v-7h2v7zm4 0h-2V7h2v10zm4 0h-2v-4h2v4z\"/>\n",
              "    </g>\n",
              "</svg>\n",
              "  </button>\n",
              "\n",
              "<style>\n",
              "  .colab-df-quickchart {\n",
              "    background-color: #E8F0FE;\n",
              "    border: none;\n",
              "    border-radius: 50%;\n",
              "    cursor: pointer;\n",
              "    display: none;\n",
              "    fill: #1967D2;\n",
              "    height: 32px;\n",
              "    padding: 0 0 0 0;\n",
              "    width: 32px;\n",
              "  }\n",
              "\n",
              "  .colab-df-quickchart:hover {\n",
              "    background-color: #E2EBFA;\n",
              "    box-shadow: 0px 1px 2px rgba(60, 64, 67, 0.3), 0px 1px 3px 1px rgba(60, 64, 67, 0.15);\n",
              "    fill: #174EA6;\n",
              "  }\n",
              "\n",
              "  [theme=dark] .colab-df-quickchart {\n",
              "    background-color: #3B4455;\n",
              "    fill: #D2E3FC;\n",
              "  }\n",
              "\n",
              "  [theme=dark] .colab-df-quickchart:hover {\n",
              "    background-color: #434B5C;\n",
              "    box-shadow: 0px 1px 3px 1px rgba(0, 0, 0, 0.15);\n",
              "    filter: drop-shadow(0px 1px 2px rgba(0, 0, 0, 0.3));\n",
              "    fill: #FFFFFF;\n",
              "  }\n",
              "</style>\n",
              "\n",
              "  <script>\n",
              "    async function quickchart(key) {\n",
              "      const charts = await google.colab.kernel.invokeFunction(\n",
              "          'suggestCharts', [key], {});\n",
              "    }\n",
              "    (() => {\n",
              "      let quickchartButtonEl =\n",
              "        document.querySelector('#df-abd69142-45bc-4e44-8454-6424ab55077c button');\n",
              "      quickchartButtonEl.style.display =\n",
              "        google.colab.kernel.accessAllowed ? 'block' : 'none';\n",
              "    })();\n",
              "  </script>\n",
              "</div>\n",
              "    </div>\n",
              "  </div>\n"
            ]
          },
          "metadata": {},
          "execution_count": 122
        }
      ]
    },
    {
      "cell_type": "code",
      "source": [
        "import pandas as pd\n",
        "l=[]\n",
        "\n",
        "# Assuming df is your DataFrame\n",
        "first_row = X_train.iloc[2].values\n",
        "l.append(first_row)\n",
        "print(l)\n",
        "#print(len(l))"
      ],
      "metadata": {
        "colab": {
          "base_uri": "https://localhost:8080/"
        },
        "id": "OHNMWABsX9vh",
        "outputId": "fb5cb947-78d8-489f-99c8-b41b14be1202"
      },
      "execution_count": null,
      "outputs": [
        {
          "output_type": "stream",
          "name": "stdout",
          "text": [
            "[array([-1.12481056e-01, -7.38464916e-03, -1.03546398e-03, -1.46802583e-02,\n",
            "       -8.54877813e-02, -9.40708355e-02, -5.98319441e-02,  1.21765760e+00,\n",
            "       -3.88654485e-02, -2.30324137e-02, -1.20642991e-02, -2.33125927e-02,\n",
            "       -4.21285339e-02,  0.00000000e+00, -8.98918017e-03, -6.10965642e-01,\n",
            "       -2.15630502e-01, -5.94848240e-01, -5.90269657e-01, -4.06459793e-01,\n",
            "       -4.05191640e-01,  7.49108116e-01, -3.48092482e-01, -3.76389056e-01,\n",
            "       -1.74496640e+00,  1.20952071e+00,  1.03887812e+00, -4.33294434e-01,\n",
            "       -2.13624221e-01,  8.64080698e-02, -5.97719651e-01, -5.84812691e-01,\n",
            "       -4.22074453e-01, -4.06814676e-01, -2.58964839e-01,  4.70816687e-01,\n",
            "       -3.66821005e-01, -3.67214255e-02, -2.43490463e-02, -7.83873086e-02,\n",
            "       -8.32409061e-02, -7.15288079e-02, -7.23797408e-02, -6.25603847e-02,\n",
            "       -6.39021244e-02, -6.09119174e-02, -6.17415693e-02, -6.47464800e-02,\n",
            "       -2.67779525e-01, -5.64042871e-02, -1.83696030e-01, -1.62677102e-01,\n",
            "       -5.91609977e-02, -5.81787694e-02, -1.13928315e-01, -1.29403560e-01,\n",
            "       -2.34015579e-01, -6.10787358e-02, -5.71206089e-02,  1.44285862e+00,\n",
            "       -6.18513614e-02, -8.03630185e-02, -7.05233444e-02, -5.53738416e-02,\n",
            "       -4.66859232e-02, -5.38231005e-02, -5.90462779e-02, -5.56179956e-02,\n",
            "       -5.64042871e-02, -5.74164727e-02, -5.38859769e-02, -5.08477818e-02,\n",
            "       -5.04469025e-02, -5.10470530e-02, -6.74188462e-02, -4.62493389e-02,\n",
            "       -3.46403545e-02, -1.18919280e-02, -2.47608588e-02, -9.33489146e-02,\n",
            "       -2.32152791e-02, -4.67387486e-01, -7.33953603e-03, -2.48966197e-02,\n",
            "       -2.51659497e-02, -2.33600027e-02, -2.42474236e-01, -4.21186715e-02,\n",
            "       -4.76892130e-02, -6.04087391e-02, -6.21250055e-02, -5.86430158e-02,\n",
            "       -1.65918934e-01, -6.83199695e-02, -8.20590600e-03, -6.50081291e-02,\n",
            "       -7.49666168e-02, -7.05233444e-02, -6.68114693e-02, -7.04268524e-02,\n",
            "       -1.83514352e-02, -3.36209989e-01, -1.26385279e-01, -2.65986834e-02,\n",
            "       -1.45766161e-01, -5.74600541e-01, -5.10470530e-02, -3.09359749e-02,\n",
            "       -4.48390283e-02,  8.08390921e-01, -4.81830940e-02])]\n"
          ]
        }
      ]
    },
    {
      "cell_type": "code",
      "execution_count": null,
      "metadata": {
        "id": "KoRcgm_-RhWT",
        "colab": {
          "base_uri": "https://localhost:8080/",
          "height": 74
        },
        "outputId": "98df6c9e-a281-4492-e1a3-32a149efa992"
      },
      "outputs": [
        {
          "output_type": "execute_result",
          "data": {
            "text/plain": [
              "GaussianNB()"
            ],
            "text/html": [
              "<style>#sk-container-id-11 {color: black;background-color: white;}#sk-container-id-11 pre{padding: 0;}#sk-container-id-11 div.sk-toggleable {background-color: white;}#sk-container-id-11 label.sk-toggleable__label {cursor: pointer;display: block;width: 100%;margin-bottom: 0;padding: 0.3em;box-sizing: border-box;text-align: center;}#sk-container-id-11 label.sk-toggleable__label-arrow:before {content: \"▸\";float: left;margin-right: 0.25em;color: #696969;}#sk-container-id-11 label.sk-toggleable__label-arrow:hover:before {color: black;}#sk-container-id-11 div.sk-estimator:hover label.sk-toggleable__label-arrow:before {color: black;}#sk-container-id-11 div.sk-toggleable__content {max-height: 0;max-width: 0;overflow: hidden;text-align: left;background-color: #f0f8ff;}#sk-container-id-11 div.sk-toggleable__content pre {margin: 0.2em;color: black;border-radius: 0.25em;background-color: #f0f8ff;}#sk-container-id-11 input.sk-toggleable__control:checked~div.sk-toggleable__content {max-height: 200px;max-width: 100%;overflow: auto;}#sk-container-id-11 input.sk-toggleable__control:checked~label.sk-toggleable__label-arrow:before {content: \"▾\";}#sk-container-id-11 div.sk-estimator input.sk-toggleable__control:checked~label.sk-toggleable__label {background-color: #d4ebff;}#sk-container-id-11 div.sk-label input.sk-toggleable__control:checked~label.sk-toggleable__label {background-color: #d4ebff;}#sk-container-id-11 input.sk-hidden--visually {border: 0;clip: rect(1px 1px 1px 1px);clip: rect(1px, 1px, 1px, 1px);height: 1px;margin: -1px;overflow: hidden;padding: 0;position: absolute;width: 1px;}#sk-container-id-11 div.sk-estimator {font-family: monospace;background-color: #f0f8ff;border: 1px dotted black;border-radius: 0.25em;box-sizing: border-box;margin-bottom: 0.5em;}#sk-container-id-11 div.sk-estimator:hover {background-color: #d4ebff;}#sk-container-id-11 div.sk-parallel-item::after {content: \"\";width: 100%;border-bottom: 1px solid gray;flex-grow: 1;}#sk-container-id-11 div.sk-label:hover label.sk-toggleable__label {background-color: #d4ebff;}#sk-container-id-11 div.sk-serial::before {content: \"\";position: absolute;border-left: 1px solid gray;box-sizing: border-box;top: 0;bottom: 0;left: 50%;z-index: 0;}#sk-container-id-11 div.sk-serial {display: flex;flex-direction: column;align-items: center;background-color: white;padding-right: 0.2em;padding-left: 0.2em;position: relative;}#sk-container-id-11 div.sk-item {position: relative;z-index: 1;}#sk-container-id-11 div.sk-parallel {display: flex;align-items: stretch;justify-content: center;background-color: white;position: relative;}#sk-container-id-11 div.sk-item::before, #sk-container-id-11 div.sk-parallel-item::before {content: \"\";position: absolute;border-left: 1px solid gray;box-sizing: border-box;top: 0;bottom: 0;left: 50%;z-index: -1;}#sk-container-id-11 div.sk-parallel-item {display: flex;flex-direction: column;z-index: 1;position: relative;background-color: white;}#sk-container-id-11 div.sk-parallel-item:first-child::after {align-self: flex-end;width: 50%;}#sk-container-id-11 div.sk-parallel-item:last-child::after {align-self: flex-start;width: 50%;}#sk-container-id-11 div.sk-parallel-item:only-child::after {width: 0;}#sk-container-id-11 div.sk-dashed-wrapped {border: 1px dashed gray;margin: 0 0.4em 0.5em 0.4em;box-sizing: border-box;padding-bottom: 0.4em;background-color: white;}#sk-container-id-11 div.sk-label label {font-family: monospace;font-weight: bold;display: inline-block;line-height: 1.2em;}#sk-container-id-11 div.sk-label-container {text-align: center;}#sk-container-id-11 div.sk-container {/* jupyter's `normalize.less` sets `[hidden] { display: none; }` but bootstrap.min.css set `[hidden] { display: none !important; }` so we also need the `!important` here to be able to override the default hidden behavior on the sphinx rendered scikit-learn.org. See: https://github.com/scikit-learn/scikit-learn/issues/21755 */display: inline-block !important;position: relative;}#sk-container-id-11 div.sk-text-repr-fallback {display: none;}</style><div id=\"sk-container-id-11\" class=\"sk-top-container\"><div class=\"sk-text-repr-fallback\"><pre>GaussianNB()</pre><b>In a Jupyter environment, please rerun this cell to show the HTML representation or trust the notebook. <br />On GitHub, the HTML representation is unable to render, please try loading this page with nbviewer.org.</b></div><div class=\"sk-container\" hidden><div class=\"sk-item\"><div class=\"sk-estimator sk-toggleable\"><input class=\"sk-toggleable__control sk-hidden--visually\" id=\"sk-estimator-id-11\" type=\"checkbox\" checked><label for=\"sk-estimator-id-11\" class=\"sk-toggleable__label sk-toggleable__label-arrow\">GaussianNB</label><div class=\"sk-toggleable__content\"><pre>GaussianNB()</pre></div></div></div></div></div>"
            ]
          },
          "metadata": {},
          "execution_count": 124
        }
      ],
      "source": [
        "from sklearn.naive_bayes import GaussianNB\n",
        "m=GaussianNB()\n",
        "m.fit(X_train,y_train)\n",
        "\n"
      ]
    },
    {
      "cell_type": "code",
      "source": [
        "y_train.head()"
      ],
      "metadata": {
        "colab": {
          "base_uri": "https://localhost:8080/"
        },
        "id": "mp_br-NLnwwR",
        "outputId": "438382b3-111b-401f-82e0-916ce9cc03d9"
      },
      "execution_count": null,
      "outputs": [
        {
          "output_type": "execute_result",
          "data": {
            "text/plain": [
              "19924     1\n",
              "77854     1\n",
              "19105     0\n",
              "118322    0\n",
              "116812    0\n",
              "Name: label, dtype: int64"
            ]
          },
          "metadata": {},
          "execution_count": 125
        }
      ]
    },
    {
      "cell_type": "code",
      "source": [
        "import numpy as np\n",
        "x2=[-1.12481056e-01, -7.38464916e-03, -1.03546398e-03, -1.46802583e-02,\n",
        "       -8.54877813e-02, -9.40708355e-02, -5.98319441e-02,  1.21765760e+00,\n",
        "       -3.88654485e-02, -2.30324137e-02, -1.20642991e-02, -2.33125927e-02,\n",
        "       -4.21285339e-02,  0.00000000e+00, -8.98918017e-03, -6.10965642e-01,\n",
        "       -2.15630502e-01, -5.94848240e-01, -5.90269657e-01, -4.06459793e-01,\n",
        "       -4.05191640e-01,  7.49108116e-01, -3.48092482e-01, -3.76389056e-01,\n",
        "       -1.74496640e+00,  1.20952071e+00,  1.03887812e+00, -4.33294434e-01,\n",
        "       -2.13624221e-01,  8.64080698e-02, -5.97719651e-01, -5.84812691e-01,\n",
        "       -4.22074453e-01, -4.06814676e-01, -2.58964839e-01,  4.70816687e-01,\n",
        "       -3.66821005e-01, -3.67214255e-02, -2.43490463e-02, -7.83873086e-02,\n",
        "       -8.32409061e-02, -7.15288079e-02, -7.23797408e-02, -6.25603847e-02,\n",
        "       -6.39021244e-02, -6.09119174e-02, -6.17415693e-02, -6.47464800e-02,\n",
        "       -2.67779525e-01, -5.64042871e-02, -1.83696030e-01, -1.62677102e-01,\n",
        "       -5.91609977e-02, -5.81787694e-02, -1.13928315e-01, -1.29403560e-01,\n",
        "       -2.34015579e-01, -6.10787358e-02, -5.71206089e-02,  1.44285862e+00,\n",
        "       -6.18513614e-02, -8.03630185e-02, -7.05233444e-02, -5.53738416e-02,\n",
        "       -4.66859232e-02, -5.38231005e-02, -5.90462779e-02, -5.56179956e-02,\n",
        "       -5.64042871e-02, -5.74164727e-02, -5.38859769e-02, -5.08477818e-02,\n",
        "       -5.04469025e-02, -5.10470530e-02, -6.74188462e-02, -4.62493389e-02,\n",
        "       -3.46403545e-02, -1.18919280e-02, -2.47608588e-02, -9.33489146e-02,\n",
        "       -2.32152791e-02, -4.67387486e-01, -7.33953603e-03, -2.48966197e-02,\n",
        "       -2.51659497e-02, -2.33600027e-02, -2.42474236e-01, -4.21186715e-02,\n",
        "       -4.76892130e-02, -6.04087391e-02, -6.21250055e-02, -5.86430158e-02,\n",
        "       -1.65918934e-01, -6.83199695e-02, -8.20590600e-03, -6.50081291e-02,\n",
        "       -7.49666168e-02, -7.05233444e-02, -6.68114693e-02, -7.04268524e-02,\n",
        "       -1.83514352e-02, -3.36209989e-01, -1.26385279e-01, -2.65986834e-02,\n",
        "       -1.45766161e-01, -5.74600541e-01, -5.10470530e-02, -3.09359749e-02,\n",
        "       -4.48390283e-02,  8.08390921e-01, -4.81830940e-02]\n",
        "x2=np.array(x2).reshape(1,-1)\n",
        "pred=m.predict(x2)\n",
        "pred\n",
        "if(pred==0):\n",
        "  print(\"Normal\")\n",
        "else:\n",
        "  print(\"Anomaly\")"
      ],
      "metadata": {
        "colab": {
          "base_uri": "https://localhost:8080/"
        },
        "id": "WigKmNOtZLEY",
        "outputId": "90ffea00-a368-4513-b71c-1429c6cbecc1"
      },
      "execution_count": null,
      "outputs": [
        {
          "output_type": "stream",
          "name": "stdout",
          "text": [
            "Normal\n"
          ]
        },
        {
          "output_type": "stream",
          "name": "stderr",
          "text": [
            "/usr/local/lib/python3.10/dist-packages/sklearn/base.py:439: UserWarning: X does not have valid feature names, but GaussianNB was fitted with feature names\n",
            "  warnings.warn(\n"
          ]
        }
      ]
    },
    {
      "cell_type": "code",
      "source": [
        "import pandas as pd\n",
        "l=[]\n",
        "\n",
        "# Assuming df is your DataFrame\n",
        "first_row = X_train.iloc[1].values\n",
        "l.append(first_row)\n",
        "print(l)\n",
        "print(len(l))"
      ],
      "metadata": {
        "id": "dCPb4diSaYRZ",
        "colab": {
          "base_uri": "https://localhost:8080/"
        },
        "outputId": "100201c7-adfc-4427-ecf6-4291d7318135"
      },
      "execution_count": null,
      "outputs": [
        {
          "output_type": "stream",
          "name": "stdout",
          "text": [
            "[array([-1.12481056e-01, -7.43640906e-03, -4.61422891e-03, -1.46802583e-02,\n",
            "       -8.54877813e-02, -9.40708355e-02, -5.98319441e-02, -8.21248931e-01,\n",
            "       -3.88654485e-02, -2.30324137e-02, -1.20642991e-02, -2.33125927e-02,\n",
            "       -4.21285339e-02,  0.00000000e+00, -8.98918017e-03,  2.54054050e-01,\n",
            "       -3.35042389e-01,  1.72041506e+00,  1.72145852e+00, -4.06459793e-01,\n",
            "       -4.05191640e-01, -1.47289925e+00, -3.98708714e-02, -3.76389056e-01,\n",
            "        7.21337702e-01, -9.12171972e-01, -1.03673835e+00, -7.26580852e-02,\n",
            "       -4.72828747e-01, -2.80649516e-01,  1.73601247e+00,  1.74229525e+00,\n",
            "       -4.22074453e-01, -4.06814676e-01, -2.58964839e-01,  4.70816687e-01,\n",
            "       -3.66821005e-01, -3.67214255e-02, -2.43490463e-02, -7.83873086e-02,\n",
            "       -8.32409061e-02, -7.15288079e-02, -7.23797408e-02, -6.25603847e-02,\n",
            "       -6.39021244e-02, -6.09119174e-02, -6.17415693e-02, -6.47464800e-02,\n",
            "       -2.67779525e-01, -5.64042871e-02, -1.83696030e-01, -1.62677102e-01,\n",
            "       -5.91609977e-02, -5.81787694e-02, -1.13928315e-01, -1.29403560e-01,\n",
            "       -2.34015579e-01, -6.10787358e-02, -5.71206089e-02, -6.93068596e-01,\n",
            "       -6.18513614e-02, -8.03630185e-02, -7.05233444e-02, -5.53738416e-02,\n",
            "       -4.66859232e-02, -5.38231005e-02, -5.90462779e-02,  1.79797922e+01,\n",
            "       -5.64042871e-02, -5.74164727e-02, -5.38859769e-02, -5.08477818e-02,\n",
            "       -5.04469025e-02, -5.10470530e-02, -6.74188462e-02, -4.62493389e-02,\n",
            "       -3.46403545e-02, -1.18919280e-02, -2.47608588e-02, -9.33489146e-02,\n",
            "       -2.32152791e-02, -4.67387486e-01, -7.33953603e-03, -2.48966197e-02,\n",
            "       -2.51659497e-02, -2.33600027e-02, -2.42474236e-01, -4.21186715e-02,\n",
            "       -4.76892130e-02, -6.04087391e-02, -6.21250055e-02, -5.86430158e-02,\n",
            "       -1.65918934e-01, -6.83199695e-02, -8.20590600e-03, -6.50081291e-02,\n",
            "       -7.49666168e-02, -7.05233444e-02, -6.68114693e-02, -7.04268524e-02,\n",
            "       -1.83514352e-02, -3.36209989e-01, -1.26385279e-01, -2.65986834e-02,\n",
            "       -1.45766161e-01,  1.74033947e+00, -5.10470530e-02, -3.09359749e-02,\n",
            "       -4.48390283e-02, -1.23702527e+00, -4.81830940e-02])]\n",
            "1\n"
          ]
        }
      ]
    },
    {
      "cell_type": "code",
      "source": [
        "x3=[-1.12481056e-01, -7.43640906e-03, -4.61422891e-03, -1.46802583e-02,\n",
        "       -8.54877813e-02, -9.40708355e-02, -5.98319441e-02, -8.21248931e-01,\n",
        "       -3.88654485e-02, -2.30324137e-02, -1.20642991e-02, -2.33125927e-02,\n",
        "       -4.21285339e-02,  0.00000000e+00, -8.98918017e-03,  2.54054050e-01,\n",
        "       -3.35042389e-01,  1.72041506e+00,  1.72145852e+00, -4.06459793e-01,\n",
        "       -4.05191640e-01, -1.47289925e+00, -3.98708714e-02, -3.76389056e-01,\n",
        "        7.21337702e-01, -9.12171972e-01, -1.03673835e+00, -7.26580852e-02,\n",
        "       -4.72828747e-01, -2.80649516e-01,  1.73601247e+00,  1.74229525e+00,\n",
        "       -4.22074453e-01, -4.06814676e-01, -2.58964839e-01,  4.70816687e-01,\n",
        "       -3.66821005e-01, -3.67214255e-02, -2.43490463e-02, -7.83873086e-02,\n",
        "       -8.32409061e-02, -7.15288079e-02, -7.23797408e-02, -6.25603847e-02,\n",
        "       -6.39021244e-02, -6.09119174e-02, -6.17415693e-02, -6.47464800e-02,\n",
        "       -2.67779525e-01, -5.64042871e-02, -1.83696030e-01, -1.62677102e-01,\n",
        "       -5.91609977e-02, -5.81787694e-02, -1.13928315e-01, -1.29403560e-01,\n",
        "       -2.34015579e-01, -6.10787358e-02, -5.71206089e-02, -6.93068596e-01,\n",
        "       -6.18513614e-02, -8.03630185e-02, -7.05233444e-02, -5.53738416e-02,\n",
        "       -4.66859232e-02, -5.38231005e-02, -5.90462779e-02,  1.79797922e+01,\n",
        "       -5.64042871e-02, -5.74164727e-02, -5.38859769e-02, -5.08477818e-02,\n",
        "       -5.04469025e-02, -5.10470530e-02, -6.74188462e-02, -4.62493389e-02,\n",
        "       -3.46403545e-02, -1.18919280e-02, -2.47608588e-02, -9.33489146e-02,\n",
        "       -2.32152791e-02, -4.67387486e-01, -7.33953603e-03, -2.48966197e-02,\n",
        "       -2.51659497e-02, -2.33600027e-02, -2.42474236e-01, -4.21186715e-02,\n",
        "       -4.76892130e-02, -6.04087391e-02, -6.21250055e-02, -5.86430158e-02,\n",
        "       -1.65918934e-01, -6.83199695e-02, -8.20590600e-03, -6.50081291e-02,\n",
        "       -7.49666168e-02, -7.05233444e-02, -6.68114693e-02, -7.04268524e-02,\n",
        "       -1.83514352e-02, -3.36209989e-01, -1.26385279e-01, -2.65986834e-02,\n",
        "       -1.45766161e-01,  1.74033947e+00, -5.10470530e-02, -3.09359749e-02,\n",
        "       -4.48390283e-02, -1.23702527e+00, -4.81830940e-02]\n",
        "x3=np.array(x3).reshape(1,-1)\n",
        "pred=m.predict(x3)\n",
        "pred\n",
        "if(pred==0):\n",
        "  print(\"Normal\")\n",
        "else:\n",
        "  print(\"Anomaly\")\n"
      ],
      "metadata": {
        "colab": {
          "base_uri": "https://localhost:8080/"
        },
        "id": "TEIbe2xUmgVL",
        "outputId": "36ea0140-c99e-436d-8dcf-ed8633eeabd4"
      },
      "execution_count": null,
      "outputs": [
        {
          "output_type": "stream",
          "name": "stdout",
          "text": [
            "Anomaly\n"
          ]
        },
        {
          "output_type": "stream",
          "name": "stderr",
          "text": [
            "/usr/local/lib/python3.10/dist-packages/sklearn/base.py:439: UserWarning: X does not have valid feature names, but GaussianNB was fitted with feature names\n",
            "  warnings.warn(\n"
          ]
        }
      ]
    },
    {
      "cell_type": "code",
      "source": [],
      "metadata": {
        "id": "DM_iWx4pmyOM"
      },
      "execution_count": null,
      "outputs": []
    }
  ],
  "metadata": {
    "accelerator": "GPU",
    "colab": {
      "provenance": []
    },
    "kernelspec": {
      "display_name": "Python 3",
      "name": "python3"
    },
    "language_info": {
      "name": "python"
    }
  },
  "nbformat": 4,
  "nbformat_minor": 0
}